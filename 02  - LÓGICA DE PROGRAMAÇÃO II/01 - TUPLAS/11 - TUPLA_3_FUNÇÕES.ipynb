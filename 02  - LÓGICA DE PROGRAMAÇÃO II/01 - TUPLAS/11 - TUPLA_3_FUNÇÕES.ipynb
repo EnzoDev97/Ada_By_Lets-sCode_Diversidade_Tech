{
 "cells": [
  {
   "cell_type": "markdown",
   "metadata": {},
   "source": []
  },
  {
   "cell_type": "code",
   "execution_count": 2,
   "metadata": {},
   "outputs": [
    {
     "name": "stdout",
     "output_type": "stream",
     "text": [
      "Cadastro finalizado, inserido 3 novas pessoas\n"
     ]
    }
   ],
   "source": [
    "# Cadastro \n",
    "# - Nome\n",
    "# - Idade\n",
    "# - Estado\n",
    "\n",
    "from collections import namedtuple\n",
    "\n",
    "continuar_cadastro = True\n",
    "Pessoa = namedtuple('Pessoa', ['nome', 'idade', 'estado'])\n",
    "cadastros = []\n",
    "\n",
    "while continuar_cadastro:\n",
    "  cadastrar = input('Deseja inserir um novo cadastro? ')\n",
    "  if cadastrar.lower() in ['sim', 's', 'yes', 'y']:\n",
    "    nome = input('Insira o nome: ')\n",
    "    idade = int(input('Insira a idade: '))\n",
    "    estado = input('Insira o estado: ')\n",
    "    # Criando uma tupla com as informações pessoais\n",
    "    cadastro = Pessoa(nome, idade, estado)\n",
    "\n",
    "    # Adicionando na lista cadastro a pessoa recem cadastrada\n",
    "    cadastros.append(cadastro)\n",
    "\n",
    "  elif cadastrar.lower() in ['não', 'nao', 'n', 'no']:\n",
    "    print(f'Cadastro finalizado, inserido {len(cadastros)} novas pessoas')\n",
    "    continuar_cadastro = False\n",
    "  else:\n",
    "    print(f'Opção invalida. Foi inserido \"{cadastrar}\"')\n",
    "    print(\"Escolha entre ['sim', 's', 'yes', 'y'] para cadastrar uma nova pessoa ou ['não', 'nao', 'n', 'no'] para parar\")"
   ]
  },
  {
   "cell_type": "code",
   "execution_count": 3,
   "metadata": {},
   "outputs": [],
   "source": [
    "from typing import List\n",
    "import statistics\n",
    "def pegue_idade_minima(cadastros: List[Pessoa]) -> int:\n",
    "  idades = [] # PREENCHA AQUI\n",
    "  for pessoa in cadastros:\n",
    "    idade = pessoa.idade # PREENCHA AQUI\n",
    "    idades.append(idade) # PREENCHA AQUI\n",
    "  idade_minima = min(idades) # PREENCHA AQUI\n",
    "  return idade_minima # PREENCHA AQUI\n",
    "\n",
    "def pegue_idade_maxima(cadastros: List[Pessoa]) -> int:\n",
    "  idades = [] # PREENCHA AQUI\n",
    "  for pessoa in cadastros:\n",
    "    idade = pessoa.idade # PREENCHA AQUI\n",
    "    idades.append(idade) # PREENCHA AQUI\n",
    "  idade_maxima = max(idades) # PREENCHA AQUI\n",
    "  return idade_maxima # PREENCHA AQUI\n",
    "  \n",
    "def pegue_idade_media(cadastros: List[Pessoa]) -> float:\n",
    "  idades = [] # PREENCHA AQUI\n",
    "  for pessoa in cadastros:\n",
    "    idade = pessoa.idade # PREENCHA AQUI\n",
    "    idades.append(idade) # PREENCHA AQUI\n",
    "  idade_media = sum(idades) / len(idades) # Ou alternativa statistics.mean(idades) # PREENCHA AQUI\n",
    "  return idade_media # PREENCHA AQUI"
   ]
  },
  {
   "cell_type": "code",
   "execution_count": 4,
   "metadata": {},
   "outputs": [
    {
     "name": "stdout",
     "output_type": "stream",
     "text": [
      "---------------------------------------------------------------------------------------------------- \n",
      "\n",
      "---------------------------------------------------------------------------------------------------- \n",
      "\n"
     ]
    },
    {
     "data": {
      "text/plain": [
       "27.0"
      ]
     },
     "execution_count": 4,
     "metadata": {},
     "output_type": "execute_result"
    }
   ],
   "source": [
    "cadastros\n",
    "pegue_idade_minima(cadastros)\n",
    "print('-'*100,'\\n')\n",
    "\n",
    "pegue_idade_maxima(cadastros)\n",
    "print('-'*100,'\\n')\n",
    "\n",
    "pegue_idade_media(cadastros)"
   ]
  },
  {
   "cell_type": "code",
   "execution_count": 5,
   "metadata": {},
   "outputs": [
    {
     "name": "stdout",
     "output_type": "stream",
     "text": [
      "(0, 10)\n",
      "(1, 20)\n",
      "(2, 30)\n",
      "(3, 'Alex')\n",
      "------------------------------\n",
      "0 10\n",
      "1 20\n",
      "2 30\n",
      "3 Alex\n",
      "------------------------------\n",
      "0 10\n",
      "1 20\n",
      "2 30\n",
      "3 Alex\n"
     ]
    }
   ],
   "source": [
    "# Enumerate retorna uma tupla\n",
    "tupla = (10, 20, 30, 'Alex')\n",
    "for valor in enumerate(tupla):\n",
    "  print(valor)\n",
    "\n",
    "print('-'*30)\n",
    "for valor in enumerate(tupla):\n",
    "  print(valor[0], valor[1])\n",
    "\n",
    "print('-'*30)\n",
    "for idx, elemento in enumerate(tupla):\n",
    "  print(idx, elemento)"
   ]
  },
  {
   "cell_type": "markdown",
   "metadata": {},
   "source": [
    "#Outra utilidade de tuplas: fazer uma função **retornar mais de um valor**"
   ]
  },
  {
   "cell_type": "code",
   "execution_count": 6,
   "metadata": {},
   "outputs": [],
   "source": [
    "def seq(x):\n",
    "  return x, 2*x, 3*x"
   ]
  },
  {
   "cell_type": "code",
   "execution_count": 7,
   "metadata": {},
   "outputs": [
    {
     "data": {
      "text/plain": [
       "(2, 4, 6)"
      ]
     },
     "execution_count": 7,
     "metadata": {},
     "output_type": "execute_result"
    }
   ],
   "source": [
    "seq(2)"
   ]
  }
 ],
 "metadata": {
  "kernelspec": {
   "display_name": "Python 3.9.12 ('base')",
   "language": "python",
   "name": "python3"
  },
  "language_info": {
   "codemirror_mode": {
    "name": "ipython",
    "version": 3
   },
   "file_extension": ".py",
   "mimetype": "text/x-python",
   "name": "python",
   "nbconvert_exporter": "python",
   "pygments_lexer": "ipython3",
   "version": "3.9.12"
  },
  "orig_nbformat": 4,
  "vscode": {
   "interpreter": {
    "hash": "84119b4a23c727451d2f5b202898a53a27583c1b582daf411d2362849740e029"
   }
  }
 },
 "nbformat": 4,
 "nbformat_minor": 2
}
