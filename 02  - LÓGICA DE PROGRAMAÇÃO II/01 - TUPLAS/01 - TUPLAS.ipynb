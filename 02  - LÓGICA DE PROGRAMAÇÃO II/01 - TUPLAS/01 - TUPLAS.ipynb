{
 "cells": [
  {
   "cell_type": "markdown",
   "metadata": {},
   "source": []
  },
  {
   "cell_type": "code",
   "execution_count": 2,
   "metadata": {},
   "outputs": [
    {
     "name": "stdout",
     "output_type": "stream",
     "text": [
      "NOME: ENZO ---- NOTA: 8\n",
      "NOME: LARISSA ---- NOTA: 5\n"
     ]
    }
   ],
   "source": [
    "tupla = [('ENZO',8), ('LARISSA',5)]\n",
    "\n",
    "\n",
    "for t in tupla:\n",
    "    print('NOME: {} ---- NOTA: {}'.format(t[0],t[1]))\n"
   ]
  }
 ],
 "metadata": {
  "kernelspec": {
   "display_name": "Python 3 (ipykernel)",
   "language": "python",
   "name": "python3"
  },
  "language_info": {
   "codemirror_mode": {
    "name": "ipython",
    "version": 3
   },
   "file_extension": ".py",
   "mimetype": "text/x-python",
   "name": "python",
   "nbconvert_exporter": "python",
   "pygments_lexer": "ipython3",
   "version": "3.9.12"
  },
  "vscode": {
   "interpreter": {
    "hash": "e8755eff31258cf3f68aa399e6f759d79082959dfad6f58a9830d0e0b06355a5"
   }
  }
 },
 "nbformat": 4,
 "nbformat_minor": 2
}

*.ipynb linguist-language=Python
