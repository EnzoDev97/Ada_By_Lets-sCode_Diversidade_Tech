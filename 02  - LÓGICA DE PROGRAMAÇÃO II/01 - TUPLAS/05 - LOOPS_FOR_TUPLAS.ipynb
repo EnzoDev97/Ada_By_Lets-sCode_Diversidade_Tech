{
 "cells": [
  {
   "cell_type": "markdown",
   "metadata": {},
   "source": [
    "** 05 - Crie Tuplas e fatie as informações que estão contidas nela**"
   ]
  },
  {
   "cell_type": "code",
   "execution_count": 3,
   "metadata": {},
   "outputs": [
    {
     "name": "stdout",
     "output_type": "stream",
     "text": [
      "('Ana', 32, 'SP')\n",
      "('João', 25, 'RJ')\n",
      "('Maria', 19, 'PE')\n"
     ]
    }
   ],
   "source": [
    "cadastros = (\n",
    "    ('Ana', 32, 'SP'),\n",
    "    ('João', 25, 'RJ'),\n",
    "    ('Maria', 19, 'PE')\n",
    ")\n",
    "# Percorrendo a tupla de tuplas\n",
    "for cadastro in cadastros:\n",
    "  # Imprimindo cada tupla\n",
    "  print(cadastro)"
   ]
  },
  {
   "cell_type": "markdown",
   "metadata": {},
   "source": [
    "**Fatiando (slicing) dos dados**"
   ]
  },
  {
   "cell_type": "code",
   "execution_count": 4,
   "metadata": {},
   "outputs": [
    {
     "name": "stdout",
     "output_type": "stream",
     "text": [
      "Primeira pessoa cadastrada: ('Ana', 32, 'SP')\n",
      "Nome da pessoa cadastrada: Ana\n",
      "Nome e idade da pessoa cadastrada: ('Ana', 32)\n"
     ]
    }
   ],
   "source": [
    "print('Primeira pessoa cadastrada:', cadastros[0])\n",
    "print('Nome da pessoa cadastrada:', cadastros[0][0])\n",
    "print('Nome e idade da pessoa cadastrada:', cadastros[0][:2])"
   ]
  }
 ],
 "metadata": {
  "kernelspec": {
   "display_name": "Python 3.9.12 ('base')",
   "language": "python",
   "name": "python3"
  },
  "language_info": {
   "codemirror_mode": {
    "name": "ipython",
    "version": 3
   },
   "file_extension": ".py",
   "mimetype": "text/x-python",
   "name": "python",
   "nbconvert_exporter": "python",
   "pygments_lexer": "ipython3",
   "version": "3.9.12"
  },
  "orig_nbformat": 4,
  "vscode": {
   "interpreter": {
    "hash": "84119b4a23c727451d2f5b202898a53a27583c1b582daf411d2362849740e029"
   }
  }
 },
 "nbformat": 4,
 "nbformat_minor": 2
}
