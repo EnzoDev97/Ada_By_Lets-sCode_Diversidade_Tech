{
 "cells": [
  {
   "cell_type": "markdown",
   "metadata": {},
   "source": [
    "**Desafio**\n",
    "\n",
    "Modifique a função cadastrar_usuario abaixo em que serão coletados as seguintes informações a partir da entrada da pessoa usuária (input):\n",
    "\n",
    "- Nome\n",
    "- Idade\n",
    "- Sexo\n",
    "\n",
    "Nesse cadastro busque utilizar namedtuple ou tuplas. Além de aceitar múltiplas entradas do usuário (aceite a opção cadastrar, parar, e lide com uma opção invalida)\n",
    "\n",
    "Agora crie uma função que permita descobrir a idade média de pessoas cadastradas pelo sexo (para manter simples, masculino e feminino, representado por m e f, respectivamente).\n",
    "\n",
    "Nessa função, perceba que o sexo pode ter sido cadastrado de forma incorreta, como proceder?\n",
    "\n",
    "Na função calcule_media_idade_por_sexo o retorno deve ser uma tupla de tuplas no formato\n",
    "\n",
    "```\n",
    "(('m', <media_masculino>), ('f', <media_feminino>))\n",
    "```"
   ]
  },
  {
   "cell_type": "code",
   "execution_count": 5,
   "metadata": {},
   "outputs": [],
   "source": [
    "def cadastrar_usuario():\n",
    "  from collections import namedtuple\n",
    "  \n",
    "  continuar_cadastro = True\n",
    "  Pessoa = namedtuple('Pessoa', ['nome', 'idade', 'sexo'])\n",
    "  cadastros = []\n",
    "  \n",
    "  while continuar_cadastro:\n",
    "    cadastrar = input('Deseja inserir um novo cadastro? ')\n",
    "    if cadastrar.lower() in ['sim', 's', 'yes', 'y']:\n",
    "      nome = input('Insira o nome: ')\n",
    "      idade = int(input('Insira a idade: '))\n",
    "      sexo = input('Insira o seu gênero: ')\n",
    "      # Criando uma tupla com as informações pessoais\n",
    "      # cadastro = Pessoa(nome, idade, sexo)\n",
    "       \n",
    "      # # Adicionando na lista cadastro a pessoa recem cadastrada\n",
    "      \n",
    "      cadastros.append(cadastro)\n",
    "      \n",
    "    elif cadastrar.lower() in ['não', 'nao', 'n', 'no']:\n",
    "      print(f'Cadastro finalizado, inserido {len(cadastros)} novas pessoas')\n",
    "      continuar_cadastro = False\n",
    "    else:\n",
    "      print(f'Opção invalida. Foi inserido \"{cadastrar}\"')\n",
    "      print(\"Escolha entre ['sim', 's', 'yes', 'y'] para cadastrar uma nova pessoa ou ['não', 'nao', 'n', 'no'] para parar\")\n",
    "  \n",
    "  \n",
    "def calcule_media_idade_por_sexo():\n",
    "    idades = [] # PREENCHA AQUI\n",
    "    for pessoa in cadastros:\n",
    "      idade = pessoa.idade # PREENCHA AQUI\n",
    "      idades.append(idade) # PREENCHA AQUI\n",
    "      idade_media = sum(idades) / len(idades) # Ou alternativa statistics.mean(idades) # PREENCHA AQUI\n",
    "      return idade_media # PREENCHA AQUI\n"
   ]
  },
  {
   "cell_type": "code",
   "execution_count": 6,
   "metadata": {},
   "outputs": [
    {
     "name": "stdout",
     "output_type": "stream",
     "text": [
      "Cadastro finalizado, inserido 1 novas pessoas\n"
     ]
    },
    {
     "data": {
      "text/plain": [
       "23.0"
      ]
     },
     "execution_count": 6,
     "metadata": {},
     "output_type": "execute_result"
    }
   ],
   "source": [
    "cadastrar_usuario()\n",
    "\n",
    "calcule_media_idade_por_sexo()"
   ]
  }
 ],
 "metadata": {
  "kernelspec": {
   "display_name": "Python 3.9.12 ('base')",
   "language": "python",
   "name": "python3"
  },
  "language_info": {
   "codemirror_mode": {
    "name": "ipython",
    "version": 3
   },
   "file_extension": ".py",
   "mimetype": "text/x-python",
   "name": "python",
   "nbconvert_exporter": "python",
   "pygments_lexer": "ipython3",
   "version": "3.9.12"
  },
  "orig_nbformat": 4,
  "vscode": {
   "interpreter": {
    "hash": "84119b4a23c727451d2f5b202898a53a27583c1b582daf411d2362849740e029"
   }
  }
 },
 "nbformat": 4,
 "nbformat_minor": 2
}
