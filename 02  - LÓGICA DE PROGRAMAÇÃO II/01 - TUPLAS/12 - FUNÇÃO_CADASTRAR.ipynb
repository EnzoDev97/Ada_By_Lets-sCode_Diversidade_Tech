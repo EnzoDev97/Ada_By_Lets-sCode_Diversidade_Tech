{
 "cells": [
  {
   "cell_type": "markdown",
   "metadata": {},
   "source": [
    "**Desafio**\n",
    "\n",
    "Modifique a função cadastrar_usuario abaixo em que serão coletados as seguintes informações a partir da entrada da pessoa usuária (input):\n",
    "\n",
    "- Nome\n",
    "- Idade\n",
    "- Sexo\n",
    "\n",
    "Nesse cadastro busque utilizar namedtuple ou tuplas. Além de aceitar múltiplas entradas do usuário (aceite a opção cadastrar, parar, e lide com uma opção invalida)\n",
    "\n",
    "Agora crie uma função que permita descobrir a idade média de pessoas cadastradas pelo sexo (para manter simples, masculino e feminino, representado por m e f, respectivamente).\n",
    "\n",
    "Nessa função, perceba que o sexo pode ter sido cadastrado de forma incorreta, como proceder?\n",
    "\n",
    "Na função calcule_media_idade_por_sexo o retorno deve ser uma tupla de tuplas no formato\n",
    "\n",
    "```\n",
    "(('m', <media_masculino>), ('f', <media_feminino>))\n",
    "```"
   ]
  },
  {
   "cell_type": "code",
   "execution_count": null,
   "metadata": {},
   "outputs": [],
   "source": [
    "def cadastrar_usuario():\n",
    "  ...\n",
    "\n",
    "def calcule_media_idade_por_sexo():\n",
    "  ..."
   ]
  }
 ],
 "metadata": {
  "kernelspec": {
   "display_name": "Python 3.9.12 ('base')",
   "language": "python",
   "name": "python3"
  },
  "language_info": {
   "name": "python",
   "version": "3.9.12"
  },
  "orig_nbformat": 4,
  "vscode": {
   "interpreter": {
    "hash": "84119b4a23c727451d2f5b202898a53a27583c1b582daf411d2362849740e029"
   }
  }
 },
 "nbformat": 4,
 "nbformat_minor": 2
}
