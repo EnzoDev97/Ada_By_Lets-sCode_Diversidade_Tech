{
 "cells": [
  {
   "cell_type": "code",
   "execution_count": 1,
   "metadata": {},
   "outputs": [
    {
     "name": "stdout",
     "output_type": "stream",
     "text": [
      "Opção invalida. Foi inserido \"LARISSA\"\n",
      "Escolha entre ['sim', 's', 'yes', 'y'] para cadastrar uma nova pessoa ou ['não', 'nao', 'n', 'no'] para parar\n",
      "Opção invalida. Foi inserido \"29\"\n",
      "Escolha entre ['sim', 's', 'yes', 'y'] para cadastrar uma nova pessoa ou ['não', 'nao', 'n', 'no'] para parar\n",
      "Opção invalida. Foi inserido \"SE\"\n",
      "Escolha entre ['sim', 's', 'yes', 'y'] para cadastrar uma nova pessoa ou ['não', 'nao', 'n', 'no'] para parar\n",
      "Cadastro finalizado, inserido 4 novas pessoas\n"
     ]
    }
   ],
   "source": [
    "# Cadastro \n",
    "# - Nome\n",
    "# - Idade\n",
    "# - Estado\n",
    "\n",
    "continuar_cadastro = True\n",
    "\n",
    "cadastros = []\n",
    "\n",
    "while continuar_cadastro:\n",
    "  cadastrar = input('Deseja inserir um novo cadastro? ')\n",
    "  if cadastrar.lower() in ['sim', 's', 'yes', 'y']:\n",
    "    nome = input('Insira o nome: ')\n",
    "    idade = int(input('Insira a idade: '))\n",
    "    estado = input('Insira o estado: ')\n",
    "    # Criando uma tupla com as informações pessoais\n",
    "    cadastro = (nome, idade, estado)\n",
    "\n",
    "    # Adicionando na lista cadastro a pessoa recem cadastrada\n",
    "    cadastros.append(cadastro)\n",
    "\n",
    "  elif cadastrar.lower() in ['não', 'nao', 'n', 'no']:\n",
    "    print(f'Cadastro finalizado, inserido {len(cadastros)} novas pessoas')\n",
    "    continuar_cadastro = False\n",
    "  else:\n",
    "    print(f'Opção invalida. Foi inserido \"{cadastrar}\"')\n",
    "    print(\"Escolha entre ['sim', 's', 'yes', 'y'] para cadastrar uma nova pessoa ou ['não', 'nao', 'n', 'no'] para parar\")"
   ]
  },
  {
   "cell_type": "code",
   "execution_count": 2,
   "metadata": {},
   "outputs": [
    {
     "name": "stdout",
     "output_type": "stream",
     "text": [
      "('ENZO', 24, 'BA')\n",
      "<class '__main__.Pessoa'>\n",
      "Pessoa(nome='ENZO', idade=24, estado='BA')\n"
     ]
    }
   ],
   "source": [
    "# Importando as tuplas nomeadas\n",
    "from collections import namedtuple\n",
    "\n",
    "pessoa = cadastros[0]\n",
    "nome, idade, estado = pessoa\n",
    "print(pessoa)\n",
    "\n",
    "# Criando a tupla nomeada\n",
    "Pessoa = namedtuple('Pessoa', ['nome', 'idade', 'estado'])\n",
    "print(Pessoa)\n",
    "\n",
    "primeiro_cadastro = Pessoa(nome, idade, estado)\n",
    "print(primeiro_cadastro)"
   ]
  },
  {
   "cell_type": "code",
   "execution_count": 3,
   "metadata": {},
   "outputs": [
    {
     "name": "stdout",
     "output_type": "stream",
     "text": [
      "Pessoa(nome='Alex', idade=31, estado='RJ')\n"
     ]
    }
   ],
   "source": [
    "segundo_cadastro = Pessoa(nome='Alex', estado='RJ', idade= 31)\n",
    "print(segundo_cadastro)"
   ]
  },
  {
   "cell_type": "code",
   "execution_count": 4,
   "metadata": {},
   "outputs": [
    {
     "name": "stdout",
     "output_type": "stream",
     "text": [
      "Alex\n",
      "Alex\n"
     ]
    }
   ],
   "source": [
    "# Conseguimos acessar os atributos por posição e pelo nome dado!\n",
    "print(segundo_cadastro[0])\n",
    "print(segundo_cadastro.nome)"
   ]
  },
  {
   "cell_type": "code",
   "execution_count": 5,
   "metadata": {},
   "outputs": [],
   "source": [
    "idade = segundo_cadastro.idade"
   ]
  }
 ],
 "metadata": {
  "kernelspec": {
   "display_name": "Python 3.9.12 ('base')",
   "language": "python",
   "name": "python3"
  },
  "language_info": {
   "codemirror_mode": {
    "name": "ipython",
    "version": 3
   },
   "file_extension": ".py",
   "mimetype": "text/x-python",
   "name": "python",
   "nbconvert_exporter": "python",
   "pygments_lexer": "ipython3",
   "version": "3.9.12"
  },
  "orig_nbformat": 4,
  "vscode": {
   "interpreter": {
    "hash": "84119b4a23c727451d2f5b202898a53a27583c1b582daf411d2362849740e029"
   }
  }
 },
 "nbformat": 4,
 "nbformat_minor": 2
}
