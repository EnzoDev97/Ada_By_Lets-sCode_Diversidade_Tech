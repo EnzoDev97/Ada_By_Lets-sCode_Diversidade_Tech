{
 "cells": [
  {
   "cell_type": "markdown",
   "metadata": {},
   "source": [
    "# Criando uma tupla vazia"
   ]
  },
  {
   "cell_type": "code",
   "execution_count": 12,
   "metadata": {},
   "outputs": [
    {
     "name": "stdout",
     "output_type": "stream",
     "text": [
      "()\n",
      "()\n"
     ]
    }
   ],
   "source": [
    "# Criando uma tupla vazia\n",
    "tupla1 = tuple() # Uma tupla vazia\n",
    "tupla2 = ()      # Outra tupla vazia\n",
    "print(tupla1)\n",
    "print(tupla2)"
   ]
  },
  {
   "cell_type": "code",
   "execution_count": 13,
   "metadata": {},
   "outputs": [
    {
     "data": {
      "text/plain": [
       "(('Curso', 'Módulo I', 'Módulo II'),\n",
       " ('Data Science', 'Lógica de programação I', 'Lógica de programação II'),\n",
       " ('Web', 'Front end Estático', 'Front end Dinâmico'))"
      ]
     },
     "execution_count": 13,
     "metadata": {},
     "output_type": "execute_result"
    }
   ],
   "source": [
    "# Tupla de tuplas\n",
    "tupla_de_tuplas = (\n",
    "    ('Curso', 'Módulo I', 'Módulo II'),\n",
    "    ('Data Science', 'Lógica de programação I', \"Lógica de programação II\"),\n",
    "    ('Web', 'Front end Estático', 'Front end Dinâmico')\n",
    ")\n",
    "tupla_de_tuplas"
   ]
  },
  {
   "cell_type": "code",
   "execution_count": 14,
   "metadata": {},
   "outputs": [
    {
     "name": "stdout",
     "output_type": "stream",
     "text": [
      "dados variados: (20, 2.15, 'Ana', False)\n"
     ]
    }
   ],
   "source": [
    "dados_variados = (20, 2.15, 'Ana', False) # Tupla com tipos diferentes\n",
    "print('dados variados:', dados_variados)"
   ]
  },
  {
   "cell_type": "code",
   "execution_count": 15,
   "metadata": {},
   "outputs": [
    {
     "name": "stdout",
     "output_type": "stream",
     "text": [
      "('Python', 'SQL', 'R')\n"
     ]
    }
   ],
   "source": [
    "linguagens = ('Python', 'SQL', 'R') # Tupla com três elementos\n",
    "print(linguagens)"
   ]
  },
  {
   "cell_type": "code",
   "execution_count": 16,
   "metadata": {},
   "outputs": [
    {
     "name": "stdout",
     "output_type": "stream",
     "text": [
      "Python\n",
      "SQL\n",
      "Ana\n",
      "('Data Science', 'Lógica de programação I', 'Lógica de programação II')\n",
      "Data Science\n"
     ]
    }
   ],
   "source": [
    "print(linguagens[0])  # O primeiro elemento da tupla\n",
    "print(linguagens[1])  # Segundo elemento da tupla\n",
    "print(dados_variados[2]) # Terceiro elemento da tupla\n",
    "print(tupla_de_tuplas[1]) # Segundo elemento da tupla, que é outra tupla\n",
    "print(tupla_de_tuplas[1][0]) # Segundo elemento da tupla, pegando o curso (primeiro elemento)"
   ]
  }
 ],
 "metadata": {
  "kernelspec": {
   "display_name": "Python 3.9.12 ('base')",
   "language": "python",
   "name": "python3"
  },
  "language_info": {
   "codemirror_mode": {
    "name": "ipython",
    "version": 3
   },
   "file_extension": ".py",
   "mimetype": "text/x-python",
   "name": "python",
   "nbconvert_exporter": "python",
   "pygments_lexer": "ipython3",
   "version": "3.9.12"
  },
  "orig_nbformat": 4,
  "vscode": {
   "interpreter": {
    "hash": "84119b4a23c727451d2f5b202898a53a27583c1b582daf411d2362849740e029"
   }
  }
 },
 "nbformat": 4,
 "nbformat_minor": 2
}
