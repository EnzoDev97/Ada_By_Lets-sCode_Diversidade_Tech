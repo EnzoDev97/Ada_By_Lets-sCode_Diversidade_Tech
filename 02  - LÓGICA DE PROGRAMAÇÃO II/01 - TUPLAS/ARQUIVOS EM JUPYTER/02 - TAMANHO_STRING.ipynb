{
 "cells": [
  {
   "cell_type": "markdown",
   "metadata": {},
   "source": [
    "#### Exercícios\n",
    "\n",
    "##### 02 . Tamanho de strings. Faça um programa que leia 2 strings e informe o conteúdo delas seguido do seu comprimento. Informe também se as duas strings possuem o mesmo comprimento e são iguais ou diferentes no conteúdo.\n"
   ]
  },
  {
   "cell_type": "code",
   "execution_count": 1,
   "metadata": {},
   "outputs": [
    {
     "name": "stdout",
     "output_type": "stream",
     "text": [
      "AS PALAVRAS :  E   POSSUEM A MESMA QUANTIDADE DE CARACTERES --- 0\n",
      "AS PALAVRAS :  E   POSSUEM O MESMO SIGNIFICADO\n"
     ]
    }
   ],
   "source": [
    "P1 = input('DIGITE A PRIMEIRA PALAVRA: ')\n",
    "P2 = input('DIGITE A SEGUNDA PALAVRA: ')\n",
    "p1 = P1.upper()\n",
    "p2 = P2.upper()\n",
    "\n",
    "c1 = len(p1)\n",
    "c2 = len(p2)\n",
    "\n",
    "if c1 == c2:\n",
    "    print('AS PALAVRAS : {} E {}  POSSUEM A MESMA QUANTIDADE DE CARACTERES --- {}'.format(p1,p2,c1))\n",
    "else:\n",
    "     print('AS PALAVRAS : {} E {}   NÃO POSSUEM A MESMA QUANTIDADE DE CARACTERES --- {} E {} RESPECTIVAMENTE '.format(p1,p2,c1,c2))\n",
    "\n",
    "if p1 ==p2:\n",
    "    print('AS PALAVRAS : {} E {}  POSSUEM O MESMO SIGNIFICADO'.format(p1,p2))\n",
    "else:\n",
    "      print('AS PALAVRAS : {} E {}   NÃO POSSUEM O MESMO SIGNIFICADO'.format(p1,p2))\n"
   ]
  }
 ],
 "metadata": {
  "kernelspec": {
   "display_name": "Python 3.9.12 ('base')",
   "language": "python",
   "name": "python3"
  },
  "language_info": {
   "codemirror_mode": {
    "name": "ipython",
    "version": 3
   },
   "file_extension": ".py",
   "mimetype": "text/x-python",
   "name": "python",
   "nbconvert_exporter": "python",
   "pygments_lexer": "ipython3",
   "version": "3.9.12"
  },
  "orig_nbformat": 4,
  "vscode": {
   "interpreter": {
    "hash": "84119b4a23c727451d2f5b202898a53a27583c1b582daf411d2362849740e029"
   }
  }
 },
 "nbformat": 4,
 "nbformat_minor": 2
}
