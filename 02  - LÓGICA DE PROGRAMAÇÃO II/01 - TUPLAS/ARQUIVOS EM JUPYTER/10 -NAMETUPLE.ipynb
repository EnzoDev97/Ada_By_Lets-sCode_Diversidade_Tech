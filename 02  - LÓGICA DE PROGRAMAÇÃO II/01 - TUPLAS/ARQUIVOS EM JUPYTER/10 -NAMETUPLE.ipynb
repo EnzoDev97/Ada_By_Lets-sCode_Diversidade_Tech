{
 "cells": [
  {
   "cell_type": "code",
   "execution_count": 2,
   "metadata": {},
   "outputs": [
    {
     "name": "stdout",
     "output_type": "stream",
     "text": [
      "Opção invalida. Foi inserido \"NESSA\"\n",
      "Escolha entre ['sim', 's', 'yes', 'y'] para cadastrar uma nova pessoa ou ['não', 'nao', 'n', 'no'] para parar\n",
      "Opção invalida. Foi inserido \"26\"\n",
      "Escolha entre ['sim', 's', 'yes', 'y'] para cadastrar uma nova pessoa ou ['não', 'nao', 'n', 'no'] para parar\n",
      "Opção invalida. Foi inserido \"EUA\"\n",
      "Escolha entre ['sim', 's', 'yes', 'y'] para cadastrar uma nova pessoa ou ['não', 'nao', 'n', 'no'] para parar\n",
      "Opção invalida. Foi inserido \"CAIO\"\n",
      "Escolha entre ['sim', 's', 'yes', 'y'] para cadastrar uma nova pessoa ou ['não', 'nao', 'n', 'no'] para parar\n",
      "Cadastro finalizado, inserido 3 novas pessoas\n"
     ]
    }
   ],
   "source": [
    "# Cadastro \n",
    "# - Nome\n",
    "# - Idade\n",
    "# - Estado\n",
    "\n",
    "from collections import namedtuple\n",
    "\n",
    "continuar_cadastro = True\n",
    "Pessoa = namedtuple('Pessoa', ['nome', 'idade', 'estado'])\n",
    "cadastros = []\n",
    "\n",
    "while continuar_cadastro:\n",
    "  cadastrar = input('Deseja inserir um novo cadastro? ')\n",
    "  if cadastrar.lower() in ['sim', 's', 'yes', 'y']:\n",
    "    nome = input('Insira o nome: ')\n",
    "    idade = int(input('Insira a idade: '))\n",
    "    estado = input('Insira o estado: ')\n",
    "    # Criando uma tupla com as informações pessoais\n",
    "    cadastro = Pessoa(nome, idade, estado)\n",
    "\n",
    "    # Adicionando na lista cadastro a pessoa recem cadastrada\n",
    "    cadastros.append(cadastro)\n",
    "\n",
    "  elif cadastrar.lower() in ['não', 'nao', 'n', 'no']:\n",
    "    print(f'Cadastro finalizado, inserido {len(cadastros)} novas pessoas')\n",
    "    continuar_cadastro = False\n",
    "  else:\n",
    "    print(f'Opção invalida. Foi inserido \"{cadastrar}\"')\n",
    "    print(\"Escolha entre ['sim', 's', 'yes', 'y'] para cadastrar uma nova pessoa ou ['não', 'nao', 'n', 'no'] para parar\")"
   ]
  },
  {
   "cell_type": "code",
   "execution_count": 3,
   "metadata": {},
   "outputs": [
    {
     "name": "stdout",
     "output_type": "stream",
     "text": [
      "Pessoa castrada 1 Nome: ENZO\n",
      "Pessoa castrada 2 Nome: LARISSA\n",
      "Pessoa castrada 3 Nome: CAIO\n"
     ]
    }
   ],
   "source": [
    "for i, cadastro in enumerate(cadastros, start=1):\n",
    "  # print('Cadastro', cadastro)\n",
    "  nome = cadastro.nome\n",
    "  print(f'Pessoa castrada {i} Nome:', nome)"
   ]
  },
  {
   "cell_type": "code",
   "execution_count": 4,
   "metadata": {},
   "outputs": [
    {
     "name": "stdout",
     "output_type": "stream",
     "text": [
      "nome : ENZO\n",
      "idade : 25\n",
      "estado : BA\n",
      "------------------------------\n",
      "nome : LARISSA\n",
      "idade : 29\n",
      "estado : SE\n",
      "------------------------------\n",
      "nome : CAIO\n",
      "idade : 15\n",
      "estado : ES\n",
      "------------------------------\n"
     ]
    }
   ],
   "source": [
    "for i, cadastro in enumerate(cadastros, start=1):\n",
    "  # print('Cadastro', cadastro)\n",
    "  for idx, campo in enumerate(cadastro):\n",
    "    print(cadastro._fields[idx],':', campo)\n",
    "  print('-'*30)"
   ]
  }
 ],
 "metadata": {
  "kernelspec": {
   "display_name": "Python 3.9.12 ('base')",
   "language": "python",
   "name": "python3"
  },
  "language_info": {
   "codemirror_mode": {
    "name": "ipython",
    "version": 3
   },
   "file_extension": ".py",
   "mimetype": "text/x-python",
   "name": "python",
   "nbconvert_exporter": "python",
   "pygments_lexer": "ipython3",
   "version": "3.9.12"
  },
  "orig_nbformat": 4,
  "vscode": {
   "interpreter": {
    "hash": "84119b4a23c727451d2f5b202898a53a27583c1b582daf411d2362849740e029"
   }
  }
 },
 "nbformat": 4,
 "nbformat_minor": 2
}
