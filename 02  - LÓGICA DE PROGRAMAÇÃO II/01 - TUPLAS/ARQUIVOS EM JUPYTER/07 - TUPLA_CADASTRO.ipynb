{
 "cells": [
  {
   "cell_type": "code",
   "execution_count": 1,
   "metadata": {},
   "outputs": [
    {
     "name": "stdout",
     "output_type": "stream",
     "text": [
      "Cadastro finalizado, inserido 3 novas pessoas\n",
      "('s', 22, 'BA')\n",
      "s\n",
      "22\n",
      "BA\n"
     ]
    }
   ],
   "source": [
    "# Cadastro \n",
    "# - Nome\n",
    "# - Idade\n",
    "# - Estado\n",
    "\n",
    "continuar_cadastro = True\n",
    "\n",
    "cadastros = []\n",
    "\n",
    "while continuar_cadastro:\n",
    "  cadastrar = input('Deseja inserir um novo cadastro? ')\n",
    "  if cadastrar.lower() in ['sim', 's', 'yes', 'y']:\n",
    "    nome = input('Insira o nome: ')\n",
    "    idade = int(input('Insira a idade: '))\n",
    "    estado = input('Insira o estado: ')\n",
    "    # Criando uma tupla com as informações pessoais\n",
    "    cadastro = (nome, idade, estado)\n",
    "\n",
    "    # Adicionando na lista cadastro a pessoa recem cadastrada\n",
    "    cadastros.append(cadastro)\n",
    "\n",
    "  elif cadastrar.lower() in ['não', 'nao', 'n', 'no']:\n",
    "    print(f'Cadastro finalizado, inserido {len(cadastros)} novas pessoas')\n",
    "    continuar_cadastro = False\n",
    "  else:\n",
    "    print(f'Opção invalida. Foi inserido \"{cadastrar}\"')\n",
    "    print(\"Escolha entre ['sim', 's', 'yes', 'y'] para cadastrar uma nova pessoa ou ['não', 'nao', 'n', 'no'] para parar\")\n",
    "\n",
    "\n",
    "    #Conseguimos desempactor os elementos tanto de tuplas como de listas (do inglês *unpacking*).\n",
    "\n",
    "\n",
    "pessoa = cadastros[0]\n",
    "print(pessoa)\n",
    "nome, idade, estado = pessoa\n",
    "print(nome)\n",
    "print(idade)\n",
    "print(estado)\n",
    "\n"
   ]
  }
 ],
 "metadata": {
  "kernelspec": {
   "display_name": "Python 3.9.12 ('base')",
   "language": "python",
   "name": "python3"
  },
  "language_info": {
   "codemirror_mode": {
    "name": "ipython",
    "version": 3
   },
   "file_extension": ".py",
   "mimetype": "text/x-python",
   "name": "python",
   "nbconvert_exporter": "python",
   "pygments_lexer": "ipython3",
   "version": "3.9.12"
  },
  "orig_nbformat": 4,
  "vscode": {
   "interpreter": {
    "hash": "84119b4a23c727451d2f5b202898a53a27583c1b582daf411d2362849740e029"
   }
  }
 },
 "nbformat": 4,
 "nbformat_minor": 2
}
