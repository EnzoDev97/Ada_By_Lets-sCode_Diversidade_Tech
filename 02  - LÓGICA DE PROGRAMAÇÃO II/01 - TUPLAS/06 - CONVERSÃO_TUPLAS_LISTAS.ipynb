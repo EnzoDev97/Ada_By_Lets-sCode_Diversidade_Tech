{
 "cells": [
  {
   "cell_type": "markdown",
   "metadata": {},
   "source": [
    "05 -  Tuplas podem virar listas, e listas podem virar tuplas!"
   ]
  },
  {
   "cell_type": "code",
   "execution_count": 8,
   "metadata": {},
   "outputs": [
    {
     "name": "stdout",
     "output_type": "stream",
     "text": [
      "<class 'list'>\n",
      "DADOS DA LISTA : \u001b[35m ['abacate', 'banana', 'maca']\u001b[0m\n",
      "---------------------------------------------------------------------- \n",
      "\n",
      "<class 'tuple'>\n",
      "DADOS DA LISTA : \u001b[33m ('abacate', 'banana', 'maca')\u001b[0m\n",
      "---------------------------------------------------------------------- \n",
      "\n",
      "<class 'list'>\n",
      "DADOS DA LISTA : \u001b[32m ['abacate', 'banana', 'maca']\u001b[0m\n"
     ]
    }
   ],
   "source": [
    "lista_frutas = ['abacate', 'banana', 'maca']\n",
    "print(type(lista_frutas))\n",
    "print('DADOS DA LISTA : \\033[35m {}\\033[0m'.format(lista_frutas))\n",
    "print('-'*70,'\\n')\n",
    "\n",
    "tupla_frutas = tuple(lista_frutas)\n",
    "print(type(tupla_frutas))\n",
    "print('DADOS DA LISTA : \\033[33m {}\\033[0m'.format(tupla_frutas))\n",
    "print('-'*70,'\\n')\n",
    "lista_frutas = list(tupla_frutas)\n",
    "print(type(lista_frutas))\n",
    "print('DADOS DA LISTA : \\033[32m {}\\033[0m'.format(lista_frutas))"
   ]
  },
  {
   "cell_type": "markdown",
   "metadata": {},
   "source": [
    "A principal diferença é: tuplas são **imutáveis**!\n",
    "\n",
    "Para tuplas **não é possível**: alterar elementos individuais, adicionar elementos, remover elementos ou alterar a ordem dos elementos. Uma vez criada, não é possível alterar nada de uma tupla!"
   ]
  },
  {
   "cell_type": "code",
   "execution_count": 9,
   "metadata": {},
   "outputs": [
    {
     "name": "stdout",
     "output_type": "stream",
     "text": [
      "lista ['abacate', 'banana', 'maca']\n",
      "tupla ('abacate', 'banana', 'maca')\n",
      "lista modificada ['abacaxi', 'banana', 'maca']\n",
      "----------------------------------------\n"
     ]
    },
    {
     "ename": "TypeError",
     "evalue": "'tuple' object does not support item assignment",
     "output_type": "error",
     "traceback": [
      "\u001b[1;31m---------------------------------------------------------------------------\u001b[0m",
      "\u001b[1;31mTypeError\u001b[0m                                 Traceback (most recent call last)",
      "\u001b[1;32mc:\\Users\\enzoc\\OneDrive\\Área de Trabalho\\CÓDIGO PYTHON\\Diversidade_Tech\\02  - LÓGICA DE PROGRAMAÇÃO II\\01 - TUPLAS\\06 - CONVERSÃO_TUPLAS_LISTAS.ipynb Célula: 4\u001b[0m in \u001b[0;36m<cell line: 6>\u001b[1;34m()\u001b[0m\n\u001b[0;32m      <a href='vscode-notebook-cell:/c%3A/Users/enzoc/OneDrive/%C3%81rea%20de%20Trabalho/C%C3%93DIGO%20PYTHON/Diversidade_Tech/02%20%20-%20L%C3%93GICA%20DE%20PROGRAMA%C3%87%C3%83O%20II/01%20-%20TUPLAS/06%20-%20CONVERS%C3%83O_TUPLAS_LISTAS.ipynb#W4sZmlsZQ%3D%3D?line=3'>4</a>\u001b[0m \u001b[39mprint\u001b[39m(\u001b[39m'\u001b[39m\u001b[39mlista modificada\u001b[39m\u001b[39m'\u001b[39m, lista_frutas)\n\u001b[0;32m      <a href='vscode-notebook-cell:/c%3A/Users/enzoc/OneDrive/%C3%81rea%20de%20Trabalho/C%C3%93DIGO%20PYTHON/Diversidade_Tech/02%20%20-%20L%C3%93GICA%20DE%20PROGRAMA%C3%87%C3%83O%20II/01%20-%20TUPLAS/06%20-%20CONVERS%C3%83O_TUPLAS_LISTAS.ipynb#W4sZmlsZQ%3D%3D?line=4'>5</a>\u001b[0m \u001b[39mprint\u001b[39m(\u001b[39m'\u001b[39m\u001b[39m-\u001b[39m\u001b[39m'\u001b[39m\u001b[39m*\u001b[39m\u001b[39m40\u001b[39m)\n\u001b[1;32m----> <a href='vscode-notebook-cell:/c%3A/Users/enzoc/OneDrive/%C3%81rea%20de%20Trabalho/C%C3%93DIGO%20PYTHON/Diversidade_Tech/02%20%20-%20L%C3%93GICA%20DE%20PROGRAMA%C3%87%C3%83O%20II/01%20-%20TUPLAS/06%20-%20CONVERS%C3%83O_TUPLAS_LISTAS.ipynb#W4sZmlsZQ%3D%3D?line=5'>6</a>\u001b[0m tupla_frutas[\u001b[39m0\u001b[39m] \u001b[39m=\u001b[39m \u001b[39m'\u001b[39m\u001b[39mabacaxi\u001b[39m\u001b[39m'\u001b[39m\n",
      "\u001b[1;31mTypeError\u001b[0m: 'tuple' object does not support item assignment"
     ]
    }
   ],
   "source": [
    "print('lista', lista_frutas)\n",
    "print('tupla', tupla_frutas)\n",
    "lista_frutas[0] = 'abacaxi'\n",
    "print('lista modificada', lista_frutas)\n",
    "print('-'*40)\n",
    "tupla_frutas[0] = 'abacaxi'"
   ]
  }
 ],
 "metadata": {
  "kernelspec": {
   "display_name": "Python 3.9.12 ('base')",
   "language": "python",
   "name": "python3"
  },
  "language_info": {
   "codemirror_mode": {
    "name": "ipython",
    "version": 3
   },
   "file_extension": ".py",
   "mimetype": "text/x-python",
   "name": "python",
   "nbconvert_exporter": "python",
   "pygments_lexer": "ipython3",
   "version": "3.9.12"
  },
  "orig_nbformat": 4,
  "vscode": {
   "interpreter": {
    "hash": "84119b4a23c727451d2f5b202898a53a27583c1b582daf411d2362849740e029"
   }
  }
 },
 "nbformat": 4,
 "nbformat_minor": 2
}
