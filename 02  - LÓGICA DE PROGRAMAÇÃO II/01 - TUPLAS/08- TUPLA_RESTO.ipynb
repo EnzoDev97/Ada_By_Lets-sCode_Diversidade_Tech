{
 "cells": [
  {
   "cell_type": "markdown",
   "metadata": {},
   "source": [
    "Outra forma é utilizar o operador `*` para o resto como o exemplo abaixo!\n",
    "Assim garantindo que não seja levantado um erro"
   ]
  },
  {
   "cell_type": "code",
   "execution_count": 1,
   "metadata": {},
   "outputs": [
    {
     "name": "stdout",
     "output_type": "stream",
     "text": [
      "Primeiro elemento: Python\n",
      "Resto, a partir do segundo elemento: ['JavaScript', 'HTML', 'CSS', 'R']\n",
      "Resto, até o penúltimo elemento: ['Python', 'JavaScript', 'HTML', 'CSS']\n",
      "Último elemento: R\n",
      "Primeiro elemento: Python\n",
      "Resto, meio: ['JavaScript', 'HTML', 'CSS']\n",
      "Último elemento: R\n"
     ]
    }
   ],
   "source": [
    "linguagens = ('Python', 'JavaScript', 'HTML', 'CSS', 'R')\n",
    "\n",
    "primeira, *resto = linguagens\n",
    "print('Primeiro elemento:', primeira)\n",
    "print('Resto, a partir do segundo elemento:', resto)\n",
    "\n",
    "*resto, ultimo = linguagens\n",
    "print('Resto, até o penúltimo elemento:', resto)\n",
    "print('Último elemento:', ultimo)\n",
    "\n",
    "primeiro, *resto, ultimo = linguagens\n",
    "print('Primeiro elemento:', primeiro)\n",
    "print('Resto, meio:', resto)\n",
    "print('Último elemento:', ultimo)"
   ]
  }
 ],
 "metadata": {
  "kernelspec": {
   "display_name": "Python 3.9.12 ('base')",
   "language": "python",
   "name": "python3"
  },
  "language_info": {
   "codemirror_mode": {
    "name": "ipython",
    "version": 3
   },
   "file_extension": ".py",
   "mimetype": "text/x-python",
   "name": "python",
   "nbconvert_exporter": "python",
   "pygments_lexer": "ipython3",
   "version": "3.9.12"
  },
  "orig_nbformat": 4,
  "vscode": {
   "interpreter": {
    "hash": "84119b4a23c727451d2f5b202898a53a27583c1b582daf411d2362849740e029"
   }
  }
 },
 "nbformat": 4,
 "nbformat_minor": 2
}
