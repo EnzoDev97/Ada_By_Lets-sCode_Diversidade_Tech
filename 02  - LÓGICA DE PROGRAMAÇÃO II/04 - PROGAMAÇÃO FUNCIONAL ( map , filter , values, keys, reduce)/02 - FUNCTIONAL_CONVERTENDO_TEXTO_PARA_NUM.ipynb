{
 "cells": [
  {
   "cell_type": "markdown",
   "id": "5ac66c4f",
   "metadata": {},
   "source": [
    "# 02 - UTILIZANDO O DICIONARIO CONVERTA TEXTO EM NÚMEROS"
   ]
  },
  {
   "cell_type": "code",
   "execution_count": 1,
   "id": "2d2de15c",
   "metadata": {},
   "outputs": [
    {
     "data": {
      "text/plain": [
       "[3, 4, 5]"
      ]
     },
     "execution_count": 1,
     "metadata": {},
     "output_type": "execute_result"
    }
   ],
   "source": [
    "dict_numeros = {'um': 1, 'dois': 2, 'tres': 3, 'quatro': 4, 'cinco': 5, \n",
    "'seis': 6, 'sete': 7, 'oito': 8, 'nove': 9, 'dez': 10}\n",
    "\n",
    "arr = ['tres', 'quatro', 'cinco']\n",
    "\n",
    "list_num = [dict_numeros[elem] for elem in arr]\n",
    "\n",
    "list_num"
   ]
  },
  {
   "cell_type": "code",
   "execution_count": null,
   "id": "2a38de93",
   "metadata": {},
   "outputs": [],
   "source": []
  }
 ],
 "metadata": {
  "kernelspec": {
   "display_name": "Python 3 (ipykernel)",
   "language": "python",
   "name": "python3"
  },
  "language_info": {
   "codemirror_mode": {
    "name": "ipython",
    "version": 3
   },
   "file_extension": ".py",
   "mimetype": "text/x-python",
   "name": "python",
   "nbconvert_exporter": "python",
   "pygments_lexer": "ipython3",
   "version": "3.9.12"
  }
 },
 "nbformat": 4,
 "nbformat_minor": 5
}
