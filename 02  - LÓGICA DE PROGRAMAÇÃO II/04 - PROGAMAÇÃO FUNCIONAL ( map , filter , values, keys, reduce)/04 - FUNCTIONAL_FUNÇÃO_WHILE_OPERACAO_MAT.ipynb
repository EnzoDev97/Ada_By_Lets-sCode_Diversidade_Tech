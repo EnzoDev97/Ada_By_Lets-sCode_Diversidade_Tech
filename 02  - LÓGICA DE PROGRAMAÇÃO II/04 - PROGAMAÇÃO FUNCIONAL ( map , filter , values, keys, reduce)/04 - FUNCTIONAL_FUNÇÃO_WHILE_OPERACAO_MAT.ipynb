{
 "cells": [
  {
   "cell_type": "markdown",
   "id": "c66d35b3",
   "metadata": {},
   "source": [
    "# 04 - CRIE FUNÇÕES DE OPERAÇÃO MÁTEMÁTICA E EM SEGUIDA CRIE UM DICIONARIO QUE CHAME ESTAS FUNÇÕES"
   ]
  },
  {
   "cell_type": "code",
   "execution_count": 6,
   "id": "28ec4ef1",
   "metadata": {},
   "outputs": [
    {
     "name": "stdout",
     "output_type": "stream",
     "text": [
      "5\n"
     ]
    }
   ],
   "source": [
    "def soma(x, y):\n",
    "    return x + y\n",
    "\n",
    "def subtracao(x, y):\n",
    "    return x - y\n",
    "\n",
    "def multi(x, y):\n",
    "    return x * y\n",
    "\n",
    "def div(x, y):\n",
    "    return x / y\n",
    "\n",
    "dict_func = {1: soma, 2: subtracao, 3: multi, 4: div}\n",
    "opc = 1\n",
    "while opc in dict_func:\n",
    "    print(dict_func[opc](2, 3))\n",
    "    opc = 6"
   ]
  }
 ],
 "metadata": {
  "kernelspec": {
   "display_name": "Python 3 (ipykernel)",
   "language": "python",
   "name": "python3"
  },
  "language_info": {
   "codemirror_mode": {
    "name": "ipython",
    "version": 3
   },
   "file_extension": ".py",
   "mimetype": "text/x-python",
   "name": "python",
   "nbconvert_exporter": "python",
   "pygments_lexer": "ipython3",
   "version": "3.9.12"
  }
 },
 "nbformat": 4,
 "nbformat_minor": 5
}
