{
 "cells": [
  {
   "cell_type": "markdown",
   "id": "10558f8d",
   "metadata": {},
   "source": [
    "# 03 - REMOVENDO STRING QUE ESTÁ INTERLIGADO AO NUMERO "
   ]
  },
  {
   "cell_type": "code",
   "execution_count": 1,
   "id": "95272225",
   "metadata": {},
   "outputs": [
    {
     "data": {
      "text/plain": [
       "'12.5'"
      ]
     },
     "execution_count": 1,
     "metadata": {},
     "output_type": "execute_result"
    }
   ],
   "source": [
    "import re\n",
    "txt = '12.5k'\n",
    "\n",
    "num = re.search('\\d*.\\d*', txt)\n",
    "num.group(0)"
   ]
  },
  {
   "cell_type": "code",
   "execution_count": 2,
   "id": "b422276b",
   "metadata": {},
   "outputs": [
    {
     "data": {
      "text/plain": [
       "'k'"
      ]
     },
     "execution_count": 2,
     "metadata": {},
     "output_type": "execute_result"
    }
   ],
   "source": [
    "letra = re.search('[a-z]', txt)\n",
    "letra.group(0)"
   ]
  },
  {
   "cell_type": "code",
   "execution_count": 3,
   "id": "5ee1a0bc",
   "metadata": {},
   "outputs": [
    {
     "data": {
      "text/plain": [
       "['12.5', 'k']"
      ]
     },
     "execution_count": 3,
     "metadata": {},
     "output_type": "execute_result"
    }
   ],
   "source": [
    "lista = [num.group(0), letra.group(0)]\n",
    "lista"
   ]
  },
  {
   "cell_type": "code",
   "execution_count": 4,
   "id": "d16b9c92",
   "metadata": {},
   "outputs": [
    {
     "data": {
      "text/plain": [
       "['duzentos', 'e', 'trinta']"
      ]
     },
     "execution_count": 4,
     "metadata": {},
     "output_type": "execute_result"
    }
   ],
   "source": [
    "txt = 'duzentos e trinta'.split()\n",
    "txt"
   ]
  },
  {
   "cell_type": "code",
   "execution_count": null,
   "id": "b515e1f2",
   "metadata": {},
   "outputs": [],
   "source": []
  }
 ],
 "metadata": {
  "kernelspec": {
   "display_name": "Python 3 (ipykernel)",
   "language": "python",
   "name": "python3"
  },
  "language_info": {
   "codemirror_mode": {
    "name": "ipython",
    "version": 3
   },
   "file_extension": ".py",
   "mimetype": "text/x-python",
   "name": "python",
   "nbconvert_exporter": "python",
   "pygments_lexer": "ipython3",
   "version": "3.9.12"
  }
 },
 "nbformat": 4,
 "nbformat_minor": 5
}
