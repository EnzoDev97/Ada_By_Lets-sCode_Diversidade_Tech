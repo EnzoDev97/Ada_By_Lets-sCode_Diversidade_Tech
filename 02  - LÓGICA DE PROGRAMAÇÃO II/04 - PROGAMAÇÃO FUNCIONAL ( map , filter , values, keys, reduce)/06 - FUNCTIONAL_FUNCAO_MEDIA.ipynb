{
 "cells": [
  {
   "cell_type": "markdown",
   "id": "82d115bf",
   "metadata": {},
   "source": [
    "\"\"\"06. Utilizando o dicionário criado na questão 4 crie uma função \n",
    "que retorna uma lista contendo o nome das pessoas que tem a idade \n",
    "maior do que a média das idades.\n",
    "\n",
    "EX: \n",
    "Entrada: {'Ana': 10, 'Júlia':20}\n",
    "Saida: ['Júlia']\"\"\""
   ]
  },
  {
   "cell_type": "code",
   "execution_count": 2,
   "id": "fe9e808c",
   "metadata": {},
   "outputs": [
    {
     "name": "stdout",
     "output_type": "stream",
     "text": [
      "{'Telson': 20}\n"
     ]
    }
   ],
   "source": [
    "def calc_media(x):\n",
    "    media = sum([value for key, value in x.items()])/len(x.values())\n",
    "    list = [key for key, value in x.items() if value > media]\n",
    "    return list\n",
    "\n",
    "\n",
    "def calcula_media(list_idades):\n",
    "    return sum(list_idades)/len(list_idades)\n",
    "\n",
    "def teste_media(x):\n",
    "    media = 15\n",
    "    if x[1] >= media:\n",
    "        return True\n",
    "    return False\n",
    "\n",
    "\n",
    "def acima_media(dict_nomes):\n",
    "    \n",
    "    dict_acima = list(filter(teste_media, dict_nomes.items()))\n",
    "    #dict_acima =  dict(filter(lambda key, value: value >= media, dict_nomes.keys(), dict_nomes.values()))\n",
    "    return dict_acima\n",
    "\n",
    "def teste(dicionario):\n",
    "  a = dict(filter(lambda x: x[1] >= 11, dicionario.items()))\n",
    "  print(a)\n",
    "\n",
    "dicionario = {'Telson': 20, 'Junior': 10}\n",
    "teste(dicionario)\n"
   ]
  },
  {
   "cell_type": "code",
   "execution_count": 3,
   "id": "84e4e3e7",
   "metadata": {},
   "outputs": [
    {
     "data": {
      "text/plain": [
       "[('Júlia', 20)]"
      ]
     },
     "execution_count": 3,
     "metadata": {},
     "output_type": "execute_result"
    }
   ],
   "source": [
    "nomes = {'Ana': 10, 'Júlia':20}\n",
    "acima_media(nomes)"
   ]
  },
  {
   "cell_type": "code",
   "execution_count": null,
   "id": "41383689",
   "metadata": {},
   "outputs": [],
   "source": []
  }
 ],
 "metadata": {
  "kernelspec": {
   "display_name": "Python 3 (ipykernel)",
   "language": "python",
   "name": "python3"
  },
  "language_info": {
   "codemirror_mode": {
    "name": "ipython",
    "version": 3
   },
   "file_extension": ".py",
   "mimetype": "text/x-python",
   "name": "python",
   "nbconvert_exporter": "python",
   "pygments_lexer": "ipython3",
   "version": "3.9.12"
  }
 },
 "nbformat": 4,
 "nbformat_minor": 5
}
