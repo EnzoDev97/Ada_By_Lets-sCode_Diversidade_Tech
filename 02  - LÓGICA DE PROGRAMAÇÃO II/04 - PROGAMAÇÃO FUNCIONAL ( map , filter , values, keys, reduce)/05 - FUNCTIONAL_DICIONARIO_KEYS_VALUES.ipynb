{
 "cells": [
  {
   "cell_type": "markdown",
   "id": "d81f4e9f",
   "metadata": {},
   "source": [
    "# 05 - CRIE UM DICIONARIO COM INFORMAÇÃO DE ALUNOS E NOTA E IMPRIMA OS VALORES UTILIZANDO KEYS E VALUE"
   ]
  },
  {
   "cell_type": "code",
   "execution_count": 1,
   "id": "2bbeb604",
   "metadata": {},
   "outputs": [
    {
     "name": "stdout",
     "output_type": "stream",
     "text": [
      "nome Teo --- 7\n",
      "nome Guilherme --- 8\n"
     ]
    }
   ],
   "source": [
    "notas = {'Teo': 7, 'Guilherme': 8}\n",
    "\n",
    "\n",
    "for chave, valor in notas.items():\n",
    "    print(f'nome {chave} --- {valor}')"
   ]
  },
  {
   "cell_type": "code",
   "execution_count": 2,
   "id": "f93731ce",
   "metadata": {},
   "outputs": [
    {
     "data": {
      "text/plain": [
       "dict_keys(['Teo', 'Guilherme'])"
      ]
     },
     "execution_count": 2,
     "metadata": {},
     "output_type": "execute_result"
    }
   ],
   "source": [
    "notas.keys()"
   ]
  },
  {
   "cell_type": "code",
   "execution_count": 3,
   "id": "ea0201d2",
   "metadata": {},
   "outputs": [
    {
     "data": {
      "text/plain": [
       "dict_values([7, 8])"
      ]
     },
     "execution_count": 3,
     "metadata": {},
     "output_type": "execute_result"
    }
   ],
   "source": [
    "#Dict\n",
    "\n",
    "notas = {'Teo': 7, 'Guilherme': 8}\n",
    "notas.values()\n",
    "#for value in notas.values():\n",
    "#    print(f'value {value}')"
   ]
  },
  {
   "cell_type": "code",
   "execution_count": null,
   "id": "e96cff17",
   "metadata": {},
   "outputs": [],
   "source": []
  }
 ],
 "metadata": {
  "kernelspec": {
   "display_name": "Python 3 (ipykernel)",
   "language": "python",
   "name": "python3"
  },
  "language_info": {
   "codemirror_mode": {
    "name": "ipython",
    "version": 3
   },
   "file_extension": ".py",
   "mimetype": "text/x-python",
   "name": "python",
   "nbconvert_exporter": "python",
   "pygments_lexer": "ipython3",
   "version": "3.9.12"
  }
 },
 "nbformat": 4,
 "nbformat_minor": 5
}
