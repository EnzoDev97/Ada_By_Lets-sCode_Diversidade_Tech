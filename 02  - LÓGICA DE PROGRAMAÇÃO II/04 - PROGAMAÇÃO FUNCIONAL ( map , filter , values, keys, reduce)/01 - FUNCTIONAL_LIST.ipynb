{
 "cells": [
  {
   "cell_type": "markdown",
   "id": "32bcc43e",
   "metadata": {},
   "source": [
    "# 01 - IMPRIMA APENAS NÚMEROS QUE CONTÊM NA LISTA UTILIZANDO list , filter e lambda"
   ]
  },
  {
   "cell_type": "code",
   "execution_count": 1,
   "id": "845e1127",
   "metadata": {},
   "outputs": [
    {
     "data": {
      "text/plain": [
       "[2, 3.4]"
      ]
     },
     "execution_count": 1,
     "metadata": {},
     "output_type": "execute_result"
    }
   ],
   "source": [
    "lista_original = ['string', 'outra', 2, 3.4]\n",
    "\n",
    "lista_copia = list(filter(lambda x: type(x) != str, lista_original))\n",
    "lista_copia"
   ]
  },
  {
   "cell_type": "code",
   "execution_count": 2,
   "id": "65b238c6",
   "metadata": {},
   "outputs": [
    {
     "data": {
      "text/plain": [
       "[4, 6.8]"
      ]
     },
     "execution_count": 2,
     "metadata": {},
     "output_type": "execute_result"
    }
   ],
   "source": [
    "lista_original = ['string', 'outra', 2, 3.4]\n",
    "\n",
    "lista_copia = list(map(lambda x: x*2, list(filter(lambda x: type(x) != str, lista_original))))\n",
    "lista_copia"
   ]
  },
  {
   "cell_type": "code",
   "execution_count": 3,
   "id": "3551c3fa",
   "metadata": {},
   "outputs": [
    {
     "data": {
      "text/plain": [
       "[3, 4, 5]"
      ]
     },
     "execution_count": 3,
     "metadata": {},
     "output_type": "execute_result"
    }
   ],
   "source": [
    "dict_numeros = {'um': 1, 'dois': 2, 'tres': 3, 'quatro': 4, 'cinco': 5, \n",
    "'seis': 6, 'sete': 7, 'oito': 8, 'nove': 9, 'dez': 10}\n",
    "\n",
    "arr = ['tres', 'quatro', 'cinco']\n",
    "\n",
    "list_num = [dict_numeros[elem] for elem in arr]\n",
    "\n",
    "list_num"
   ]
  },
  {
   "cell_type": "code",
   "execution_count": null,
   "id": "8d392355",
   "metadata": {},
   "outputs": [],
   "source": []
  }
 ],
 "metadata": {
  "kernelspec": {
   "display_name": "Python 3 (ipykernel)",
   "language": "python",
   "name": "python3"
  },
  "language_info": {
   "codemirror_mode": {
    "name": "ipython",
    "version": 3
   },
   "file_extension": ".py",
   "mimetype": "text/x-python",
   "name": "python",
   "nbconvert_exporter": "python",
   "pygments_lexer": "ipython3",
   "version": "3.9.12"
  }
 },
 "nbformat": 4,
 "nbformat_minor": 5
}
