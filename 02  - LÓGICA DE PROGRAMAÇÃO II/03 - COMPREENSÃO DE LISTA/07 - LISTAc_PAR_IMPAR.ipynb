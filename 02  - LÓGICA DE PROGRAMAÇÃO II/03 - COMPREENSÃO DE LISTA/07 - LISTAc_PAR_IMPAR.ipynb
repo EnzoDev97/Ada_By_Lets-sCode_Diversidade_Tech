{
 "cells": [
  {
   "cell_type": "markdown",
   "id": "d747196a",
   "metadata": {},
   "source": [
    "# 07 -  Criando uma lista dizendo se o número é par ou impar\n",
    "['1 é impar', '4 é par', ...]"
   ]
  },
  {
   "cell_type": "code",
   "execution_count": 1,
   "id": "3d6af75d",
   "metadata": {},
   "outputs": [
    {
     "name": "stdout",
     "output_type": "stream",
     "text": [
      "['1 é impar', '2 é par', '3 é impar', '4 é par', '5 é impar', '6 é par']\n"
     ]
    }
   ],
   "source": [
    "par_ou_impar = []\n",
    "for num in range(1, 7):\n",
    "  if num % 2 == 0:\n",
    "    resultado = f'{num} é par'\n",
    "  else:\n",
    "    resultado = f'{num} é impar'\n",
    "  par_ou_impar.append(resultado)\n",
    "print(par_ou_impar)"
   ]
  },
  {
   "cell_type": "code",
   "execution_count": 2,
   "id": "351de4b5",
   "metadata": {},
   "outputs": [
    {
     "data": {
      "text/plain": [
       "['1 é impar', '2 é par', '3 é impar', '4 é par', '5 é impar', '6 é par']"
      ]
     },
     "execution_count": 2,
     "metadata": {},
     "output_type": "execute_result"
    }
   ],
   "source": [
    "[\n",
    "    f'{num} é par'\n",
    "      if num % 2 == 0\n",
    "      else f'{num} é impar'\n",
    "    for num in range(1, 7) \n",
    "]\n"
   ]
  },
  {
   "cell_type": "code",
   "execution_count": null,
   "id": "0450cf76",
   "metadata": {},
   "outputs": [],
   "source": []
  }
 ],
 "metadata": {
  "kernelspec": {
   "display_name": "Python 3 (ipykernel)",
   "language": "python",
   "name": "python3"
  },
  "language_info": {
   "codemirror_mode": {
    "name": "ipython",
    "version": 3
   },
   "file_extension": ".py",
   "mimetype": "text/x-python",
   "name": "python",
   "nbconvert_exporter": "python",
   "pygments_lexer": "ipython3",
   "version": "3.9.12"
  }
 },
 "nbformat": 4,
 "nbformat_minor": 5
}
