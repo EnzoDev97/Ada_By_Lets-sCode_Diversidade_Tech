{
 "cells": [
  {
   "cell_type": "markdown",
   "id": "60135411",
   "metadata": {},
   "source": [
    "16. Utilizando a função criada na questão 1 faça uma função que rece 2 textos e retorna uma lista com as palavras encontradas nos 2 textos, utilizando list comprehension.\n",
    "\n",
    "    EX:\n",
    "        Entrada: \"A casa é bela\", \"É uma bela casa\"\n",
    "        Saida: ['casa', 'bela', 'e']"
   ]
  },
  {
   "cell_type": "code",
   "execution_count": 2,
   "id": "d2bcade2",
   "metadata": {},
   "outputs": [
    {
     "name": "stdout",
     "output_type": "stream",
     "text": [
      "['casa', 'e', 'bela']\n"
     ]
    }
   ],
   "source": [
    "import re\n",
    "def facilita_vida(texto):\n",
    "    texto = texto.lower()\n",
    "    texto = re.sub('[éèê]','e',texto)\n",
    "    return texto.split()\n",
    "\n",
    "\n",
    "entrada1 = 'A casa é bela'\n",
    "entrada2 = 'É uma bela casa'\n",
    "\n",
    "L1 = facilita_vida(entrada1)\n",
    "L2 = facilita_vida(entrada2)\n",
    "\n",
    "saida = [e for e in L1 if e in L2]\n",
    "\n",
    "print(saida)"
   ]
  },
  {
   "cell_type": "code",
   "execution_count": null,
   "id": "f3c8bb6a",
   "metadata": {},
   "outputs": [],
   "source": []
  }
 ],
 "metadata": {
  "kernelspec": {
   "display_name": "Python 3 (ipykernel)",
   "language": "python",
   "name": "python3"
  },
  "language_info": {
   "codemirror_mode": {
    "name": "ipython",
    "version": 3
   },
   "file_extension": ".py",
   "mimetype": "text/x-python",
   "name": "python",
   "nbconvert_exporter": "python",
   "pygments_lexer": "ipython3",
   "version": "3.9.12"
  }
 },
 "nbformat": 4,
 "nbformat_minor": 5
}
