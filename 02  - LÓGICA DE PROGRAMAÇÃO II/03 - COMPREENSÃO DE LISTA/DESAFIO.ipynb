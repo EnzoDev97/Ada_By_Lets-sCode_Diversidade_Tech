{
 "cells": [
  {
   "cell_type": "markdown",
   "id": "e7456c7a",
   "metadata": {},
   "source": [
    "## Desafio\n",
    "\n",
    "Crie um sistema de controle de notas escolares. Esse sistema deve permitir: incluir alunos com as notas das disciplinas, listar os alunos da escola e as notas das disciplinas, editar as notas das disciplinas e remover um aluno.\n",
    "\n",
    "Além disso o sistema deve retornar os alunos aprovados e reprovados em uma determinada disciplina, considerar a média 7.\n",
    "\n",
    "O sistema deve permitir retornar o nome do aluno com a maior e com a menor nota em uma disciplina.\n",
    "\n",
    "os dados dos alunos devem seguir o seguinte formato:\n",
    "\n",
    "{'João': {'Portugues': [5, 7, 8, 9], 'Matemática': [9, 8, 5, 7]}, \n",
    "'Mateus':{'Portugues': [8, 6, 8, 9], 'Matemática': [10, 9, 8, 9]},\n",
    "'Marcus':{'Portugues': [6, 5, 4, 7], 'Matemática': [8, 7, 9, 8]}}\n",
    "\n",
    "Dica: Como não vimos nem lista dentro de dicionário e nem dicionário aninhados deve ser utilizado o método TVN, visto na última aula.\n"
   ]
  },
  {
   "cell_type": "code",
   "execution_count": null,
   "id": "56af365c",
   "metadata": {},
   "outputs": [],
   "source": []
  }
 ],
 "metadata": {
  "kernelspec": {
   "display_name": "Python 3 (ipykernel)",
   "language": "python",
   "name": "python3"
  },
  "language_info": {
   "codemirror_mode": {
    "name": "ipython",
    "version": 3
   },
   "file_extension": ".py",
   "mimetype": "text/x-python",
   "name": "python",
   "nbconvert_exporter": "python",
   "pygments_lexer": "ipython3",
   "version": "3.9.12"
  }
 },
 "nbformat": 4,
 "nbformat_minor": 5
}
