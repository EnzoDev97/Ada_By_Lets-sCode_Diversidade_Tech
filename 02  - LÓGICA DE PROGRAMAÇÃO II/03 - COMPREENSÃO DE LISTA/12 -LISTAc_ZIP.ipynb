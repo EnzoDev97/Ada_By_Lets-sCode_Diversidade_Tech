{
 "cells": [
  {
   "cell_type": "markdown",
   "id": "d2fb24fd",
   "metadata": {},
   "source": [
    "No exemplo abaixo, apesar de ser um código válido há outras formas de realizar a mesma operação, facilitando dessa forma a leitura do código.\n",
    "\n",
    "Nesse caso iremos utilizar a função `zip`.\n",
    "\n",
    "Ela aceita dois objetos que podem ser iterados, e comprime os seus elementos:\n",
    "\n",
    "Por exemplo:  \n",
    "```\n",
    "nomes = ['Ana', 'Vitor', 'Daniel']\n",
    "notas = [10, 5, 7]\n",
    "cadastros = {}\n",
    "for idx, nome in enumerate(nomes):\n",
    "  cadastros[nome] = notas[idx]\n",
    "```\n",
    "Pode ser entendido que o primeiro elemento da lista `nomes` deve fazer par com o primeiro elemento da lista notas, e assim por diante.\n",
    "\n",
    "Logo, seria equivalente a:\n",
    "\n",
    "```\n",
    "(nomes[0], notas[0]), (nomes[1], notas[1]), ..., (nomes[n], notas[n])\n",
    "```\n",
    "\n",
    "Utilizando o `zip` temos esse comportamento!\n"
   ]
  },
  {
   "cell_type": "code",
   "execution_count": 1,
   "id": "9d4acb46",
   "metadata": {},
   "outputs": [
    {
     "name": "stdout",
     "output_type": "stream",
     "text": [
      "{'Desodorante': 10, 'Alface': 4, 'Uva': 2, 'Salgadinho': 3, 'Banana': 5}\n"
     ]
    }
   ],
   "source": [
    "produtos = ['Desodorante', 'Alface', 'Uva', 'Salgadinho', 'Banana']\n",
    "quantidades = [10, 4, 2, 3, 5]\n",
    "\n",
    "cadastros = {produtos[i]: quantidades[i] for i in range(len(produtos))}\n",
    "print(cadastros)"
   ]
  },
  {
   "cell_type": "code",
   "execution_count": 2,
   "id": "a09dc4ac",
   "metadata": {},
   "outputs": [
    {
     "name": "stdout",
     "output_type": "stream",
     "text": [
      "('Desodorante', 10)\n",
      "('Alface', 4)\n",
      "('Uva', 2)\n",
      "('Salgadinho', 3)\n",
      "('Banana', 5)\n"
     ]
    }
   ],
   "source": [
    "produtos = ['Desodorante', 'Alface', 'Uva', 'Salgadinho', 'Banana']\n",
    "quantidades = [10, 4, 2, 3, 5]\n",
    "\n",
    "for dupla in zip(produtos, quantidades):\n",
    "  print(dupla)"
   ]
  },
  {
   "cell_type": "code",
   "execution_count": 3,
   "id": "025fdc7a",
   "metadata": {},
   "outputs": [
    {
     "name": "stdout",
     "output_type": "stream",
     "text": [
      "{'Desodorante': 10, 'Alface': 4, 'Uva': 2, 'Salgadinho': 3, 'Banana': 5}\n"
     ]
    }
   ],
   "source": [
    "produtos = ['Desodorante', 'Alface', 'Uva', 'Salgadinho', 'Banana']\n",
    "quantidades = [10, 4, 2, 3, 5]\n",
    "cadastros = {}\n",
    "\n",
    "for produto, qtd in zip(produtos, quantidades):\n",
    "  cadastros[produto] = qtd\n",
    "print(cadastros)"
   ]
  },
  {
   "cell_type": "markdown",
   "id": "ba8dd852",
   "metadata": {},
   "source": [
    "**Agora podemos utilizar a compreensão de dicionários com o zip!**"
   ]
  },
  {
   "cell_type": "code",
   "execution_count": 4,
   "id": "63a8d541",
   "metadata": {},
   "outputs": [
    {
     "data": {
      "text/plain": [
       "{'Desodorante': 10, 'Alface': 4, 'Uva': 2, 'Salgadinho': 3, 'Banana': 5}"
      ]
     },
     "execution_count": 4,
     "metadata": {},
     "output_type": "execute_result"
    }
   ],
   "source": [
    "cadastros = {produto: qtd for produto, qtd in zip(produtos, quantidades)}\n",
    "cadastros"
   ]
  },
  {
   "cell_type": "markdown",
   "id": "bc552bde",
   "metadata": {},
   "source": [
    "**Uma funcionalidade útil é utilizar o zip com enumerate!**"
   ]
  },
  {
   "cell_type": "code",
   "execution_count": 5,
   "id": "7b83404f",
   "metadata": {},
   "outputs": [
    {
     "name": "stdout",
     "output_type": "stream",
     "text": [
      "indice: 0 dupla ('Desodorante', 10)\n",
      "indice: 1 dupla ('Alface', 4)\n",
      "indice: 2 dupla ('Uva', 2)\n",
      "indice: 3 dupla ('Salgadinho', 3)\n",
      "indice: 4 dupla ('Banana', 5)\n"
     ]
    }
   ],
   "source": [
    "produtos = ['Desodorante', 'Alface', 'Uva', 'Salgadinho', 'Banana']\n",
    "quantidades = [10, 4, 2, 3, 5]\n",
    "cadastros = {}\n",
    "for idx, dupla in enumerate(zip(produtos, quantidades)):\n",
    "  print('indice:', idx, 'dupla', dupla)"
   ]
  },
  {
   "cell_type": "code",
   "execution_count": 6,
   "id": "048d851b",
   "metadata": {},
   "outputs": [
    {
     "name": "stdout",
     "output_type": "stream",
     "text": [
      "indice: 0 produto Desodorante quantidade 10\n",
      "indice: 1 produto Alface quantidade 4\n",
      "indice: 2 produto Uva quantidade 2\n",
      "indice: 3 produto Salgadinho quantidade 3\n",
      "indice: 4 produto Banana quantidade 5\n"
     ]
    }
   ],
   "source": [
    "produtos = ['Desodorante', 'Alface', 'Uva', 'Salgadinho', 'Banana']\n",
    "quantidades = [10, 4, 2, 3, 5]\n",
    "cadastros = {}\n",
    "for idx, (produto, qtd) in enumerate(zip(produtos, quantidades)):\n",
    "  print('indice:', idx, 'produto', produto, 'quantidade', qtd)"
   ]
  },
  {
   "cell_type": "code",
   "execution_count": 7,
   "id": "4b4bde70",
   "metadata": {},
   "outputs": [
    {
     "data": {
      "text/plain": [
       "{0: {'nome': 'Desodorante', 'quantidade': 10},\n",
       " 1: {'nome': 'Alface', 'quantidade': 4},\n",
       " 2: {'nome': 'Uva', 'quantidade': 2},\n",
       " 3: {'nome': 'Salgadinho', 'quantidade': 3},\n",
       " 4: {'nome': 'Banana', 'quantidade': 5}}"
      ]
     },
     "execution_count": 7,
     "metadata": {},
     "output_type": "execute_result"
    }
   ],
   "source": [
    "{\n",
    "    idx: {\n",
    "        'nome': produto,\n",
    "        'quantidade': qtd\n",
    "    }\n",
    "    for idx, (produto, qtd) in enumerate(zip(produtos, quantidades))\n",
    "}"
   ]
  },
  {
   "cell_type": "code",
   "execution_count": null,
   "id": "9cc01be3",
   "metadata": {},
   "outputs": [],
   "source": []
  }
 ],
 "metadata": {
  "kernelspec": {
   "display_name": "Python 3 (ipykernel)",
   "language": "python",
   "name": "python3"
  },
  "language_info": {
   "codemirror_mode": {
    "name": "ipython",
    "version": 3
   },
   "file_extension": ".py",
   "mimetype": "text/x-python",
   "name": "python",
   "nbconvert_exporter": "python",
   "pygments_lexer": "ipython3",
   "version": "3.9.12"
  }
 },
 "nbformat": 4,
 "nbformat_minor": 5
}
