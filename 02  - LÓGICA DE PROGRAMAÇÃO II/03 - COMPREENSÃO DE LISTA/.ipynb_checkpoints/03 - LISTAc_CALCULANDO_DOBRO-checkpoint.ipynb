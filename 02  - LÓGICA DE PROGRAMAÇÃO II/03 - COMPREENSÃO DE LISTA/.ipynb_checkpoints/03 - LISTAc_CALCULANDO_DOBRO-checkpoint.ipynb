{
 "cells": [
  {
   "cell_type": "markdown",
   "id": "3035af57",
   "metadata": {},
   "source": [
    "## 03 -  Para cada número da lista determine o dobro deste"
   ]
  },
  {
   "cell_type": "code",
   "execution_count": 5,
   "id": "d6aee99c",
   "metadata": {},
   "outputs": [
    {
     "name": "stdout",
     "output_type": "stream",
     "text": [
      "O dobro do número \u001b[1;32m1\u001b[0m é \u001b[1;34m2\u001b[0m\n",
      "O dobro do número \u001b[1;32m2\u001b[0m é \u001b[1;34m4\u001b[0m\n",
      "O dobro do número \u001b[1;32m3\u001b[0m é \u001b[1;34m6\u001b[0m\n",
      "O dobro do número \u001b[1;32m5\u001b[0m é \u001b[1;34m10\u001b[0m\n",
      "O dobro do número \u001b[1;32m153\u001b[0m é \u001b[1;34m306\u001b[0m\n",
      "O dobro do número \u001b[1;32m-56\u001b[0m é \u001b[1;34m-112\u001b[0m\n",
      "O dobro do número \u001b[1;32m-1024\u001b[0m é \u001b[1;34m-2048\u001b[0m\n",
      "__________________________________________________ \n",
      "\n",
      "LISTA ORIGINAL --> \u001b[1;36m[1, 2, 3, 5, 153, -56, -1024]\u001b[0m\n",
      "-------------------------------------------------- \n",
      "\n",
      "LISTA NOVA --> \u001b[1;35m[2, 4, 6, 10, 306, -112, -2048]\u001b[0m\n"
     ]
    }
   ],
   "source": [
    "numeros = [1, 2, 3, 5, 153, -56, -1024]\n",
    "\n",
    "dobro_numeros = []\n",
    "\n",
    "# Para cada número da lista determine o dobro deste\n",
    "for numero in numeros:\n",
    "  dobro = numero * 2\n",
    "  print('O dobro do número \\033[1;32m{}\\033[0m é \\033[1;34m{}\\033[0m'.format(numero,dobro))\n",
    "  # Adicionando o dobro do número na lista `dobro_numero`\n",
    "  dobro_numeros.append(dobro)\n",
    "print('_'*50,'\\n')\n",
    "print('LISTA ORIGINAL --> \\033[1;36m{}\\033[0m'.format(numeros))\n",
    "print('-'*50,'\\n')\n",
    "print('LISTA NOVA --> \\033[1;35m{}\\033[0m'.format(dobro_numeros))"
   ]
  },
  {
   "cell_type": "code",
   "execution_count": null,
   "id": "caf01384",
   "metadata": {},
   "outputs": [],
   "source": []
  }
 ],
 "metadata": {
  "kernelspec": {
   "display_name": "Python 3 (ipykernel)",
   "language": "python",
   "name": "python3"
  },
  "language_info": {
   "codemirror_mode": {
    "name": "ipython",
    "version": 3
   },
   "file_extension": ".py",
   "mimetype": "text/x-python",
   "name": "python",
   "nbconvert_exporter": "python",
   "pygments_lexer": "ipython3",
   "version": "3.9.12"
  }
 },
 "nbformat": 4,
 "nbformat_minor": 5
}
