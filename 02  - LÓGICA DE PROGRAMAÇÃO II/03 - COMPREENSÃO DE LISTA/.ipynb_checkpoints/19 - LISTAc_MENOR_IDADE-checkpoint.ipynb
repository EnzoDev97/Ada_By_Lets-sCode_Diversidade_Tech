{
 "cells": [
  {
   "cell_type": "markdown",
   "id": "54cb9e29",
   "metadata": {},
   "source": [
    "19. Utilizando o dicionário criado na questão 4 crie uma função que retorna uma lista contendo o nome das pessoas menores que 18 anos.\n",
    "\n",
    "     EX: \n",
    "        Entrada: {'Ana': 10, 'Júlia':20}\n",
    "        Saida: ['Ana']"
   ]
  },
  {
   "cell_type": "code",
   "execution_count": 2,
   "id": "356b30a0",
   "metadata": {},
   "outputs": [
    {
     "name": "stdout",
     "output_type": "stream",
     "text": [
      "Digite quantos alunos deseja adicionar: 5\n",
      "\n",
      "\n",
      "Digite o nome do aluno: ENZO\n",
      "Digite a idade do aluno: 24\n",
      "--------------------------------------------------\n",
      "Digite o nome do aluno: LARI\n",
      "Digite a idade do aluno: 29\n",
      "--------------------------------------------------\n",
      "Digite o nome do aluno: JOAO\n",
      "Digite a idade do aluno: 17\n",
      "--------------------------------------------------\n",
      "Digite o nome do aluno: CARLOS\n",
      "Digite a idade do aluno: 15\n",
      "--------------------------------------------------\n",
      "Digite o nome do aluno: NESSA\n",
      "Digite a idade do aluno: 25\n",
      "--------------------------------------------------\n",
      "\n",
      "\n",
      "\u001b[1;31m['ENZO', 'LARI', 'NESSA']\u001b[0m\n"
     ]
    }
   ],
   "source": [
    "def preencheDicionario(dict,nome,idade):\n",
    "    dict[nome] = idade\n",
    "    return dict\n",
    "\n",
    "def maior_idade(dict):\n",
    "    list = [key for key, value in dict.items() if value >= 18]\n",
    "    return list \n",
    "\n",
    "dict_Idade = {}\n",
    "\n",
    "count = int(input('Digite quantos alunos deseja adicionar: '))\n",
    "print('\\n')\n",
    "\n",
    "while count > 0:\n",
    "    nome_aluno = input('\\033[1;33mDigite o nome do aluno: \\033[0m')\n",
    "    idade_aluno = float(input('\\033[1;34mDigite a idade do aluno: '))\n",
    "    print('-'*50)\n",
    "\n",
    "    dict_Idade = preencheDicionario(dict_Idade,nome_aluno,idade_aluno)\n",
    "\n",
    "    count -= 1\n",
    "\n",
    "    \n",
    "print('\\n')\n",
    "maiorIdade = maior_idade(dict_Idade)\n",
    "\n",
    "print('\\033[1;31m{}\\033[0m'.format(maiorIdade))"
   ]
  },
  {
   "cell_type": "code",
   "execution_count": 5,
   "id": "0bd23cb7",
   "metadata": {},
   "outputs": [
    {
     "name": "stdout",
     "output_type": "stream",
     "text": [
      "['JOAO', 'CARLOS']\n"
     ]
    }
   ],
   "source": [
    "def menor_idade(dict):\n",
    "    list = [key for key, value in dict.items() if value < 18]\n",
    "    return list\n",
    "\n",
    "menorIdade = menor_idade(dict_Idade)\n",
    "\n",
    "print(menorIdade)"
   ]
  },
  {
   "cell_type": "code",
   "execution_count": null,
   "id": "94fb2399",
   "metadata": {},
   "outputs": [],
   "source": []
  }
 ],
 "metadata": {
  "kernelspec": {
   "display_name": "Python 3 (ipykernel)",
   "language": "python",
   "name": "python3"
  },
  "language_info": {
   "codemirror_mode": {
    "name": "ipython",
    "version": 3
   },
   "file_extension": ".py",
   "mimetype": "text/x-python",
   "name": "python",
   "nbconvert_exporter": "python",
   "pygments_lexer": "ipython3",
   "version": "3.9.12"
  }
 },
 "nbformat": 4,
 "nbformat_minor": 5
}
