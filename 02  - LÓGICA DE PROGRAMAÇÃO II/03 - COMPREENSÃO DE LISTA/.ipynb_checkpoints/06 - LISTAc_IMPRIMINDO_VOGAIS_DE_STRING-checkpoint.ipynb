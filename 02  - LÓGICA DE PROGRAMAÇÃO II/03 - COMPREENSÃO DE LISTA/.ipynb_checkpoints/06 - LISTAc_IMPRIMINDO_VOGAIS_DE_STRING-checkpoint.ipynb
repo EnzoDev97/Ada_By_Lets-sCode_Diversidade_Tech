{
 "cells": [
  {
   "cell_type": "markdown",
   "id": "abb1ee4c",
   "metadata": {},
   "source": [
    "# 06 - IMPRIMA AS VOGAIS DE UMA STRING E PONHA EM UMA LISTA"
   ]
  },
  {
   "cell_type": "code",
   "execution_count": 1,
   "id": "f79ae97b",
   "metadata": {},
   "outputs": [
    {
     "name": "stdout",
     "output_type": "stream",
     "text": [
      "['a', 'a', 'a', 'e']\n"
     ]
    }
   ],
   "source": [
    "string = 'abacate'\n",
    "lista_vogais = []\n",
    "for char in string:\n",
    "  if char in ['a', 'e', 'i', 'o', 'u']:\n",
    "    lista_vogais.append(char)\n",
    "\n",
    "print(lista_vogais)"
   ]
  },
  {
   "cell_type": "code",
   "execution_count": 2,
   "id": "1fe1946a",
   "metadata": {},
   "outputs": [
    {
     "data": {
      "text/plain": [
       "['a', 'a', 'a', 'e']"
      ]
     },
     "execution_count": 2,
     "metadata": {},
     "output_type": "execute_result"
    }
   ],
   "source": [
    "# OU\n",
    "\n",
    "[char for char in string if char in ['a', 'e', 'i', 'o', 'u']]"
   ]
  },
  {
   "cell_type": "markdown",
   "id": "5de33e8a",
   "metadata": {},
   "source": [
    "Caso você queira utilizar também o else como parte da estrutura condicional, a sintaxe muda um pouco:\n",
    "\n",
    "```python\n",
    "[valor_caso_if if condicao else valor_caso_else for item in lista_base]\n",
    "```"
   ]
  },
  {
   "cell_type": "code",
   "execution_count": null,
   "id": "97e23016",
   "metadata": {},
   "outputs": [],
   "source": []
  }
 ],
 "metadata": {
  "kernelspec": {
   "display_name": "Python 3 (ipykernel)",
   "language": "python",
   "name": "python3"
  },
  "language_info": {
   "codemirror_mode": {
    "name": "ipython",
    "version": 3
   },
   "file_extension": ".py",
   "mimetype": "text/x-python",
   "name": "python",
   "nbconvert_exporter": "python",
   "pygments_lexer": "ipython3",
   "version": "3.9.12"
  }
 },
 "nbformat": 4,
 "nbformat_minor": 5
}
