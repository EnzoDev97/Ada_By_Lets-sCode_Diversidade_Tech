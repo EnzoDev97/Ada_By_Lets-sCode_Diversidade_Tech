{
 "cells": [
  {
   "cell_type": "markdown",
   "metadata": {
    "id": "QQ3dr1t_PxnO"
   },
   "source": [
    "## Lógica de programação II - Compreensão de listas e Funções\n",
    "\n",
    "Na aula de hoje, iremos explorar os seguintes tópicos em Python:\n",
    "- Compreensão de listas\n",
    "- Compreesões de dicionários\n",
    "- Funções com parâmetros variáveis\n",
    "- Funções com parâmetros opcionais"
   ]
  },
  {
   "cell_type": "markdown",
   "metadata": {
    "id": "Hijw7hatRDOo"
   },
   "source": [
    "__________\n",
    "### Compreesão de listas\n",
    "\n",
    "\n",
    "Uma estrutura extremamente útil em python é a __compreensão de listas__ (list comprehension), com a qual é possível construir listas novas a partir de outras listas de forma bem condensada!\n",
    "\n",
    "A sintaxe é: \n",
    "\n",
    "```python\n",
    "[operacao_sobre_os_items for item in lista_base]\n",
    "```"
   ]
  },
  {
   "cell_type": "markdown",
   "metadata": {
    "id": "rpjCgSCYROtz"
   },
   "source": [
    "Por exemplo, imagine que queremos o dobro de cada número dentro de uma lista.\n",
    "\n",
    "Uma forma de realizar essa tarefa é utilizando o laço `for`."
   ]
  },
  {
   "cell_type": "code",
   "execution_count": 1,
   "metadata": {
    "executionInfo": {
     "elapsed": 5,
     "status": "ok",
     "timestamp": 1665438944652,
     "user": {
      "displayName": "Gilberto Kaihami",
      "userId": "07651446941847976228"
     },
     "user_tz": 180
    },
    "id": "sL5H_aPwPoaW"
   },
   "outputs": [],
   "source": [
    "numeros = [1, 2, 3, 5, 153, -56, -1024]"
   ]
  },
  {
   "cell_type": "code",
   "execution_count": 2,
   "metadata": {
    "colab": {
     "base_uri": "https://localhost:8080/"
    },
    "executionInfo": {
     "elapsed": 5,
     "status": "ok",
     "timestamp": 1665438944653,
     "user": {
      "displayName": "Gilberto Kaihami",
      "userId": "07651446941847976228"
     },
     "user_tz": 180
    },
    "id": "1GSDVHMhRifO",
    "outputId": "cbdd0e12-3ff2-4e49-bf6d-694792956403"
   },
   "outputs": [
    {
     "name": "stdout",
     "output_type": "stream",
     "text": [
      "O dobro do número 1 é 2\n",
      "O dobro do número 2 é 4\n",
      "O dobro do número 3 é 6\n",
      "O dobro do número 5 é 10\n",
      "O dobro do número 153 é 306\n",
      "O dobro do número -56 é -112\n",
      "O dobro do número -1024 é -2048\n",
      "--------------------------------\n",
      "[2, 4, 6, 10, 306, -112, -2048]\n"
     ]
    }
   ],
   "source": [
    "dobro_numeros = []\n",
    "# Para cada número da lista determine o dobro deste\n",
    "for numero in numeros:\n",
    "  dobro = numero * 2\n",
    "  print(f'O dobro do número {numero} é {dobro}')\n",
    "  # Adicionando o dobro do número na lista `dobro_numero`\n",
    "  dobro_numeros.append(dobro)\n",
    "print('-'*32)\n",
    "print(dobro_numeros)"
   ]
  },
  {
   "cell_type": "markdown",
   "metadata": {
    "id": "YesY1cthR9uT"
   },
   "source": [
    "Utilizando a compreensão de listas temos:\n",
    "\n",
    "Para cada número dentro de numeros: `for numero in numeros`\n",
    "\n",
    "Calcule o dobro: `numero * 2`\n",
    "\n",
    "Logo:\n",
    "\n",
    "```\n",
    "[ numero * 2 for   numero    in   numeros   ]\n",
    ". <resultado>     <elemento>     <elementos>\n",
    "```\n",
    "\n",
    "\n"
   ]
  },
  {
   "cell_type": "code",
   "execution_count": 3,
   "metadata": {
    "executionInfo": {
     "elapsed": 3,
     "status": "ok",
     "timestamp": 1665438944653,
     "user": {
      "displayName": "Gilberto Kaihami",
      "userId": "07651446941847976228"
     },
     "user_tz": 180
    },
    "id": "kaekQQ4bRiO_"
   },
   "outputs": [],
   "source": [
    "dobro_numeros_compreensao_de_listas = [\n",
    "    numero * 2 for numero in numeros\n",
    "]"
   ]
  },
  {
   "cell_type": "code",
   "execution_count": 4,
   "metadata": {
    "colab": {
     "base_uri": "https://localhost:8080/"
    },
    "executionInfo": {
     "elapsed": 3,
     "status": "ok",
     "timestamp": 1665438944881,
     "user": {
      "displayName": "Gilberto Kaihami",
      "userId": "07651446941847976228"
     },
     "user_tz": 180
    },
    "id": "d1b68VbCTJJW",
    "outputId": "6072cbad-6e90-4afb-9bc4-1ac94a3f5946"
   },
   "outputs": [
    {
     "name": "stdout",
     "output_type": "stream",
     "text": [
      "For loop [2, 4, 6, 10, 306, -112, -2048]\n",
      "Compreensao de listas [2, 4, 6, 10, 306, -112, -2048]\n"
     ]
    }
   ],
   "source": [
    "print('For loop', dobro_numeros)\n",
    "print('Compreensao de listas', dobro_numeros_compreensao_de_listas)"
   ]
  },
  {
   "cell_type": "markdown",
   "metadata": {
    "id": "Roz-v35mT8cD"
   },
   "source": [
    "Também é possível construir uma lista usando compreensão de listas com base em alguma estrutura condicional!\n",
    "\n",
    "Se você for utilizar apenas o if, a sintaxe é:\n",
    "\n",
    "```python\n",
    "[operacao_sobre_os_items for item in lista_base if condicao]\n",
    "```"
   ]
  },
  {
   "cell_type": "code",
   "execution_count": 5,
   "metadata": {
    "colab": {
     "base_uri": "https://localhost:8080/"
    },
    "executionInfo": {
     "elapsed": 3,
     "status": "ok",
     "timestamp": 1665438944881,
     "user": {
      "displayName": "Gilberto Kaihami",
      "userId": "07651446941847976228"
     },
     "user_tz": 180
    },
    "id": "UviQbrLjTLb5",
    "outputId": "11b98a18-c007-4be5-cc9e-98e8d8bc7a12"
   },
   "outputs": [
    {
     "name": "stdout",
     "output_type": "stream",
     "text": [
      "[2, 4, 10, 42]\n"
     ]
    }
   ],
   "source": [
    "# Pegar apenas os números pares e criar uma nova lista\n",
    "lista = [1, 2, 3, 4, 5, 10, 21, 23, 25, 51, 42]\n",
    "\n",
    "# Forma com for\n",
    "lista_pares = []\n",
    "for num in lista:\n",
    "  if num % 2 == 0:\n",
    "    lista_pares.append(num)\n",
    "print(lista_pares)"
   ]
  },
  {
   "cell_type": "code",
   "execution_count": 6,
   "metadata": {
    "executionInfo": {
     "elapsed": 1,
     "status": "ok",
     "timestamp": 1665438944881,
     "user": {
      "displayName": "Gilberto Kaihami",
      "userId": "07651446941847976228"
     },
     "user_tz": 180
    },
    "id": "GvgpApXGUi8E"
   },
   "outputs": [],
   "source": [
    "lista_pares_comp = [\n",
    "    num for num in lista if num % 2 ==0\n",
    "]"
   ]
  },
  {
   "cell_type": "code",
   "execution_count": 7,
   "metadata": {
    "colab": {
     "base_uri": "https://localhost:8080/"
    },
    "executionInfo": {
     "elapsed": 225,
     "status": "ok",
     "timestamp": 1665439815409,
     "user": {
      "displayName": "Gilberto Kaihami",
      "userId": "07651446941847976228"
     },
     "user_tz": 180
    },
    "id": "T3mV-gHqUnbj",
    "outputId": "90186a68-523f-4860-92b7-e387fd52e10a"
   },
   "outputs": [
    {
     "name": "stdout",
     "output_type": "stream",
     "text": [
      "[2, 4, 10, 42]\n",
      "[2, 4, 10, 42]\n"
     ]
    }
   ],
   "source": [
    "print(lista_pares)\n",
    "print(lista_pares_comp)"
   ]
  },
  {
   "cell_type": "code",
   "execution_count": 8,
   "metadata": {
    "colab": {
     "base_uri": "https://localhost:8080/"
    },
    "executionInfo": {
     "elapsed": 274,
     "status": "ok",
     "timestamp": 1665439816724,
     "user": {
      "displayName": "Gilberto Kaihami",
      "userId": "07651446941847976228"
     },
     "user_tz": 180
    },
    "id": "mQZiO4RoBA-e",
    "outputId": "e0a4d21b-dcec-428c-b637-6f328ec3f650"
   },
   "outputs": [
    {
     "name": "stdout",
     "output_type": "stream",
     "text": [
      "['a', 'a', 'a', 'e']\n"
     ]
    }
   ],
   "source": [
    "string = 'abacate'\n",
    "lista_vogais = []\n",
    "for char in string:\n",
    "  if char in ['a', 'e', 'i', 'o', 'u']:\n",
    "    lista_vogais.append(char)\n",
    "\n",
    "print(lista_vogais)"
   ]
  },
  {
   "cell_type": "code",
   "execution_count": 9,
   "metadata": {
    "colab": {
     "base_uri": "https://localhost:8080/"
    },
    "executionInfo": {
     "elapsed": 1,
     "status": "ok",
     "timestamp": 1665439816969,
     "user": {
      "displayName": "Gilberto Kaihami",
      "userId": "07651446941847976228"
     },
     "user_tz": 180
    },
    "id": "u-5wA1XTBNaA",
    "outputId": "2296369d-6437-4213-ac88-c6a01271f108"
   },
   "outputs": [
    {
     "data": {
      "text/plain": [
       "['a', 'a', 'a', 'e']"
      ]
     },
     "execution_count": 9,
     "metadata": {},
     "output_type": "execute_result"
    }
   ],
   "source": [
    "[char for char in string if char in ['a', 'e', 'i', 'o', 'u']]"
   ]
  },
  {
   "cell_type": "markdown",
   "metadata": {
    "id": "wUD3Qo_lUzT2"
   },
   "source": [
    "Caso você queira utilizar também o else como parte da estrutura condicional, a sintaxe muda um pouco:\n",
    "\n",
    "```python\n",
    "[valor_caso_if if condicao else valor_caso_else for item in lista_base]\n",
    "```"
   ]
  },
  {
   "cell_type": "code",
   "execution_count": 10,
   "metadata": {
    "colab": {
     "base_uri": "https://localhost:8080/"
    },
    "executionInfo": {
     "elapsed": 2,
     "status": "ok",
     "timestamp": 1665439818214,
     "user": {
      "displayName": "Gilberto Kaihami",
      "userId": "07651446941847976228"
     },
     "user_tz": 180
    },
    "id": "B1IpIbN9U7ey",
    "outputId": "874b8afb-2c41-4e9a-f138-198274eca126"
   },
   "outputs": [
    {
     "name": "stdout",
     "output_type": "stream",
     "text": [
      "['1 é impar', '2 é par', '3 é impar', '4 é par', '5 é impar', '6 é par']\n"
     ]
    }
   ],
   "source": [
    "# Criando uma lista dizendo se o número é par ou impar\n",
    "# ['1 é impar', '4 é par', ...]\n",
    "\n",
    "par_ou_impar = []\n",
    "for num in range(1, 7):\n",
    "  if num % 2 == 0:\n",
    "    resultado = f'{num} é par'\n",
    "  else:\n",
    "    resultado = f'{num} é impar'\n",
    "  par_ou_impar.append(resultado)\n",
    "print(par_ou_impar)"
   ]
  },
  {
   "cell_type": "code",
   "execution_count": 11,
   "metadata": {
    "colab": {
     "base_uri": "https://localhost:8080/"
    },
    "executionInfo": {
     "elapsed": 2,
     "status": "ok",
     "timestamp": 1665439818432,
     "user": {
      "displayName": "Gilberto Kaihami",
      "userId": "07651446941847976228"
     },
     "user_tz": 180
    },
    "id": "WfdkCJFbU3so",
    "outputId": "2ff212f9-7f0a-43e7-bdc8-c2c775b37ee1"
   },
   "outputs": [
    {
     "data": {
      "text/plain": [
       "['1 é impar', '2 é par', '3 é impar', '4 é par', '5 é impar', '6 é par']"
      ]
     },
     "execution_count": 11,
     "metadata": {},
     "output_type": "execute_result"
    }
   ],
   "source": [
    "[\n",
    "    f'{num} é par'\n",
    "      if num % 2 == 0\n",
    "      else f'{num} é impar'\n",
    "    for num in range(1, 7) \n",
    "]\n"
   ]
  },
  {
   "cell_type": "markdown",
   "metadata": {
    "id": "lJ7whJo2VqDX"
   },
   "source": [
    "Compreensão de listas usando `for` encadeados"
   ]
  },
  {
   "cell_type": "code",
   "execution_count": 12,
   "metadata": {
    "colab": {
     "base_uri": "https://localhost:8080/"
    },
    "executionInfo": {
     "elapsed": 1,
     "status": "ok",
     "timestamp": 1665439820620,
     "user": {
      "displayName": "Gilberto Kaihami",
      "userId": "07651446941847976228"
     },
     "user_tz": 180
    },
    "id": "Z6fi937yUoUP",
    "outputId": "2b74b09b-c73c-4a3e-d6c4-315a2e040d37"
   },
   "outputs": [
    {
     "name": "stdout",
     "output_type": "stream",
     "text": [
      "1 x 5 = 5\n",
      "1 x 6 = 6\n",
      "1 x 7 = 7\n",
      "2 x 5 = 10\n",
      "2 x 6 = 12\n",
      "2 x 7 = 14\n",
      "3 x 5 = 15\n",
      "3 x 6 = 18\n",
      "3 x 7 = 21\n",
      "4 x 5 = 20\n",
      "4 x 6 = 24\n",
      "4 x 7 = 28\n",
      "5 x 5 = 25\n",
      "5 x 6 = 30\n",
      "5 x 7 = 35\n",
      "6 x 5 = 30\n",
      "6 x 6 = 36\n",
      "6 x 7 = 42\n"
     ]
    }
   ],
   "source": [
    "l1 = [1,2,3,4,5,6]\n",
    "l2 = [5, 6, 7]\n",
    "\n",
    "for num1 in l1:\n",
    "  for num2 in l2:\n",
    "    print(num1, 'x', num2, '=', num1 * num2)"
   ]
  },
  {
   "cell_type": "markdown",
   "metadata": {
    "id": "3lata2qZVvKZ"
   },
   "source": [
    "**como fazer a operação acima com compreensão de listas**"
   ]
  },
  {
   "cell_type": "code",
   "execution_count": 22,
   "metadata": {
    "colab": {
     "base_uri": "https://localhost:8080/"
    },
    "executionInfo": {
     "elapsed": 212,
     "status": "ok",
     "timestamp": 1665440012328,
     "user": {
      "displayName": "Gilberto Kaihami",
      "userId": "07651446941847976228"
     },
     "user_tz": 180
    },
    "id": "G235hPGUVtnf",
    "outputId": "ddff3da9-befd-4d69-e606-18d409987a8f"
   },
   "outputs": [
    {
     "data": {
      "text/plain": [
       "[5, 6, 7, 10, 12, 14, 15, 18, 21, 20, 24, 28, 25, 30, 35, 30, 36, 42]"
      ]
     },
     "execution_count": 22,
     "metadata": {},
     "output_type": "execute_result"
    }
   ],
   "source": [
    "l1 = [1,2,3,4,5,6]\n",
    "l2 = [5, 6, 7]\n",
    "\n",
    "[\n",
    "    (num1 * num2)\n",
    "      for num1 in l1\n",
    "      for num2 in l2\n",
    "]"
   ]
  },
  {
   "cell_type": "code",
   "execution_count": 21,
   "metadata": {
    "colab": {
     "base_uri": "https://localhost:8080/"
    },
    "executionInfo": {
     "elapsed": 1,
     "status": "ok",
     "timestamp": 1665440003653,
     "user": {
      "displayName": "Gilberto Kaihami",
      "userId": "07651446941847976228"
     },
     "user_tz": 180
    },
    "id": "fEqR3gm28p8y",
    "outputId": "fa830c02-f54e-4fe4-b7cf-483096451526"
   },
   "outputs": [
    {
     "name": "stdout",
     "output_type": "stream",
     "text": [
      "5\n",
      "6\n",
      "7\n",
      "10\n",
      "12\n",
      "14\n",
      "15\n",
      "18\n",
      "21\n",
      "20\n",
      "24\n",
      "28\n",
      "25\n",
      "30\n",
      "35\n",
      "30\n",
      "36\n",
      "42\n"
     ]
    }
   ],
   "source": [
    "for num1 in l1:\n",
    "  for num2 in l2:\n",
    "    print(num1 * num2)"
   ]
  },
  {
   "cell_type": "markdown",
   "metadata": {
    "id": "EFu3PCYQWF-I"
   },
   "source": [
    "**Drops**\n",
    "\n",
    "Remova todas as vogais de uma dada string utilizando compreesões de lista.\n",
    "\n",
    "Por exemplo em:  \n",
    "`\"banana\"`\n",
    "O retorno deve ser:  \n",
    "`\"bnn\"`\n",
    "\n",
    "Lembre da operação `\"\".join()`"
   ]
  },
  {
   "cell_type": "code",
   "execution_count": 38,
   "metadata": {
    "colab": {
     "base_uri": "https://localhost:8080/"
    },
    "executionInfo": {
     "elapsed": 209,
     "status": "ok",
     "timestamp": 1665440743151,
     "user": {
      "displayName": "Gilberto Kaihami",
      "userId": "07651446941847976228"
     },
     "user_tz": 180
    },
    "id": "2ptPMlnZXng0",
    "outputId": "907e12bd-bb17-4cac-c33a-eb58dab9f9f9"
   },
   "outputs": [
    {
     "name": "stdout",
     "output_type": "stream",
     "text": [
      "palavra original:  banana\n",
      "palavra sem vogal: bnn\n",
      "------------------------------------\n",
      "palavra original:  abacaxi\n",
      "palavra sem vogal: bcx\n",
      "------------------------------------\n",
      "palavra original:  mamao\n",
      "palavra sem vogal: mm\n",
      "------------------------------------\n",
      "palavra original:  uva\n",
      "palavra sem vogal: v\n",
      "------------------------------------\n",
      "palavra original:  acerola\n",
      "palavra sem vogal: crl\n",
      "------------------------------------\n"
     ]
    }
   ],
   "source": [
    "string = \"banana\"\n",
    "string2 = \"abacaxi\"\n",
    "string3 = \"mamao\"\n",
    "string4 = \"uva\"\n",
    "string5 = 'acerola'\n",
    "\n",
    "# A solução vai aqui\n",
    "lista_strings = [\n",
    "    string, string2, string3, string4, string5\n",
    "]\n",
    "\n",
    "for palavra in lista_strings:\n",
    "  palavra_sem_vogal = ''.join([char for char in palavra if char not in 'aeiou']) # podemos passar a lista também\n",
    "  print('palavra original: ', palavra)\n",
    "  print('palavra sem vogal:', palavra_sem_vogal)\n",
    "  print('-'*36)"
   ]
  },
  {
   "cell_type": "markdown",
   "metadata": {
    "id": "M4NAwaGzZwLo"
   },
   "source": [
    "Utilizando compreesão de lista encadeadas."
   ]
  },
  {
   "cell_type": "code",
   "execution_count": 57,
   "metadata": {
    "colab": {
     "base_uri": "https://localhost:8080/"
    },
    "executionInfo": {
     "elapsed": 3,
     "status": "ok",
     "timestamp": 1665441303295,
     "user": {
      "displayName": "Gilberto Kaihami",
      "userId": "07651446941847976228"
     },
     "user_tz": 180
    },
    "id": "86A-OTU1Aln5",
    "outputId": "a54ebf2b-19eb-4de9-dce2-c96c0f8a1a4d"
   },
   "outputs": [
    {
     "data": {
      "text/plain": [
       "False"
      ]
     },
     "execution_count": 57,
     "metadata": {},
     "output_type": "execute_result"
    }
   ],
   "source": [
    "# retorna True se PELO MENOS UM elemento é verdadeiro\n",
    "print(any([True, False, True, False]))\n",
    "# Operações realizadas pelo any (((True or False) or True) or False)\n",
    "\n",
    "# O `all` retorna verdadeiro se e somente se TODOS os elementos forem verdadeiros\n",
    "all([True, False, True, False])\n",
    "all([False, False, False])"
   ]
  },
  {
   "cell_type": "code",
   "execution_count": 59,
   "metadata": {
    "colab": {
     "base_uri": "https://localhost:8080/"
    },
    "executionInfo": {
     "elapsed": 211,
     "status": "ok",
     "timestamp": 1665441430606,
     "user": {
      "displayName": "Gilberto Kaihami",
      "userId": "07651446941847976228"
     },
     "user_tz": 180
    },
    "id": "adxXu3UKZ084",
    "outputId": "21ac163d-b191-446c-803c-6d25b6664a2b"
   },
   "outputs": [
    {
     "data": {
      "text/plain": [
       "[0, 2, 3, 4, 5, 6, 7, 8, 9, 10, 12, 14, 15, 16, 18]"
      ]
     },
     "execution_count": 59,
     "metadata": {},
     "output_type": "execute_result"
    }
   ],
   "source": [
    "# Ache todos os números que são divisiveis por pelo menos um número entre 2 a 9\n",
    "[num\n",
    " for num in range(20)\n",
    " if any([\n",
    "     True \n",
    "     if num % divisor == 0\n",
    "     else False\n",
    "      for divisor in range(2, 10)\n",
    " ])\n",
    "]"
   ]
  },
  {
   "cell_type": "markdown",
   "metadata": {
    "id": "T2vnQBd3gDvp"
   },
   "source": [
    "### Compreesões de dicionário\n",
    "\n",
    "Da mesma forma que utilizamos compreensão para listas, podemos utilizá-la para dicionários. A diferença é que precisamos, obrigatoriamente, passar um par chave-valor. O exemplo abaixo parte de uma lista de notas e uma lista de alunos e chega em um dicionário associando cada aluno a uma nota."
   ]
  },
  {
   "cell_type": "code",
   "execution_count": 64,
   "metadata": {
    "colab": {
     "base_uri": "https://localhost:8080/"
    },
    "executionInfo": {
     "elapsed": 2,
     "status": "ok",
     "timestamp": 1665441678066,
     "user": {
      "displayName": "Gilberto Kaihami",
      "userId": "07651446941847976228"
     },
     "user_tz": 180
    },
    "id": "oYWLW33JZoau",
    "outputId": "a1738069-7411-4b04-f970-57f689e3e922"
   },
   "outputs": [
    {
     "name": "stdout",
     "output_type": "stream",
     "text": [
      "{'Desodorante': 10, 'Alface': 4, 'Uva': 2, 'Salgadinho': 3, 'Banana': 5}\n"
     ]
    }
   ],
   "source": [
    "produtos = ['Desodorante', 'Alface', 'Uva', 'Salgadinho', 'Banana']\n",
    "quantidades = [10, 4, 2, 3, 5]\n",
    "\n",
    "cadastros = {produtos[i]: quantidades[i] for i in range(len(produtos))}\n",
    "print(cadastros)"
   ]
  },
  {
   "cell_type": "code",
   "execution_count": 67,
   "metadata": {
    "colab": {
     "base_uri": "https://localhost:8080/"
    },
    "executionInfo": {
     "elapsed": 231,
     "status": "ok",
     "timestamp": 1665441747497,
     "user": {
      "displayName": "Gilberto Kaihami",
      "userId": "07651446941847976228"
     },
     "user_tz": 180
    },
    "id": "YnVkZHkQD7jC",
    "outputId": "194ca3f3-8ad3-4e52-e29c-5412cc68df20"
   },
   "outputs": [
    {
     "name": "stdout",
     "output_type": "stream",
     "text": [
      "{'Desodorante': 10, 'Alface': 4, 'Uva': 2, 'Salgadinho': 3, 'Banana': 5}\n"
     ]
    }
   ],
   "source": [
    "produtos = ['Desodorante', 'Alface', 'Uva', 'Salgadinho', 'Banana']\n",
    "quantidades = [10, 4, 2, 3, 5, 10]\n",
    "\n",
    "cadastros = {produtos[i]: quantidades[i] for i in range(len(produtos))}\n",
    "print(cadastros)"
   ]
  },
  {
   "cell_type": "markdown",
   "metadata": {
    "id": "vmcOlLv7gnfT"
   },
   "source": [
    "Outro exemplo:"
   ]
  },
  {
   "cell_type": "code",
   "execution_count": 68,
   "metadata": {
    "colab": {
     "base_uri": "https://localhost:8080/"
    },
    "executionInfo": {
     "elapsed": 231,
     "status": "ok",
     "timestamp": 1665441773420,
     "user": {
      "displayName": "Gilberto Kaihami",
      "userId": "07651446941847976228"
     },
     "user_tz": 180
    },
    "id": "8ddPZSetggb3",
    "outputId": "4d63889d-d08a-42e7-bd2f-92312f3e1a14"
   },
   "outputs": [
    {
     "data": {
      "text/plain": [
       "[0, 1, 4, 9, 16, 25, 36, 49, 64, 81]"
      ]
     },
     "execution_count": 68,
     "metadata": {},
     "output_type": "execute_result"
    }
   ],
   "source": [
    "# Calculando o quadrado de um número\n",
    "# Utilizando compreensão de listas\n",
    "[x**2 for x in range(10)]"
   ]
  },
  {
   "cell_type": "code",
   "execution_count": 69,
   "metadata": {
    "colab": {
     "base_uri": "https://localhost:8080/"
    },
    "executionInfo": {
     "elapsed": 2,
     "status": "ok",
     "timestamp": 1665441796506,
     "user": {
      "displayName": "Gilberto Kaihami",
      "userId": "07651446941847976228"
     },
     "user_tz": 180
    },
    "id": "WWDTsXNfgzaJ",
    "outputId": "09876b71-b718-4249-a2ab-8f3e60e367c6"
   },
   "outputs": [
    {
     "data": {
      "text/plain": [
       "{0: 0, 1: 1, 2: 4, 3: 9, 4: 16, 5: 25, 6: 36, 7: 49, 8: 64, 9: 81}"
      ]
     },
     "execution_count": 69,
     "metadata": {},
     "output_type": "execute_result"
    }
   ],
   "source": [
    "# No exemplo acima, perdemos a informação de origem\n",
    "# Uma forma de guardar essa informação é por meio de dicionários\n",
    "{x: x**2 for x in range(10)}"
   ]
  },
  {
   "cell_type": "markdown",
   "metadata": {
    "id": "udc0nDNehLsK"
   },
   "source": [
    "Voltando para o exemplo de produtos"
   ]
  },
  {
   "cell_type": "code",
   "execution_count": 70,
   "metadata": {
    "colab": {
     "base_uri": "https://localhost:8080/"
    },
    "executionInfo": {
     "elapsed": 2,
     "status": "ok",
     "timestamp": 1665441853078,
     "user": {
      "displayName": "Gilberto Kaihami",
      "userId": "07651446941847976228"
     },
     "user_tz": 180
    },
    "id": "LjArssjFg6IA",
    "outputId": "edf1c804-410f-4ac0-94b2-f9add480f9de"
   },
   "outputs": [
    {
     "name": "stdout",
     "output_type": "stream",
     "text": [
      "{'Desodorante': 10, 'Alface': 4, 'Uva': 2, 'Salgadinho': 3, 'Banana': 5}\n"
     ]
    }
   ],
   "source": [
    "produtos = ['Desodorante', 'Alface', 'Uva', 'Salgadinho', 'Banana']\n",
    "quantidades = [10, 4, 2, 3, 5]\n",
    "\n",
    "cadastros = {produtos[i]: quantidades[i] for i in range(len(produtos))}\n",
    "print(cadastros)"
   ]
  },
  {
   "cell_type": "markdown",
   "metadata": {
    "id": "dccEm9EOhQZU"
   },
   "source": [
    "No exemplo acima, apesar de ser um código válido há outras formas de realizar a mesma operação, facilitando dessa forma a leitura do código.\n",
    "\n",
    "Nesse caso iremos utilizar a função `zip`.\n",
    "\n",
    "Ela aceita dois objetos que podem ser iterados, e comprime os seus elementos:\n",
    "\n",
    "Por exemplo:  \n",
    "```\n",
    "nomes = ['Ana', 'Vitor', 'Daniel']\n",
    "notas = [10, 5, 7]\n",
    "cadastros = {}\n",
    "for idx, nome in enumerate(nomes):\n",
    "  cadastros[nome] = notas[idx]\n",
    "```\n",
    "Pode ser entendido que o primeiro elemento da lista `nomes` deve fazer par com o primeiro elemento da lista notas, e assim por diante.\n",
    "\n",
    "Logo, seria equivalente a:\n",
    "\n",
    "```\n",
    "(nomes[0], notas[0]), (nomes[1], notas[1]), ..., (nomes[n], notas[n])\n",
    "```\n",
    "\n",
    "Utilizando o `zip` temos esse comportamento!\n",
    "\n"
   ]
  },
  {
   "cell_type": "code",
   "execution_count": 73,
   "metadata": {
    "colab": {
     "base_uri": "https://localhost:8080/"
    },
    "executionInfo": {
     "elapsed": 2,
     "status": "ok",
     "timestamp": 1665441940507,
     "user": {
      "displayName": "Gilberto Kaihami",
      "userId": "07651446941847976228"
     },
     "user_tz": 180
    },
    "id": "ud96mMiVhPel",
    "outputId": "f69aef93-8ec4-4727-ca1f-3932d79ce087"
   },
   "outputs": [
    {
     "name": "stdout",
     "output_type": "stream",
     "text": [
      "('Desodorante', 10)\n",
      "('Alface', 4)\n",
      "('Uva', 2)\n",
      "('Salgadinho', 3)\n",
      "('Banana', 5)\n"
     ]
    }
   ],
   "source": [
    "produtos = ['Desodorante', 'Alface', 'Uva', 'Salgadinho', 'Banana']\n",
    "quantidades = [10, 4, 2, 3, 5]\n",
    "\n",
    "for dupla in zip(produtos, quantidades):\n",
    "  print(dupla)"
   ]
  },
  {
   "cell_type": "code",
   "execution_count": 74,
   "metadata": {
    "colab": {
     "base_uri": "https://localhost:8080/"
    },
    "executionInfo": {
     "elapsed": 1,
     "status": "ok",
     "timestamp": 1665442037830,
     "user": {
      "displayName": "Gilberto Kaihami",
      "userId": "07651446941847976228"
     },
     "user_tz": 180
    },
    "id": "vVNEULuBiaSn",
    "outputId": "656ef5ea-9dd0-4287-8df6-93974408b90a"
   },
   "outputs": [
    {
     "name": "stdout",
     "output_type": "stream",
     "text": [
      "('Desodorante', 10)\n",
      "('Alface', 4)\n",
      "('Uva', 2)\n",
      "('Salgadinho', 3)\n",
      "('Banana', 5)\n"
     ]
    }
   ],
   "source": [
    "produtos = ['Desodorante', 'Alface', 'Uva', 'Salgadinho', 'Banana', 'Chinelo']  # 6 elementos\n",
    "quantidades = [10, 4, 2, 3, 5]  # 5 elementos\n",
    "\n",
    "# O `zip` é limitado pela lista de menor tamanho\n",
    "for dupla in zip(produtos, quantidades):\n",
    "  print(dupla)"
   ]
  },
  {
   "cell_type": "code",
   "execution_count": 76,
   "metadata": {
    "colab": {
     "base_uri": "https://localhost:8080/"
    },
    "executionInfo": {
     "elapsed": 2,
     "status": "ok",
     "timestamp": 1665442082709,
     "user": {
      "displayName": "Gilberto Kaihami",
      "userId": "07651446941847976228"
     },
     "user_tz": 180
    },
    "id": "rkdPGD0widch",
    "outputId": "1b723f8d-7a63-444f-97b1-34e7516c44d1"
   },
   "outputs": [
    {
     "name": "stdout",
     "output_type": "stream",
     "text": [
      "{'Desodorante': 10, 'Alface': 4, 'Uva': 2, 'Salgadinho': 3, 'Banana': 5}\n"
     ]
    }
   ],
   "source": [
    "produtos = ['Desodorante', 'Alface', 'Uva', 'Salgadinho', 'Banana']\n",
    "quantidades = [10, 4, 2, 3, 5]\n",
    "cadastros = {}\n",
    "\n",
    "for produto, qtd in zip(produtos, quantidades):\n",
    "  cadastros[produto] = qtd\n",
    "print(cadastros)"
   ]
  },
  {
   "cell_type": "markdown",
   "metadata": {
    "id": "s2bQfGZ-ilp_"
   },
   "source": [
    "Agora podemos utilizar a compreensão de dicionários com o zip!"
   ]
  },
  {
   "cell_type": "code",
   "execution_count": 78,
   "metadata": {
    "colab": {
     "base_uri": "https://localhost:8080/"
    },
    "executionInfo": {
     "elapsed": 2,
     "status": "ok",
     "timestamp": 1665442113938,
     "user": {
      "displayName": "Gilberto Kaihami",
      "userId": "07651446941847976228"
     },
     "user_tz": 180
    },
    "id": "8_hNVXBDiie1",
    "outputId": "39868735-d566-4ff8-8d87-c191b1b25634"
   },
   "outputs": [
    {
     "data": {
      "text/plain": [
       "{'Desodorante': 10, 'Alface': 4, 'Uva': 2, 'Salgadinho': 3, 'Banana': 5}"
      ]
     },
     "execution_count": 78,
     "metadata": {},
     "output_type": "execute_result"
    }
   ],
   "source": [
    "cadastros = {produto: qtd for produto, qtd in zip(produtos, quantidades)}\n",
    "cadastros"
   ]
  },
  {
   "cell_type": "markdown",
   "metadata": {
    "id": "sO5v_IzZi3nl"
   },
   "source": [
    "Uma funcionalidade útil é utilizar o zip com enumerate!"
   ]
  },
  {
   "cell_type": "code",
   "execution_count": 79,
   "metadata": {
    "colab": {
     "base_uri": "https://localhost:8080/"
    },
    "executionInfo": {
     "elapsed": 1,
     "status": "ok",
     "timestamp": 1665442201760,
     "user": {
      "displayName": "Gilberto Kaihami",
      "userId": "07651446941847976228"
     },
     "user_tz": 180
    },
    "id": "gJK0WIDDi1Zo",
    "outputId": "7e97f35c-22ea-4090-c9c9-ad40b880a7b9"
   },
   "outputs": [
    {
     "name": "stdout",
     "output_type": "stream",
     "text": [
      "indice: 0 dupla ('Desodorante', 10)\n",
      "indice: 1 dupla ('Alface', 4)\n",
      "indice: 2 dupla ('Uva', 2)\n",
      "indice: 3 dupla ('Salgadinho', 3)\n",
      "indice: 4 dupla ('Banana', 5)\n"
     ]
    }
   ],
   "source": [
    "produtos = ['Desodorante', 'Alface', 'Uva', 'Salgadinho', 'Banana']\n",
    "quantidades = [10, 4, 2, 3, 5]\n",
    "cadastros = {}\n",
    "for idx, dupla in enumerate(zip(produtos, quantidades)):\n",
    "  print('indice:', idx, 'dupla', dupla)"
   ]
  },
  {
   "cell_type": "code",
   "execution_count": 80,
   "metadata": {
    "colab": {
     "base_uri": "https://localhost:8080/"
    },
    "executionInfo": {
     "elapsed": 205,
     "status": "ok",
     "timestamp": 1665442238127,
     "user": {
      "displayName": "Gilberto Kaihami",
      "userId": "07651446941847976228"
     },
     "user_tz": 180
    },
    "id": "R8rVSLGajCiN",
    "outputId": "df4c3530-7861-45b6-841a-88460ddd926a"
   },
   "outputs": [
    {
     "name": "stdout",
     "output_type": "stream",
     "text": [
      "indice: 0 produto Desodorante quantidade 10\n",
      "indice: 1 produto Alface quantidade 4\n",
      "indice: 2 produto Uva quantidade 2\n",
      "indice: 3 produto Salgadinho quantidade 3\n",
      "indice: 4 produto Banana quantidade 5\n"
     ]
    }
   ],
   "source": [
    "produtos = ['Desodorante', 'Alface', 'Uva', 'Salgadinho', 'Banana']\n",
    "quantidades = [10, 4, 2, 3, 5]\n",
    "cadastros = {}\n",
    "for idx, (produto, qtd) in enumerate(zip(produtos, quantidades)):\n",
    "  print('indice:', idx, 'produto', produto, 'quantidade', qtd)"
   ]
  },
  {
   "cell_type": "code",
   "execution_count": 81,
   "metadata": {
    "colab": {
     "base_uri": "https://localhost:8080/"
    },
    "executionInfo": {
     "elapsed": 1,
     "status": "ok",
     "timestamp": 1665442308878,
     "user": {
      "displayName": "Gilberto Kaihami",
      "userId": "07651446941847976228"
     },
     "user_tz": 180
    },
    "id": "K7_5RU7xF_xv",
    "outputId": "194d2298-6509-4c4d-d45e-e30eb62d431f"
   },
   "outputs": [
    {
     "data": {
      "text/plain": [
       "{0: {'nome': 'Desodorante', 'quantidade': 10},\n",
       " 1: {'nome': 'Alface', 'quantidade': 4},\n",
       " 2: {'nome': 'Uva', 'quantidade': 2},\n",
       " 3: {'nome': 'Salgadinho', 'quantidade': 3},\n",
       " 4: {'nome': 'Banana', 'quantidade': 5}}"
      ]
     },
     "execution_count": 81,
     "metadata": {},
     "output_type": "execute_result"
    }
   ],
   "source": [
    "{\n",
    "    idx: {\n",
    "        'nome': produto,\n",
    "        'quantidade': qtd\n",
    "    }\n",
    "    for idx, (produto, qtd) in enumerate(zip(produtos, quantidades))\n",
    "}"
   ]
  },
  {
   "cell_type": "markdown",
   "metadata": {
    "id": "Gm2oqMeTcfro"
   },
   "source": [
    "**Drops**\n",
    "\n",
    "Utilizando compreensão de dicionário e condicionais, crie um dicionário novo a partir do dicionário `dict`, onde apenas o par `chave`:`valor` acima de 20 estejam presentes no novo dicionário:\n",
    "```\n",
    "dict1 = {'Maça': 3, \"Linguiça\": 30, 'Pera':5, 'Bife': 50}\n",
    "```\n",
    "Nesse caso o novo dicionário deveria conter:\n",
    "```\n",
    "dict2 = { \"Linguiça\": 30, 'Bife': 50}\n",
    "```"
   ]
  },
  {
   "cell_type": "code",
   "execution_count": 89,
   "metadata": {
    "colab": {
     "base_uri": "https://localhost:8080/"
    },
    "executionInfo": {
     "elapsed": 2,
     "status": "ok",
     "timestamp": 1665443219874,
     "user": {
      "displayName": "Gilberto Kaihami",
      "userId": "07651446941847976228"
     },
     "user_tz": 180
    },
    "id": "9cTO7ZR0iuhL",
    "outputId": "61ef8184-e47d-4360-8c05-cf376ddcecba"
   },
   "outputs": [
    {
     "data": {
      "text/plain": [
       "{'Linguiça': 30, 'Bife': 50}"
      ]
     },
     "execution_count": 89,
     "metadata": {},
     "output_type": "execute_result"
    }
   ],
   "source": [
    "dict1 = {'Maça': 3, \"Linguiça\": 30, 'Pera':5, 'Bife': 50}\n",
    "dict2 = {produto: preco for produto, preco in dict1.items() if preco > 20} # Preencha aqui\n",
    "dict2"
   ]
  },
  {
   "cell_type": "markdown",
   "metadata": {
    "id": "lz6jfODfk50d"
   },
   "source": [
    "### Funções com parâmetros variáveis\n",
    "\n",
    "Se não quisermos especificar **quais** e **quantos** são os parâmetros de uma função, passamos o argumento com **um asterisco**\n",
    "\n",
    "- Os parâmetros passados são **agrupados em uma tupla**, automaticamente, pelo python.\n",
    "\n",
    "Porém, o usuário não precisa passar uma tupla: basta passar vários argumentos separados por vírgula, e o Python automaticamente criará uma tupla com eles. \n",
    "\n",
    "Uma função que segue exatamente essa estrutura é o `print()`!\n",
    "\n",
    "Vamos criar uma função desta forma:"
   ]
  },
  {
   "cell_type": "code",
   "execution_count": 91,
   "metadata": {
    "colab": {
     "base_uri": "https://localhost:8080/"
    },
    "executionInfo": {
     "elapsed": 203,
     "status": "ok",
     "timestamp": 1665443417491,
     "user": {
      "displayName": "Gilberto Kaihami",
      "userId": "07651446941847976228"
     },
     "user_tz": 180
    },
    "id": "1F0pAY4bjIpH",
    "outputId": "dc4b9c8a-8f48-4ce3-dc04-9a3ba902f49c"
   },
   "outputs": [
    {
     "name": "stdout",
     "output_type": "stream",
     "text": [
      "1\n",
      "1 2 3 a\n"
     ]
    }
   ],
   "source": [
    "# O print é uma função que aceita parâmetros variáveis!\n",
    "print(1)\n",
    "# Por isso quando adicionamos mais de um argumento com virgula\n",
    "# o print continua funcionando de forma correta\n",
    "print(1, 2, 3, 'a')"
   ]
  },
  {
   "cell_type": "code",
   "execution_count": 92,
   "metadata": {
    "executionInfo": {
     "elapsed": 1,
     "status": "ok",
     "timestamp": 1665443433894,
     "user": {
      "displayName": "Gilberto Kaihami",
      "userId": "07651446941847976228"
     },
     "user_tz": 180
    },
    "id": "UbiKFtFS6frb"
   },
   "outputs": [],
   "source": [
    "def soma(a, b):\n",
    "  return a + b"
   ]
  },
  {
   "cell_type": "code",
   "execution_count": 93,
   "metadata": {
    "colab": {
     "base_uri": "https://localhost:8080/"
    },
    "executionInfo": {
     "elapsed": 215,
     "status": "ok",
     "timestamp": 1665443439382,
     "user": {
      "displayName": "Gilberto Kaihami",
      "userId": "07651446941847976228"
     },
     "user_tz": 180
    },
    "id": "ZhJwBwFqcKFQ",
    "outputId": "569fc0d1-bd51-49c6-baba-345b35431887"
   },
   "outputs": [
    {
     "data": {
      "text/plain": [
       "3"
      ]
     },
     "execution_count": 93,
     "metadata": {},
     "output_type": "execute_result"
    }
   ],
   "source": [
    "soma(1, 2)"
   ]
  },
  {
   "cell_type": "code",
   "execution_count": 94,
   "metadata": {
    "colab": {
     "base_uri": "https://localhost:8080/",
     "height": 166
    },
    "executionInfo": {
     "elapsed": 3,
     "status": "error",
     "timestamp": 1665443446971,
     "user": {
      "displayName": "Gilberto Kaihami",
      "userId": "07651446941847976228"
     },
     "user_tz": 180
    },
    "id": "ZJGQqgK80LFa",
    "outputId": "53f9cfee-8d8c-44a0-ae8b-74ec348d64af"
   },
   "outputs": [
    {
     "ename": "TypeError",
     "evalue": "ignored",
     "output_type": "error",
     "traceback": [
      "\u001b[0;31m---------------------------------------------------------------------------\u001b[0m",
      "\u001b[0;31mTypeError\u001b[0m                                 Traceback (most recent call last)",
      "\u001b[0;32m<ipython-input-94-5c36164c8bf7>\u001b[0m in \u001b[0;36m<module>\u001b[0;34m\u001b[0m\n\u001b[0;32m----> 1\u001b[0;31m \u001b[0msoma\u001b[0m\u001b[0;34m(\u001b[0m\u001b[0;36m1\u001b[0m\u001b[0;34m,\u001b[0m \u001b[0;36m2\u001b[0m\u001b[0;34m,\u001b[0m \u001b[0;36m3\u001b[0m\u001b[0;34m)\u001b[0m\u001b[0;34m\u001b[0m\u001b[0;34m\u001b[0m\u001b[0m\n\u001b[0m",
      "\u001b[0;31mTypeError\u001b[0m: soma() takes 2 positional arguments but 3 were given"
     ]
    }
   ],
   "source": [
    "soma(1, 2, 3)"
   ]
  },
  {
   "cell_type": "code",
   "execution_count": 98,
   "metadata": {
    "colab": {
     "base_uri": "https://localhost:8080/"
    },
    "executionInfo": {
     "elapsed": 2,
     "status": "ok",
     "timestamp": 1665443594228,
     "user": {
      "displayName": "Gilberto Kaihami",
      "userId": "07651446941847976228"
     },
     "user_tz": 180
    },
    "id": "mzEZBzsz0MOi",
    "outputId": "6d39d753-71bc-43d8-a416-2c3ef0a946d2"
   },
   "outputs": [
    {
     "name": "stdout",
     "output_type": "stream",
     "text": [
      "elementos (1, 2, 3, 'a')\n"
     ]
    }
   ],
   "source": [
    "# Quando queremos argumentos variaveis adicionamos o `*nome`\n",
    "def meu_print(*elementos):\n",
    "  print('elementos', elementos)\n",
    "\n",
    "meu_print(1,2,3, 'a')"
   ]
  },
  {
   "cell_type": "code",
   "execution_count": 106,
   "metadata": {
    "executionInfo": {
     "elapsed": 1,
     "status": "ok",
     "timestamp": 1665443757744,
     "user": {
      "displayName": "Gilberto Kaihami",
      "userId": "07651446941847976228"
     },
     "user_tz": 180
    },
    "id": "ZiB8uVIqmJi1"
   },
   "outputs": [],
   "source": [
    "def soma(a, b, *numeros):\n",
    "  print(f'a={a}, b={b}, numeros={numeros}')\n",
    "\n",
    "  soma_parcial = a + b\n",
    "  print('soma_parcial =', soma_parcial)\n",
    "  soma_numeros = sum(numeros)\n",
    "  print(\"soma_numeros =\", soma_numeros)\n",
    "  return soma_parcial + soma_numeros"
   ]
  },
  {
   "cell_type": "code",
   "execution_count": 107,
   "metadata": {
    "colab": {
     "base_uri": "https://localhost:8080/"
    },
    "executionInfo": {
     "elapsed": 3,
     "status": "ok",
     "timestamp": 1665443758557,
     "user": {
      "displayName": "Gilberto Kaihami",
      "userId": "07651446941847976228"
     },
     "user_tz": 180
    },
    "id": "ZtO8SFzKnYjL",
    "outputId": "383a9569-ab67-4bc2-bb5c-ecb08cbbc6f7"
   },
   "outputs": [
    {
     "name": "stdout",
     "output_type": "stream",
     "text": [
      "a=1, b=2, numeros=(3, 4, 5, 6)\n",
      "soma_parcial = 3\n",
      "soma_numeros = 18\n"
     ]
    },
    {
     "data": {
      "text/plain": [
       "21"
      ]
     },
     "execution_count": 107,
     "metadata": {},
     "output_type": "execute_result"
    }
   ],
   "source": [
    "soma(1, 2, 3, 4, 5, 6)"
   ]
  },
  {
   "cell_type": "code",
   "execution_count": 108,
   "metadata": {
    "colab": {
     "base_uri": "https://localhost:8080/",
     "height": 166
    },
    "executionInfo": {
     "elapsed": 4,
     "status": "error",
     "timestamp": 1665443764949,
     "user": {
      "displayName": "Gilberto Kaihami",
      "userId": "07651446941847976228"
     },
     "user_tz": 180
    },
    "id": "SccRG1fgnah0",
    "outputId": "2c6e2195-3886-43c5-f03d-6a1bed26a65c"
   },
   "outputs": [
    {
     "ename": "TypeError",
     "evalue": "ignored",
     "output_type": "error",
     "traceback": [
      "\u001b[0;31m---------------------------------------------------------------------------\u001b[0m",
      "\u001b[0;31mTypeError\u001b[0m                                 Traceback (most recent call last)",
      "\u001b[0;32m<ipython-input-108-30d023bb944f>\u001b[0m in \u001b[0;36m<module>\u001b[0;34m\u001b[0m\n\u001b[0;32m----> 1\u001b[0;31m \u001b[0msoma\u001b[0m\u001b[0;34m(\u001b[0m\u001b[0;36m1\u001b[0m\u001b[0;34m)\u001b[0m\u001b[0;34m\u001b[0m\u001b[0;34m\u001b[0m\u001b[0m\n\u001b[0m",
      "\u001b[0;31mTypeError\u001b[0m: soma() missing 1 required positional argument: 'b'"
     ]
    }
   ],
   "source": [
    "soma(1)"
   ]
  },
  {
   "cell_type": "code",
   "execution_count": 109,
   "metadata": {
    "colab": {
     "base_uri": "https://localhost:8080/"
    },
    "executionInfo": {
     "elapsed": 3,
     "status": "ok",
     "timestamp": 1665443810100,
     "user": {
      "displayName": "Gilberto Kaihami",
      "userId": "07651446941847976228"
     },
     "user_tz": 180
    },
    "id": "yPMwSjd5ncOw",
    "outputId": "5a657004-2037-4ad6-b351-5b8208008d4b"
   },
   "outputs": [
    {
     "name": "stdout",
     "output_type": "stream",
     "text": [
      "a=1, b=2, numeros=()\n",
      "soma_parcial = 3\n",
      "soma_numeros = 0\n"
     ]
    },
    {
     "data": {
      "text/plain": [
       "3"
      ]
     },
     "execution_count": 109,
     "metadata": {},
     "output_type": "execute_result"
    }
   ],
   "source": [
    "soma(1, 2)"
   ]
  },
  {
   "cell_type": "code",
   "execution_count": 111,
   "metadata": {
    "colab": {
     "base_uri": "https://localhost:8080/",
     "height": 323
    },
    "executionInfo": {
     "elapsed": 3,
     "status": "error",
     "timestamp": 1665443841018,
     "user": {
      "displayName": "Gilberto Kaihami",
      "userId": "07651446941847976228"
     },
     "user_tz": 180
    },
    "id": "VGmSdRgIndYe",
    "outputId": "3d48c563-4af4-4849-83e2-5c43d9ef4315"
   },
   "outputs": [
    {
     "name": "stdout",
     "output_type": "stream",
     "text": [
      "a=1, b=2, numeros=(3, 'a', 'b')\n",
      "soma_parcial = 3\n"
     ]
    },
    {
     "ename": "TypeError",
     "evalue": "ignored",
     "output_type": "error",
     "traceback": [
      "\u001b[0;31m---------------------------------------------------------------------------\u001b[0m",
      "\u001b[0;31mTypeError\u001b[0m                                 Traceback (most recent call last)",
      "\u001b[0;32m<ipython-input-111-e56345ce9a36>\u001b[0m in \u001b[0;36m<module>\u001b[0;34m\u001b[0m\n\u001b[0;32m----> 1\u001b[0;31m \u001b[0msoma\u001b[0m\u001b[0;34m(\u001b[0m\u001b[0;36m1\u001b[0m\u001b[0;34m,\u001b[0m \u001b[0;36m2\u001b[0m\u001b[0;34m,\u001b[0m \u001b[0;36m3\u001b[0m\u001b[0;34m,\u001b[0m \u001b[0;34m'a'\u001b[0m\u001b[0;34m,\u001b[0m \u001b[0;34m'b'\u001b[0m\u001b[0;34m)\u001b[0m\u001b[0;34m\u001b[0m\u001b[0;34m\u001b[0m\u001b[0m\n\u001b[0m",
      "\u001b[0;32m<ipython-input-106-5af8651d0832>\u001b[0m in \u001b[0;36msoma\u001b[0;34m(a, b, *numeros)\u001b[0m\n\u001b[1;32m      4\u001b[0m   \u001b[0msoma_parcial\u001b[0m \u001b[0;34m=\u001b[0m \u001b[0ma\u001b[0m \u001b[0;34m+\u001b[0m \u001b[0mb\u001b[0m\u001b[0;34m\u001b[0m\u001b[0;34m\u001b[0m\u001b[0m\n\u001b[1;32m      5\u001b[0m   \u001b[0mprint\u001b[0m\u001b[0;34m(\u001b[0m\u001b[0;34m'soma_parcial ='\u001b[0m\u001b[0;34m,\u001b[0m \u001b[0msoma_parcial\u001b[0m\u001b[0;34m)\u001b[0m\u001b[0;34m\u001b[0m\u001b[0;34m\u001b[0m\u001b[0m\n\u001b[0;32m----> 6\u001b[0;31m   \u001b[0msoma_numeros\u001b[0m \u001b[0;34m=\u001b[0m \u001b[0msum\u001b[0m\u001b[0;34m(\u001b[0m\u001b[0mnumeros\u001b[0m\u001b[0;34m)\u001b[0m\u001b[0;34m\u001b[0m\u001b[0;34m\u001b[0m\u001b[0m\n\u001b[0m\u001b[1;32m      7\u001b[0m   \u001b[0mprint\u001b[0m\u001b[0;34m(\u001b[0m\u001b[0;34m\"soma_numeros =\"\u001b[0m\u001b[0;34m,\u001b[0m \u001b[0msoma_numeros\u001b[0m\u001b[0;34m)\u001b[0m\u001b[0;34m\u001b[0m\u001b[0;34m\u001b[0m\u001b[0m\n\u001b[1;32m      8\u001b[0m   \u001b[0;32mreturn\u001b[0m \u001b[0msoma_parcial\u001b[0m \u001b[0;34m+\u001b[0m \u001b[0msoma_numeros\u001b[0m\u001b[0;34m\u001b[0m\u001b[0;34m\u001b[0m\u001b[0m\n",
      "\u001b[0;31mTypeError\u001b[0m: unsupported operand type(s) for +: 'int' and 'str'"
     ]
    }
   ],
   "source": [
    "soma(1, 2, 3, 'a', 'b')"
   ]
  },
  {
   "cell_type": "code",
   "execution_count": 112,
   "metadata": {
    "executionInfo": {
     "elapsed": 2,
     "status": "ok",
     "timestamp": 1665443967907,
     "user": {
      "displayName": "Gilberto Kaihami",
      "userId": "07651446941847976228"
     },
     "user_tz": 180
    },
    "id": "35ns73wpnerK"
   },
   "outputs": [],
   "source": [
    "def soma(a, b, *args):\n",
    "  print(f'a={a}, b={b}, args={args}')\n",
    "  soma_parcial = a + b\n",
    "  numeros = []\n",
    "  letras = []\n",
    "  for elemento in args:\n",
    "    if isinstance(elemento, (int, float)):\n",
    "      numeros.append(elemento)\n",
    "    else:\n",
    "      letras.append(elemento)\n",
    "  soma_numeros = sum(numeros)\n",
    "  print('letras', letras)\n",
    "  return soma_parcial + soma_numeros"
   ]
  },
  {
   "cell_type": "code",
   "execution_count": 114,
   "metadata": {
    "colab": {
     "base_uri": "https://localhost:8080/"
    },
    "executionInfo": {
     "elapsed": 215,
     "status": "ok",
     "timestamp": 1665444004722,
     "user": {
      "displayName": "Gilberto Kaihami",
      "userId": "07651446941847976228"
     },
     "user_tz": 180
    },
    "id": "3zqbePN-ngVW",
    "outputId": "c1a3b7bc-972f-45d0-a230-9756ac40ad5b"
   },
   "outputs": [
    {
     "name": "stdout",
     "output_type": "stream",
     "text": [
      "a=1, b=2, args=('a', 3, 'abcs', 4.75, 'de', '5')\n",
      "letras ['a', 'abcs', 'de', '5']\n"
     ]
    },
    {
     "data": {
      "text/plain": [
       "10.75"
      ]
     },
     "execution_count": 114,
     "metadata": {},
     "output_type": "execute_result"
    }
   ],
   "source": [
    "soma(1, 2, 'a', 3, 'abcs', 4.75, 'de', '5')"
   ]
  },
  {
   "cell_type": "code",
   "execution_count": 115,
   "metadata": {
    "executionInfo": {
     "elapsed": 2,
     "status": "ok",
     "timestamp": 1665444092232,
     "user": {
      "displayName": "Gilberto Kaihami",
      "userId": "07651446941847976228"
     },
     "user_tz": 180
    },
    "id": "Ij_Uv3mhniLL"
   },
   "outputs": [],
   "source": [
    "def calcula_media(lista):\n",
    "  print(lista)\n",
    "  soma = sum(lista)\n",
    "  tamanho_lista = len(lista)\n",
    "  if tamanho_lista > 0:\n",
    "    media = soma / tamanho_lista\n",
    "  else:\n",
    "    media = 0\n",
    "  return media"
   ]
  },
  {
   "cell_type": "code",
   "execution_count": 119,
   "metadata": {
    "colab": {
     "base_uri": "https://localhost:8080/"
    },
    "executionInfo": {
     "elapsed": 1,
     "status": "ok",
     "timestamp": 1665444117396,
     "user": {
      "displayName": "Gilberto Kaihami",
      "userId": "07651446941847976228"
     },
     "user_tz": 180
    },
    "id": "GRGRT279njTf",
    "outputId": "37254eb4-69b7-4eb1-b606-0401b2b26649"
   },
   "outputs": [
    {
     "name": "stdout",
     "output_type": "stream",
     "text": [
      "[10, 2, 8, 4]\n"
     ]
    },
    {
     "data": {
      "text/plain": [
       "6.0"
      ]
     },
     "execution_count": 119,
     "metadata": {},
     "output_type": "execute_result"
    }
   ],
   "source": [
    "calcula_media([10, 2, 8, 4])"
   ]
  },
  {
   "cell_type": "code",
   "execution_count": 120,
   "metadata": {
    "executionInfo": {
     "elapsed": 205,
     "status": "ok",
     "timestamp": 1665444184544,
     "user": {
      "displayName": "Gilberto Kaihami",
      "userId": "07651446941847976228"
     },
     "user_tz": 180
    },
    "id": "TrOtldCwnlCR"
   },
   "outputs": [],
   "source": [
    "def calcula_media_var(*numeros):\n",
    "  print(numeros)\n",
    "  soma = sum(numeros)\n",
    "  tamanho_numeros = len(numeros)\n",
    "  if tamanho_numeros > 0:\n",
    "    media = soma / tamanho_numeros\n",
    "  else:\n",
    "    media = 0\n",
    "  return media"
   ]
  },
  {
   "cell_type": "code",
   "execution_count": 122,
   "metadata": {
    "colab": {
     "base_uri": "https://localhost:8080/"
    },
    "executionInfo": {
     "elapsed": 3,
     "status": "ok",
     "timestamp": 1665444197004,
     "user": {
      "displayName": "Gilberto Kaihami",
      "userId": "07651446941847976228"
     },
     "user_tz": 180
    },
    "id": "ypC3Lbz_nl9q",
    "outputId": "941e2dbe-27b5-414b-b266-3420014cf3d6"
   },
   "outputs": [
    {
     "name": "stdout",
     "output_type": "stream",
     "text": [
      "(10, 2, 8, 4)\n"
     ]
    },
    {
     "data": {
      "text/plain": [
       "6.0"
      ]
     },
     "execution_count": 122,
     "metadata": {},
     "output_type": "execute_result"
    }
   ],
   "source": [
    "calcula_media_var(10, 2, 8, 4)"
   ]
  },
  {
   "cell_type": "code",
   "execution_count": 125,
   "metadata": {
    "colab": {
     "base_uri": "https://localhost:8080/",
     "height": 340
    },
    "executionInfo": {
     "elapsed": 3,
     "status": "error",
     "timestamp": 1665444264010,
     "user": {
      "displayName": "Gilberto Kaihami",
      "userId": "07651446941847976228"
     },
     "user_tz": 180
    },
    "id": "LpbNLMAtnnvL",
    "outputId": "93ef84e4-2fb2-44a3-d261-722ff26cc436"
   },
   "outputs": [
    {
     "name": "stdout",
     "output_type": "stream",
     "text": [
      "([10, 20, 30], [10, 50, 100])\n"
     ]
    },
    {
     "ename": "TypeError",
     "evalue": "ignored",
     "output_type": "error",
     "traceback": [
      "\u001b[0;31m---------------------------------------------------------------------------\u001b[0m",
      "\u001b[0;31mTypeError\u001b[0m                                 Traceback (most recent call last)",
      "\u001b[0;32m<ipython-input-125-31ce3db45945>\u001b[0m in \u001b[0;36m<module>\u001b[0;34m\u001b[0m\n\u001b[1;32m      1\u001b[0m \u001b[0;31m# Quando passamos lista ou listas\u001b[0m\u001b[0;34m\u001b[0m\u001b[0;34m\u001b[0m\u001b[0;34m\u001b[0m\u001b[0m\n\u001b[1;32m      2\u001b[0m \u001b[0;31m# Esses elementos viram uma tupla gerando um erro\u001b[0m\u001b[0;34m\u001b[0m\u001b[0;34m\u001b[0m\u001b[0;34m\u001b[0m\u001b[0m\n\u001b[0;32m----> 3\u001b[0;31m \u001b[0mcalcula_media_var\u001b[0m\u001b[0;34m(\u001b[0m\u001b[0;34m[\u001b[0m\u001b[0;36m10\u001b[0m\u001b[0;34m,\u001b[0m \u001b[0;36m20\u001b[0m\u001b[0;34m,\u001b[0m \u001b[0;36m30\u001b[0m\u001b[0;34m]\u001b[0m\u001b[0;34m,\u001b[0m \u001b[0;34m[\u001b[0m\u001b[0;36m10\u001b[0m\u001b[0;34m,\u001b[0m \u001b[0;36m50\u001b[0m\u001b[0;34m,\u001b[0m \u001b[0;36m100\u001b[0m\u001b[0;34m]\u001b[0m\u001b[0;34m)\u001b[0m\u001b[0;34m\u001b[0m\u001b[0;34m\u001b[0m\u001b[0m\n\u001b[0m",
      "\u001b[0;32m<ipython-input-120-acad37b4bbd3>\u001b[0m in \u001b[0;36mcalcula_media_var\u001b[0;34m(*numeros)\u001b[0m\n\u001b[1;32m      1\u001b[0m \u001b[0;32mdef\u001b[0m \u001b[0mcalcula_media_var\u001b[0m\u001b[0;34m(\u001b[0m\u001b[0;34m*\u001b[0m\u001b[0mnumeros\u001b[0m\u001b[0;34m)\u001b[0m\u001b[0;34m:\u001b[0m\u001b[0;34m\u001b[0m\u001b[0;34m\u001b[0m\u001b[0m\n\u001b[1;32m      2\u001b[0m   \u001b[0mprint\u001b[0m\u001b[0;34m(\u001b[0m\u001b[0mnumeros\u001b[0m\u001b[0;34m)\u001b[0m\u001b[0;34m\u001b[0m\u001b[0;34m\u001b[0m\u001b[0m\n\u001b[0;32m----> 3\u001b[0;31m   \u001b[0msoma\u001b[0m \u001b[0;34m=\u001b[0m \u001b[0msum\u001b[0m\u001b[0;34m(\u001b[0m\u001b[0mnumeros\u001b[0m\u001b[0;34m)\u001b[0m\u001b[0;34m\u001b[0m\u001b[0;34m\u001b[0m\u001b[0m\n\u001b[0m\u001b[1;32m      4\u001b[0m   \u001b[0mtamanho_numeros\u001b[0m \u001b[0;34m=\u001b[0m \u001b[0mlen\u001b[0m\u001b[0;34m(\u001b[0m\u001b[0mnumeros\u001b[0m\u001b[0;34m)\u001b[0m\u001b[0;34m\u001b[0m\u001b[0;34m\u001b[0m\u001b[0m\n\u001b[1;32m      5\u001b[0m   \u001b[0;32mif\u001b[0m \u001b[0mtamanho_numeros\u001b[0m \u001b[0;34m>\u001b[0m \u001b[0;36m0\u001b[0m\u001b[0;34m:\u001b[0m\u001b[0;34m\u001b[0m\u001b[0;34m\u001b[0m\u001b[0m\n",
      "\u001b[0;31mTypeError\u001b[0m: unsupported operand type(s) for +: 'int' and 'list'"
     ]
    }
   ],
   "source": [
    "# Quando passamos lista ou listas\n",
    "# Esses elementos viram uma tupla gerando um erro\n",
    "calcula_media_var([10, 20, 30], [10, 50, 100])"
   ]
  },
  {
   "cell_type": "code",
   "execution_count": 126,
   "metadata": {
    "executionInfo": {
     "elapsed": 1,
     "status": "ok",
     "timestamp": 1665444364547,
     "user": {
      "displayName": "Gilberto Kaihami",
      "userId": "07651446941847976228"
     },
     "user_tz": 180
    },
    "id": "2LJ4kEUTnozc"
   },
   "outputs": [],
   "source": [
    "def media_de_dois_n(a, b, *args):\n",
    "  \"\"\"Considera apenas os dois primeiros números para média\"\"\"\n",
    "  return (a + b) / 2"
   ]
  },
  {
   "cell_type": "code",
   "execution_count": 127,
   "metadata": {
    "colab": {
     "base_uri": "https://localhost:8080/"
    },
    "executionInfo": {
     "elapsed": 2,
     "status": "ok",
     "timestamp": 1665444371419,
     "user": {
      "displayName": "Gilberto Kaihami",
      "userId": "07651446941847976228"
     },
     "user_tz": 180
    },
    "id": "Fz9mdgPfnqko",
    "outputId": "bb55ed70-f89a-42a6-af9f-5e0eeb3d7fc2"
   },
   "outputs": [
    {
     "data": {
      "text/plain": [
       "1.5"
      ]
     },
     "execution_count": 127,
     "metadata": {},
     "output_type": "execute_result"
    }
   ],
   "source": [
    "media_de_dois_n(1, 2)"
   ]
  },
  {
   "cell_type": "code",
   "execution_count": 129,
   "metadata": {
    "colab": {
     "base_uri": "https://localhost:8080/"
    },
    "executionInfo": {
     "elapsed": 1,
     "status": "ok",
     "timestamp": 1665444405492,
     "user": {
      "displayName": "Gilberto Kaihami",
      "userId": "07651446941847976228"
     },
     "user_tz": 180
    },
    "id": "u9BistRxnrrW",
    "outputId": "e560fc66-3679-490e-8cb9-fe5953f09ace"
   },
   "outputs": [
    {
     "data": {
      "text/plain": [
       "1.5"
      ]
     },
     "execution_count": 129,
     "metadata": {},
     "output_type": "execute_result"
    }
   ],
   "source": [
    "# Utilizando o *args para evitar erros! Considerando apenas os dois primeiros números\n",
    "media_de_dois_n(1, 2, 3, 5, 10, 15, 30)"
   ]
  },
  {
   "cell_type": "code",
   "execution_count": 130,
   "metadata": {
    "colab": {
     "base_uri": "https://localhost:8080/",
     "height": 166
    },
    "executionInfo": {
     "elapsed": 3,
     "status": "error",
     "timestamp": 1665444480875,
     "user": {
      "displayName": "Gilberto Kaihami",
      "userId": "07651446941847976228"
     },
     "user_tz": 180
    },
    "id": "2_RGS0inOeQC",
    "outputId": "41a8056e-d2fa-4933-af3f-2ec7d6d44255"
   },
   "outputs": [
    {
     "ename": "TypeError",
     "evalue": "ignored",
     "output_type": "error",
     "traceback": [
      "\u001b[0;31m---------------------------------------------------------------------------\u001b[0m",
      "\u001b[0;31mTypeError\u001b[0m                                 Traceback (most recent call last)",
      "\u001b[0;32m<ipython-input-130-accd20905754>\u001b[0m in \u001b[0;36m<module>\u001b[0;34m\u001b[0m\n\u001b[0;32m----> 1\u001b[0;31m \u001b[0mmedia_de_dois_n\u001b[0m\u001b[0;34m(\u001b[0m\u001b[0;36m1\u001b[0m\u001b[0;34m)\u001b[0m\u001b[0;34m\u001b[0m\u001b[0;34m\u001b[0m\u001b[0m\n\u001b[0m",
      "\u001b[0;31mTypeError\u001b[0m: media_de_dois_n() missing 1 required positional argument: 'b'"
     ]
    }
   ],
   "source": [
    "media_de_dois_n(1)"
   ]
  },
  {
   "cell_type": "code",
   "execution_count": 131,
   "metadata": {
    "executionInfo": {
     "elapsed": 212,
     "status": "ok",
     "timestamp": 1665444542210,
     "user": {
      "displayName": "Gilberto Kaihami",
      "userId": "07651446941847976228"
     },
     "user_tz": 180
    },
    "id": "EMqRp9_ZOhdV"
   },
   "outputs": [],
   "source": [
    "# Utilizando um parâmetro padrão para um número\n",
    "def media_de_dois_n(a, b=10):\n",
    "  return (a + b)/ 2"
   ]
  },
  {
   "cell_type": "code",
   "execution_count": 132,
   "metadata": {
    "colab": {
     "base_uri": "https://localhost:8080/"
    },
    "executionInfo": {
     "elapsed": 201,
     "status": "ok",
     "timestamp": 1665444551260,
     "user": {
      "displayName": "Gilberto Kaihami",
      "userId": "07651446941847976228"
     },
     "user_tz": 180
    },
    "id": "CljpOUvmOvlj",
    "outputId": "5f4cb004-b443-49fe-9191-c8ee51f5236f"
   },
   "outputs": [
    {
     "data": {
      "text/plain": [
       "5.5"
      ]
     },
     "execution_count": 132,
     "metadata": {},
     "output_type": "execute_result"
    }
   ],
   "source": [
    "media_de_dois_n(1)"
   ]
  },
  {
   "cell_type": "code",
   "execution_count": null,
   "metadata": {
    "id": "W7Q6T_8hO73r"
   },
   "outputs": [],
   "source": []
  },
  {
   "cell_type": "code",
   "execution_count": 133,
   "metadata": {
    "colab": {
     "base_uri": "https://localhost:8080/"
    },
    "executionInfo": {
     "elapsed": 2,
     "status": "ok",
     "timestamp": 1665444556672,
     "user": {
      "displayName": "Gilberto Kaihami",
      "userId": "07651446941847976228"
     },
     "user_tz": 180
    },
    "id": "MXFCXq2gOvao",
    "outputId": "90209849-73d8-4f22-b5c0-65baefdf2ebf"
   },
   "outputs": [
    {
     "data": {
      "text/plain": [
       "1.5"
      ]
     },
     "execution_count": 133,
     "metadata": {},
     "output_type": "execute_result"
    }
   ],
   "source": [
    "media_de_dois_n(1, 2)"
   ]
  },
  {
   "cell_type": "code",
   "execution_count": 145,
   "metadata": {
    "colab": {
     "base_uri": "https://localhost:8080/"
    },
    "executionInfo": {
     "elapsed": 2,
     "status": "ok",
     "timestamp": 1665444786812,
     "user": {
      "displayName": "Gilberto Kaihami",
      "userId": "07651446941847976228"
     },
     "user_tz": 180
    },
    "id": "lqvA_JBWO8WS",
    "outputId": "e83ca704-8459-47e2-90f9-85b3215a5f0b"
   },
   "outputs": [
    {
     "name": "stdout",
     "output_type": "stream",
     "text": [
      "2 None\n",
      "2 2\n"
     ]
    },
    {
     "data": {
      "text/plain": [
       "2.0"
      ]
     },
     "execution_count": 145,
     "metadata": {},
     "output_type": "execute_result"
    }
   ],
   "source": [
    "def media_nova(a, b=None):\n",
    "  print(a, b)\n",
    "  if b is None:\n",
    "    b = a\n",
    "  print(a, b)\n",
    "  return (a + b) /2\n",
    "\n",
    "media_nova(2)"
   ]
  },
  {
   "cell_type": "code",
   "execution_count": 150,
   "metadata": {
    "colab": {
     "base_uri": "https://localhost:8080/"
    },
    "executionInfo": {
     "elapsed": 203,
     "status": "ok",
     "timestamp": 1665444889828,
     "user": {
      "displayName": "Gilberto Kaihami",
      "userId": "07651446941847976228"
     },
     "user_tz": 180
    },
    "id": "7B2-vt2FP1v4",
    "outputId": "869b5de2-c83d-4e8b-f7c5-50f4f7ff02cb"
   },
   "outputs": [
    {
     "name": "stdout",
     "output_type": "stream",
     "text": [
      "1 20\n",
      "10.5\n"
     ]
    }
   ],
   "source": [
    "def media_nova2(a=1, b=2):\n",
    "  print(a, b)\n",
    "  return (a+b)/ 2\n",
    "print(media_nova2(b=20))"
   ]
  },
  {
   "cell_type": "code",
   "execution_count": 179,
   "metadata": {
    "colab": {
     "base_uri": "https://localhost:8080/"
    },
    "executionInfo": {
     "elapsed": 238,
     "status": "ok",
     "timestamp": 1665445647081,
     "user": {
      "displayName": "Gilberto Kaihami",
      "userId": "07651446941847976228"
     },
     "user_tz": 180
    },
    "id": "6Ru1WCkeQuiE",
    "outputId": "50577ac4-5c0f-446f-c9e0-977f53baace8"
   },
   "outputs": [
    {
     "name": "stdout",
     "output_type": "stream",
     "text": [
      "Argspec FullArgSpec(args=['a', 'b'], varargs=None, varkw=None, defaults=(1, 2), kwonlyargs=[], kwonlydefaults=None, annotations={})\n",
      "args ['a', 'b']\n",
      "defaults (1, 2)\n"
     ]
    }
   ],
   "source": [
    "from inspect import getfullargspec\n",
    "print('Argspec', getfullargspec(media_nova2))\n",
    "print('args', getfullargspec(media_nova2).args)\n",
    "print('defaults', getfullargspec(media_nova2).defaults)"
   ]
  },
  {
   "cell_type": "code",
   "execution_count": 180,
   "metadata": {
    "executionInfo": {
     "elapsed": 223,
     "status": "ok",
     "timestamp": 1665445651071,
     "user": {
      "displayName": "Gilberto Kaihami",
      "userId": "07651446941847976228"
     },
     "user_tz": 180
    },
    "id": "nTXOBt8SShi3"
   },
   "outputs": [],
   "source": [
    "media_nova2??"
   ]
  },
  {
   "cell_type": "markdown",
   "metadata": {
    "id": "U-FRMGUInv3C"
   },
   "source": [
    "Função que soma os elementos de listas, quantas forem passadas como argumento.\n",
    "\n",
    "O retorno é a soma de todos os elementos de todas as listas"
   ]
  },
  {
   "cell_type": "code",
   "execution_count": 182,
   "metadata": {
    "executionInfo": {
     "elapsed": 222,
     "status": "ok",
     "timestamp": 1665445817853,
     "user": {
      "displayName": "Gilberto Kaihami",
      "userId": "07651446941847976228"
     },
     "user_tz": 180
    },
    "id": "vGI7cQIpnxwj"
   },
   "outputs": [],
   "source": [
    "lista_de_listas = [[1,2,3,4], [23, 42, 57], list(range(0, 100))]"
   ]
  },
  {
   "cell_type": "code",
   "execution_count": 183,
   "metadata": {
    "executionInfo": {
     "elapsed": 1,
     "status": "ok",
     "timestamp": 1665445840062,
     "user": {
      "displayName": "Gilberto Kaihami",
      "userId": "07651446941847976228"
     },
     "user_tz": 180
    },
    "id": "9V84v3ceny4u"
   },
   "outputs": [],
   "source": [
    "def soma(*args):\n",
    "  print(args)\n",
    "  return sum(args)"
   ]
  },
  {
   "cell_type": "code",
   "execution_count": 184,
   "metadata": {
    "colab": {
     "base_uri": "https://localhost:8080/"
    },
    "executionInfo": {
     "elapsed": 2,
     "status": "ok",
     "timestamp": 1665445845474,
     "user": {
      "displayName": "Gilberto Kaihami",
      "userId": "07651446941847976228"
     },
     "user_tz": 180
    },
    "id": "-fpLFl4BoEMI",
    "outputId": "1b0543af-dd57-4d62-85f9-686b1b460912"
   },
   "outputs": [
    {
     "name": "stdout",
     "output_type": "stream",
     "text": [
      "(1, 2, 3)\n"
     ]
    },
    {
     "data": {
      "text/plain": [
       "6"
      ]
     },
     "execution_count": 184,
     "metadata": {},
     "output_type": "execute_result"
    }
   ],
   "source": [
    "soma(1,2,3)"
   ]
  },
  {
   "cell_type": "code",
   "execution_count": 188,
   "metadata": {
    "colab": {
     "base_uri": "https://localhost:8080/"
    },
    "executionInfo": {
     "elapsed": 2,
     "status": "ok",
     "timestamp": 1665445928598,
     "user": {
      "displayName": "Gilberto Kaihami",
      "userId": "07651446941847976228"
     },
     "user_tz": 180
    },
    "id": "EilVWvtyn0DF",
    "outputId": "8c043dbc-70a7-498f-ed25-5453670bff5f"
   },
   "outputs": [
    {
     "name": "stdout",
     "output_type": "stream",
     "text": [
      "[1, 2, 3, 4]\n",
      "1 2 3 4\n",
      "(1, 2, 3, 4)\n"
     ]
    }
   ],
   "source": [
    "lista = lista_de_listas[0]\n",
    "print(lista)\n",
    "print(*lista)\n",
    "print((*lista,))"
   ]
  },
  {
   "cell_type": "code",
   "execution_count": 190,
   "metadata": {
    "colab": {
     "base_uri": "https://localhost:8080/"
    },
    "executionInfo": {
     "elapsed": 2,
     "status": "ok",
     "timestamp": 1665445992126,
     "user": {
      "displayName": "Gilberto Kaihami",
      "userId": "07651446941847976228"
     },
     "user_tz": 180
    },
    "id": "c4RimV3BUEOd",
    "outputId": "f671740c-8158-4a7a-e642-a5c6763deefc"
   },
   "outputs": [
    {
     "name": "stdout",
     "output_type": "stream",
     "text": [
      "(1, 2, 3, 4)\n",
      "(23, 42, 57)\n",
      "(0, 1, 2, 3, 4, 5, 6, 7, 8, 9, 10, 11, 12, 13, 14, 15, 16, 17, 18, 19, 20, 21, 22, 23, 24, 25, 26, 27, 28, 29, 30, 31, 32, 33, 34, 35, 36, 37, 38, 39, 40, 41, 42, 43, 44, 45, 46, 47, 48, 49, 50, 51, 52, 53, 54, 55, 56, 57, 58, 59, 60, 61, 62, 63, 64, 65, 66, 67, 68, 69, 70, 71, 72, 73, 74, 75, 76, 77, 78, 79, 80, 81, 82, 83, 84, 85, 86, 87, 88, 89, 90, 91, 92, 93, 94, 95, 96, 97, 98, 99)\n",
      "--------------------------------\n",
      "[10, 122, 4950]\n"
     ]
    }
   ],
   "source": [
    "resultado_soma = [soma(*lista) for lista in lista_de_listas]\n",
    "print('-'*32)\n",
    "print(resultado_soma)"
   ]
  },
  {
   "cell_type": "code",
   "execution_count": 193,
   "metadata": {
    "colab": {
     "base_uri": "https://localhost:8080/"
    },
    "executionInfo": {
     "elapsed": 220,
     "status": "ok",
     "timestamp": 1665446150674,
     "user": {
      "displayName": "Gilberto Kaihami",
      "userId": "07651446941847976228"
     },
     "user_tz": 180
    },
    "id": "z25M2TdrURrb",
    "outputId": "110a8414-4456-4d32-b8c0-6cb9ea897e97"
   },
   "outputs": [
    {
     "name": "stdout",
     "output_type": "stream",
     "text": [
      "1 x 10 = 10\n",
      "2 x 20 = 40\n",
      "3 x 30 = 90\n",
      "4 x 40 = 160\n"
     ]
    }
   ],
   "source": [
    "def multiplica(a, b):\n",
    "  return a * b\n",
    "\n",
    "lista1 = [1, 2, 3, 4]\n",
    "lista2 = [10, 20, 30, 40]\n",
    "\n",
    "for idx, num1 in enumerate(lista1):\n",
    "  num2 = lista2[idx]\n",
    "  print(f'{num1} x {num2} = {multiplica(num1, num2)}')\n"
   ]
  },
  {
   "cell_type": "code",
   "execution_count": 194,
   "metadata": {
    "colab": {
     "base_uri": "https://localhost:8080/"
    },
    "executionInfo": {
     "elapsed": 2,
     "status": "ok",
     "timestamp": 1665446174472,
     "user": {
      "displayName": "Gilberto Kaihami",
      "userId": "07651446941847976228"
     },
     "user_tz": 180
    },
    "id": "2RT6OHhiUpcr",
    "outputId": "b248c880-181c-400b-d31d-c6678d2e868e"
   },
   "outputs": [
    {
     "name": "stdout",
     "output_type": "stream",
     "text": [
      "1 x 10 = 10\n",
      "2 x 20 = 40\n",
      "3 x 30 = 90\n",
      "4 x 40 = 160\n"
     ]
    }
   ],
   "source": [
    "for num1, num2 in zip(lista1, lista2):\n",
    "  print(f'{num1} x {num2} = {multiplica(num1, num2)}')"
   ]
  },
  {
   "cell_type": "code",
   "execution_count": 195,
   "metadata": {
    "colab": {
     "base_uri": "https://localhost:8080/"
    },
    "executionInfo": {
     "elapsed": 1,
     "status": "ok",
     "timestamp": 1665446207578,
     "user": {
      "displayName": "Gilberto Kaihami",
      "userId": "07651446941847976228"
     },
     "user_tz": 180
    },
    "id": "-DUekDfTU-Gk",
    "outputId": "39191050-eed2-42ff-d76b-2ada6d167096"
   },
   "outputs": [
    {
     "name": "stdout",
     "output_type": "stream",
     "text": [
      "1 x 10 = 10\n",
      "2 x 20 = 40\n",
      "3 x 30 = 90\n",
      "4 x 40 = 160\n"
     ]
    }
   ],
   "source": [
    "for numeros in zip(lista1, lista2):\n",
    "  print(f'{numeros[0]} x {numeros[1]} = {multiplica(*numeros)}')"
   ]
  },
  {
   "cell_type": "code",
   "execution_count": 198,
   "metadata": {
    "colab": {
     "base_uri": "https://localhost:8080/"
    },
    "executionInfo": {
     "elapsed": 2,
     "status": "ok",
     "timestamp": 1665446268580,
     "user": {
      "displayName": "Gilberto Kaihami",
      "userId": "07651446941847976228"
     },
     "user_tz": 180
    },
    "id": "CdWOkcN1VJoi",
    "outputId": "95fd1825-68fb-49fa-b860-0e16e7e8276a"
   },
   "outputs": [
    {
     "data": {
      "text/plain": [
       "[10, 40, 90, 160]"
      ]
     },
     "execution_count": 198,
     "metadata": {},
     "output_type": "execute_result"
    }
   ],
   "source": [
    "numeros = list(zip(lista1, lista2))\n",
    "[multiplica(*nums) for nums in numeros]"
   ]
  },
  {
   "cell_type": "markdown",
   "metadata": {
    "id": "A9iMe0_foP6z"
   },
   "source": [
    "### Funções com parâmetros opcionais\n",
    "\n",
    "Também é possível fazer funções com **argumentos opcionais**, que são indicados com **dois asteriscos**\n",
    "\n",
    "- Os parâmetros passados são **agrupados em um dicionário**: o nome do parâmetro será uma chave, e o valor será o valor.\n",
    "\n",
    "O exemplo abaixo cadastra usuários em uma base de dados.\n",
    "\n",
    "Até agora, sabemos apenas definir funções com argumentos **obrigatórios**: se algum deles não for passado, a função nos avisará isso!"
   ]
  },
  {
   "cell_type": "code",
   "execution_count": 212,
   "metadata": {
    "executionInfo": {
     "elapsed": 223,
     "status": "ok",
     "timestamp": 1665446485572,
     "user": {
      "displayName": "Gilberto Kaihami",
      "userId": "07651446941847976228"
     },
     "user_tz": 180
    },
    "id": "WALlV4gWoNqm"
   },
   "outputs": [],
   "source": [
    "def soma(a, b, c):\n",
    "  print(f'a={a}, b={b}, c={c}')\n",
    "  return a + b + c"
   ]
  },
  {
   "cell_type": "code",
   "execution_count": 213,
   "metadata": {
    "colab": {
     "base_uri": "https://localhost:8080/"
    },
    "executionInfo": {
     "elapsed": 271,
     "status": "ok",
     "timestamp": 1665446486811,
     "user": {
      "displayName": "Gilberto Kaihami",
      "userId": "07651446941847976228"
     },
     "user_tz": 180
    },
    "id": "C_mQ84ShoThA",
    "outputId": "65ef76c3-fc13-4edf-80db-9a4698579d94"
   },
   "outputs": [
    {
     "name": "stdout",
     "output_type": "stream",
     "text": [
      "a=1, b=2, c=3\n"
     ]
    },
    {
     "data": {
      "text/plain": [
       "6"
      ]
     },
     "execution_count": 213,
     "metadata": {},
     "output_type": "execute_result"
    }
   ],
   "source": [
    "soma(1, 2, 3)"
   ]
  },
  {
   "cell_type": "code",
   "execution_count": 214,
   "metadata": {
    "colab": {
     "base_uri": "https://localhost:8080/",
     "height": 166
    },
    "executionInfo": {
     "elapsed": 2,
     "status": "error",
     "timestamp": 1665446487014,
     "user": {
      "displayName": "Gilberto Kaihami",
      "userId": "07651446941847976228"
     },
     "user_tz": 180
    },
    "id": "0K6velDkoUot",
    "outputId": "f80b8d9e-29aa-4d1a-c2a9-56fd6b42d3da"
   },
   "outputs": [
    {
     "ename": "TypeError",
     "evalue": "ignored",
     "output_type": "error",
     "traceback": [
      "\u001b[0;31m---------------------------------------------------------------------------\u001b[0m",
      "\u001b[0;31mTypeError\u001b[0m                                 Traceback (most recent call last)",
      "\u001b[0;32m<ipython-input-214-30d023bb944f>\u001b[0m in \u001b[0;36m<module>\u001b[0;34m\u001b[0m\n\u001b[0;32m----> 1\u001b[0;31m \u001b[0msoma\u001b[0m\u001b[0;34m(\u001b[0m\u001b[0;36m1\u001b[0m\u001b[0;34m)\u001b[0m\u001b[0;34m\u001b[0m\u001b[0;34m\u001b[0m\u001b[0m\n\u001b[0m",
      "\u001b[0;31mTypeError\u001b[0m: soma() missing 2 required positional arguments: 'b' and 'c'"
     ]
    }
   ],
   "source": [
    "soma(1)"
   ]
  },
  {
   "cell_type": "code",
   "execution_count": 215,
   "metadata": {
    "colab": {
     "base_uri": "https://localhost:8080/"
    },
    "executionInfo": {
     "elapsed": 2,
     "status": "ok",
     "timestamp": 1665446488147,
     "user": {
      "displayName": "Gilberto Kaihami",
      "userId": "07651446941847976228"
     },
     "user_tz": 180
    },
    "id": "e1UcHAE4oV4G",
    "outputId": "6a69741e-89be-4af3-c5cd-9c9724d526da"
   },
   "outputs": [
    {
     "name": "stdout",
     "output_type": "stream",
     "text": [
      "a=1, b=2, c=3\n"
     ]
    },
    {
     "data": {
      "text/plain": [
       "6"
      ]
     },
     "execution_count": 215,
     "metadata": {},
     "output_type": "execute_result"
    }
   ],
   "source": [
    "soma(a=1, b=2, c=3)"
   ]
  },
  {
   "cell_type": "code",
   "execution_count": 216,
   "metadata": {
    "colab": {
     "base_uri": "https://localhost:8080/"
    },
    "executionInfo": {
     "elapsed": 1,
     "status": "ok",
     "timestamp": 1665446489041,
     "user": {
      "displayName": "Gilberto Kaihami",
      "userId": "07651446941847976228"
     },
     "user_tz": 180
    },
    "id": "xUWnP_nGoW66",
    "outputId": "3cfb8666-993c-4abd-d451-fbb9ae488518"
   },
   "outputs": [
    {
     "name": "stdout",
     "output_type": "stream",
     "text": [
      "a=1, b=2, c=3\n"
     ]
    },
    {
     "data": {
      "text/plain": [
       "6"
      ]
     },
     "execution_count": 216,
     "metadata": {},
     "output_type": "execute_result"
    }
   ],
   "source": [
    "soma(b=2, a=1, c=3)"
   ]
  },
  {
   "cell_type": "code",
   "execution_count": 217,
   "metadata": {
    "executionInfo": {
     "elapsed": 1,
     "status": "ok",
     "timestamp": 1665446489979,
     "user": {
      "displayName": "Gilberto Kaihami",
      "userId": "07651446941847976228"
     },
     "user_tz": 180
    },
    "id": "KhyNjQQDoYL1"
   },
   "outputs": [],
   "source": [
    "def soma(a, b, c=0):\n",
    "  print(f'a={a}, b={b}, c={c}')\n",
    "  return a + b + c"
   ]
  },
  {
   "cell_type": "code",
   "execution_count": 218,
   "metadata": {
    "colab": {
     "base_uri": "https://localhost:8080/"
    },
    "executionInfo": {
     "elapsed": 1,
     "status": "ok",
     "timestamp": 1665446490602,
     "user": {
      "displayName": "Gilberto Kaihami",
      "userId": "07651446941847976228"
     },
     "user_tz": 180
    },
    "id": "CAjoXnjjoZLF",
    "outputId": "ddfcdda6-1801-4ee5-d695-ce91378744c6"
   },
   "outputs": [
    {
     "name": "stdout",
     "output_type": "stream",
     "text": [
      "a=1, b=2, c=0\n"
     ]
    },
    {
     "data": {
      "text/plain": [
       "3"
      ]
     },
     "execution_count": 218,
     "metadata": {},
     "output_type": "execute_result"
    }
   ],
   "source": [
    "soma(1, 2)"
   ]
  },
  {
   "cell_type": "code",
   "execution_count": 219,
   "metadata": {
    "colab": {
     "base_uri": "https://localhost:8080/"
    },
    "executionInfo": {
     "elapsed": 1,
     "status": "ok",
     "timestamp": 1665446491232,
     "user": {
      "displayName": "Gilberto Kaihami",
      "userId": "07651446941847976228"
     },
     "user_tz": 180
    },
    "id": "My2EEbT7obDA",
    "outputId": "06b0f702-ff18-4895-dc96-58a712fe6326"
   },
   "outputs": [
    {
     "name": "stdout",
     "output_type": "stream",
     "text": [
      "a=1, b=2, c=0\n"
     ]
    },
    {
     "data": {
      "text/plain": [
       "3"
      ]
     },
     "execution_count": 219,
     "metadata": {},
     "output_type": "execute_result"
    }
   ],
   "source": [
    "soma(a=1, b=2)"
   ]
  },
  {
   "cell_type": "code",
   "execution_count": 220,
   "metadata": {
    "colab": {
     "base_uri": "https://localhost:8080/"
    },
    "executionInfo": {
     "elapsed": 1,
     "status": "ok",
     "timestamp": 1665446491476,
     "user": {
      "displayName": "Gilberto Kaihami",
      "userId": "07651446941847976228"
     },
     "user_tz": 180
    },
    "id": "4HkGKGYbogG4",
    "outputId": "fb311d1f-228b-4dea-d135-76715b628553"
   },
   "outputs": [
    {
     "name": "stdout",
     "output_type": "stream",
     "text": [
      "a=1, b=2, c=0\n"
     ]
    },
    {
     "data": {
      "text/plain": [
       "3"
      ]
     },
     "execution_count": 220,
     "metadata": {},
     "output_type": "execute_result"
    }
   ],
   "source": [
    "soma(b=2, a=1)"
   ]
  },
  {
   "cell_type": "code",
   "execution_count": 221,
   "metadata": {
    "executionInfo": {
     "elapsed": 225,
     "status": "ok",
     "timestamp": 1665446631950,
     "user": {
      "displayName": "Gilberto Kaihami",
      "userId": "07651446941847976228"
     },
     "user_tz": 180
    },
    "id": "IPLWurUfohuL"
   },
   "outputs": [],
   "source": [
    "def soma(a,b, **kwargs):\n",
    "  print(f'a={a}, b={b}, kwargs={kwargs}')\n",
    "  return a + b"
   ]
  },
  {
   "cell_type": "code",
   "execution_count": 222,
   "metadata": {
    "colab": {
     "base_uri": "https://localhost:8080/"
    },
    "executionInfo": {
     "elapsed": 2,
     "status": "ok",
     "timestamp": 1665446642084,
     "user": {
      "displayName": "Gilberto Kaihami",
      "userId": "07651446941847976228"
     },
     "user_tz": 180
    },
    "id": "H-a8MMhyok1e",
    "outputId": "55b74ea5-70b6-45dd-8593-1118e83aa97d"
   },
   "outputs": [
    {
     "name": "stdout",
     "output_type": "stream",
     "text": [
      "a=1, b=2, kwargs={'d': 3, 'e': 4}\n"
     ]
    },
    {
     "data": {
      "text/plain": [
       "3"
      ]
     },
     "execution_count": 222,
     "metadata": {},
     "output_type": "execute_result"
    }
   ],
   "source": [
    "soma(a=1, b=2, d=3, e=4)"
   ]
  },
  {
   "cell_type": "code",
   "execution_count": 224,
   "metadata": {
    "colab": {
     "base_uri": "https://localhost:8080/"
    },
    "executionInfo": {
     "elapsed": 372,
     "status": "ok",
     "timestamp": 1665446675316,
     "user": {
      "displayName": "Gilberto Kaihami",
      "userId": "07651446941847976228"
     },
     "user_tz": 180
    },
    "id": "ARsxnPJfojS_",
    "outputId": "42c2cee2-f0a6-4852-ad7e-8a5c59ccfa57"
   },
   "outputs": [
    {
     "name": "stdout",
     "output_type": "stream",
     "text": [
      "a=1, b=2, kwargs={'d': 3, 'e': 4}\n"
     ]
    },
    {
     "data": {
      "text/plain": [
       "3"
      ]
     },
     "execution_count": 224,
     "metadata": {},
     "output_type": "execute_result"
    }
   ],
   "source": [
    "soma(a=1, b=2, d=3, e=4)"
   ]
  },
  {
   "cell_type": "code",
   "execution_count": 226,
   "metadata": {
    "colab": {
     "base_uri": "https://localhost:8080/"
    },
    "executionInfo": {
     "elapsed": 222,
     "status": "ok",
     "timestamp": 1665446690499,
     "user": {
      "displayName": "Gilberto Kaihami",
      "userId": "07651446941847976228"
     },
     "user_tz": 180
    },
    "id": "JDJXIuqToozt",
    "outputId": "2336e2cc-e6eb-4c60-ea73-9c909bb972bf"
   },
   "outputs": [
    {
     "name": "stdout",
     "output_type": "stream",
     "text": [
      "a=10, b=2, kwargs={'d': 3, 'e': 4}\n"
     ]
    },
    {
     "data": {
      "text/plain": [
       "12"
      ]
     },
     "execution_count": 226,
     "metadata": {},
     "output_type": "execute_result"
    }
   ],
   "source": [
    "soma(10, b=2, d=3, e=4)"
   ]
  },
  {
   "cell_type": "code",
   "execution_count": 228,
   "metadata": {
    "colab": {
     "base_uri": "https://localhost:8080/",
     "height": 132
    },
    "executionInfo": {
     "elapsed": 3,
     "status": "error",
     "timestamp": 1665446747027,
     "user": {
      "displayName": "Gilberto Kaihami",
      "userId": "07651446941847976228"
     },
     "user_tz": 180
    },
    "id": "pvbjp3-Ooqcx",
    "outputId": "3d005551-81da-428d-d510-fc47a703e0b0"
   },
   "outputs": [
    {
     "ename": "SyntaxError",
     "evalue": "ignored",
     "output_type": "error",
     "traceback": [
      "\u001b[0;36m  File \u001b[0;32m\"<ipython-input-228-c3385e259363>\"\u001b[0;36m, line \u001b[0;32m3\u001b[0m\n\u001b[0;31m    soma(b=2, 10, d=3, e=4)\u001b[0m\n\u001b[0m             ^\u001b[0m\n\u001b[0;31mSyntaxError\u001b[0m\u001b[0;31m:\u001b[0m positional argument follows keyword argument\n"
     ]
    }
   ],
   "source": [
    "# Gera um erro quando passamos argumentos posicionais no meio da função\n",
    "# após fornecer argumentos com o nome\n",
    "soma(b=2, 10, d=3, e=4)"
   ]
  },
  {
   "cell_type": "code",
   "execution_count": 229,
   "metadata": {
    "colab": {
     "base_uri": "https://localhost:8080/"
    },
    "executionInfo": {
     "elapsed": 3,
     "status": "ok",
     "timestamp": 1665446821544,
     "user": {
      "displayName": "Gilberto Kaihami",
      "userId": "07651446941847976228"
     },
     "user_tz": 180
    },
    "id": "iD-hp7oFosDd",
    "outputId": "238bdc31-28d6-4c77-dc7a-51230262d2fa"
   },
   "outputs": [
    {
     "name": "stdout",
     "output_type": "stream",
     "text": [
      "a=1, b=2, kwargs={'d': 3, 'e': 4}\n"
     ]
    },
    {
     "data": {
      "text/plain": [
       "3"
      ]
     },
     "execution_count": 229,
     "metadata": {},
     "output_type": "execute_result"
    }
   ],
   "source": [
    "soma(b=2,a=1, d=3, e=4)"
   ]
  },
  {
   "cell_type": "code",
   "execution_count": 230,
   "metadata": {
    "colab": {
     "base_uri": "https://localhost:8080/"
    },
    "executionInfo": {
     "elapsed": 3,
     "status": "ok",
     "timestamp": 1665446835630,
     "user": {
      "displayName": "Gilberto Kaihami",
      "userId": "07651446941847976228"
     },
     "user_tz": 180
    },
    "id": "UcYNsBG9otkH",
    "outputId": "7354fec1-4cec-4b87-c990-d6933d5ff844"
   },
   "outputs": [
    {
     "name": "stdout",
     "output_type": "stream",
     "text": [
      "a=1, b=2, kwargs={'d': 3, 'e': 4}\n"
     ]
    },
    {
     "data": {
      "text/plain": [
       "3"
      ]
     },
     "execution_count": 230,
     "metadata": {},
     "output_type": "execute_result"
    }
   ],
   "source": [
    "soma(1, 2, d=3, e=4)"
   ]
  },
  {
   "cell_type": "code",
   "execution_count": 231,
   "metadata": {
    "executionInfo": {
     "elapsed": 205,
     "status": "ok",
     "timestamp": 1665446943900,
     "user": {
      "displayName": "Gilberto Kaihami",
      "userId": "07651446941847976228"
     },
     "user_tz": 180
    },
    "id": "xURgjIttoyHg"
   },
   "outputs": [],
   "source": [
    "def soma(a, b, *args, **kwargs):\n",
    "  print(f'a={a}, b={b}, args={args}, kwargs={kwargs}')\n",
    "  "
   ]
  },
  {
   "cell_type": "code",
   "execution_count": 233,
   "metadata": {
    "colab": {
     "base_uri": "https://localhost:8080/"
    },
    "executionInfo": {
     "elapsed": 1,
     "status": "ok",
     "timestamp": 1665446977620,
     "user": {
      "displayName": "Gilberto Kaihami",
      "userId": "07651446941847976228"
     },
     "user_tz": 180
    },
    "id": "qLEFLrEMoyE3",
    "outputId": "ff3a6285-8b4d-4052-9de9-632c813fddde"
   },
   "outputs": [
    {
     "name": "stdout",
     "output_type": "stream",
     "text": [
      "a=1, b=2, args=(3, 4, 5, 6), kwargs={'e': 7, 'f': 8}\n"
     ]
    }
   ],
   "source": [
    "soma(1,2,3,4,5,6,e=7, f=8)"
   ]
  },
  {
   "cell_type": "code",
   "execution_count": 235,
   "metadata": {
    "colab": {
     "base_uri": "https://localhost:8080/"
    },
    "executionInfo": {
     "elapsed": 209,
     "status": "ok",
     "timestamp": 1665447012484,
     "user": {
      "displayName": "Gilberto Kaihami",
      "userId": "07651446941847976228"
     },
     "user_tz": 180
    },
    "id": "dIaAFnpPoyCH",
    "outputId": "ec9e5631-19df-45cc-e7fb-01459908a228"
   },
   "outputs": [
    {
     "name": "stdout",
     "output_type": "stream",
     "text": [
      "a=1, b=2, args=(3, 4, 5, 6), kwargs={'e': 7, 'f': 8}\n"
     ]
    }
   ],
   "source": [
    "soma(1,2,3,4,5,6,e=7, f=8)"
   ]
  },
  {
   "cell_type": "code",
   "execution_count": 260,
   "metadata": {
    "executionInfo": {
     "elapsed": 1,
     "status": "ok",
     "timestamp": 1665447752158,
     "user": {
      "displayName": "Gilberto Kaihami",
      "userId": "07651446941847976228"
     },
     "user_tz": 180
    },
    "id": "hppjS2bEox_d"
   },
   "outputs": [],
   "source": [
    "def cadastro(cpf, nome, imprime_dados=[]):\n",
    "  if 'cpf' in imprime_dados and 'nome' in imprime_dados:\n",
    "    print(f'O CPF do usuário cadastrado é {cpf}')\n",
    "    print(f'O nome do usuário cadastrado é {nome}')\n",
    "  elif 'cpf' in imprime_dados:\n",
    "    print(f'O CPF do usuário cadastrado é {cpf}')\n",
    "  elif 'nome' in imprime_dados:\n",
    "    print(f'O nome do usuário cadastrado é {nome}')\n",
    "  else:\n",
    "    print(f'O CPF do usuário cadastrado é {cpf}')\n",
    "    print(f'O nome do usuário cadastrado é {nome}')"
   ]
  },
  {
   "cell_type": "code",
   "execution_count": 261,
   "metadata": {
    "colab": {
     "base_uri": "https://localhost:8080/"
    },
    "executionInfo": {
     "elapsed": 207,
     "status": "ok",
     "timestamp": 1665447767952,
     "user": {
      "displayName": "Gilberto Kaihami",
      "userId": "07651446941847976228"
     },
     "user_tz": 180
    },
    "id": "_IIom9M_o4fy",
    "outputId": "c3742dd1-301c-4830-eaf8-4a7e955c22f5"
   },
   "outputs": [
    {
     "name": "stdout",
     "output_type": "stream",
     "text": [
      "O CPF do usuário cadastrado é 9789412487\n",
      "O nome do usuário cadastrado é Maria da Silva\n"
     ]
    }
   ],
   "source": [
    "cadastro(9789412487, 'Maria da Silva')"
   ]
  },
  {
   "cell_type": "code",
   "execution_count": 262,
   "metadata": {
    "colab": {
     "base_uri": "https://localhost:8080/",
     "height": 166
    },
    "executionInfo": {
     "elapsed": 3,
     "status": "error",
     "timestamp": 1665447780317,
     "user": {
      "displayName": "Gilberto Kaihami",
      "userId": "07651446941847976228"
     },
     "user_tz": 180
    },
    "id": "s3x553J7o6Uk",
    "outputId": "be9dec01-2e87-4b68-bbe8-126636f550f0"
   },
   "outputs": [
    {
     "ename": "TypeError",
     "evalue": "ignored",
     "output_type": "error",
     "traceback": [
      "\u001b[0;31m---------------------------------------------------------------------------\u001b[0m",
      "\u001b[0;31mTypeError\u001b[0m                                 Traceback (most recent call last)",
      "\u001b[0;32m<ipython-input-262-bd6d95a214a8>\u001b[0m in \u001b[0;36m<module>\u001b[0;34m\u001b[0m\n\u001b[0;32m----> 1\u001b[0;31m \u001b[0mcadastro\u001b[0m\u001b[0;34m(\u001b[0m\u001b[0;36m9789412487\u001b[0m\u001b[0;34m)\u001b[0m\u001b[0;34m\u001b[0m\u001b[0;34m\u001b[0m\u001b[0m\n\u001b[0m",
      "\u001b[0;31mTypeError\u001b[0m: cadastro() missing 1 required positional argument: 'nome'"
     ]
    }
   ],
   "source": [
    "cadastro(9789412487)"
   ]
  },
  {
   "cell_type": "code",
   "execution_count": 263,
   "metadata": {
    "colab": {
     "base_uri": "https://localhost:8080/"
    },
    "executionInfo": {
     "elapsed": 207,
     "status": "ok",
     "timestamp": 1665447801852,
     "user": {
      "displayName": "Gilberto Kaihami",
      "userId": "07651446941847976228"
     },
     "user_tz": 180
    },
    "id": "SVCylIWvbIBO",
    "outputId": "4d195d00-1e09-4b72-afb2-4ae437328eb6"
   },
   "outputs": [
    {
     "name": "stdout",
     "output_type": "stream",
     "text": [
      "O nome do usuário cadastrado é Maria da Silva\n"
     ]
    }
   ],
   "source": [
    "cadastro(9789412487, 'Maria da Silva', imprime_dados=['nome'])"
   ]
  },
  {
   "cell_type": "code",
   "execution_count": 264,
   "metadata": {
    "colab": {
     "base_uri": "https://localhost:8080/"
    },
    "executionInfo": {
     "elapsed": 218,
     "status": "ok",
     "timestamp": 1665447808606,
     "user": {
      "displayName": "Gilberto Kaihami",
      "userId": "07651446941847976228"
     },
     "user_tz": 180
    },
    "id": "3fd4KUbubL2_",
    "outputId": "1079300e-74d0-4d8d-88ba-66037a7497bf"
   },
   "outputs": [
    {
     "name": "stdout",
     "output_type": "stream",
     "text": [
      "O CPF do usuário cadastrado é 9789412487\n"
     ]
    }
   ],
   "source": [
    "cadastro(9789412487, 'Maria da Silva', imprime_dados=['cpf'])"
   ]
  },
  {
   "cell_type": "code",
   "execution_count": 265,
   "metadata": {
    "colab": {
     "base_uri": "https://localhost:8080/"
    },
    "executionInfo": {
     "elapsed": 2,
     "status": "ok",
     "timestamp": 1665447816166,
     "user": {
      "displayName": "Gilberto Kaihami",
      "userId": "07651446941847976228"
     },
     "user_tz": 180
    },
    "id": "OxOtT9HAbNNc",
    "outputId": "4f993f3b-56c2-41a8-bb6a-aae08ef9c672"
   },
   "outputs": [
    {
     "name": "stdout",
     "output_type": "stream",
     "text": [
      "O CPF do usuário cadastrado é 9789412487\n",
      "O nome do usuário cadastrado é Maria da Silva\n"
     ]
    }
   ],
   "source": [
    "cadastro(9789412487, 'Maria da Silva', imprime_dados=['cpf', 'nome'])"
   ]
  },
  {
   "cell_type": "markdown",
   "metadata": {
    "id": "SQnTsDr8pA4E"
   },
   "source": [
    " Podemos modificar a função para que um usuário possa fornecer unicamente seu nome e CPF; ou ambos, opcionalmente."
   ]
  },
  {
   "cell_type": "code",
   "execution_count": 267,
   "metadata": {
    "executionInfo": {
     "elapsed": 299,
     "status": "ok",
     "timestamp": 1665448035337,
     "user": {
      "displayName": "Gilberto Kaihami",
      "userId": "07651446941847976228"
     },
     "user_tz": 180
    },
    "id": "81Z0OVkQpFiB"
   },
   "outputs": [],
   "source": [
    "def cadastro(cpf, nome=None, imprime_dados=[]):\n",
    "  if 'cpf' in imprime_dados and 'nome' in imprime_dados:\n",
    "    if nome is not None:\n",
    "      print(f'O nome do usuário cadastrado é {nome}')\n",
    "    else:\n",
    "      print(f'O nome do usuário não foi cadastrado')\n",
    "    print(f'O CPF do usuário cadastrado é {cpf}')\n",
    "  elif 'cpf' in imprime_dados:\n",
    "    print(f'O CPF do usuário cadastrado é {cpf}')\n",
    "  elif 'nome' in imprime_dados:\n",
    "    if nome is not None:\n",
    "      print(f'O nome do usuário cadastrado é {nome}')\n",
    "    else:\n",
    "      print(f'O nome do usuário não foi cadastrado')\n",
    "  else:\n",
    "    print(f'O CPF do usuário cadastrado é {cpf}')\n",
    "    if nome is not None:\n",
    "      print(f'O nome do usuário cadastrado é {nome}')\n",
    "    else:\n",
    "      print(f'O nome do usuário não foi cadastrado')"
   ]
  },
  {
   "cell_type": "code",
   "execution_count": 269,
   "metadata": {
    "colab": {
     "base_uri": "https://localhost:8080/"
    },
    "executionInfo": {
     "elapsed": 2,
     "status": "ok",
     "timestamp": 1665448047263,
     "user": {
      "displayName": "Gilberto Kaihami",
      "userId": "07651446941847976228"
     },
     "user_tz": 180
    },
    "id": "XZYTHhrmpFRP",
    "outputId": "1593c83c-4ade-41f7-f77c-f8d262bb0592"
   },
   "outputs": [
    {
     "name": "stdout",
     "output_type": "stream",
     "text": [
      "O CPF do usuário cadastrado é 9789412487\n",
      "O nome do usuário cadastrado é Maria da Silva\n"
     ]
    }
   ],
   "source": [
    "cadastro(9789412487, 'Maria da Silva')"
   ]
  },
  {
   "cell_type": "code",
   "execution_count": 270,
   "metadata": {
    "colab": {
     "base_uri": "https://localhost:8080/"
    },
    "executionInfo": {
     "elapsed": 217,
     "status": "ok",
     "timestamp": 1665448053796,
     "user": {
      "displayName": "Gilberto Kaihami",
      "userId": "07651446941847976228"
     },
     "user_tz": 180
    },
    "id": "H5f6ERc8pS6i",
    "outputId": "023ca8e2-ee2e-4a0e-c2a9-ee71e7a87cc5"
   },
   "outputs": [
    {
     "name": "stdout",
     "output_type": "stream",
     "text": [
      "O CPF do usuário cadastrado é 9789412487\n",
      "O nome do usuário não foi cadastrado\n"
     ]
    }
   ],
   "source": [
    "cadastro(9789412487)"
   ]
  },
  {
   "cell_type": "code",
   "execution_count": 271,
   "metadata": {
    "colab": {
     "base_uri": "https://localhost:8080/"
    },
    "executionInfo": {
     "elapsed": 2,
     "status": "ok",
     "timestamp": 1665448070824,
     "user": {
      "displayName": "Gilberto Kaihami",
      "userId": "07651446941847976228"
     },
     "user_tz": 180
    },
    "id": "i93CuhP4pY1d",
    "outputId": "d755fec6-6d33-4895-feca-df6e1e47dfe1"
   },
   "outputs": [
    {
     "name": "stdout",
     "output_type": "stream",
     "text": [
      "O CPF do usuário cadastrado é 9789412487\n"
     ]
    }
   ],
   "source": [
    "cadastro(9789412487, 'Maria da Silva', imprime_dados=['cpf'])"
   ]
  },
  {
   "cell_type": "code",
   "execution_count": 272,
   "metadata": {
    "colab": {
     "base_uri": "https://localhost:8080/"
    },
    "executionInfo": {
     "elapsed": 2,
     "status": "ok",
     "timestamp": 1665448080275,
     "user": {
      "displayName": "Gilberto Kaihami",
      "userId": "07651446941847976228"
     },
     "user_tz": 180
    },
    "id": "pnMzA63Zo-_Z",
    "outputId": "eca0eab8-4fa6-401a-b2d5-a8ddbf1e9e9b"
   },
   "outputs": [
    {
     "name": "stdout",
     "output_type": "stream",
     "text": [
      "O nome do usuário cadastrado é Maria da Silva\n",
      "O CPF do usuário cadastrado é 9789412487\n"
     ]
    }
   ],
   "source": [
    "cadastro(9789412487, 'Maria da Silva', imprime_dados=['cpf', 'nome'])"
   ]
  },
  {
   "cell_type": "code",
   "execution_count": 273,
   "metadata": {
    "colab": {
     "base_uri": "https://localhost:8080/"
    },
    "executionInfo": {
     "elapsed": 237,
     "status": "ok",
     "timestamp": 1665448091591,
     "user": {
      "displayName": "Gilberto Kaihami",
      "userId": "07651446941847976228"
     },
     "user_tz": 180
    },
    "id": "50VdoYxrpEFS",
    "outputId": "4ec17615-fc55-4391-fc0d-d616b0b7d6c3"
   },
   "outputs": [
    {
     "name": "stdout",
     "output_type": "stream",
     "text": [
      "O nome do usuário não foi cadastrado\n"
     ]
    }
   ],
   "source": [
    "cadastro(9789412487, imprime_dados=['nome'])"
   ]
  },
  {
   "cell_type": "code",
   "execution_count": 277,
   "metadata": {
    "executionInfo": {
     "elapsed": 1,
     "status": "ok",
     "timestamp": 1665448333284,
     "user": {
      "displayName": "Gilberto Kaihami",
      "userId": "07651446941847976228"
     },
     "user_tz": 180
    },
    "id": "m75VsImMpjHo"
   },
   "outputs": [],
   "source": [
    "# Refatoramento do código acima\n",
    "def cadastro(cpf, nome=None, imprime_dados=[]):\n",
    "  if nome is not None:\n",
    "    retorno_nome = f'O nome do usuário cadastrado é {nome}'\n",
    "  else:\n",
    "    retorno_nome = f'O nome do usuário não foi cadastrado'\n",
    "\n",
    "  retorno_cpf = f'O CPF do usuário cadastrado é {cpf}'\n",
    "\n",
    "  if 'cpf' in imprime_dados and 'nome' in imprime_dados:\n",
    "    print(retorno_nome)\n",
    "    print(retorno_cpf)\n",
    "  elif 'cpf' in imprime_dados:\n",
    "    print(retorno_cpf)\n",
    "  elif 'nome' in imprime_dados:\n",
    "    print(retorno_nome)\n",
    "  else:\n",
    "    print(retorno_nome)\n",
    "    print(retorno_cpf)\n"
   ]
  },
  {
   "cell_type": "code",
   "execution_count": 278,
   "metadata": {
    "colab": {
     "base_uri": "https://localhost:8080/"
    },
    "executionInfo": {
     "elapsed": 2,
     "status": "ok",
     "timestamp": 1665448335006,
     "user": {
      "displayName": "Gilberto Kaihami",
      "userId": "07651446941847976228"
     },
     "user_tz": 180
    },
    "id": "ntqdoTAMpkD3",
    "outputId": "47ae3f90-9932-45c8-eae5-308c5189b675"
   },
   "outputs": [
    {
     "name": "stdout",
     "output_type": "stream",
     "text": [
      "O nome do usuário cadastrado é Maria da Silva\n",
      "O CPF do usuário cadastrado é 9789412487\n"
     ]
    }
   ],
   "source": [
    "cadastro(9789412487, 'Maria da Silva', imprime_dados=['cpf', 'nome'])"
   ]
  },
  {
   "cell_type": "code",
   "execution_count": 276,
   "metadata": {
    "colab": {
     "base_uri": "https://localhost:8080/"
    },
    "executionInfo": {
     "elapsed": 402,
     "status": "ok",
     "timestamp": 1665448241679,
     "user": {
      "displayName": "Gilberto Kaihami",
      "userId": "07651446941847976228"
     },
     "user_tz": 180
    },
    "id": "zxNS363Upl5K",
    "outputId": "b6069cfd-a116-4757-a7c9-6b95fa9d3828"
   },
   "outputs": [
    {
     "name": "stdout",
     "output_type": "stream",
     "text": [
      "O nome do usuário não foi cadastrado\n",
      "O CPF do usuário cadastrado é 9789412487\n"
     ]
    }
   ],
   "source": [
    "cadastro(9789412487, imprime_dados=['cpf', 'nome'])"
   ]
  },
  {
   "cell_type": "code",
   "execution_count": 283,
   "metadata": {
    "executionInfo": {
     "elapsed": 2,
     "status": "ok",
     "timestamp": 1665448601879,
     "user": {
      "displayName": "Gilberto Kaihami",
      "userId": "07651446941847976228"
     },
     "user_tz": 180
    },
    "id": "OMlGvBEUpr9S"
   },
   "outputs": [],
   "source": [
    "def cadastro(**usuario):\n",
    "  \"\"\"\n",
    "  usuarios:\n",
    "    - cpf: corresponde ao cpf do usuario\n",
    "    - nome: corresponde ao nome do usuario\n",
    "  \"\"\"\n",
    "  print('dicionario kwargs:', usuario)\n",
    "  if 'nome' not in usuario and 'cpf' not in usuario:\n",
    "    print('Nenhum cadastro encontrado')\n",
    "  else:\n",
    "    if 'nome' in usuario:\n",
    "      print(f'O nome do usuário cadastrado é {usuario[\"nome\"]}')\n",
    "    if 'cpf' in usuario:\n",
    "      print(f'O cpf do usuário cadastrado é {usuario[\"cpf\"]}')\n"
   ]
  },
  {
   "cell_type": "code",
   "execution_count": 282,
   "metadata": {
    "colab": {
     "base_uri": "https://localhost:8080/"
    },
    "executionInfo": {
     "elapsed": 2,
     "status": "ok",
     "timestamp": 1665448596729,
     "user": {
      "displayName": "Gilberto Kaihami",
      "userId": "07651446941847976228"
     },
     "user_tz": 180
    },
    "id": "ss0zunNnpyJ7",
    "outputId": "94b2193c-1cd2-438e-cffa-49cddf723d28"
   },
   "outputs": [
    {
     "name": "stdout",
     "output_type": "stream",
     "text": [
      "dicionario kwargs {'cpf': 789126478}\n",
      "O cpf do usuário cadastrado é 789126478\n"
     ]
    }
   ],
   "source": [
    "cadastro(cpf=789126478)"
   ]
  },
  {
   "cell_type": "code",
   "execution_count": 284,
   "metadata": {
    "colab": {
     "base_uri": "https://localhost:8080/"
    },
    "executionInfo": {
     "elapsed": 213,
     "status": "ok",
     "timestamp": 1665448628881,
     "user": {
      "displayName": "Gilberto Kaihami",
      "userId": "07651446941847976228"
     },
     "user_tz": 180
    },
    "id": "CVGTEJ-3p3yb",
    "outputId": "aacbcef7-04dd-43b7-f987-738fe1c3462a"
   },
   "outputs": [
    {
     "name": "stdout",
     "output_type": "stream",
     "text": [
      "dicionario kwargs: {'cpf': 789126479, 'nome': 'Maria da Silva'}\n",
      "O nome do usuário cadastrado é Maria da Silva\n",
      "O cpf do usuário cadastrado é 789126479\n"
     ]
    }
   ],
   "source": [
    "cadastro(cpf=789126479, nome='Maria da Silva')"
   ]
  },
  {
   "cell_type": "code",
   "execution_count": 286,
   "metadata": {
    "colab": {
     "base_uri": "https://localhost:8080/"
    },
    "executionInfo": {
     "elapsed": 277,
     "status": "ok",
     "timestamp": 1665448682303,
     "user": {
      "displayName": "Gilberto Kaihami",
      "userId": "07651446941847976228"
     },
     "user_tz": 180
    },
    "id": "GIuRqPtepo8T",
    "outputId": "329ceca3-e966-4343-e552-26a53844558e"
   },
   "outputs": [
    {
     "name": "stdout",
     "output_type": "stream",
     "text": [
      "dicionario kwargs: {'cpf': 789126479, 'nome': 'Maria da Silva', 'imprime_dados': ['cpf'], 'aleatorio': 'abobrinha'}\n",
      "O nome do usuário cadastrado é Maria da Silva\n",
      "O cpf do usuário cadastrado é 789126479\n"
     ]
    }
   ],
   "source": [
    "cadastro(cpf=789126479, nome='Maria da Silva', imprime_dados=['cpf'], aleatorio='abobrinha')"
   ]
  },
  {
   "cell_type": "code",
   "execution_count": 288,
   "metadata": {
    "colab": {
     "base_uri": "https://localhost:8080/"
    },
    "executionInfo": {
     "elapsed": 1,
     "status": "ok",
     "timestamp": 1665448805979,
     "user": {
      "displayName": "Gilberto Kaihami",
      "userId": "07651446941847976228"
     },
     "user_tz": 180
    },
    "id": "oXqltnNPptRE",
    "outputId": "f0874d43-131e-49fa-904a-ba7a676e56a4"
   },
   "outputs": [
    {
     "name": "stdout",
     "output_type": "stream",
     "text": [
      "dicionario kwargs: {'cpf': 48978913487, 'nome': 'Maria da Silva'}\n",
      "O nome do usuário cadastrado é Maria da Silva\n",
      "O cpf do usuário cadastrado é 48978913487\n"
     ]
    }
   ],
   "source": [
    "maria = {\n",
    "    'cpf': 48978913487,\n",
    "    'nome': 'Maria da Silva'\n",
    "}\n",
    "cadastro(cpf=maria['cpf'], nome=maria['nome'])"
   ]
  },
  {
   "cell_type": "code",
   "execution_count": 289,
   "metadata": {
    "colab": {
     "base_uri": "https://localhost:8080/"
    },
    "executionInfo": {
     "elapsed": 1,
     "status": "ok",
     "timestamp": 1665448817075,
     "user": {
      "displayName": "Gilberto Kaihami",
      "userId": "07651446941847976228"
     },
     "user_tz": 180
    },
    "id": "S5xs9J8PfBJ3",
    "outputId": "38073499-480b-453e-ee14-7a830614f178"
   },
   "outputs": [
    {
     "name": "stdout",
     "output_type": "stream",
     "text": [
      "dicionario kwargs: {'cpf': 48978913487, 'nome': 'Maria da Silva'}\n",
      "O nome do usuário cadastrado é Maria da Silva\n",
      "O cpf do usuário cadastrado é 48978913487\n"
     ]
    }
   ],
   "source": [
    "cadastro(**maria)"
   ]
  },
  {
   "cell_type": "markdown",
   "metadata": {
    "id": "EW8TKMDJfUWB"
   },
   "source": [
    "### Curiosidades"
   ]
  },
  {
   "cell_type": "code",
   "execution_count": 294,
   "metadata": {
    "colab": {
     "base_uri": "https://localhost:8080/"
    },
    "executionInfo": {
     "elapsed": 1,
     "status": "ok",
     "timestamp": 1665449029901,
     "user": {
      "displayName": "Gilberto Kaihami",
      "userId": "07651446941847976228"
     },
     "user_tz": 180
    },
    "id": "19PIUZ7MfEMQ",
    "outputId": "f55eafb9-8952-42e0-e7e9-c42769e2db0d"
   },
   "outputs": [
    {
     "name": "stdout",
     "output_type": "stream",
     "text": [
      "[('maca', 1), ('banana', 2), ('uva', 3)]\n",
      "[('maca', 1), ('banana', 2), ('uva', 3)]\n",
      "[('maca', 'banana', 'uva'), (1, 2, 3)]\n"
     ]
    }
   ],
   "source": [
    "frutas = ['maca', 'banana', 'uva']\n",
    "quantidade = [1, 2, 3]\n",
    "frutas_qtd = [(fruta, qtd) for fruta, qtd in zip(frutas, quantidade)]\n",
    "print(frutas_qtd)\n",
    "frutas_qtd_zip = list(zip(frutas, quantidade))\n",
    "print(frutas_qtd_zip)\n",
    "unzip = list(zip(*frutas_qtd))\n",
    "print(unzip)"
   ]
  },
  {
   "cell_type": "code",
   "execution_count": 295,
   "metadata": {
    "colab": {
     "base_uri": "https://localhost:8080/"
    },
    "executionInfo": {
     "elapsed": 3,
     "status": "ok",
     "timestamp": 1665449072421,
     "user": {
      "displayName": "Gilberto Kaihami",
      "userId": "07651446941847976228"
     },
     "user_tz": 180
    },
    "id": "aggKIhbdfWUe",
    "outputId": "275f627d-5fe8-40cf-b2f7-98e3d9d8b62a"
   },
   "outputs": [
    {
     "name": "stdout",
     "output_type": "stream",
     "text": [
      "('maca', 'banana', 'uva')\n",
      "(1, 2, 3)\n"
     ]
    }
   ],
   "source": [
    "for ele in zip(*frutas_qtd):\n",
    "  print(ele)"
   ]
  },
  {
   "cell_type": "code",
   "execution_count": 297,
   "metadata": {
    "colab": {
     "base_uri": "https://localhost:8080/"
    },
    "executionInfo": {
     "elapsed": 2,
     "status": "ok",
     "timestamp": 1665449192182,
     "user": {
      "displayName": "Gilberto Kaihami",
      "userId": "07651446941847976228"
     },
     "user_tz": 180
    },
    "id": "sxCuEJgYfWa2",
    "outputId": "f6bfb896-32ef-4af4-bc1f-7d3d1fcc4cc2"
   },
   "outputs": [
    {
     "data": {
      "text/plain": [
       "{'maca': 1, 'banana': 2, 'uva': 3}"
      ]
     },
     "execution_count": 297,
     "metadata": {},
     "output_type": "execute_result"
    }
   ],
   "source": [
    "# Criando um dicionario com o zip\n",
    "# As chaves serão os elementos da primeira lista\n",
    "# Os valores serão os elementos da segunda lista\n",
    "dict(zip(frutas, quantidade))"
   ]
  },
  {
   "cell_type": "markdown",
   "metadata": {
    "id": "NbZK8RcXqmzx"
   },
   "source": [
    "**Desafio**\n",
    "\n",
    "Crie um sistema de cadastro de produtos. Neste sistema podemos:\n",
    "- Adicionar um novo produto\n",
    "- Remover um produto da base\n",
    "- Consultar quais são os produtos cadastrados\n",
    "- Consultas quais os produtos cadastrados e suas quantidades disponíveis\n",
    "- Adicionar informações extras por produto (descrição por exemplo)\n",
    "- Adicionar ao estoque de um produto\n",
    "- Remover do estoque um produto (nota, o total em estoque não pode ser menor que 0)\n",
    "\n",
    "Para tal crie as seguintes funções:\n",
    "- cadastre_produto\n",
    "- delete_produto\n",
    "- adicione_produto_estoque\n",
    "- remova_produto_estoque\n",
    "- consulte_produtos\n",
    "- consulte_quantidade\n",
    "- consulte_descricao_produto\n",
    "- ative_sistema\n",
    "  - Essa função irá gerenciar todas as funções acima (como um sistema central)\n",
    "\n",
    "Os atributos possíveis são:\n",
    "- Nome do produto\n",
    "- Quantidade do produto\n",
    "- descrição\n",
    "- Informações adicionais"
   ]
  },
  {
   "cell_type": "code",
   "execution_count": null,
   "metadata": {
    "id": "F08f7nhBqYIH"
   },
   "outputs": [],
   "source": [
    "def cadastre_produto():\n",
    "  \"\"\"Essa função cadastra um novo produto com os campos:\n",
    "    - nome do produto (obrigatório)\n",
    "    - quantidade (opcional)\n",
    "    - descrição (opcional)\n",
    "    - outros campos\n",
    "  \"\"\"\n",
    "\n",
    "def delete_produto():\n",
    "  \"\"\" Essa função deleta um produto da base pelo `nome do produto`\n",
    "  \"\"\"\n",
    "\n",
    "def adicione_produto_estoque():\n",
    "  \"\"\" Essa função adiciona ao estoque uma quantidade de um dado produto\n",
    "      Nota: Não pode ser aceito quantidade negativas\n",
    "  \"\"\"\n",
    "\n",
    "def remova_produto_estoque():\n",
    "  \"\"\" Essa função remove do estoque uma quantidade de um dado produto\n",
    "      Nota: Não pode ser aceito quantidade negativas\n",
    "  \"\"\"\n",
    "\n",
    "def consulte_produtos():\n",
    "  \"\"\" Essa função mostra os produtos disponíveis no sistema (somente nome)\n",
    "  \"\"\"\n",
    "\n",
    "def consulte_quantidade():\n",
    "  \"\"\" Essa função mostra os produtos e a quantidade disponíveis no sistema\n",
    "  \"\"\"\n",
    "\n",
    "def consulte_descricao_produto():\n",
    "  \"\"\" Essa função mostra a descrição e as Informações adicionais de um dado produto\n",
    "  \"\"\"\n",
    "\n",
    "def ative_sistema():\n",
    "  \"\"\" Essa função aceita as interações do usuário, coordenando qual ação deve ser tomada\n",
    "      Cada ação refere-se as funções desenvolvidas acima.\n",
    "      Nota: o que fazer se for inserida uma ação inválida?\n",
    "  \"\"\"\n"
   ]
  }
 ],
 "metadata": {
  "colab": {
   "authorship_tag": "ABX9TyPe5C+6JbfXeleP8ejGHdnh",
   "collapsed_sections": [],
   "provenance": []
  },
  "kernelspec": {
   "display_name": "Python 3 (ipykernel)",
   "language": "python",
   "name": "python3"
  },
  "language_info": {
   "codemirror_mode": {
    "name": "ipython",
    "version": 3
   },
   "file_extension": ".py",
   "mimetype": "text/x-python",
   "name": "python",
   "nbconvert_exporter": "python",
   "pygments_lexer": "ipython3",
   "version": "3.9.12"
  }
 },
 "nbformat": 4,
 "nbformat_minor": 1
}
