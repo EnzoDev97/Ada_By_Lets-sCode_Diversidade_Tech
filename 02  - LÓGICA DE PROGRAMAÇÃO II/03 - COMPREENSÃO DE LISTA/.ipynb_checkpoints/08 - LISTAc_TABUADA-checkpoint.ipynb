{
 "cells": [
  {
   "cell_type": "markdown",
   "id": "4f237be8",
   "metadata": {},
   "source": [
    "# 08 - Compreensão de listas usando `for` encadeados"
   ]
  },
  {
   "cell_type": "code",
   "execution_count": 1,
   "id": "cf799fe9",
   "metadata": {},
   "outputs": [
    {
     "name": "stdout",
     "output_type": "stream",
     "text": [
      "1 x 5 = 5\n",
      "1 x 6 = 6\n",
      "1 x 7 = 7\n",
      "2 x 5 = 10\n",
      "2 x 6 = 12\n",
      "2 x 7 = 14\n",
      "3 x 5 = 15\n",
      "3 x 6 = 18\n",
      "3 x 7 = 21\n",
      "4 x 5 = 20\n",
      "4 x 6 = 24\n",
      "4 x 7 = 28\n",
      "5 x 5 = 25\n",
      "5 x 6 = 30\n",
      "5 x 7 = 35\n",
      "6 x 5 = 30\n",
      "6 x 6 = 36\n",
      "6 x 7 = 42\n"
     ]
    }
   ],
   "source": [
    "l1 = [1,2,3,4,5,6]\n",
    "l2 = [5, 6, 7]\n",
    "\n",
    "for num1 in l1:\n",
    "  for num2 in l2:\n",
    "    print(num1, 'x', num2, '=', num1 * num2)"
   ]
  },
  {
   "cell_type": "markdown",
   "id": "7d7ba34c",
   "metadata": {},
   "source": [
    "**como fazer a operação acima com compreensão de listas**"
   ]
  },
  {
   "cell_type": "code",
   "execution_count": 2,
   "id": "12319289",
   "metadata": {},
   "outputs": [
    {
     "data": {
      "text/plain": [
       "[5, 6, 7, 10, 12, 14, 15, 18, 21, 20, 24, 28, 25, 30, 35, 30, 36, 42]"
      ]
     },
     "execution_count": 2,
     "metadata": {},
     "output_type": "execute_result"
    }
   ],
   "source": [
    "l1 = [1,2,3,4,5,6]\n",
    "l2 = [5, 6, 7]\n",
    "\n",
    "[\n",
    "    (num1 * num2)\n",
    "      for num1 in l1\n",
    "      for num2 in l2\n",
    "]"
   ]
  },
  {
   "cell_type": "code",
   "execution_count": 3,
   "id": "9b37187e",
   "metadata": {},
   "outputs": [
    {
     "name": "stdout",
     "output_type": "stream",
     "text": [
      "5\n",
      "6\n",
      "7\n",
      "10\n",
      "12\n",
      "14\n",
      "15\n",
      "18\n",
      "21\n",
      "20\n",
      "24\n",
      "28\n",
      "25\n",
      "30\n",
      "35\n",
      "30\n",
      "36\n",
      "42\n"
     ]
    }
   ],
   "source": [
    "for num1 in l1:\n",
    "  for num2 in l2:\n",
    "    print(num1 * num2)"
   ]
  },
  {
   "cell_type": "code",
   "execution_count": null,
   "id": "99e93a55",
   "metadata": {},
   "outputs": [],
   "source": []
  }
 ],
 "metadata": {
  "kernelspec": {
   "display_name": "Python 3 (ipykernel)",
   "language": "python",
   "name": "python3"
  },
  "language_info": {
   "codemirror_mode": {
    "name": "ipython",
    "version": 3
   },
   "file_extension": ".py",
   "mimetype": "text/x-python",
   "name": "python",
   "nbconvert_exporter": "python",
   "pygments_lexer": "ipython3",
   "version": "3.9.12"
  }
 },
 "nbformat": 4,
 "nbformat_minor": 5
}
