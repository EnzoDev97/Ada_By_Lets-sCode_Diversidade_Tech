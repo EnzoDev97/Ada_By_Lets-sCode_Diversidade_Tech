{
 "cells": [
  {
   "cell_type": "markdown",
   "id": "895da519",
   "metadata": {},
   "source": [
    "### Compreesões de dicionário\n",
    "\n",
    "\n",
    "Da mesma forma que utilizamos compreensão para listas, podemos utilizá-la para dicionários. A diferença é que precisamos, obrigatoriamente, passar um par chave-valor. O exemplo abaixo parte de uma lista de notas e uma lista de alunos e chega em um dicionário associando cada aluno a uma nota."
   ]
  },
  {
   "cell_type": "code",
   "execution_count": 1,
   "id": "8cbb2477",
   "metadata": {},
   "outputs": [
    {
     "name": "stdout",
     "output_type": "stream",
     "text": [
      "{'Desodorante': 10, 'Alface': 4, 'Uva': 2, 'Salgadinho': 3, 'Banana': 5}\n"
     ]
    }
   ],
   "source": [
    "produtos = ['Desodorante', 'Alface', 'Uva', 'Salgadinho', 'Banana']\n",
    "quantidades = [10, 4, 2, 3, 5]\n",
    "\n",
    "cadastros = {produtos[i]: quantidades[i] for i in range(len(produtos))}\n",
    "print(cadastros)"
   ]
  },
  {
   "cell_type": "code",
   "execution_count": 2,
   "id": "d63765dd",
   "metadata": {},
   "outputs": [
    {
     "name": "stdout",
     "output_type": "stream",
     "text": [
      "{'Desodorante': 10, 'Alface': 4, 'Uva': 2, 'Salgadinho': 3, 'Banana': 5}\n"
     ]
    }
   ],
   "source": [
    "produtos = ['Desodorante', 'Alface', 'Uva', 'Salgadinho', 'Banana']\n",
    "quantidades = [10, 4, 2, 3, 5, 10]\n",
    "\n",
    "cadastros = {produtos[i]: quantidades[i] for i in range(len(produtos))}\n",
    "print(cadastros)"
   ]
  },
  {
   "cell_type": "code",
   "execution_count": null,
   "id": "9eaa98ba",
   "metadata": {},
   "outputs": [],
   "source": []
  }
 ],
 "metadata": {
  "kernelspec": {
   "display_name": "Python 3 (ipykernel)",
   "language": "python",
   "name": "python3"
  },
  "language_info": {
   "codemirror_mode": {
    "name": "ipython",
    "version": 3
   },
   "file_extension": ".py",
   "mimetype": "text/x-python",
   "name": "python",
   "nbconvert_exporter": "python",
   "pygments_lexer": "ipython3",
   "version": "3.9.12"
  }
 },
 "nbformat": 4,
 "nbformat_minor": 5
}
