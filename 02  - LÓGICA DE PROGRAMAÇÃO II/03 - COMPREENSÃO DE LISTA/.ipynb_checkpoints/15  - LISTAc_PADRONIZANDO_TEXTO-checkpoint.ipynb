{
 "cells": [
  {
   "cell_type": "markdown",
   "id": "389ee9de",
   "metadata": {},
   "source": [
    "15. Crie uma função que faça uma padronização em textos. Essa padronização os textos deve:\n",
    "    Colocar as letras em minusculas\n",
    "    Remover as acentuações.\n",
    "A função deve retornar uma lista com as palavras desse texto.\n",
    "\n",
    "    Ex:\n",
    "        Entrada: \"A casa é bela\"\n",
    "        saida: ['a', 'casa', 'e', 'bela']\n"
   ]
  },
  {
   "cell_type": "code",
   "execution_count": 6,
   "id": "381fc42a",
   "metadata": {},
   "outputs": [
    {
     "name": "stdout",
     "output_type": "stream",
     "text": [
      "Digite um texto: A CASA É BELA\n",
      "a casa e bela\n"
     ]
    }
   ],
   "source": [
    "dict_acentos = {\n",
    "    'á': 'a',\n",
    "    'à': 'a',\n",
    "    'â': 'a',\n",
    "    'ä': 'a',\n",
    "    'ã': 'a',\n",
    "    'é': 'e',\n",
    "    'ê': 'e',\n",
    "    'ë': 'e',\n",
    "    'í': 'i',\n",
    "    'î': 'i',\n",
    "    'ï': 'i',\n",
    "    'ó': 'o',\n",
    "    'ô': 'o',\n",
    "    'ö': 'o',\n",
    "    'õ': 'o',\n",
    "    'ú': 'u',\n",
    "    'û': 'u',\n",
    "    'ü': 'u',\n",
    "    }\n",
    "\n",
    "t = input('Digite um texto: ')\n",
    "texto = t.lower()\n",
    "str = ''\n",
    "\n",
    "for l in range(len(texto)):\n",
    "    if texto[l] in dict_acentos.keys():\n",
    "        str += dict_acentos[texto[l]]\n",
    "        continue\n",
    "    str += texto[l] \n",
    "\n",
    "print(str)"
   ]
  },
  {
   "cell_type": "code",
   "execution_count": null,
   "id": "eae6eada",
   "metadata": {},
   "outputs": [],
   "source": []
  },
  {
   "cell_type": "code",
   "execution_count": null,
   "id": "799abaf0",
   "metadata": {},
   "outputs": [],
   "source": []
  },
  {
   "cell_type": "code",
   "execution_count": null,
   "id": "00bf0df3",
   "metadata": {},
   "outputs": [],
   "source": []
  },
  {
   "cell_type": "code",
   "execution_count": null,
   "id": "f693c769",
   "metadata": {},
   "outputs": [],
   "source": []
  }
 ],
 "metadata": {
  "kernelspec": {
   "display_name": "Python 3 (ipykernel)",
   "language": "python",
   "name": "python3"
  },
  "language_info": {
   "codemirror_mode": {
    "name": "ipython",
    "version": 3
   },
   "file_extension": ".py",
   "mimetype": "text/x-python",
   "name": "python",
   "nbconvert_exporter": "python",
   "pygments_lexer": "ipython3",
   "version": "3.9.12"
  }
 },
 "nbformat": 4,
 "nbformat_minor": 5
}
