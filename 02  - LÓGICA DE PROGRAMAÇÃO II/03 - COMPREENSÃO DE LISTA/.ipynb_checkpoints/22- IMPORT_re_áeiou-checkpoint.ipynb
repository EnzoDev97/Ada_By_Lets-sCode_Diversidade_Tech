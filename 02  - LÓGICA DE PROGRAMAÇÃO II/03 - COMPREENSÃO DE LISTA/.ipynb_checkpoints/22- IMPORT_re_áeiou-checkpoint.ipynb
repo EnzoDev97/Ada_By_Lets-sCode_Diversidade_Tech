{
 "cells": [
  {
   "cell_type": "code",
   "execution_count": null,
   "id": "f7070240",
   "metadata": {},
   "outputs": [],
   "source": []
  },
  {
   "cell_type": "code",
   "execution_count": 1,
   "id": "e76db2c5",
   "metadata": {},
   "outputs": [
    {
     "data": {
      "text/plain": [
       "'aeiou'"
      ]
     },
     "execution_count": 1,
     "metadata": {},
     "output_type": "execute_result"
    }
   ],
   "source": [
    "dict_acentos = {'á': 'a'}\n",
    "texto = 'áeiou'\n",
    "str = ''\n",
    "\n",
    "for l in range(len(texto)):\n",
    "    \n",
    "    if texto[l] in dict_acentos.keys():\n",
    "        str += dict_acentos[texto[l]]\n",
    "    else:\n",
    "        str += texto[l]\n",
    "str"
   ]
  },
  {
   "cell_type": "code",
   "execution_count": 2,
   "id": "b3dc1fdb",
   "metadata": {},
   "outputs": [
    {
     "data": {
      "text/plain": [
       "'aàãâeiou'"
      ]
     },
     "execution_count": 2,
     "metadata": {},
     "output_type": "execute_result"
    }
   ],
   "source": [
    "texto = 'áàãâeiou'\n",
    "texto = texto.replace('á', 'a').replace('é', 'e')\n",
    "texto"
   ]
  },
  {
   "cell_type": "code",
   "execution_count": 3,
   "id": "30c3de33",
   "metadata": {},
   "outputs": [
    {
     "name": "stdout",
     "output_type": "stream",
     "text": [
      "('aaaaéêẽííou', 4)\n",
      "('aaaaeeeííou', 3)\n"
     ]
    },
    {
     "data": {
      "text/plain": [
       "('aaaaeeeiiou', 2)"
      ]
     },
     "execution_count": 3,
     "metadata": {},
     "output_type": "execute_result"
    }
   ],
   "source": [
    "import re\n",
    "texto = 'áàãâéêẽííou'\n",
    "\n",
    "texto = re.subn('[ãâáà]', 'a', texto)\n",
    "print(texto)\n",
    "texto = re.subn('[éêẽ]', 'e', texto[0])\n",
    "print(texto)\n",
    "texto = re.subn('[í]', 'i', texto[0])\n",
    "texto"
   ]
  },
  {
   "cell_type": "code",
   "execution_count": 4,
   "id": "0910bbac",
   "metadata": {},
   "outputs": [
    {
     "data": {
      "text/plain": [
       "['á', 'é', 'í', 'í']"
      ]
     },
     "execution_count": 4,
     "metadata": {},
     "output_type": "execute_result"
    }
   ],
   "source": [
    "texto = 'áàãâéêẽííou'\n",
    "\n",
    "re.findall('[áéí]', texto)"
   ]
  },
  {
   "cell_type": "code",
   "execution_count": 5,
   "id": "1a23a58a",
   "metadata": {},
   "outputs": [
    {
     "data": {
      "text/plain": [
       "'2,5'"
      ]
     },
     "execution_count": 5,
     "metadata": {},
     "output_type": "execute_result"
    }
   ],
   "source": [
    "texto = '2,5k'\n",
    "re.search('[\\d]*,[\\d]*', texto).group()"
   ]
  },
  {
   "cell_type": "code",
   "execution_count": 6,
   "id": "79a4a1ea",
   "metadata": {},
   "outputs": [
    {
     "data": {
      "text/plain": [
       "'g'"
      ]
     },
     "execution_count": 6,
     "metadata": {},
     "output_type": "execute_result"
    }
   ],
   "source": [
    "texto = '2,5g'\n",
    "re.search('[a-z]', texto).group()"
   ]
  },
  {
   "cell_type": "code",
   "execution_count": null,
   "id": "e5778b89",
   "metadata": {},
   "outputs": [],
   "source": []
  }
 ],
 "metadata": {
  "kernelspec": {
   "display_name": "Python 3 (ipykernel)",
   "language": "python",
   "name": "python3"
  },
  "language_info": {
   "codemirror_mode": {
    "name": "ipython",
    "version": 3
   },
   "file_extension": ".py",
   "mimetype": "text/x-python",
   "name": "python",
   "nbconvert_exporter": "python",
   "pygments_lexer": "ipython3",
   "version": "3.9.12"
  }
 },
 "nbformat": 4,
 "nbformat_minor": 5
}
