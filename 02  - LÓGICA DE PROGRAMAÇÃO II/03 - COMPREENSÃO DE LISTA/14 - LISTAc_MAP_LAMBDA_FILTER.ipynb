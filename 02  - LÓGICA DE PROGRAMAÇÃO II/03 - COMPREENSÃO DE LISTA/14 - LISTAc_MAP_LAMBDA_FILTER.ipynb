{
 "cells": [
  {
   "cell_type": "markdown",
   "id": "3441491c",
   "metadata": {},
   "source": [
    "# 14 - Utilizando map() , lambda() e filter()"
   ]
  },
  {
   "cell_type": "code",
   "execution_count": null,
   "id": "ba87d098",
   "metadata": {},
   "outputs": [],
   "source": [
    "\n",
    "lista_teste = [2, 3, 4, 5, 6]\n",
    "lista_teste1 = [1, 2, 3, 4]\n",
    "lista_teste2 = [7, 8, 9, 10]\n",
    "list_map = list(map(lambda x: x*3 if x % 2 == 1 else x, lista_teste))\n",
    "list_map"
   ]
  },
  {
   "cell_type": "code",
   "execution_count": 2,
   "id": "ad3dda47",
   "metadata": {},
   "outputs": [
    {
     "data": {
      "text/plain": [
       "[9, 10]"
      ]
     },
     "execution_count": 2,
     "metadata": {},
     "output_type": "execute_result"
    }
   ],
   "source": [
    "dict_notas = {'Telson': 8, \"Ana\": 9}\n",
    "\n",
    "notas = list(map(lambda x: x+1, dict_notas.values()))\n",
    "notas"
   ]
  },
  {
   "cell_type": "code",
   "execution_count": 3,
   "id": "08da8c45",
   "metadata": {},
   "outputs": [
    {
     "name": "stdout",
     "output_type": "stream",
     "text": [
      "0.26988792419433594 método for\n",
      "0.24038290977478027 list comprehension\n",
      "0.28326916694641113 lambda\n"
     ]
    }
   ],
   "source": [
    "import time\n",
    "start_time = time.time()\n",
    "\n",
    "lista1 = list(range(1000000))\n",
    "for i in lista1:\n",
    "    lista1[i] = i ** 2\n",
    "print(f\"{(time.time() - start_time)} método for\")\n",
    "\n",
    "start_time = time.time()\n",
    "lista2 = list(range(1000000))\n",
    "lista2 = [i ** 2 for i in lista2]\n",
    "print(f\"{(time.time() - start_time)} list comprehension\")\n",
    "\n",
    "start_time = time.time()\n",
    "lista3 = list(range(1000000))\n",
    "lista3 = list(map(lambda i: (i) ** 2, lista3))\n",
    "print(f\"{(time.time() - start_time)} lambda\")"
   ]
  },
  {
   "cell_type": "code",
   "execution_count": null,
   "id": "b05ccfb1",
   "metadata": {},
   "outputs": [],
   "source": []
  }
 ],
 "metadata": {
  "kernelspec": {
   "display_name": "Python 3 (ipykernel)",
   "language": "python",
   "name": "python3"
  },
  "language_info": {
   "codemirror_mode": {
    "name": "ipython",
    "version": 3
   },
   "file_extension": ".py",
   "mimetype": "text/x-python",
   "name": "python",
   "nbconvert_exporter": "python",
   "pygments_lexer": "ipython3",
   "version": "3.9.12"
  }
 },
 "nbformat": 4,
 "nbformat_minor": 5
}
