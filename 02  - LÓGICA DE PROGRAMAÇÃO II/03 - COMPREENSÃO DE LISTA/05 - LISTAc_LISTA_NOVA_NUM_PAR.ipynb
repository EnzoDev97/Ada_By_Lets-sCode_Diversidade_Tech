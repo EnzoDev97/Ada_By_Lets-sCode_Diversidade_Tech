{
 "cells": [
  {
   "cell_type": "markdown",
   "id": "0e4407c1",
   "metadata": {},
   "source": [
    "# 05 -  Pegar apenas os números pares e criar uma nova lista\n"
   ]
  },
  {
   "cell_type": "code",
   "execution_count": 1,
   "id": "a4d95046",
   "metadata": {},
   "outputs": [
    {
     "name": "stdout",
     "output_type": "stream",
     "text": [
      "[2, 4, 10, 42]\n"
     ]
    }
   ],
   "source": [
    "# Pegar apenas os números pares e criar uma nova lista\n",
    "lista = [1, 2, 3, 4, 5, 10, 21, 23, 25, 51, 42]\n",
    "\n",
    "# Forma com for\n",
    "lista_pares = []\n",
    "for num in lista:\n",
    "  if num % 2 == 0:\n",
    "    lista_pares.append(num)\n",
    "print(lista_pares)"
   ]
  },
  {
   "cell_type": "code",
   "execution_count": 3,
   "id": "05dac9e4",
   "metadata": {},
   "outputs": [
    {
     "name": "stdout",
     "output_type": "stream",
     "text": [
      "[2, 4, 10, 42]\n",
      "[2, 4, 10, 42]\n"
     ]
    }
   ],
   "source": [
    "lista_pares_comp = [\n",
    "    num for num in lista if num % 2 ==0\n",
    "]\n",
    "\n",
    "print(lista_pares)\n",
    "print(lista_pares_comp)"
   ]
  },
  {
   "cell_type": "code",
   "execution_count": null,
   "id": "09ebca13",
   "metadata": {},
   "outputs": [],
   "source": []
  }
 ],
 "metadata": {
  "kernelspec": {
   "display_name": "Python 3 (ipykernel)",
   "language": "python",
   "name": "python3"
  },
  "language_info": {
   "codemirror_mode": {
    "name": "ipython",
    "version": 3
   },
   "file_extension": ".py",
   "mimetype": "text/x-python",
   "name": "python",
   "nbconvert_exporter": "python",
   "pygments_lexer": "ipython3",
   "version": "3.9.12"
  }
 },
 "nbformat": 4,
 "nbformat_minor": 5
}
