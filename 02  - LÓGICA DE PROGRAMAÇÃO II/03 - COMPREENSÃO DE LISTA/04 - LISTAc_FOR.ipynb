{
 "cells": [
  {
   "cell_type": "markdown",
   "id": "f1d326b5",
   "metadata": {},
   "source": [
    "## 04 - UTILIZANDO FOR PARA MUTIPLICAR DADOS DENTRO DE UMA LISTA"
   ]
  },
  {
   "cell_type": "code",
   "execution_count": 3,
   "id": "8105cfe5",
   "metadata": {},
   "outputs": [
    {
     "name": "stdout",
     "output_type": "stream",
     "text": [
      "For loop [2, 4, 6, 10, 306, -112, -2048]\n",
      "Compreensao de listas [2, 4, 6, 10, 306, -112, -2048]\n"
     ]
    }
   ],
   "source": [
    "numeros = [1, 2, 3, 5, 153, -56, -1024]\n",
    "dobro_numeros = [2, 4, 6, 10, 306, -112, -2048]\n",
    "\n",
    "dobro_numeros_compreensao_de_listas = [\n",
    "    numero * 2 for numero in numeros\n",
    "]\n",
    "print('For loop', dobro_numeros)\n",
    "print('Compreensao de listas', dobro_numeros_compreensao_de_listas)"
   ]
  },
  {
   "cell_type": "code",
   "execution_count": null,
   "id": "87a71403",
   "metadata": {},
   "outputs": [],
   "source": []
  }
 ],
 "metadata": {
  "kernelspec": {
   "display_name": "Python 3 (ipykernel)",
   "language": "python",
   "name": "python3"
  },
  "language_info": {
   "codemirror_mode": {
    "name": "ipython",
    "version": 3
   },
   "file_extension": ".py",
   "mimetype": "text/x-python",
   "name": "python",
   "nbconvert_exporter": "python",
   "pygments_lexer": "ipython3",
   "version": "3.9.12"
  }
 },
 "nbformat": 4,
 "nbformat_minor": 5
}
