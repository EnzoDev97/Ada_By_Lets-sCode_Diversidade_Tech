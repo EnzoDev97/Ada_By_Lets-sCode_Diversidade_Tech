{
 "cells": [
  {
   "cell_type": "markdown",
   "id": "7c19d847",
   "metadata": {},
   "source": [
    "**Drops**\n",
    "\n",
    "Remova todas as vogais de uma dada string utilizando compreesões de lista.\n",
    "\n",
    "Por exemplo em:  \n",
    "`\"banana\"`\n",
    "O retorno deve ser:  \n",
    "`\"bnn\"`\n",
    "\n",
    "Lembre da operação `\"\".join()`"
   ]
  },
  {
   "cell_type": "code",
   "execution_count": 1,
   "id": "ca16a52e",
   "metadata": {},
   "outputs": [
    {
     "name": "stdout",
     "output_type": "stream",
     "text": [
      "palavra original:  banana\n",
      "palavra sem vogal: bnn\n",
      "------------------------------------\n",
      "palavra original:  abacaxi\n",
      "palavra sem vogal: bcx\n",
      "------------------------------------\n",
      "palavra original:  mamao\n",
      "palavra sem vogal: mm\n",
      "------------------------------------\n",
      "palavra original:  uva\n",
      "palavra sem vogal: v\n",
      "------------------------------------\n",
      "palavra original:  acerola\n",
      "palavra sem vogal: crl\n",
      "------------------------------------\n"
     ]
    }
   ],
   "source": [
    "string = \"banana\"\n",
    "string2 = \"abacaxi\"\n",
    "string3 = \"mamao\"\n",
    "string4 = \"uva\"\n",
    "string5 = 'acerola'\n",
    "\n",
    "# A solução vai aqui\n",
    "lista_strings = [\n",
    "    string, string2, string3, string4, string5\n",
    "]\n",
    "\n",
    "for palavra in lista_strings:\n",
    "  palavra_sem_vogal = ''.join([char for char in palavra if char not in 'aeiou']) # podemos passar a lista também\n",
    "  print('palavra original: ', palavra)\n",
    "  print('palavra sem vogal:', palavra_sem_vogal)\n",
    "  print('-'*36)"
   ]
  },
  {
   "cell_type": "markdown",
   "id": "7890dad1",
   "metadata": {},
   "source": [
    "**Utilizando compreesão de lista encadeadas.**"
   ]
  },
  {
   "cell_type": "code",
   "execution_count": 2,
   "id": "c72a6a6e",
   "metadata": {},
   "outputs": [
    {
     "name": "stdout",
     "output_type": "stream",
     "text": [
      "True\n"
     ]
    },
    {
     "data": {
      "text/plain": [
       "False"
      ]
     },
     "execution_count": 2,
     "metadata": {},
     "output_type": "execute_result"
    }
   ],
   "source": [
    "# retorna True se PELO MENOS UM elemento é verdadeiro\n",
    "print(any([True, False, True, False]))\n",
    "# Operações realizadas pelo any (((True or False) or True) or False)\n",
    "\n",
    "# O `all` retorna verdadeiro se e somente se TODOS os elementos forem verdadeiros\n",
    "all([True, False, True, False])\n",
    "all([False, False, False])"
   ]
  },
  {
   "cell_type": "code",
   "execution_count": null,
   "id": "b075ce7c",
   "metadata": {},
   "outputs": [],
   "source": []
  }
 ],
 "metadata": {
  "kernelspec": {
   "display_name": "Python 3 (ipykernel)",
   "language": "python",
   "name": "python3"
  },
  "language_info": {
   "codemirror_mode": {
    "name": "ipython",
    "version": 3
   },
   "file_extension": ".py",
   "mimetype": "text/x-python",
   "name": "python",
   "nbconvert_exporter": "python",
   "pygments_lexer": "ipython3",
   "version": "3.9.12"
  }
 },
 "nbformat": 4,
 "nbformat_minor": 5
}
