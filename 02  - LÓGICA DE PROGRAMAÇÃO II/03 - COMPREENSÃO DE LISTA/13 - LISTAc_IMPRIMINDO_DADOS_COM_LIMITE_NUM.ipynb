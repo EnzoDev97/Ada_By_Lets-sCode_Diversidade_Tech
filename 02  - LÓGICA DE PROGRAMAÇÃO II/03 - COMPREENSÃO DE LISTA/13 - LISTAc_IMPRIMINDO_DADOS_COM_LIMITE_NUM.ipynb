{
 "cells": [
  {
   "cell_type": "markdown",
   "id": "5a82f3fe",
   "metadata": {},
   "source": [
    "13 - Utilizando compreensão de dicionário e condicionais, crie um dicionário novo a partir do dicionário `dict`, onde apenas o par `chave`:`valor` acima de 20 estejam presentes no novo dicionário:\n",
    "```\n",
    "dict1 = {'Maça': 3, \"Linguiça\": 30, 'Pera':5, 'Bife': 50}\n",
    "```\n",
    "Nesse caso o novo dicionário deveria conter:\n",
    "```\n",
    "dict2 = { \"Linguiça\": 30, 'Bife': 50}\n",
    "```"
   ]
  },
  {
   "cell_type": "code",
   "execution_count": 1,
   "id": "e6ed8957",
   "metadata": {},
   "outputs": [
    {
     "data": {
      "text/plain": [
       "{'Linguiça': 30, 'Bife': 50}"
      ]
     },
     "execution_count": 1,
     "metadata": {},
     "output_type": "execute_result"
    }
   ],
   "source": [
    "dict1 = {'Maça': 3, \"Linguiça\": 30, 'Pera':5, 'Bife': 50}\n",
    "dict2 = {produto: preco for produto, preco in dict1.items() if preco > 20} # Preencha aqui\n",
    "dict2"
   ]
  },
  {
   "cell_type": "code",
   "execution_count": null,
   "id": "685d1875",
   "metadata": {},
   "outputs": [],
   "source": []
  }
 ],
 "metadata": {
  "kernelspec": {
   "display_name": "Python 3 (ipykernel)",
   "language": "python",
   "name": "python3"
  },
  "language_info": {
   "codemirror_mode": {
    "name": "ipython",
    "version": 3
   },
   "file_extension": ".py",
   "mimetype": "text/x-python",
   "name": "python",
   "nbconvert_exporter": "python",
   "pygments_lexer": "ipython3",
   "version": "3.9.12"
  }
 },
 "nbformat": 4,
 "nbformat_minor": 5
}
