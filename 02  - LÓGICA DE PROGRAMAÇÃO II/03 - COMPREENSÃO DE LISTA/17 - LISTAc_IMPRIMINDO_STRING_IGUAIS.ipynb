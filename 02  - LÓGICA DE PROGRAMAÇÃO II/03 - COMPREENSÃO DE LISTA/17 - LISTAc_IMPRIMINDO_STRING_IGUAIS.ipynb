{
 "cells": [
  {
   "cell_type": "markdown",
   "id": "f2a8d461",
   "metadata": {},
   "source": [
    "17. Utilizando a função criada na questão 1 faça uma função que rece 2 textos e retorna uma lista com as palavras que não estão presentes nos 2 textos, utilizando list comprehension.\n",
    "\n",
    "    EX:\n",
    "        Entrada: \"A casa é bela\", \"É uma bela casa\"\n",
    "        Saida: ['a']"
   ]
  },
  {
   "cell_type": "code",
   "execution_count": 1,
   "id": "f360941b",
   "metadata": {},
   "outputs": [
    {
     "name": "stdout",
     "output_type": "stream",
     "text": [
      "['a']\n"
     ]
    }
   ],
   "source": [
    "import re\n",
    "def facilita_vida(texto):\n",
    "    texto = texto.lower()\n",
    "    texto = re.sub('[éèê]','e',texto)\n",
    "    return texto.split()\n",
    "\n",
    "entrada1 = 'A casa é bela'\n",
    "entrada2 = 'É uma bela casa'\n",
    "\n",
    "L1 = facilita_vida(entrada1)\n",
    "L2 = facilita_vida(entrada2)\n",
    "\n",
    "saida = [e for e in L1 if e not in L2]\n",
    "\n",
    "print(saida)"
   ]
  },
  {
   "cell_type": "code",
   "execution_count": null,
   "id": "a0414ff8",
   "metadata": {},
   "outputs": [],
   "source": []
  }
 ],
 "metadata": {
  "kernelspec": {
   "display_name": "Python 3 (ipykernel)",
   "language": "python",
   "name": "python3"
  },
  "language_info": {
   "codemirror_mode": {
    "name": "ipython",
    "version": 3
   },
   "file_extension": ".py",
   "mimetype": "text/x-python",
   "name": "python",
   "nbconvert_exporter": "python",
   "pygments_lexer": "ipython3",
   "version": "3.9.12"
  }
 },
 "nbformat": 4,
 "nbformat_minor": 5
}
