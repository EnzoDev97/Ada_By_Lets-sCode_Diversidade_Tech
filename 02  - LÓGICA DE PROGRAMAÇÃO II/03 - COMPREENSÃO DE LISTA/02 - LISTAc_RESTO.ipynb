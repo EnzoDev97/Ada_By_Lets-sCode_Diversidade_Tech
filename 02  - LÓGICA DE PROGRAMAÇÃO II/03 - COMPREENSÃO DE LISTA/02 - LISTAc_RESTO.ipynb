{
 "cells": [
  {
   "cell_type": "markdown",
   "id": "a47544a6",
   "metadata": {},
   "source": [
    "## 02 - IMPRIMA O RESULTADO DO RESTO DA DIVISÃO DE UMA LISTA.\n"
   ]
  },
  {
   "cell_type": "code",
   "execution_count": 2,
   "id": "ee95d5b5",
   "metadata": {},
   "outputs": [
    {
     "data": {
      "text/plain": [
       "[3, 5]"
      ]
     },
     "execution_count": 2,
     "metadata": {},
     "output_type": "execute_result"
    }
   ],
   "source": [
    "lista_teste = [2, 3, 4, 5, 6]\n",
    "list_aux_comp = [l for l in lista_teste if l % 2 == 1]\n",
    "list_aux_comp"
   ]
  },
  {
   "cell_type": "code",
   "execution_count": null,
   "id": "2579d04a",
   "metadata": {},
   "outputs": [],
   "source": []
  }
 ],
 "metadata": {
  "kernelspec": {
   "display_name": "Python 3 (ipykernel)",
   "language": "python",
   "name": "python3"
  },
  "language_info": {
   "codemirror_mode": {
    "name": "ipython",
    "version": 3
   },
   "file_extension": ".py",
   "mimetype": "text/x-python",
   "name": "python",
   "nbconvert_exporter": "python",
   "pygments_lexer": "ipython3",
   "version": "3.9.12"
  }
 },
 "nbformat": 4,
 "nbformat_minor": 5
}
