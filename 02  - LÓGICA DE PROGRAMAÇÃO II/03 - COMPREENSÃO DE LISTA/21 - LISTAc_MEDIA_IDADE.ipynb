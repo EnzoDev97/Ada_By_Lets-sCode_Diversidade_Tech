{
 "cells": [
  {
   "cell_type": "markdown",
   "id": "bbe43b55",
   "metadata": {},
   "source": [
    "21. Utilizando o dicionário criado na questão 4 crie uma função que retorna uma lista contendo o nome das pessoas que tem a idade maior do que a média das idades.\n",
    "\n",
    "     EX: \n",
    "        Entrada: {'Ana': 10, 'Júlia':20}\n",
    "        Saida: ['Júlia']"
   ]
  },
  {
   "cell_type": "code",
   "execution_count": 1,
   "id": "89e5a938",
   "metadata": {},
   "outputs": [
    {
     "name": "stdout",
     "output_type": "stream",
     "text": [
      "Digite quantos alunos deseja adicionar: 5\n",
      "\n",
      "\n",
      "Digite o nome do aluno: ENZO\n",
      "Digite a idade do aluno: 24\n",
      "--------------------------------------------------\n",
      "Digite o nome do aluno: LARI\n",
      "Digite a idade do aluno: 29\n",
      "--------------------------------------------------\n",
      "Digite o nome do aluno: JOAO\n",
      "Digite a idade do aluno: 17\n",
      "--------------------------------------------------\n",
      "Digite o nome do aluno: CARLOS\n",
      "Digite a idade do aluno: 15\n",
      "--------------------------------------------------\n",
      "Digite o nome do aluno: NESSA\n",
      "Digite a idade do aluno: 25\n",
      "--------------------------------------------------\n",
      "\n",
      "\n",
      "\u001b[1;31m['ENZO', 'LARI', 'NESSA']\u001b[0m\n"
     ]
    }
   ],
   "source": [
    "def preencheDicionario(dict,nome,idade):\n",
    "    dict[nome] = idade\n",
    "    return dict\n",
    "\n",
    "def maior_idade(dict):\n",
    "    list = [key for key, value in dict.items() if value >= 18]\n",
    "    return list \n",
    "\n",
    "dict_Idade = {}\n",
    "\n",
    "count = int(input('Digite quantos alunos deseja adicionar: '))\n",
    "print('\\n')\n",
    "\n",
    "while count > 0:\n",
    "    nome_aluno = input('\\033[1;33mDigite o nome do aluno: \\033[0m')\n",
    "    idade_aluno = float(input('\\033[1;34mDigite a idade do aluno: '))\n",
    "    print('-'*50)\n",
    "\n",
    "    dict_Idade = preencheDicionario(dict_Idade,nome_aluno,idade_aluno)\n",
    "\n",
    "    count -= 1\n",
    "\n",
    "    \n",
    "print('\\n')\n",
    "maiorIdade = maior_idade(dict_Idade)\n",
    "\n",
    "print('\\033[1;31m{}\\033[0m'.format(maiorIdade))"
   ]
  },
  {
   "cell_type": "code",
   "execution_count": 3,
   "id": "9aa0701c",
   "metadata": {},
   "outputs": [
    {
     "name": "stdout",
     "output_type": "stream",
     "text": [
      "['ENZO', 'LARI', 'NESSA']\n"
     ]
    }
   ],
   "source": [
    "def calcula_media(list_idades):\n",
    "    # x = 0\n",
    "    # media = sum([value for key, value in dict.items()])/len(dict.values())\n",
    "    #  list = [value for key, value in dict.items()]\n",
    "    #  for i in range(len(list)):\n",
    "    #      x += list[i]\n",
    "    return sum(list_idades)/len(list_idades)\n",
    "    \n",
    "def media_high(dict):\n",
    "    media = calcula_media(dict.values())\n",
    "    list = [key for key, value in dict.items() if value > media]\n",
    "    return list\n",
    "\n",
    "print(media_high(dict_Idade))"
   ]
  },
  {
   "cell_type": "markdown",
   "id": "ce37ff95",
   "metadata": {},
   "source": [
    "# Utilizando o dicionário criado na questão 4 crie uma função que retorna uma lista contendo o nome das pessoas que tem a idade menor do que a média das idades.\n",
    "\n",
    "     EX: \n",
    "        Entrada: {'Ana': 10, 'Júlia':20}\n",
    "        Saida: ['Ana']"
   ]
  },
  {
   "cell_type": "code",
   "execution_count": 4,
   "id": "b98a9845",
   "metadata": {},
   "outputs": [
    {
     "name": "stdout",
     "output_type": "stream",
     "text": [
      "['JOAO', 'CARLOS']\n"
     ]
    }
   ],
   "source": [
    "def media_low(dict):\n",
    "    media = calcula_media(dict.values())\n",
    "    list = [key for key, value in dict.items() if value < media]\n",
    "    return list\n",
    "\n",
    "print(media_low(dict_Idade))"
   ]
  },
  {
   "cell_type": "code",
   "execution_count": null,
   "id": "5af692b6",
   "metadata": {},
   "outputs": [],
   "source": []
  }
 ],
 "metadata": {
  "kernelspec": {
   "display_name": "Python 3 (ipykernel)",
   "language": "python",
   "name": "python3"
  },
  "language_info": {
   "codemirror_mode": {
    "name": "ipython",
    "version": 3
   },
   "file_extension": ".py",
   "mimetype": "text/x-python",
   "name": "python",
   "nbconvert_exporter": "python",
   "pygments_lexer": "ipython3",
   "version": "3.9.12"
  }
 },
 "nbformat": 4,
 "nbformat_minor": 5
}
