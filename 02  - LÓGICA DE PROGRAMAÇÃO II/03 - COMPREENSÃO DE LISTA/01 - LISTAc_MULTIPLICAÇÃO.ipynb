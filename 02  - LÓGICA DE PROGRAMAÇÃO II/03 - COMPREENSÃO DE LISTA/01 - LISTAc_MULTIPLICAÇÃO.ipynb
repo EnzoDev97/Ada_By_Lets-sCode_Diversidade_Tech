{
 "cells": [
  {
   "cell_type": "markdown",
   "id": "15412d4f",
   "metadata": {},
   "source": [
    "## 01 - CRIE UMA LISTA E DEPOIS CRIE UM FUSÃO QUE MUTILPLIQUE OS VALORES DA LISTA"
   ]
  },
  {
   "cell_type": "code",
   "execution_count": 1,
   "id": "e412fe81",
   "metadata": {},
   "outputs": [
    {
     "data": {
      "text/plain": [
       "[2, 4, 6]"
      ]
     },
     "execution_count": 1,
     "metadata": {},
     "output_type": "execute_result"
    }
   ],
   "source": [
    "lista_teste = [2, 3, 4, 5, 6]\n",
    "lista_aux = []\n",
    "for l in lista_teste:\n",
    "    if l % 2 == 0:\n",
    "        lista_aux.append(l)\n",
    "lista_aux\n",
    "\n",
    "\n"
   ]
  },
  {
   "cell_type": "code",
   "execution_count": 2,
   "id": "ab64755e",
   "metadata": {},
   "outputs": [
    {
     "data": {
      "text/plain": [
       "[6, 9, 12, 15, 18]"
      ]
     },
     "execution_count": 2,
     "metadata": {},
     "output_type": "execute_result"
    }
   ],
   "source": [
    "def multi(n, val):\n",
    "    return n*val\n",
    "\n",
    "list_aux_comp = [multi(l, 3) for l in lista_teste]\n",
    "list_aux_comp"
   ]
  },
  {
   "cell_type": "code",
   "execution_count": null,
   "id": "8519afbf",
   "metadata": {},
   "outputs": [],
   "source": []
  },
  {
   "cell_type": "code",
   "execution_count": null,
   "id": "ded1818f",
   "metadata": {},
   "outputs": [],
   "source": []
  }
 ],
 "metadata": {
  "kernelspec": {
   "display_name": "Python 3 (ipykernel)",
   "language": "python",
   "name": "python3"
  },
  "language_info": {
   "codemirror_mode": {
    "name": "ipython",
    "version": 3
   },
   "file_extension": ".py",
   "mimetype": "text/x-python",
   "name": "python",
   "nbconvert_exporter": "python",
   "pygments_lexer": "ipython3",
   "version": "3.9.12"
  }
 },
 "nbformat": 4,
 "nbformat_minor": 5
}
