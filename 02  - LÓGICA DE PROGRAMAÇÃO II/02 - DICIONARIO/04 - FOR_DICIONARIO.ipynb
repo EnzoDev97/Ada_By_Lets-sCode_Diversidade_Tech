{
 "cells": [
  {
   "cell_type": "markdown",
   "metadata": {},
   "source": [
    "Dicionários podem ser percorridos com um for. \n",
    "\n",
    "Ao fazer isso, **as chaves serão percorridas** \n",
    "\n",
    "Porém, a partir da chave obtém-se o valor:"
   ]
  },
  {
   "cell_type": "code",
   "execution_count": 52,
   "metadata": {},
   "outputs": [
    {
     "name": "stdout",
     "output_type": "stream",
     "text": [
      "nomes\n",
      "idades\n",
      "cidades\n",
      "filhos\n",
      "alturas\n",
      "trabalho\n"
     ]
    }
   ],
   "source": [
    "# Criando um dicionário de cadastros\n",
    "cadastro = {\n",
    "        'nomes': ['Joãozinho', 'Mariazinha', 'Fulano'],\n",
    " 'idades': [32, 25, 22],\n",
    " 'cidades': ['São Paulo', 'Londres', 'Rio'],\n",
    " 'filhos': [0, 0, 3],\n",
    " 'alturas': [1.8, 1.65, 1.75],\n",
    " 'trabalho': ['Dentista', 'Cientista de Dados', 'Engenheiro']\n",
    "}\n",
    "\n",
    "for chave in cadastro:\n",
    "  print(chave)"
   ]
  },
  {
   "cell_type": "code",
   "execution_count": 53,
   "metadata": {},
   "outputs": [
    {
     "data": {
      "text/plain": [
       "['Joãozinho', 'Mariazinha', 'Fulano']"
      ]
     },
     "execution_count": 53,
     "metadata": {},
     "output_type": "execute_result"
    }
   ],
   "source": [
    "cadastro['nomes']"
   ]
  },
  {
   "cell_type": "code",
   "execution_count": 54,
   "metadata": {},
   "outputs": [
    {
     "name": "stdout",
     "output_type": "stream",
     "text": [
      "chave=nomes, valor=['Joãozinho', 'Mariazinha', 'Fulano']\n",
      "chave=idades, valor=[32, 25, 22]\n",
      "chave=cidades, valor=['São Paulo', 'Londres', 'Rio']\n",
      "chave=filhos, valor=[0, 0, 3]\n",
      "chave=alturas, valor=[1.8, 1.65, 1.75]\n",
      "chave=trabalho, valor=['Dentista', 'Cientista de Dados', 'Engenheiro']\n"
     ]
    }
   ],
   "source": [
    "for chave in cadastro:\n",
    "  print(f'chave={chave}, valor={cadastro[chave]}')"
   ]
  },
  {
   "cell_type": "code",
   "execution_count": 55,
   "metadata": {},
   "outputs": [
    {
     "name": "stdout",
     "output_type": "stream",
     "text": [
      "chave= nomes\n",
      "index: 0 valor: Joãozinho\n",
      "index: 1 valor: Mariazinha\n",
      "index: 2 valor: Fulano\n",
      "--------------------------------\n",
      "chave= idades\n",
      "index: 0 valor: 32\n",
      "index: 1 valor: 25\n",
      "index: 2 valor: 22\n",
      "--------------------------------\n",
      "chave= cidades\n",
      "index: 0 valor: São Paulo\n",
      "index: 1 valor: Londres\n",
      "index: 2 valor: Rio\n",
      "--------------------------------\n",
      "chave= filhos\n",
      "index: 0 valor: 0\n",
      "index: 1 valor: 0\n",
      "index: 2 valor: 3\n",
      "--------------------------------\n",
      "chave= alturas\n",
      "index: 0 valor: 1.8\n",
      "index: 1 valor: 1.65\n",
      "index: 2 valor: 1.75\n",
      "--------------------------------\n",
      "chave= trabalho\n",
      "index: 0 valor: Dentista\n",
      "index: 1 valor: Cientista de Dados\n",
      "index: 2 valor: Engenheiro\n",
      "--------------------------------\n"
     ]
    }
   ],
   "source": [
    "for chave in cadastro:\n",
    "  print('chave=', chave)\n",
    "  for i, elemento in enumerate(cadastro[chave]):\n",
    "    print('index:', i, 'valor:', elemento)\n",
    "  print('-'*32)"
   ]
  },
  {
   "cell_type": "code",
   "execution_count": 56,
   "metadata": {},
   "outputs": [
    {
     "name": "stdout",
     "output_type": "stream",
     "text": [
      "chave= nomes\n",
      "index: 0 valor: Joãozinho\n",
      "index: 1 valor: Mariazinha\n",
      "index: 2 valor: Fulano\n",
      "--------------------------------\n",
      "chave= idades\n",
      "index: 0 valor: 32\n",
      "index: 1 valor: 25\n",
      "index: 2 valor: 22\n",
      "--------------------------------\n",
      "chave= cidades\n",
      "index: 0 valor: São Paulo\n",
      "index: 1 valor: Londres\n",
      "index: 2 valor: Rio\n",
      "--------------------------------\n",
      "chave= filhos\n",
      "index: 0 valor: 0\n",
      "index: 1 valor: 0\n",
      "index: 2 valor: 3\n",
      "--------------------------------\n",
      "chave= alturas\n",
      "index: 0 valor: 1.8\n",
      "index: 1 valor: 1.65\n",
      "index: 2 valor: 1.75\n",
      "--------------------------------\n",
      "chave= trabalho\n",
      "index: 0 valor: Dentista\n",
      "index: 1 valor: Cientista de Dados\n",
      "index: 2 valor: Engenheiro\n",
      "--------------------------------\n"
     ]
    }
   ],
   "source": [
    "for chave in cadastro:\n",
    "  print('chave=', chave)\n",
    "  valor = cadastro[chave]\n",
    "  if isinstance(valor, (tuple, list)):\n",
    "    for i, elemento in enumerate(cadastro[chave]):\n",
    "      print('index:', i, 'valor:', elemento)\n",
    "  elif isinstance(valor, (int, float)):\n",
    "    print('O número é:', valor)\n",
    "  elif isinstance(valor, str):\n",
    "    print('A string é:', valor)\n",
    "  print('-'*32)"
   ]
  },
  {
   "cell_type": "code",
   "execution_count": 57,
   "metadata": {},
   "outputs": [
    {
     "name": "stdout",
     "output_type": "stream",
     "text": [
      "chave nomes\n",
      "valor Joãozinho\n",
      "chave idades\n",
      "valor 32\n",
      "chave cidades\n",
      "valor São Paulo\n",
      "chave filhos\n",
      "valor 0\n",
      "chave alturas\n",
      "valor 1.8\n",
      "chave trabalho\n",
      "valor Dentista\n"
     ]
    }
   ],
   "source": [
    "nome = 'Joãozinho'\n",
    "dados = []\n",
    "index = cadastro['nomes'].index(nome)\n",
    "for chave in cadastro:\n",
    "  print(\"chave\", chave)\n",
    "  valor = cadastro[chave][index]\n",
    "  print(\"valor\", valor)\n",
    "  dados.append(valor)"
   ]
  },
  {
   "cell_type": "code",
   "execution_count": 58,
   "metadata": {},
   "outputs": [
    {
     "data": {
      "text/plain": [
       "('Fulano', 22, 'Rio', 3, 1.75, 'Engenheiro')"
      ]
     },
     "execution_count": 58,
     "metadata": {},
     "output_type": "execute_result"
    }
   ],
   "source": [
    "def pega_dados(cadastro, campo, valor):\n",
    "  dados = []\n",
    "  index = cadastro[campo].index(valor)\n",
    "  for chave in cadastro:\n",
    "    valor = cadastro[chave][index]\n",
    "    dados.append(valor)\n",
    "  return tuple(dados)\n",
    "\n",
    "resultado = pega_dados(cadastro, 'nomes', 'Fulano')\n",
    "resultado\n"
   ]
  },
  {
   "cell_type": "markdown",
   "metadata": {},
   "source": [
    "Mas também é possível acessar apenas os valores do dicionário com o método `values()`"
   ]
  },
  {
   "cell_type": "code",
   "execution_count": 59,
   "metadata": {},
   "outputs": [
    {
     "name": "stdout",
     "output_type": "stream",
     "text": [
      "('Fulano', 22, 'Rio', 3, 1.75, 'Engenheiro')\n"
     ]
    }
   ],
   "source": [
    "nome = 'Fulano'\n",
    "dados = []\n",
    "index = cadastro['nomes'].index(nome)\n",
    "\n",
    "for valor in cadastro.values():\n",
    "  dados.append(valor[index])\n",
    "  \n",
    "dados = tuple(dados)\n",
    "print(dados)"
   ]
  },
  {
   "cell_type": "code",
   "execution_count": null,
   "metadata": {},
   "outputs": [],
   "source": []
  }
 ],
 "metadata": {
  "kernelspec": {
   "display_name": "Python 3 (ipykernel)",
   "language": "python",
   "name": "python3"
  },
  "language_info": {
   "codemirror_mode": {
    "name": "ipython",
    "version": 3
   },
   "file_extension": ".py",
   "mimetype": "text/x-python",
   "name": "python",
   "nbconvert_exporter": "python",
   "pygments_lexer": "ipython3",
   "version": "3.9.12"
  },
  "vscode": {
   "interpreter": {
    "hash": "e8755eff31258cf3f68aa399e6f759d79082959dfad6f58a9830d0e0b06355a5"
   }
  }
 },
 "nbformat": 4,
 "nbformat_minor": 2
}
