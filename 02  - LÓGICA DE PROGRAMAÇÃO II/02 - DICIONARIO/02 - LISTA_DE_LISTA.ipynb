{
 "cells": [
  {
   "cell_type": "markdown",
   "metadata": {},
   "source": [
    "Poderíamos, ao invés de um dicionário, usar uma lista de listas, como abaixo. \n",
    "\n",
    "Porém, neste caso, fica bem menos intuitivo quando queremos selecionar os elementos que representam nomes ou cidades, porque somos obrigado a usar números para indexar, ao invés das chaves."
   ]
  },
  {
   "cell_type": "code",
   "execution_count": 4,
   "metadata": {},
   "outputs": [
    {
     "data": {
      "text/plain": [
       "[['Joãozinho', 'Mariazinha'], [32, 25], [1.8, 1.65]]"
      ]
     },
     "execution_count": 4,
     "metadata": {},
     "output_type": "execute_result"
    }
   ],
   "source": [
    "cadastro = {\n",
    "    'nomes': ['Joãozinho', 'Mariazinha'],\n",
    "    'idades': [32, 25],\n",
    "    'cidades': ['Maua', 'Santo André'],\n",
    "    'filhos': [0, 0],\n",
    "    'alturas': [1.80, 1.65]\n",
    "}\n",
    "\n",
    "nomes = ['Joãozinho', 'Mariazinha']\n",
    "idades = [32, 25]\n",
    "alturas = [1.80, 1.65]\n",
    "\n",
    "cadastro_listas = [\n",
    "    nomes,\n",
    "    idades,\n",
    "    alturas\n",
    "]\n",
    "\n",
    "cadastro_listas\n"
   ]
  },
  {
   "cell_type": "code",
   "execution_count": 5,
   "metadata": {},
   "outputs": [
    {
     "data": {
      "text/plain": [
       "1.8"
      ]
     },
     "execution_count": 5,
     "metadata": {},
     "output_type": "execute_result"
    }
   ],
   "source": [
    "# Pegando altura do Joãozinho utilizando listas de listas\n",
    "cadastro_listas[2][0]"
   ]
  },
  {
   "cell_type": "code",
   "execution_count": 6,
   "metadata": {},
   "outputs": [
    {
     "data": {
      "text/plain": [
       "1.8"
      ]
     },
     "execution_count": 6,
     "metadata": {},
     "output_type": "execute_result"
    }
   ],
   "source": [
    "# Pegando a altura de Joãozinho com dicionários\n",
    "cadastro['alturas'][0]"
   ]
  }
 ],
 "metadata": {
  "kernelspec": {
   "display_name": "Python 3.9.12 ('base')",
   "language": "python",
   "name": "python3"
  },
  "language_info": {
   "codemirror_mode": {
    "name": "ipython",
    "version": 3
   },
   "file_extension": ".py",
   "mimetype": "text/x-python",
   "name": "python",
   "nbconvert_exporter": "python",
   "pygments_lexer": "ipython3",
   "version": "3.9.12"
  },
  "orig_nbformat": 4,
  "vscode": {
   "interpreter": {
    "hash": "e8755eff31258cf3f68aa399e6f759d79082959dfad6f58a9830d0e0b06355a5"
   }
  }
 },
 "nbformat": 4,
 "nbformat_minor": 2
}
