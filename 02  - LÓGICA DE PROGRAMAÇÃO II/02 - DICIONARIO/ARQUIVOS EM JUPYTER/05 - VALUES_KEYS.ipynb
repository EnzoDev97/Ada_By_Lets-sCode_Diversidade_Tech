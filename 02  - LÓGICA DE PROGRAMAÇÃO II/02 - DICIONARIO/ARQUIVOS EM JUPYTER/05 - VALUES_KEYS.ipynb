{
 "cells": [
  {
   "cell_type": "markdown",
   "metadata": {},
   "source": [
    "05 - É possível obter chaves e valores separadamente.\n",
    "\n",
    "Para isso, usamos os métodos `keys()` e `values()`. "
   ]
  },
  {
   "cell_type": "code",
   "execution_count": 40,
   "metadata": {},
   "outputs": [
    {
     "data": {
      "text/plain": [
       "{'nomes': ['Joãozinho', 'Mariazinha', 'Fulano'],\n",
       " 'idades': [32, 25, 22],\n",
       " 'cidades': ['São Paulo', 'Londres', 'Rio'],\n",
       " 'filhos': [0, 0, 3],\n",
       " 'alturas': [1.8, 1.65, 1.75],\n",
       " 'trabalho': ['Dentista', 'Cientista de Dados', 'Engenheiro']}"
      ]
     },
     "execution_count": 40,
     "metadata": {},
     "output_type": "execute_result"
    }
   ],
   "source": [
    "# Criando um dicionário de cadastros\n",
    "cadastro = {\n",
    "'nomes': ['Joãozinho', 'Mariazinha', 'Fulano'],\n",
    " 'idades': [32, 25, 22],\n",
    " 'cidades': ['São Paulo', 'Londres', 'Rio'],\n",
    " 'filhos': [0, 0, 3],\n",
    " 'alturas': [1.8, 1.65, 1.75],\n",
    " 'trabalho': ['Dentista', 'Cientista de Dados', 'Engenheiro']\n",
    "}\n",
    "cadastro "
   ]
  },
  {
   "cell_type": "code",
   "execution_count": 41,
   "metadata": {},
   "outputs": [
    {
     "name": "stdout",
     "output_type": "stream",
     "text": [
      "('Fulano', 22, 'Rio', 3, 1.75, 'Engenheiro')\n"
     ]
    }
   ],
   "source": [
    "nome = 'Fulano'\n",
    "dados = []\n",
    "index = cadastro['nomes'].index(nome)\n",
    "\n",
    "for valor in cadastro.values():\n",
    "  dados.append(valor[index])\n",
    "  \n",
    "dados = tuple(dados)\n",
    "print(dados)"
   ]
  },
  {
   "cell_type": "code",
   "execution_count": 42,
   "metadata": {},
   "outputs": [
    {
     "name": "stdout",
     "output_type": "stream",
     "text": [
      "chaves: dict_keys(['nomes', 'idades', 'cidades', 'filhos', 'alturas', 'trabalho'])\n",
      "----------------------------------------------------------------------------------------------------\n",
      "valores: dict_values([['Joãozinho', 'Mariazinha', 'Fulano'], [32, 25, 22], ['São Paulo', 'Londres', 'Rio'], [0, 0, 3], [1.8, 1.65, 1.75], ['Dentista', 'Cientista de Dados', 'Engenheiro']])\n"
     ]
    }
   ],
   "source": [
    "print('chaves:', cadastro.keys())\n",
    "\n",
    "print('-'*100)\n",
    "\n",
    "print('valores:', cadastro.values())"
   ]
  },
  {
   "cell_type": "markdown",
   "metadata": {},
   "source": [
    "E esses valores podem ser transformados em listas com a função `list()`"
   ]
  },
  {
   "cell_type": "code",
   "execution_count": 43,
   "metadata": {},
   "outputs": [
    {
     "name": "stdout",
     "output_type": "stream",
     "text": [
      "chaves: ['nomes', 'idades', 'cidades', 'filhos', 'alturas', 'trabalho']\n",
      "--------------------------------\n",
      "valores: [['Joãozinho', 'Mariazinha', 'Fulano'], [32, 25, 22], ['São Paulo', 'Londres', 'Rio'], [0, 0, 3], [1.8, 1.65, 1.75], ['Dentista', 'Cientista de Dados', 'Engenheiro']]\n"
     ]
    }
   ],
   "source": [
    "print('chaves:', list(cadastro.keys()))\n",
    "\n",
    "print('-'*32)\n",
    "\n",
    "print('valores:', list(cadastro.values()))"
   ]
  },
  {
   "cell_type": "code",
   "execution_count": 44,
   "metadata": {},
   "outputs": [
    {
     "name": "stdout",
     "output_type": "stream",
     "text": [
      "item=('nomes', ['Joãozinho', 'Mariazinha', 'Fulano'])\n",
      "--------------------------------\n",
      "item=('idades', [32, 25, 22])\n",
      "--------------------------------\n",
      "item=('cidades', ['São Paulo', 'Londres', 'Rio'])\n",
      "--------------------------------\n",
      "item=('filhos', [0, 0, 3])\n",
      "--------------------------------\n",
      "item=('alturas', [1.8, 1.65, 1.75])\n",
      "--------------------------------\n",
      "item=('trabalho', ['Dentista', 'Cientista de Dados', 'Engenheiro'])\n",
      "--------------------------------\n"
     ]
    }
   ],
   "source": [
    "# dict.items() retorna uma tupla\n",
    "for item in cadastro.items():\n",
    "  print(f'item={item}')\n",
    "  print('-'*32)"
   ]
  },
  {
   "cell_type": "code",
   "execution_count": 45,
   "metadata": {},
   "outputs": [
    {
     "name": "stdout",
     "output_type": "stream",
     "text": [
      "chave=nomes\n",
      "valor=['Joãozinho', 'Mariazinha', 'Fulano']\n",
      "--------------------------------\n",
      "chave=idades\n",
      "valor=[32, 25, 22]\n",
      "--------------------------------\n",
      "chave=cidades\n",
      "valor=['São Paulo', 'Londres', 'Rio']\n",
      "--------------------------------\n",
      "chave=filhos\n",
      "valor=[0, 0, 3]\n",
      "--------------------------------\n",
      "chave=alturas\n",
      "valor=[1.8, 1.65, 1.75]\n",
      "--------------------------------\n",
      "chave=trabalho\n",
      "valor=['Dentista', 'Cientista de Dados', 'Engenheiro']\n",
      "--------------------------------\n"
     ]
    }
   ],
   "source": [
    "# Desempacotando a tupla proveniente do `dict.items()` em (<chave>, <valor>)\n",
    "for k, v in cadastro.items():\n",
    "  print(f'chave={k}')\n",
    "  print(f'valor={v}')\n",
    "  print('-'*32)\n"
   ]
  },
  {
   "cell_type": "code",
   "execution_count": 46,
   "metadata": {},
   "outputs": [
    {
     "name": "stdout",
     "output_type": "stream",
     "text": [
      "chave=nomes\n",
      "primeiro Joãozinho\n",
      "segundo Mariazinha\n",
      "terceiro Fulano\n",
      "--------------------------------\n",
      "chave=idades\n",
      "primeiro 32\n",
      "segundo 25\n",
      "terceiro 22\n",
      "--------------------------------\n",
      "chave=cidades\n",
      "primeiro São Paulo\n",
      "segundo Londres\n",
      "terceiro Rio\n",
      "--------------------------------\n",
      "chave=filhos\n",
      "primeiro 0\n",
      "segundo 0\n",
      "terceiro 3\n",
      "--------------------------------\n",
      "chave=alturas\n",
      "primeiro 1.8\n",
      "segundo 1.65\n",
      "terceiro 1.75\n",
      "--------------------------------\n",
      "chave=trabalho\n",
      "primeiro Dentista\n",
      "segundo Cientista de Dados\n",
      "terceiro Engenheiro\n",
      "--------------------------------\n"
     ]
    }
   ],
   "source": [
    "for k, (primeiro, segundo, terceiro) in cadastro.items():\n",
    "  print(f'chave={k}')\n",
    "  print('primeiro',primeiro)\n",
    "  print('segundo',segundo)\n",
    "  print('terceiro',terceiro)\n",
    "  print('-'*32)\n"
   ]
  },
  {
   "cell_type": "code",
   "execution_count": 47,
   "metadata": {},
   "outputs": [
    {
     "name": "stdout",
     "output_type": "stream",
     "text": [
      "chave=nomes\n",
      "primeiro Joãozinho\n",
      "resto ['Mariazinha', 'Fulano']\n",
      "--------------------------------\n",
      "chave=idades\n",
      "primeiro 32\n",
      "resto [25, 22]\n",
      "--------------------------------\n",
      "chave=cidades\n",
      "primeiro São Paulo\n",
      "resto ['Londres', 'Rio']\n",
      "--------------------------------\n",
      "chave=filhos\n",
      "primeiro 0\n",
      "resto [0, 3]\n",
      "--------------------------------\n",
      "chave=alturas\n",
      "primeiro 1.8\n",
      "resto [1.65, 1.75]\n",
      "--------------------------------\n",
      "chave=trabalho\n",
      "primeiro Dentista\n",
      "resto ['Cientista de Dados', 'Engenheiro']\n",
      "--------------------------------\n"
     ]
    }
   ],
   "source": [
    "for k, (primeiro, *resto) in cadastro.items():\n",
    "  print(f'chave={k}')\n",
    "  print('primeiro',primeiro)\n",
    "  print('resto', resto)\n",
    "  print('-'*32)"
   ]
  },
  {
   "cell_type": "code",
   "execution_count": null,
   "metadata": {},
   "outputs": [],
   "source": []
  }
 ],
 "metadata": {
  "kernelspec": {
   "display_name": "Python 3.9.12 ('base')",
   "language": "python",
   "name": "python3"
  },
  "language_info": {
   "codemirror_mode": {
    "name": "ipython",
    "version": 3
   },
   "file_extension": ".py",
   "mimetype": "text/x-python",
   "name": "python",
   "nbconvert_exporter": "python",
   "pygments_lexer": "ipython3",
   "version": "3.9.12"
  },
  "orig_nbformat": 4,
  "vscode": {
   "interpreter": {
    "hash": "e8755eff31258cf3f68aa399e6f759d79082959dfad6f58a9830d0e0b06355a5"
   }
  }
 },
 "nbformat": 4,
 "nbformat_minor": 2
}
