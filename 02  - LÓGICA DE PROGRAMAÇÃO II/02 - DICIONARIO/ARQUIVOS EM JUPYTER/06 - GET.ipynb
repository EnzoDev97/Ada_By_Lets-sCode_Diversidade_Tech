{
 "cells": [
  {
   "cell_type": "markdown",
   "metadata": {},
   "source": [
    "Outra forma de acessar os valores do dicionário é utilizando o método `get`\n",
    "\n",
    "A estrutura do `get` é `get(<chave>, <default>)`\n",
    "\n",
    "Ou seja, podemos definir um valor padrão caso a chave não esteja presente\n",
    "\n",
    "A vantagem do método `get` é quando tentamos acessar uma chave que não está presente no dicionário"
   ]
  },
  {
   "cell_type": "code",
   "execution_count": 7,
   "metadata": {},
   "outputs": [
    {
     "data": {
      "text/plain": [
       "{'nomes': ['Joãozinho', 'Mariazinha', 'Fulano'],\n",
       " 'idades': [32, 25, 22],\n",
       " 'cidades': ['São Paulo', 'Londres', 'Rio'],\n",
       " 'filhos': [0, 0, 3],\n",
       " 'alturas': [1.8, 1.65, 1.75],\n",
       " 'trabalho': ['Dentista', 'Cientista de Dados', 'Engenheiro']}"
      ]
     },
     "execution_count": 7,
     "metadata": {},
     "output_type": "execute_result"
    }
   ],
   "source": [
    "# Criando um dicionário de cadastros\n",
    "cadastro = {\n",
    "'nomes': ['Joãozinho', 'Mariazinha', 'Fulano'],\n",
    " 'idades': [32, 25, 22],\n",
    " 'cidades': ['São Paulo', 'Londres', 'Rio'],\n",
    " 'filhos': [0, 0, 3],\n",
    " 'alturas': [1.8, 1.65, 1.75],\n",
    " 'trabalho': ['Dentista', 'Cientista de Dados', 'Engenheiro']\n",
    "}\n",
    "cadastro \n",
    "\n"
   ]
  },
  {
   "cell_type": "code",
   "execution_count": 8,
   "metadata": {},
   "outputs": [
    {
     "data": {
      "text/plain": [
       "['Joãozinho', 'Mariazinha', 'Fulano']"
      ]
     },
     "execution_count": 8,
     "metadata": {},
     "output_type": "execute_result"
    }
   ],
   "source": [
    "cadastro.get('nomes')"
   ]
  },
  {
   "cell_type": "markdown",
   "metadata": {},
   "source": [
    "**Drops**\n",
    "\n",
    "Utilize o método `get` de dicionário para imprimir o valor da chave \"cor\" de ambos os dicionários (carro_toyota, carro_ford), e caso a chave não esteja presente retorne o valor preto."
   ]
  },
  {
   "cell_type": "code",
   "execution_count": 9,
   "metadata": {},
   "outputs": [
    {
     "name": "stdout",
     "output_type": "stream",
     "text": [
      "toyota preto\n",
      "ford amarelo\n"
     ]
    }
   ],
   "source": [
    "carro_toyota = {\n",
    "    \"modelo\": \"Yaris\",\n",
    "    \"marca\": \"Toyota\",\n",
    "    \"ano\": 2020\n",
    "}\n",
    "\n",
    "carro_ford = {\n",
    "    \"modelo\": \"Mustang\",\n",
    "    \"marca\": \"Ford\",\n",
    "    \"ano\": 1964,\n",
    "    \"cor\": \"amarelo\"\n",
    "}\n",
    "\n",
    "print('toyota', carro_toyota.get('cor', 'preto'))\n",
    "print('ford', carro_ford.get('cor', 'preto'))"
   ]
  },
  {
   "cell_type": "code",
   "execution_count": null,
   "metadata": {},
   "outputs": [],
   "source": []
  }
 ],
 "metadata": {
  "kernelspec": {
   "display_name": "Python 3.9.12 ('base')",
   "language": "python",
   "name": "python3"
  },
  "language_info": {
   "codemirror_mode": {
    "name": "ipython",
    "version": 3
   },
   "file_extension": ".py",
   "mimetype": "text/x-python",
   "name": "python",
   "nbconvert_exporter": "python",
   "pygments_lexer": "ipython3",
   "version": "3.9.12"
  },
  "orig_nbformat": 4,
  "vscode": {
   "interpreter": {
    "hash": "e8755eff31258cf3f68aa399e6f759d79082959dfad6f58a9830d0e0b06355a5"
   }
  }
 },
 "nbformat": 4,
 "nbformat_minor": 2
}
