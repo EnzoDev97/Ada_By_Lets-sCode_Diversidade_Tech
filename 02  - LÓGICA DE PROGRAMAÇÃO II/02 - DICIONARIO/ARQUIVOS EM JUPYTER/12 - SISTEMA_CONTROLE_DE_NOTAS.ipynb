{
 "cells": [
  {
   "cell_type": "markdown",
   "id": "63f2c419",
   "metadata": {},
   "source": [
    "#### Exercício de Revisão Dicionário\n",
    "\n",
    "Sistema de controle de notas:\n",
    "\n",
    "O sistema deve permitir ao usuário adicionar, atualizar e deletar. \n",
    "\n",
    "O sistema deve retornar a média das notas.\n",
    "\n",
    "O sistema deve retornar o nome dos alunos que estão acima da média.\n",
    "\n",
    "O sistema deve retornar o nome dos alunos que estão abaixo da média.\n",
    "\n",
    "O sistema deve ter a opção de sair.\n",
    "\n",
    "dict_notas = {'nome': nota}"
   ]
  },
  {
   "cell_type": "code",
   "execution_count": 7,
   "id": "04638cc6",
   "metadata": {},
   "outputs": [
    {
     "data": {
      "text/plain": [
       "{'chave1': 'valor1'}"
      ]
     },
     "execution_count": 7,
     "metadata": {},
     "output_type": "execute_result"
    }
   ],
   "source": [
    "# CONSTRUINDO UM DICIONARIO\n",
    "\n",
    "dict_notas = {}\n",
    "dict_notas['chave1'] = 'valor1'\n",
    "dict_notas\n"
   ]
  },
  {
   "cell_type": "code",
   "execution_count": 8,
   "id": "ec6203b9",
   "metadata": {},
   "outputs": [
    {
     "data": {
      "text/plain": [
       "{'chave1': 'valor2'}"
      ]
     },
     "execution_count": 8,
     "metadata": {},
     "output_type": "execute_result"
    }
   ],
   "source": [
    "dict_notas['chave1'] = 'valor2'\n",
    "dict_notas"
   ]
  },
  {
   "cell_type": "code",
   "execution_count": 9,
   "id": "a7c7272f",
   "metadata": {},
   "outputs": [],
   "source": [
    "# FUNÇÃO INSERIR INFORMAÇÃO\n",
    "def insert(dict_notas, nome, nota):\n",
    "    dict_notas[nome] = nota\n",
    "    return dict_notas\n",
    "\n",
    "\n",
    "# FUNÇÃO ATUALIZAR NOTAS \n",
    "def update(dict_notas, nome, nota):\n",
    "    if nome in dict_notas.keys():\n",
    "        dict_notas[nome] = nota\n",
    "        return dict_notas\n",
    "        \n",
    "    print('\\033[1;31mAluno não encontrado\\033[0m')\n",
    "    return dict_notas\n",
    "\n",
    "# FUNÇÃO DELETAR \n",
    "def delete(dict_notas, nome):\n",
    "    if nome in dict_notas.keys():\n",
    "        dict_notas.pop(nome)\n",
    "        return dict_notas\n",
    "    \n",
    "     print('\\033[1;31mAluno não encontrado\\033[0m')\n",
    "    return dict_notas\n",
    "\n",
    "def avg(dict_notas):\n",
    "    return sum(dict_notas.values()) / len(dict_notas)\n",
    "\n",
    "def avg_up(dict_notas):\n",
    "    media = avg(dict_notas)\n",
    "\n",
    "    nomes = []\n",
    "    for key, value in dict_notas.items():\n",
    "        if value >= media:\n",
    "            nomes.append(key)\n",
    "    \n",
    "    return nomes\n",
    "\n",
    "def avg_down(dict_notas):\n",
    "    media = avg(dict_notas)\n",
    "    nomes = []\n",
    "\n",
    "    for key, value in dict_notas.items():\n",
    "        if value < media:\n",
    "            nomes.append(key)\n",
    "\n",
    "    return nomes"
   ]
  },
  {
   "cell_type": "code",
   "execution_count": 18,
   "id": "4b985fc2",
   "metadata": {},
   "outputs": [
    {
     "name": "stdout",
     "output_type": "stream",
     "text": [
      "{}\n",
      "\u001b[1;32m1. Insert\u001b[0m\n",
      "\u001b[1;35m2. Update\u001b[0m\n",
      "\u001b[1;31m3. Delete\u001b[0m\n",
      "\u001b[1;33m4. AVG\u001b[0m\n",
      "\u001b[1;34m5. AVG_up\u001b[0m\n",
      "\u001b[1;36m6. AVG_down\u001b[0m\n",
      "\u001b[1;37m7. Sair\u001b[0m\n",
      "1\n",
      "digite o nome: ENZO\n",
      "digite a nota: 9\n",
      "{'ENZO': 9.0}\n",
      "\u001b[1;32m1. Insert\u001b[0m\n",
      "\u001b[1;35m2. Update\u001b[0m\n",
      "\u001b[1;31m3. Delete\u001b[0m\n",
      "\u001b[1;33m4. AVG\u001b[0m\n",
      "\u001b[1;34m5. AVG_up\u001b[0m\n",
      "\u001b[1;36m6. AVG_down\u001b[0m\n",
      "\u001b[1;37m7. Sair\u001b[0m\n",
      "7\n"
     ]
    }
   ],
   "source": [
    "#import curses\n",
    "\n",
    "opc = 0\n",
    "dict_notas = {}\n",
    "while opc < 7:\n",
    "    \n",
    "   \n",
    "    \n",
    "    print(dict_notas)\n",
    "    print('\\033[1;32m1. Insert\\033[0m')\n",
    "    print('\\033[1;35m2. Update\\033[0m')\n",
    "    print('\\033[1;31m3. Delete\\033[0m')\n",
    "    print('\\033[1;33m4. AVG\\033[0m')\n",
    "    print('\\033[1;34m5. AVG_up\\033[0m')\n",
    "    print('\\033[1;36m6. AVG_down\\033[0m')\n",
    "    print('\\033[1;37m7. Sair\\033[0m')\n",
    "\n",
    "    opc = int(input())\n",
    "\n",
    "    if opc == 1:\n",
    "        nome = input(\"digite o nome: \")\n",
    "        nota = float(input(\"digite a nota: \"))\n",
    "        dict_notas = insert(dict_notas, nome, nota)\n",
    "    \n",
    "    elif opc == 2:\n",
    "        nome = input(\"digite o nome: \")\n",
    "        nota = float(input(\"digite a nota: \"))\n",
    "        dict_notas = update(dict_notas, nome, nota)\n",
    "\n",
    "    elif opc == 3:\n",
    "        nome = input(\"digite o nome: \")\n",
    "        dict_notas = delete(dict_notas, nome)\n",
    "\n",
    "    elif opc == 4:\n",
    "        print(avg(dict_notas))\n",
    "    \n",
    "    elif opc == 5:\n",
    "        print(avg_up(dict_notas))\n",
    "    \n",
    "    elif opc == 6:\n",
    "        print(avg_down(dict_notas))\n"
   ]
  },
  {
   "cell_type": "code",
   "execution_count": null,
   "id": "a0fdf531",
   "metadata": {},
   "outputs": [],
   "source": []
  }
 ],
 "metadata": {
  "kernelspec": {
   "display_name": "Python 3 (ipykernel)",
   "language": "python",
   "name": "python3"
  },
  "language_info": {
   "codemirror_mode": {
    "name": "ipython",
    "version": 3
   },
   "file_extension": ".py",
   "mimetype": "text/x-python",
   "name": "python",
   "nbconvert_exporter": "python",
   "pygments_lexer": "ipython3",
   "version": "3.9.12"
  }
 },
 "nbformat": 4,
 "nbformat_minor": 5
}
