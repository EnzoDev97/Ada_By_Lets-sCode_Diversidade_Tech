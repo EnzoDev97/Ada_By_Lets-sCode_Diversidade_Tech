{
 "cells": [
  {
   "cell_type": "markdown",
   "metadata": {},
   "source": []
  },
  {
   "cell_type": "code",
   "execution_count": 6,
   "metadata": {},
   "outputs": [
    {
     "data": {
      "text/plain": [
       "{'modelo': 'Yaris', 'marca': 'Toyota', 'ano': 2020}"
      ]
     },
     "execution_count": 6,
     "metadata": {},
     "output_type": "execute_result"
    }
   ],
   "source": [
    "carro_1 = {\n",
    "    \"modelo\": \"Yaris\",\n",
    "    \"marca\": \"Toyota\",\n",
    "    \"ano\": 2020\n",
    "}\n",
    "\n",
    "carro_2 = {\n",
    "    \"cor\": \"amarelo\"\n",
    "}\n",
    "carro_1"
   ]
  },
  {
   "cell_type": "code",
   "execution_count": 7,
   "metadata": {},
   "outputs": [
    {
     "data": {
      "text/plain": [
       "{'modelo': 'Yaris', 'marca': 'Toyota', 'ano': 2016, 'cor': 'amarelo'}"
      ]
     },
     "execution_count": 7,
     "metadata": {},
     "output_type": "execute_result"
    }
   ],
   "source": [
    "carro_1 = {\n",
    "    \"modelo\": \"Yaris\",\n",
    "    \"marca\": \"Toyota\",\n",
    "    \"ano\": 2020\n",
    "}\n",
    "\n",
    "carro_2 = {\n",
    "    \"cor\": \"amarelo\",\n",
    "    \"ano\": 2016\n",
    "}\n",
    "\n",
    "carro_1.update(carro_2)\n",
    "\n",
    "carro_1"
   ]
  },
  {
   "cell_type": "code",
   "execution_count": null,
   "metadata": {},
   "outputs": [],
   "source": []
  }
 ],
 "metadata": {
  "kernelspec": {
   "display_name": "Python 3.9.12 ('base')",
   "language": "python",
   "name": "python3"
  },
  "language_info": {
   "codemirror_mode": {
    "name": "ipython",
    "version": 3
   },
   "file_extension": ".py",
   "mimetype": "text/x-python",
   "name": "python",
   "nbconvert_exporter": "python",
   "pygments_lexer": "ipython3",
   "version": "3.9.12"
  },
  "orig_nbformat": 4,
  "vscode": {
   "interpreter": {
    "hash": "e8755eff31258cf3f68aa399e6f759d79082959dfad6f58a9830d0e0b06355a5"
   }
  }
 },
 "nbformat": 4,
 "nbformat_minor": 2
}
