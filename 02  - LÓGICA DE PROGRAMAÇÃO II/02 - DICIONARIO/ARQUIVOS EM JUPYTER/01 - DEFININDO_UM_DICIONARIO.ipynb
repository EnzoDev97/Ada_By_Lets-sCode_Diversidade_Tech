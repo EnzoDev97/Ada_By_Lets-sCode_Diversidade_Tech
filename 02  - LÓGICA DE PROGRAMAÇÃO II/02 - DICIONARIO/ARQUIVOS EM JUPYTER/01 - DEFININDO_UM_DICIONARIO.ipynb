{
 "cells": [
  {
   "cell_type": "code",
   "execution_count": 12,
   "metadata": {},
   "outputs": [
    {
     "data": {
      "text/plain": [
       "{'nome': 'Fulano', 'idade': 32, 'cidade': 'BH', 'filhos': 0, 'altura': 1.42}"
      ]
     },
     "execution_count": 12,
     "metadata": {},
     "output_type": "execute_result"
    }
   ],
   "source": [
    "# Definindo um dicionário\n",
    "# Formato\n",
    "# {\n",
    "#     \"chave\": valor,\n",
    "#     \"chave\": valor,\n",
    "#     \"chave\": valor,\n",
    "# }\n",
    "# Valores de um dicionário pode ser qualquer objeto!\n",
    "dicionario_do_fulano = {\n",
    "    'nome': 'Fulano',\n",
    "    'idade': 32,\n",
    "    'cidade': 'BH',\n",
    "    'filhos': 0,\n",
    "    'altura': 1.42\n",
    "}\n",
    "dicionario_do_fulano"
   ]
  },
  {
   "cell_type": "markdown",
   "metadata": {},
   "source": [
    "# Podemos acessar os valores do dicionário a partir das chavesPodemos acessar os valores do dicionário a partir das chaves"
   ]
  },
  {
   "cell_type": "code",
   "execution_count": 13,
   "metadata": {},
   "outputs": [
    {
     "name": "stdout",
     "output_type": "stream",
     "text": [
      "BH\n",
      "Fulano\n"
     ]
    }
   ],
   "source": [
    "print(dicionario_do_fulano['cidade'])\n",
    "print(dicionario_do_fulano['nome'])"
   ]
  },
  {
   "cell_type": "code",
   "execution_count": 14,
   "metadata": {},
   "outputs": [
    {
     "data": {
      "text/plain": [
       "{'nomes': ['Joãozinho', 'Mariazinha'],\n",
       " 'idades': [32, 25],\n",
       " 'cidades': ['Maua', 'Santo André'],\n",
       " 'filhos': [0, 0],\n",
       " 'alturas': [1.8, 1.65]}"
      ]
     },
     "execution_count": 14,
     "metadata": {},
     "output_type": "execute_result"
    }
   ],
   "source": [
    "# Criando um dicionário de cadastros\n",
    "cadastro = {\n",
    "    'nomes': ['Joãozinho', 'Mariazinha'],\n",
    "    'idades': [32, 25],\n",
    "    'cidades': ['Maua', 'Santo André'],\n",
    "    'filhos': [0, 0],\n",
    "    'alturas': [1.80, 1.65]\n",
    "}\n",
    "cadastro"
   ]
  },
  {
   "cell_type": "code",
   "execution_count": 15,
   "metadata": {},
   "outputs": [
    {
     "name": "stdout",
     "output_type": "stream",
     "text": [
      "['Joãozinho', 'Mariazinha']\n",
      "[1.8, 1.65]\n"
     ]
    }
   ],
   "source": [
    "print(cadastro['nomes'])\n",
    "print(cadastro['alturas'])"
   ]
  }
 ],
 "metadata": {
  "kernelspec": {
   "display_name": "Python 3.9.12 ('base')",
   "language": "python",
   "name": "python3"
  },
  "language_info": {
   "codemirror_mode": {
    "name": "ipython",
    "version": 3
   },
   "file_extension": ".py",
   "mimetype": "text/x-python",
   "name": "python",
   "nbconvert_exporter": "python",
   "pygments_lexer": "ipython3",
   "version": "3.9.12"
  },
  "orig_nbformat": 4,
  "vscode": {
   "interpreter": {
    "hash": "e8755eff31258cf3f68aa399e6f759d79082959dfad6f58a9830d0e0b06355a5"
   }
  }
 },
 "nbformat": 4,
 "nbformat_minor": 2
}
