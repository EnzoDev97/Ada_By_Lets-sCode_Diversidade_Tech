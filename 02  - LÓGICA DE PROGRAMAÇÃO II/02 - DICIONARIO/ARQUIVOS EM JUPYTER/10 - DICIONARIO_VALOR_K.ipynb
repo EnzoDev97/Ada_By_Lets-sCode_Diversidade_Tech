{
 "cells": [
  {
   "cell_type": "markdown",
   "metadata": {},
   "source": [
    "**Desafio**\n",
    "\n",
    "Escreva um programa que aceite um inteiro (k) e retorne um dicionário em que a chave é um inteiro de 1 até o valor (k) e os valores são o fatorial desses (1!, 2!, ..., k!).\n",
    "\n",
    "Por exemplo:  \n",
    "Entrada k=1\n",
    "```\n",
    "{1: 1!}\n",
    "```\n",
    "\n",
    "Entrada k=2\n",
    "```\n",
    "{1: 1!,\n",
    " 2: 2!}\n",
    "```\n",
    "\n",
    "Entrada k=5\n",
    "```\n",
    "{1: 1!,\n",
    " 2: 2!,\n",
    " 3: 3!,\n",
    " 4: 4!,\n",
    " 5: 5!}\n",
    "```"
   ]
  },
  {
   "cell_type": "code",
   "execution_count": null,
   "metadata": {},
   "outputs": [],
   "source": []
  }
 ],
 "metadata": {
  "kernelspec": {
   "display_name": "Python 3.9.12 ('base')",
   "language": "python",
   "name": "python3"
  },
  "language_info": {
   "name": "python",
   "version": "3.9.12"
  },
  "orig_nbformat": 4,
  "vscode": {
   "interpreter": {
    "hash": "e8755eff31258cf3f68aa399e6f759d79082959dfad6f58a9830d0e0b06355a5"
   }
  }
 },
 "nbformat": 4,
 "nbformat_minor": 2
}
