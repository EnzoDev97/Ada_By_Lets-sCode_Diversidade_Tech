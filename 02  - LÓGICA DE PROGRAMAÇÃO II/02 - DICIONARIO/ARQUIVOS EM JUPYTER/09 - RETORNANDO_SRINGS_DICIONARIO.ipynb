{
 "cells": [
  {
   "cell_type": "markdown",
   "metadata": {},
   "source": [
    "**Desafio**\n",
    "\n",
    "Escreva um programa que pergunte uma string para a pessoa usuária e retorne um dicionário cujas chaves são os caracteres da string de entrada e os valores a ocorrência de cada caracter na string.\n",
    "\n",
    "Por exemplo:\n",
    "\n",
    "Na string `language` o programa deve retornar o dicionário:\n",
    "\n",
    "```python\n",
    "{'l': 1, 'a': 2, 'n': 1, 'g': 2, 'e': 1}"
   ]
  },
  {
   "cell_type": "code",
   "execution_count": null,
   "metadata": {},
   "outputs": [],
   "source": []
  }
 ],
 "metadata": {
  "kernelspec": {
   "display_name": "Python 3.9.12 ('base')",
   "language": "python",
   "name": "python3"
  },
  "language_info": {
   "name": "python",
   "version": "3.9.12"
  },
  "orig_nbformat": 4,
  "vscode": {
   "interpreter": {
    "hash": "e8755eff31258cf3f68aa399e6f759d79082959dfad6f58a9830d0e0b06355a5"
   }
  }
 },
 "nbformat": 4,
 "nbformat_minor": 2
}
