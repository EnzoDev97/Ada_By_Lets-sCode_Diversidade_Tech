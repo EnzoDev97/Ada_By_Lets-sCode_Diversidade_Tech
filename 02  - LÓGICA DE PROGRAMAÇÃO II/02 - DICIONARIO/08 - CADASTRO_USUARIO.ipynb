{
 "cells": [
  {
   "cell_type": "markdown",
   "metadata": {},
   "source": [
    "**Desafio**\n",
    "Modifique a função cadastrar_usuario abaixo em que serão coletados as seguintes informações a partir da entrada da pessoa usuária:\n",
    "\n",
    "- CPF (essa será a chave)\n",
    "- Nome\n",
    "- Idade\n",
    "- Sexo\n",
    "- Renda\n",
    "- Estado\n",
    "\n",
    "1-) Agora crie uma função que permita descobrir a idade média de pessoas cadastradas pelo sexo (para manter simples, masculino e feminino, representado por m e f, respectivamente (output: (('m', media_masc), ('f', media_fem))).\n",
    "\n",
    "2-) Crie uma função que mostre a quantidade de pessoas por sexo (output: (('m', qtd_masc), ('f', qtd_fem))).\n",
    "\n",
    "\n",
    "3-) Crie uma função que filtre os dados por estado (output: cadastros filtrado)\n",
    "\n",
    "4-) Crie uma função que permita deletar um cadastro por CPF (output: cadastros)\n",
    "\n",
    "\n",
    "```\n",
    "\n",
    "def cadastrar_usuario():\n",
    "  continuar_cadastro = True\n",
    "\n",
    "  cadastros = {}\n",
    "  while continuar_cadastro:\n",
    "    ...\n",
    "\n",
    "def calcule_media_idade_por_sexo():\n",
    "  ...\n",
    "\n",
    "def conte_quantidade_por_sexo():\n",
    "  ...\n",
    "\n",
    "def filtre_dados():\n",
    "  ...\n",
    "\n",
    "def delete_cadastro():\n",
    "  ...\n",
    "```"
   ]
  },
  {
   "cell_type": "code",
   "execution_count": null,
   "metadata": {},
   "outputs": [],
   "source": []
  }
 ],
 "metadata": {
  "language_info": {
   "name": "python"
  },
  "orig_nbformat": 4
 },
 "nbformat": 4,
 "nbformat_minor": 2
}
