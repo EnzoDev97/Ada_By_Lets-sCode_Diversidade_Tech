{
 "cells": [
  {
   "cell_type": "markdown",
   "metadata": {},
   "source": [
    "Considere que temos um dicionário de tamanho N.\n",
    "\n",
    "Com os nomes sendo as chaves e as notas sendo os valores\n",
    "\n",
    "```\n",
    "{'Alex': [10, 5, 3],\n",
    " 'Maria': [5, 7, 6.5],\n",
    " ...}\n",
    "```\n",
    "Escreva um programa que pegue esse dicionário e retorne um novo dicionário com as chaves sendo os nomes dos estudantes e os valores a média de suas notas:\n",
    "\n",
    "```\n",
    "{'Alex': 6.0,\n",
    " 'Maria': 6.16\n",
    " ...\n",
    "```"
   ]
  },
  {
   "cell_type": "code",
   "execution_count": null,
   "metadata": {},
   "outputs": [],
   "source": []
  }
 ],
 "metadata": {
  "kernelspec": {
   "display_name": "Python 3.9.12 ('base')",
   "language": "python",
   "name": "python3"
  },
  "language_info": {
   "name": "python",
   "version": "3.9.12"
  },
  "orig_nbformat": 4,
  "vscode": {
   "interpreter": {
    "hash": "e8755eff31258cf3f68aa399e6f759d79082959dfad6f58a9830d0e0b06355a5"
   }
  }
 },
 "nbformat": 4,
 "nbformat_minor": 2
}
