{
 "cells": [
  {
   "cell_type": "markdown",
   "metadata": {},
   "source": [
    "03 - Para adicionar elementos ao dicionário, não precisamos de uma função pronta (como o append das listas). \n",
    "\n",
    "Basta definir a nova chave como uma variável, e atribuir um novo valor a ela:"
   ]
  },
  {
   "cell_type": "code",
   "execution_count": 87,
   "metadata": {},
   "outputs": [
    {
     "data": {
      "text/plain": [
       "{'nomes': ['Joãozinho', 'Mariazinha'],\n",
       " 'idades': [32, 25],\n",
       " 'cidades': ['Maua', 'Santo André'],\n",
       " 'filhos': [0, 0],\n",
       " 'alturas': [1.8, 1.65],\n",
       " 'pets': ['Bia', 'Luiza']}"
      ]
     },
     "execution_count": 87,
     "metadata": {},
     "output_type": "execute_result"
    }
   ],
   "source": [
    "cadastro = {\n",
    "    'nomes': ['Joãozinho', 'Mariazinha'],\n",
    "    'idades': [32, 25],\n",
    "    'cidades': ['Maua', 'Santo André'],\n",
    "    'filhos': [0, 0],\n",
    "    'alturas': [1.80, 1.65]\n",
    "}\n",
    "\n",
    "# Adicionando uma nova chave no dicionário `cadastro`\n",
    "cadastro['pets'] = ['Bia', 'Luiza']\n",
    "\n",
    "cadastro\n"
   ]
  },
  {
   "cell_type": "markdown",
   "metadata": {},
   "source": [
    "Adicione o par chave-valor \"cor\": \"azul: no dicionário `carro` abaixo"
   ]
  },
  {
   "cell_type": "code",
   "execution_count": 88,
   "metadata": {},
   "outputs": [
    {
     "name": "stdout",
     "output_type": "stream",
     "text": [
      "{'marca': 'Toyota', 'modelo': 'Yaris', 'ano': 1964, 'cor': 'azul'}\n"
     ]
    }
   ],
   "source": [
    "carro = {\n",
    "    'marca': \"Toyota\",\n",
    "    'modelo': \"Yaris\",\n",
    "    \"ano\": 1964\n",
    "}\n",
    "carro['cor'] = 'azul' # PREENCHA AQUI!\n",
    "\n",
    "print(carro)"
   ]
  },
  {
   "cell_type": "markdown",
   "metadata": {},
   "source": [
    "__Para apagar uma chave, utilize o \"pop\"__"
   ]
  },
  {
   "cell_type": "code",
   "execution_count": 89,
   "metadata": {},
   "outputs": [
    {
     "data": {
      "text/plain": [
       "{'nomes': ['Joãozinho', 'Mariazinha'],\n",
       " 'idades': [32, 25],\n",
       " 'cidades': ['Maua', 'Santo André'],\n",
       " 'filhos': [0, 0],\n",
       " 'alturas': [1.8, 1.65]}"
      ]
     },
     "execution_count": 89,
     "metadata": {},
     "output_type": "execute_result"
    }
   ],
   "source": [
    "pets = cadastro.pop('pets')\n",
    "\n",
    "cadastro"
   ]
  },
  {
   "cell_type": "markdown",
   "metadata": {},
   "source": [
    "__Ou, utilize o \"del\"__"
   ]
  },
  {
   "cell_type": "code",
   "execution_count": 90,
   "metadata": {},
   "outputs": [
    {
     "name": "stdout",
     "output_type": "stream",
     "text": [
      "{'nomes': ['Joãozinho', 'Mariazinha'], 'idades': [32, 25], 'cidades': ['Maua', 'Santo André'], 'filhos': [0, 0], 'alturas': [1.8, 1.65], 'pets': ['Bia', 'Luiza']}\n",
      "Dicionário após o `del`\n"
     ]
    },
    {
     "data": {
      "text/plain": [
       "{'nomes': ['Joãozinho', 'Mariazinha'],\n",
       " 'idades': [32, 25],\n",
       " 'cidades': ['Maua', 'Santo André'],\n",
       " 'filhos': [0, 0],\n",
       " 'alturas': [1.8, 1.65]}"
      ]
     },
     "execution_count": 90,
     "metadata": {},
     "output_type": "execute_result"
    }
   ],
   "source": [
    "cadastro['pets'] = pets\n",
    "print(cadastro)\n",
    "del cadastro['pets']\n",
    "print('Dicionário após o `del`')\n",
    "cadastro"
   ]
  },
  {
   "cell_type": "markdown",
   "metadata": {},
   "source": [
    "**Drops**\n",
    "\n",
    "Remova o campo (chave) \"modelo\" do dicionário `carro` abaixo"
   ]
  },
  {
   "cell_type": "code",
   "execution_count": 91,
   "metadata": {},
   "outputs": [
    {
     "name": "stdout",
     "output_type": "stream",
     "text": [
      "{'marca': 'Toyota', 'ano': 1964}\n"
     ]
    }
   ],
   "source": [
    "carro = {\n",
    "    'marca': \"Toyota\",\n",
    "    'modelo': \"Yaris\",\n",
    "    \"ano\": 1964\n",
    "}\n",
    "# carro.pop('modelo')\n",
    "del carro['modelo']\n",
    "\n",
    "print(carro)"
   ]
  },
  {
   "cell_type": "markdown",
   "metadata": {},
   "source": [
    "Alterar os valores também é possível:\n",
    "\n",
    "Posso também alterar elementos individuais dos valores, os indexando\n",
    "\n",
    "(Lembre-se que, neste caso, os valores são listas! Então, devo indexá-las para alterar seus elementos!)"
   ]
  },
  {
   "cell_type": "code",
   "execution_count": 92,
   "metadata": {},
   "outputs": [
    {
     "data": {
      "text/plain": [
       "{'nomes': ['Joãozinho', 'Mariazinha'],\n",
       " 'idades': [32, 25],\n",
       " 'cidades': ['Paris', 'Londres'],\n",
       " 'filhos': [0, 0],\n",
       " 'alturas': [1.8, 1.65]}"
      ]
     },
     "execution_count": 92,
     "metadata": {},
     "output_type": "execute_result"
    }
   ],
   "source": [
    "cadastro['cidades'] = ['Paris', 'Londres']\n",
    "cadastro"
   ]
  },
  {
   "cell_type": "code",
   "execution_count": 93,
   "metadata": {},
   "outputs": [
    {
     "data": {
      "text/plain": [
       "{'nomes': ['Joãozinho', 'Mariazinha'],\n",
       " 'idades': [32, 25],\n",
       " 'cidades': 1,\n",
       " 'filhos': [0, 0],\n",
       " 'alturas': [1.8, 1.65]}"
      ]
     },
     "execution_count": 93,
     "metadata": {},
     "output_type": "execute_result"
    }
   ],
   "source": [
    "# Alteração indevida de valor\n",
    "cadastro['cidades'] = 1\n",
    "cadastro"
   ]
  },
  {
   "cell_type": "code",
   "execution_count": 94,
   "metadata": {},
   "outputs": [
    {
     "data": {
      "text/plain": [
       "{'nomes': ['Joãozinho', 'Mariazinha'],\n",
       " 'idades': [32, 25],\n",
       " 'cidades': ['Paris', 'Londres'],\n",
       " 'filhos': [0, 0],\n",
       " 'alturas': [1.8, 1.65]}"
      ]
     },
     "execution_count": 94,
     "metadata": {},
     "output_type": "execute_result"
    }
   ],
   "source": [
    "cadastro['cidades'] = ['Paris', 'Londres']\n",
    "cadastro"
   ]
  },
  {
   "cell_type": "code",
   "execution_count": 95,
   "metadata": {},
   "outputs": [
    {
     "data": {
      "text/plain": [
       "{'nomes': ['Joãozinho', 'Mariazinha'],\n",
       " 'idades': [32, 25],\n",
       " 'cidades': ['São Paulo', 'Londres'],\n",
       " 'filhos': [0, 0],\n",
       " 'alturas': [1.8, 1.65]}"
      ]
     },
     "execution_count": 95,
     "metadata": {},
     "output_type": "execute_result"
    }
   ],
   "source": [
    "cadastro['cidades'][0] = 'São Paulo'\n",
    "cadastro"
   ]
  },
  {
   "cell_type": "markdown",
   "metadata": {},
   "source": [
    "**Drops**\n",
    "\n",
    "Modifique o ano de fabricação (campo `ano`) de 1964 para 2020 no dicionário abaixo"
   ]
  },
  {
   "cell_type": "code",
   "execution_count": 96,
   "metadata": {},
   "outputs": [
    {
     "data": {
      "text/plain": [
       "{'nomes': ['Joãozinho', 'Mariazinha'],\n",
       " 'idades': [32, 25],\n",
       " 'cidades': ['São Paulo', 'Londres'],\n",
       " 'filhos': [0, 0],\n",
       " 'alturas': [1.8, 1.65],\n",
       " 'trabalho': ('Dentista', 'Cientista de Dados')}"
      ]
     },
     "execution_count": 96,
     "metadata": {},
     "output_type": "execute_result"
    }
   ],
   "source": [
    "cadastro['trabalho'] = ('Dentista', 'Cientista de Dados')\n",
    "cadastro"
   ]
  },
  {
   "cell_type": "code",
   "execution_count": 97,
   "metadata": {},
   "outputs": [
    {
     "data": {
      "text/plain": [
       "{'nomes': ['Joãozinho', 'Mariazinha'],\n",
       " 'idades': [32, 25],\n",
       " 'cidades': ['São Paulo', 'Londres'],\n",
       " 'filhos': [0, 0],\n",
       " 'alturas': [1.8, 1.65],\n",
       " 'trabalho': ['Dentista', 'Cientista de Dados']}"
      ]
     },
     "execution_count": 97,
     "metadata": {},
     "output_type": "execute_result"
    }
   ],
   "source": [
    "cadastro['trabalho'] = ['Dentista', 'Cientista de Dados']\n",
    "cadastro"
   ]
  },
  {
   "cell_type": "code",
   "execution_count": 98,
   "metadata": {},
   "outputs": [
    {
     "data": {
      "text/plain": [
       "{'nomes': ['Joãozinho', 'Mariazinha', 'Fulano'],\n",
       " 'idades': [32, 25, 22],\n",
       " 'cidades': ['São Paulo', 'Londres', 'Rio'],\n",
       " 'filhos': [0, 0, 3],\n",
       " 'alturas': [1.8, 1.65, 1.75],\n",
       " 'trabalho': ['Dentista', 'Cientista de Dados', 'Engenheiro']}"
      ]
     },
     "execution_count": 98,
     "metadata": {},
     "output_type": "execute_result"
    }
   ],
   "source": [
    "cadastro['nomes'].append('Fulano')\n",
    "cadastro['idades'].append(22)\n",
    "cadastro['cidades'].append('Rio')\n",
    "cadastro['filhos'].append(3)\n",
    "cadastro['alturas'].append(1.75)\n",
    "cadastro['trabalho'].append('Engenheiro')\n",
    "cadastro"
   ]
  },
  {
   "cell_type": "code",
   "execution_count": 99,
   "metadata": {},
   "outputs": [
    {
     "name": "stdout",
     "output_type": "stream",
     "text": [
      "Mariazinha 25\n"
     ]
    }
   ],
   "source": [
    "nome, idade = cadastro['nomes'][1], cadastro['idades'][1]\n",
    "print(nome, idade)"
   ]
  }
 ],
 "metadata": {
  "kernelspec": {
   "display_name": "Python 3.9.12 ('base')",
   "language": "python",
   "name": "python3"
  },
  "language_info": {
   "codemirror_mode": {
    "name": "ipython",
    "version": 3
   },
   "file_extension": ".py",
   "mimetype": "text/x-python",
   "name": "python",
   "nbconvert_exporter": "python",
   "pygments_lexer": "ipython3",
   "version": "3.9.12"
  },
  "orig_nbformat": 4,
  "vscode": {
   "interpreter": {
    "hash": "e8755eff31258cf3f68aa399e6f759d79082959dfad6f58a9830d0e0b06355a5"
   }
  }
 },
 "nbformat": 4,
 "nbformat_minor": 2
}
