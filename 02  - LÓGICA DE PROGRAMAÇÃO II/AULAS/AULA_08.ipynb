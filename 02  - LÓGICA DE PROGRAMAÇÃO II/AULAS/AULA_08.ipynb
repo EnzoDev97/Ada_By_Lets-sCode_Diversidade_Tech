{
 "cells": [
  {
   "cell_type": "markdown",
   "metadata": {},
   "source": [
    "# A Aula de hoje será para resolver o trabalho."
   ]
  },
  {
   "cell_type": "code",
   "execution_count": null,
   "metadata": {},
   "outputs": [],
   "source": [
    "list_unidades = ['mil', 'milhao', 'bilhao']\n",
    "\n",
    "#txt = 'um bilhao quatrocentos sessenta sete milhao duzentos noventa quatro mil'\n",
    "num = [20, 5, 1000000, 300, 40, 1000, 100, 30, 8]"
   ]
  },
  {
   "cell_type": "code",
   "execution_count": 11,
   "metadata": {},
   "outputs": [
    {
     "name": "stdout",
     "output_type": "stream",
     "text": [
      "None\n"
     ]
    }
   ],
   "source": [
    "from re import match\n",
    "from re import search\n",
    "\n",
    "def convert_com_numero(txt):\n",
    "    return float(search('\\d*[.]?\\d*', txt).group(0))\n",
    "    #print(\"convert do tipo k, m, g\")\n",
    "\n",
    "def convert_texto():\n",
    "    print(\"convert texto do tipo (oito mil)\")\n",
    "\n",
    "def principal(txt):\n",
    "    if match('[0-9]', txt):\n",
    "        convert_com_numero(txt)\n",
    "    else:\n",
    "        convert_texto()\n",
    "\n",
    "print(principal('2k'))"
   ]
  },
  {
   "cell_type": "code",
   "execution_count": 1,
   "metadata": {},
   "outputs": [],
   "source": [
    "import re\n",
    "def check_special_letters(normalized_txt):\n",
    "  #verificando a presença de k, m e g\n",
    "\n",
    "  if re.match('\\d*[.]?\\w*', normalized_txt):\n",
    "    num = re.search('\\d*[.]?\\d*', normalized_txt).group(0)\n",
    "    letra = re.search('[a-z]', normalized_txt).group(0)\n",
    "\n",
    "    if re.match('a-z', num):\n",
    "      num = re.search('\\d', num).group(0)\n",
    "\n",
    "    if letra in special_letters:\n",
    "      for key, value in number_system.items():\n",
    "        if letra == key:\n",
    "          letra = value"
   ]
  },
  {
   "cell_type": "code",
   "execution_count": 13,
   "metadata": {},
   "outputs": [],
   "source": [
    "conteudo = [2, 3, 4, 56, 28]\n",
    "num = []\n",
    "arquivo = open('numeros.txt', 'w') # Abre novamente o arquivo (escrita)\n",
    "for c in conteudo:\n",
    "    num.append(str(f'{c}\\n'))\n",
    "\n",
    "arquivo.writelines(num)    # escreva o conteúdo criado anteriormente nele.\n",
    "arquivo.close()"
   ]
  },
  {
   "cell_type": "code",
   "execution_count": 17,
   "metadata": {},
   "outputs": [],
   "source": [
    "conteudo = [2, 3, 4, 56, 28]\n",
    "arquivo = open('numeros1.txt', 'w') # Abre novamente o arquivo (escrita)\n",
    "\n",
    "for c in conteudo:\n",
    "    arquivo.write(str(f'{c}\\n'))\n",
    "\n",
    "    # escreva o conteúdo criado anteriormente nele.\n",
    "arquivo.close()"
   ]
  },
  {
   "cell_type": "code",
   "execution_count": 20,
   "metadata": {},
   "outputs": [
    {
     "data": {
      "text/plain": [
       "[12]"
      ]
     },
     "execution_count": 20,
     "metadata": {},
     "output_type": "execute_result"
    }
   ],
   "source": [
    "l = [20, 2, 1000000, 12, 1000, 30]\n",
    "aux = [0, 0, 0]\n",
    "um = [1000000000, 1000000, 1000]\n",
    "\n",
    "l.index(1000000)\n",
    "l.index(1000)\n",
    "\n",
    "l[l.index(1000000)+1:l.index(1000)]"
   ]
  }
 ],
 "metadata": {
  "kernelspec": {
   "display_name": "Python 3 (ipykernel)",
   "language": "python",
   "name": "python3"
  },
  "language_info": {
   "codemirror_mode": {
    "name": "ipython",
    "version": 3
   },
   "file_extension": ".py",
   "mimetype": "text/x-python",
   "name": "python",
   "nbconvert_exporter": "python",
   "pygments_lexer": "ipython3",
   "version": "3.9.12"
  },
  "vscode": {
   "interpreter": {
    "hash": "916dbcbb3f70747c44a77c7bcd40155683ae19c65e1c03b4aa3499c5328201f1"
   }
  }
 },
 "nbformat": 4,
 "nbformat_minor": 2
}
