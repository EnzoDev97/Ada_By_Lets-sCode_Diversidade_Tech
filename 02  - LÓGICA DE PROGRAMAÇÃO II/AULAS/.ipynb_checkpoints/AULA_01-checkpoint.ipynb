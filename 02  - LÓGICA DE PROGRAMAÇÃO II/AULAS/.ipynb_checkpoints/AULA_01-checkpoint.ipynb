{
 "cells": [
  {
   "cell_type": "markdown",
   "metadata": {},
   "source": [
    "# DESAFIO DA DISCIPLINA\n",
    "\n",
    "#### Contexto - Problema: Você foi designado para fazer o tratamento dos dados de um formulário na empresa em que trabalha. O campo salário do formulário, que deveria ser númerico, não está padronizado corretamente, tem numeros escritos por extenso. Seu trabalho é criar uma lib que receba um numero escrito por extenso e converta em valor numérico. \n",
    "\n",
    "#### Exemplos: \n",
    "\n",
    "##### Entrada: Mil duzentos e cinquenta ---- Saída: 1250\n",
    "\n",
    "##### Entrada: 1k ---- Saída: 1000\n",
    "\n",
    "##### Entrada: 1.3k ---- Saída: 1300"
   ]
  },
  {
   "cell_type": "code",
   "execution_count": 3,
   "metadata": {},
   "outputs": [
    {
     "name": "stdout",
     "output_type": "stream",
     "text": [
      "2101156.0\n",
      "101156.0\n",
      "2156.0\n",
      "70000.0\n",
      "25000.0\n",
      "2900.0\n",
      "30000.0\n",
      "25000.0\n",
      "102080.0\n",
      "10000000.0\n"
     ]
    }
   ],
   "source": [
    "from wordtocurrency import WordToCurrency\n",
    "\n",
    "print(WordToCurrency().word_to_float('DOIS milhões e cento e um mil e cento e cinquenta e seis'))\n",
    "print(WordToCurrency().word_to_float('cento e um mil e cento e cinquenta e seis'))\n",
    "print(WordToCurrency().word_to_float('dois mil e cento e cinquenta e seis'))\n",
    "print(WordToCurrency().word_to_float('70.000,00\t'))\n",
    "print(WordToCurrency().word_to_float('2.5k'))\n",
    "print(WordToCurrency().word_to_float('2,9k'))\n",
    "print(WordToCurrency().word_to_float('trinta k'))\n",
    "print(WordToCurrency().word_to_float('25 mil'))\n",
    "print(WordToCurrency().word_to_float('102 mil e 80'))\n",
    "print(WordToCurrency().word_to_float('10 M'))"
   ]
  },
  {
   "cell_type": "markdown",
   "metadata": {},
   "source": [
    "## Revisão - Funções e Manipulação de Strings\n",
    "\n",
    "#### Quais as vantagens em usar funções ?"
   ]
  },
  {
   "cell_type": "code",
   "execution_count": 9,
   "metadata": {},
   "outputs": [
    {
     "name": "stdout",
     "output_type": "stream",
     "text": [
      "maior numero: 5\n"
     ]
    },
    {
     "data": {
      "text/plain": [
       "'iguais'"
      ]
     },
     "execution_count": 9,
     "metadata": {},
     "output_type": "execute_result"
    }
   ],
   "source": [
    "def maior(x, y):\n",
    "    if x > y:\n",
    "        return x\n",
    "        print(f'maior numero: {x}')\n",
    "\n",
    "    elif x == y:\n",
    "        print(f'maior numero: {y}')\n",
    "        return \"iguais\"\n",
    "\n",
    "    return y\n",
    "    print(f'maior numero: {y}')\n",
    "\n",
    "maior(5, 5)"
   ]
  },
  {
   "cell_type": "code",
   "execution_count": null,
   "metadata": {},
   "outputs": [],
   "source": [
    "def validaCPF(numero):\n",
    "    if len(numero) == 0: return False\n",
    "    if numero.isdigit(): return False\n",
    "    if valida1digito(numero): return False\n",
    "    if valida2digito(numero): return False\n",
    "    return True"
   ]
  },
  {
   "cell_type": "markdown",
   "metadata": {},
   "source": []
  },
  {
   "cell_type": "markdown",
   "metadata": {},
   "source": [
    "#### Vamos relembrar ?"
   ]
  },
  {
   "cell_type": "markdown",
   "metadata": {},
   "source": [
    "# HOJE\n",
    "\n",
    "#### Listas, Tuplas e Dicionários "
   ]
  },
  {
   "cell_type": "markdown",
   "metadata": {},
   "source": []
  },
  {
   "cell_type": "code",
   "execution_count": 15,
   "metadata": {},
   "outputs": [
    {
     "data": {
      "text/plain": [
       "[10, 1, 2]"
      ]
     },
     "execution_count": 15,
     "metadata": {},
     "output_type": "execute_result"
    }
   ],
   "source": [
    "lista = [0, 1, 2]\n",
    "lista[0] = 10\n",
    "lista\n"
   ]
  },
  {
   "cell_type": "code",
   "execution_count": 17,
   "metadata": {},
   "outputs": [
    {
     "name": "stdout",
     "output_type": "stream",
     "text": [
      "nome: Teo --- nota: 7\n",
      "nome: Guilherme --- nota: 8\n"
     ]
    }
   ],
   "source": [
    "tupla = [('Teo', 7), ('Guilherme', 8)]\n",
    "\n",
    "for t in tupla:\n",
    "    print(f'nome: {t[0]} --- nota: {t[1]}')"
   ]
  },
  {
   "cell_type": "code",
   "execution_count": 30,
   "metadata": {},
   "outputs": [
    {
     "name": "stdout",
     "output_type": "stream",
     "text": [
      "{1, 2, 'carro', 'bola', 'casa'}\n",
      "{'casa'}\n",
      "{1, 2, 'bola'}\n",
      "{'carro'}\n"
     ]
    }
   ],
   "source": [
    "##Conjunto\n",
    "\n",
    "lista = ['casa', 'bola', 1, 2]\n",
    "conjunto1 = set(lista)\n",
    "conjunto2 = set(['carro', 'casa'])\n",
    "\n",
    "print(conjunto1.union(conjunto2))\n",
    "print(conjunto1.intersection(conjunto2))\n",
    "print(conjunto1.difference(conjunto2))\n",
    "print(conjunto2.difference(conjunto1))"
   ]
  },
  {
   "cell_type": "markdown",
   "metadata": {},
   "source": []
  },
  {
   "cell_type": "code",
   "execution_count": 48,
   "metadata": {},
   "outputs": [
    {
     "name": "stdout",
     "output_type": "stream",
     "text": [
      "nome Teo --- 7\n",
      "nome Guilherme --- 8\n"
     ]
    }
   ],
   "source": [
    "#Dict\n",
    "\n",
    "notas = {'Teo': 7, 'Guilherme': 8}\n",
    "notas['Guilherme']\n",
    "\n",
    "\n",
    "for key in notas.keys():\n",
    "    print(f'nome {key} --- {notas[key]}')"
   ]
  },
  {
   "cell_type": "code",
   "execution_count": 46,
   "metadata": {},
   "outputs": [
    {
     "name": "stdout",
     "output_type": "stream",
     "text": [
      "nome Teo --- 7\n",
      "nome Guilherme --- 8\n"
     ]
    }
   ],
   "source": [
    "#Dict\n",
    "\n",
    "\n",
    "notas = {'Teo': 7, 'Guilherme': 8}\n",
    "notas['Guilherme']\n",
    "\n",
    "\n",
    "for key, value in notas.items():\n",
    "    print(f'nome {key} --- {value}')"
   ]
  },
  {
   "cell_type": "code",
   "execution_count": 47,
   "metadata": {},
   "outputs": [
    {
     "name": "stdout",
     "output_type": "stream",
     "text": [
      "Teo\n",
      "Guilherme\n"
     ]
    }
   ],
   "source": [
    "#Dict\n",
    "\n",
    "\n",
    "notas = {'Teo': 7, 'Guilherme': 8}\n",
    "notas['Guilherme']\n",
    "\n",
    "\n",
    "for nota in notas:\n",
    "    print(nota)"
   ]
  },
  {
   "cell_type": "markdown",
   "metadata": {},
   "source": [
    "#### Exercícios\n",
    "\n",
    "##### 1. Tamanho de strings. Faça um programa que leia 2 strings e informe o conteúdo delas seguido do seu comprimento. Informe também se as duas strings possuem o mesmo comprimento e são iguais ou diferentes no conteúdo.\n",
    "\n"
   ]
  },
  {
   "cell_type": "markdown",
   "metadata": {},
   "source": [
    "##### 2. Nome ao contrário em maiúsculas. Faça um programa que permita ao usuário digitar o seu nome e em seguida mostre o nome do usuário de trás para frente utilizando somente letras maiúsculas. Dica: lembre−se que ao informar o nome o usuário pode digitar letras maiúsculas ou minúsculas."
   ]
  },
  {
   "cell_type": "markdown",
   "metadata": {},
   "source": [
    "##### 3. Nome na vertical. Faça um programa que solicite o nome do usuário e imprima-o na vertical."
   ]
  },
  {
   "cell_type": "markdown",
   "metadata": {},
   "source": []
  }
 ],
 "metadata": {
  "kernelspec": {
   "display_name": "Python 3 (ipykernel)",
   "language": "python",
   "name": "python3"
  },
  "language_info": {
   "codemirror_mode": {
    "name": "ipython",
    "version": 3
   },
   "file_extension": ".py",
   "mimetype": "text/x-python",
   "name": "python",
   "nbconvert_exporter": "python",
   "pygments_lexer": "ipython3",
   "version": "3.9.12"
  },
  "vscode": {
   "interpreter": {
    "hash": "916dbcbb3f70747c44a77c7bcd40155683ae19c65e1c03b4aa3499c5328201f1"
   }
  }
 },
 "nbformat": 4,
 "nbformat_minor": 2
}
