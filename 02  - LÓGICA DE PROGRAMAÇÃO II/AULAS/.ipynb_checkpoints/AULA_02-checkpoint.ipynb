{
 "cells": [
  {
   "cell_type": "markdown",
   "metadata": {},
   "source": [
    "# Vimos na aula anterior..."
   ]
  },
  {
   "cell_type": "markdown",
   "metadata": {},
   "source": [
    "### Dicionários\n",
    "\n"
   ]
  },
  {
   "cell_type": "code",
   "execution_count": 2,
   "metadata": {},
   "outputs": [
    {
     "data": {
      "text/plain": [
       "{'key1': 'value1', 'key2': 'value2', 'key3': 'value3'}"
      ]
     },
     "execution_count": 2,
     "metadata": {},
     "output_type": "execute_result"
    }
   ],
   "source": [
    "my_dict = {'key1': 'value1', 'key2': 'value2', 'key3': 'value3'}\n",
    "my_dict"
   ]
  },
  {
   "cell_type": "markdown",
   "metadata": {},
   "source": [
    "### Tuplas"
   ]
  },
  {
   "cell_type": "code",
   "execution_count": 3,
   "metadata": {},
   "outputs": [
    {
     "data": {
      "text/plain": [
       "('elem1', 2, 'elem3')"
      ]
     },
     "execution_count": 3,
     "metadata": {},
     "output_type": "execute_result"
    }
   ],
   "source": [
    "mytuple = (('elem1', 2, 'elem3'), ())\n",
    "mytuple"
   ]
  },
  {
   "cell_type": "markdown",
   "metadata": {},
   "source": [
    "#### Exercício de Revisão Dicionário\n",
    "\n",
    "Sistema de controle de notas:\n",
    "\n",
    "O sistema deve permitir ao usuário adicionar, atualizar e deletar. \n",
    "\n",
    "O sistema deve retornar a média das notas.\n",
    "\n",
    "O sistema deve retornar o nome dos alunos que estão acima da média.\n",
    "\n",
    "O sistema deve retornar o nome dos alunos que estão abaixo da média.\n",
    "\n",
    "O sistema deve ter a opção de sair.\n",
    "\n",
    "dict_notas = {'nome': nota}"
   ]
  },
  {
   "cell_type": "code",
   "execution_count": 14,
   "metadata": {},
   "outputs": [
    {
     "data": {
      "text/plain": [
       "{'chave1': 'valor1'}"
      ]
     },
     "execution_count": 14,
     "metadata": {},
     "output_type": "execute_result"
    }
   ],
   "source": [
    "dict_notas = {}\n",
    "dict_notas['chave1'] = 'valor1'\n",
    "dict_notas"
   ]
  },
  {
   "cell_type": "code",
   "execution_count": 15,
   "metadata": {},
   "outputs": [
    {
     "data": {
      "text/plain": [
       "{'chave1': 'valor2'}"
      ]
     },
     "execution_count": 15,
     "metadata": {},
     "output_type": "execute_result"
    }
   ],
   "source": [
    "dict_notas['chave1'] = 'valor2'\n",
    "dict_notas"
   ]
  },
  {
   "cell_type": "code",
   "execution_count": 7,
   "metadata": {},
   "outputs": [],
   "source": [
    "def insert(dict_notas, nome, nota):\n",
    "    dict_notas[nome] = nota\n",
    "    return dict_notas\n",
    "\n",
    "def update(dict_notas, nome, nota):\n",
    "    if nome in dict_notas.keys():\n",
    "        dict_notas[nome] = nota\n",
    "        return dict_notas\n",
    "        \n",
    "    print('Aluno não encontrado')\n",
    "    return dict_notas\n",
    "\n",
    "def delete(dict_notas, nome):\n",
    "    if nome in dict_notas.keys():\n",
    "        dict_notas.pop(nome)\n",
    "        return dict_notas\n",
    "    \n",
    "    print('Aluno não encontrado')\n",
    "    return dict_notas\n",
    "\n",
    "def avg(dict_notas):\n",
    "    return sum(dict_notas.values()) / len(dict_notas)\n",
    "\n",
    "def avg_up(dict_notas):\n",
    "    media = avg(dict_notas)\n",
    "\n",
    "    nomes = []\n",
    "    for key, value in dict_notas.items():\n",
    "        if value >= media:\n",
    "            nomes.append(key)\n",
    "    \n",
    "    return nomes\n",
    "\n",
    "def avg_down(dict_notas):\n",
    "    media = avg(dict_notas)\n",
    "    nomes = []\n",
    "\n",
    "    for key, value in dict_notas.items():\n",
    "        if value < media:\n",
    "            nomes.append(key)\n",
    "\n",
    "    return nomes"
   ]
  },
  {
   "cell_type": "code",
   "execution_count": 12,
   "metadata": {},
   "outputs": [
    {
     "name": "stdout",
     "output_type": "stream",
     "text": [
      "{}\u001b[H\u001b[2J\n",
      "1. Insert\n",
      "2. Update\n",
      "3. Delete\n",
      "4. AVG\n",
      "5. AVG_up\n",
      "6. AVG_down\n",
      "7. Sair\n",
      "{'Telson': 5.0}\u001b[H\u001b[2J\n",
      "1. Insert\n",
      "2. Update\n",
      "3. Delete\n",
      "4. AVG\n",
      "5. AVG_up\n",
      "6. AVG_down\n",
      "7. Sair\n"
     ]
    }
   ],
   "source": [
    "import curses\n",
    "\n",
    "opc = 0\n",
    "dict_notas = {}\n",
    "while opc < 7:\n",
    "    \n",
    "    window = curses.initscr()\n",
    "    window.clear()\n",
    "    window.refresh()\n",
    "    \n",
    "    print(dict_notas)\n",
    "    print('1. Insert')\n",
    "    print('2. Update')\n",
    "    print('3. Delete')\n",
    "    print('4. AVG')\n",
    "    print('5. AVG_up')\n",
    "    print('6. AVG_down')\n",
    "    print('7. Sair')\n",
    "\n",
    "    opc = int(input())\n",
    "\n",
    "    if opc == 1:\n",
    "        nome = input(\"digite o nome: \")\n",
    "        nota = float(input(\"digite a nota: \"))\n",
    "        dict_notas = insert(dict_notas, nome, nota)\n",
    "    \n",
    "    elif opc == 2:\n",
    "        nome = input(\"digite o nome: \")\n",
    "        nota = float(input(\"digite a nota: \"))\n",
    "        dict_notas = update(dict_notas, nome, nota)\n",
    "\n",
    "    elif opc == 3:\n",
    "        nome = input(\"digite o nome: \")\n",
    "        dict_notas = delete(dict_notas, nome)\n",
    "\n",
    "    elif opc == 4:\n",
    "        print(avg(dict_notas))\n",
    "    \n",
    "    elif opc == 5:\n",
    "        print(avg_up(dict_notas))\n",
    "    \n",
    "    elif opc == 6:\n",
    "        print(avg_down(dict_notas))\n",
    "\n",
    "\n",
    "    \n"
   ]
  },
  {
   "cell_type": "markdown",
   "metadata": {},
   "source": [
    "#### ... Aula de hoje:\n",
    "\n",
    "##### List Comprehension\n",
    "##### Conceitos de Programação Funcional"
   ]
  },
  {
   "cell_type": "code",
   "execution_count": 16,
   "metadata": {},
   "outputs": [
    {
     "data": {
      "text/plain": [
       "[4, 6, 8, 10, 12]"
      ]
     },
     "execution_count": 16,
     "metadata": {},
     "output_type": "execute_result"
    }
   ],
   "source": [
    "lista_teste = [2, 3, 4, 5, 6]\n",
    "lista_aux = []\n",
    "for l in lista_teste:\n",
    "    if l % 2 == 0:\n",
    "        lista_aux.append(l)\n",
    "lista_aux"
   ]
  },
  {
   "cell_type": "code",
   "execution_count": 26,
   "metadata": {},
   "outputs": [
    {
     "data": {
      "text/plain": [
       "[6, 9, 12, 15, 18]"
      ]
     },
     "execution_count": 26,
     "metadata": {},
     "output_type": "execute_result"
    }
   ],
   "source": [
    "def multi(n, val):\n",
    "    return n*val\n",
    "\n",
    "list_aux_comp = [multi(l, 3) for l in lista_teste]\n",
    "list_aux_comp"
   ]
  },
  {
   "cell_type": "code",
   "execution_count": null,
   "metadata": {},
   "outputs": [],
   "source": [
    "\n"
   ]
  },
  {
   "cell_type": "code",
   "execution_count": 21,
   "metadata": {},
   "outputs": [
    {
     "data": {
      "text/plain": [
       "[3, 5]"
      ]
     },
     "execution_count": 21,
     "metadata": {},
     "output_type": "execute_result"
    }
   ],
   "source": [
    "lista_teste = [2, 3, 4, 5, 6]\n",
    "list_aux_comp = [l for l in lista_teste if l % 2 == 1]\n",
    "list_aux_comp"
   ]
  },
  {
   "cell_type": "code",
   "execution_count": null,
   "metadata": {},
   "outputs": [],
   "source": [
    "map(), filter(), lambda()"
   ]
  },
  {
   "cell_type": "code",
   "execution_count": 40,
   "metadata": {},
   "outputs": [
    {
     "data": {
      "text/plain": [
       "[2, 9, 4, 15, 6]"
      ]
     },
     "execution_count": 40,
     "metadata": {},
     "output_type": "execute_result"
    }
   ],
   "source": [
    "\n",
    "lista_teste = [2, 3, 4, 5, 6]\n",
    "lista_teste1 = [1, 2, 3, 4]\n",
    "lista_teste2 = [7, 8, 9, 10]\n",
    "list_map = list(map(lambda x: x*3 if x % 2 == 1 else x, lista_teste))\n",
    "list_map"
   ]
  },
  {
   "cell_type": "code",
   "execution_count": 36,
   "metadata": {},
   "outputs": [
    {
     "data": {
      "text/plain": [
       "[2, 3, 4, 5, 6]"
      ]
     },
     "execution_count": 36,
     "metadata": {},
     "output_type": "execute_result"
    }
   ],
   "source": [
    "lista_teste"
   ]
  },
  {
   "cell_type": "code",
   "execution_count": 41,
   "metadata": {},
   "outputs": [
    {
     "data": {
      "text/plain": [
       "[9, 10]"
      ]
     },
     "execution_count": 41,
     "metadata": {},
     "output_type": "execute_result"
    }
   ],
   "source": [
    "dict_notas = {'Telson': 8, \"Ana\": 9}\n",
    "\n",
    "notas = list(map(lambda x: x+1, dict_notas.values()))\n",
    "notas"
   ]
  },
  {
   "cell_type": "code",
   "execution_count": 38,
   "metadata": {},
   "outputs": [
    {
     "name": "stdout",
     "output_type": "stream",
     "text": [
      "0.3718838691711426 método for\n",
      "0.3180878162384033 list comprehension\n",
      "0.31346583366394043 lambda\n"
     ]
    }
   ],
   "source": [
    "import time\n",
    "start_time = time.time()\n",
    "\n",
    "lista1 = list(range(1000000))\n",
    "for i in lista1:\n",
    "    lista1[i] = i ** 2\n",
    "print(f\"{(time.time() - start_time)} método for\")\n",
    "\n",
    "start_time = time.time()\n",
    "lista2 = list(range(1000000))\n",
    "lista2 = [i ** 2 for i in lista2]\n",
    "print(f\"{(time.time() - start_time)} list comprehension\")\n",
    "\n",
    "start_time = time.time()\n",
    "lista3 = list(range(1000000))\n",
    "lista3 = list(map(lambda i: (i) ** 2, lista3))\n",
    "print(f\"{(time.time() - start_time)} lambda\")"
   ]
  }
 ],
 "metadata": {
  "kernelspec": {
   "display_name": "Python 3 (ipykernel)",
   "language": "python",
   "name": "python3"
  },
  "language_info": {
   "codemirror_mode": {
    "name": "ipython",
    "version": 3
   },
   "file_extension": ".py",
   "mimetype": "text/x-python",
   "name": "python",
   "nbconvert_exporter": "python",
   "pygments_lexer": "ipython3",
   "version": "3.9.12"
  },
  "vscode": {
   "interpreter": {
    "hash": "916dbcbb3f70747c44a77c7bcd40155683ae19c65e1c03b4aa3499c5328201f1"
   }
  }
 },
 "nbformat": 4,
 "nbformat_minor": 2
}
