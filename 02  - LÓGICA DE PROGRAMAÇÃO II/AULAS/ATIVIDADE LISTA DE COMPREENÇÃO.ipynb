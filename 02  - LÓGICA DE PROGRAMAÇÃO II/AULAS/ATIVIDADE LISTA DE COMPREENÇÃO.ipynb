{
 "cells": [
  {
   "cell_type": "markdown",
   "metadata": {},
   "source": [
    "1. Crie uma função que faça uma padronização em textos. Essa padronização os textos deve:\n",
    "    Colocar as letras em minusculas\n",
    "    Remover as acentuações.\n",
    "A função deve retornar uma lista com as palavras desse texto.\n",
    "\n",
    "    Ex:\n",
    "        Entrada: \"A casa é bela\"\n",
    "        saida: ['a', 'casa', 'e', 'bela']\n"
   ]
  },
  {
   "cell_type": "code",
   "execution_count": null,
   "metadata": {},
   "outputs": [],
   "source": [
    "dict_acentos = {\n",
    "    'á': 'a',\n",
    "    'à': 'a',\n",
    "    'â': 'a',\n",
    "    'ä': 'a',\n",
    "    'ã': 'a',\n",
    "    'é': 'e',\n",
    "    'ê': 'e',\n",
    "    'ë': 'e',\n",
    "    'í': 'i',\n",
    "    'î': 'i',\n",
    "    'ï': 'i',\n",
    "    'ó': 'o',\n",
    "    'ô': 'o',\n",
    "    'ö': 'o',\n",
    "    'õ': 'o',\n",
    "    'ú': 'u',\n",
    "    'û': 'u',\n",
    "    'ü': 'u',\n",
    "    }\n",
    "\n",
    "texto = input('Digite um texto')\n",
    "\n",
    "str = ''\n",
    "\n",
    "for l in range(len(texto)):\n",
    "    if texto[l] in dict_acentos.keys():\n",
    "        str += dict_acentos[texto[l]]\n",
    "        continue\n",
    "    str += texto[l] \n",
    "\n",
    "print(str)"
   ]
  },
  {
   "cell_type": "markdown",
   "metadata": {},
   "source": [
    "2. Utilizando a função criada na questão 1 faça uma função que rece 2 textos e retorna uma lista com as palavras encontradas nos 2 textos, utilizando list comprehension.\n",
    "\n",
    "    EX:\n",
    "        Entrada: \"A casa é bela\", \"É uma bela casa\"\n",
    "        Saida: ['casa', 'bela', 'e']"
   ]
  },
  {
   "cell_type": "markdown",
   "metadata": {},
   "source": [
    "3. Utilizando a função criada na questão 1 faça uma função que rece 2 textos e retorna uma lista com as palavras que não estão presentes nos 2 textos, utilizando list comprehension.\n",
    "\n",
    "    EX:\n",
    "        Entrada: \"A casa é bela\", \"É uma bela casa\"\n",
    "        Saida: ['a']"
   ]
  },
  {
   "cell_type": "markdown",
   "metadata": {},
   "source": [
    "4. Crie um dicionário contendo nome e idade. Crie uma função que receba o dicionário criado e retorne uma lista com o nome das pessoas maiores de 18 anos, utilizando list comprehension.\n",
    "\n",
    "    EX: \n",
    "        Entrada: {'Ana': 10, 'Júlia':20}\n",
    "        Saida: ['Júlia']"
   ]
  },
  {
   "cell_type": "markdown",
   "metadata": {},
   "source": [
    "5. Utilizando o dicionário criado na questão 4 crie uma função que retorna uma lista contendo o nome das pessoas menores que 18 anos.\n",
    "\n",
    "     EX: \n",
    "        Entrada: {'Ana': 10, 'Júlia':20}\n",
    "        Saida: ['Ana']"
   ]
  },
  {
   "cell_type": "markdown",
   "metadata": {},
   "source": [
    "6. Utilizando o dicionário criado na questão 4 crie uma função que retorna uma lista contendo o nome das pessoas que tem a idade maior do que a média das idades.\n",
    "\n",
    "     EX: \n",
    "        Entrada: {'Ana': 10, 'Júlia':20}\n",
    "        Saida: ['Júlia']"
   ]
  },
  {
   "cell_type": "markdown",
   "metadata": {},
   "source": [
    "7. Utilizando o dicionário criado na questão 4 crie uma função que retorna uma lista contendo o nome das pessoas que tem a idade menor do que a média das idades.\n",
    "\n",
    "     EX: \n",
    "        Entrada: {'Ana': 10, 'Júlia':20}\n",
    "        Saida: ['Ana']"
   ]
  },
  {
   "cell_type": "markdown",
   "metadata": {},
   "source": [
    "## Desafio\n",
    "\n",
    "Crie um sistema de controle de notas escolares. Esse sistema deve permitir: incluir alunos com as notas das disciplinas, listar os alunos da escola e as notas das disciplinas, editar as notas das disciplinas e remover um aluno.\n",
    "\n",
    "Além disso o sistema deve retornar os alunos aprovados e reprovados em uma determinada disciplina, considerar a média 7.\n",
    "\n",
    "O sistema deve permitir retornar o nome do aluno com a maior e com a menor nota em uma disciplina.\n",
    "\n",
    "os dados dos alunos devem seguir o seguinte formato:\n",
    "\n",
    "{'João': {'Portugues': [5, 7, 8, 9], 'Matemática': [9, 8, 5, 7]}, \n",
    "'Mateus':{'Portugues': [8, 6, 8, 9], 'Matemática': [10, 9, 8, 9]},\n",
    "'Marcus':{'Portugues': [6, 5, 4, 7], 'Matemática': [8, 7, 9, 8]}}\n",
    "\n",
    "Dica: Como não vimos nem lista dentro de dicionário e nem dicionário aninhados deve ser utilizado o método TVN, visto na última aula.\n"
   ]
  },
  {
   "cell_type": "markdown",
   "metadata": {},
   "source": []
  }
 ],
 "metadata": {
  "kernelspec": {
   "display_name": "Python 3 (ipykernel)",
   "language": "python",
   "name": "python3"
  },
  "language_info": {
   "codemirror_mode": {
    "name": "ipython",
    "version": 3
   },
   "file_extension": ".py",
   "mimetype": "text/x-python",
   "name": "python",
   "nbconvert_exporter": "python",
   "pygments_lexer": "ipython3",
   "version": "3.9.12"
  }
 },
 "nbformat": 4,
 "nbformat_minor": 2
}
