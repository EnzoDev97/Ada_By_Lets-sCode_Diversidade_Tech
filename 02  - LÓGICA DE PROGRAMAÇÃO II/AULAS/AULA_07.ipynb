{
 "cells": [
  {
   "cell_type": "markdown",
   "metadata": {},
   "source": [
    "## ... Aula anterior: Arquivos\n",
    "\n",
    "Atividade de Revisão: transformar o arquivo (atividade_arquivos.txt) em um dicionário com o seguinte formato: \n",
    "dict_nomes = {\n",
    "    'id_municipio': [],\n",
    "    'nome': [],\n",
    "    'qtd_nasc': [] \n",
    "}"
   ]
  },
  {
   "cell_type": "code",
   "execution_count": 16,
   "metadata": {},
   "outputs": [],
   "source": [
    "## solução\n",
    "\n",
    "file = open('atividade_arquivos.txt', 'r')\n",
    "lista = file.readlines()\n",
    "cod_mun = []\n",
    "nomes = []\n",
    "quantidade_nomes = []\n",
    "\n",
    "for linha in lista[1:]:\n",
    "    cod_mun.append(linha.strip('\\n').split(';')[0])\n",
    "    nomes.append(linha.strip('\\n').split(';')[1])\n",
    "    quantidade_nomes.append(linha.strip('\\n').split(';')[2])\n",
    "\n",
    "dict_nomes = {'id_municipio': cod_mun, 'nome': nomes, 'quantidade': quantidade_nomes}\n"
   ]
  },
  {
   "cell_type": "code",
   "execution_count": 18,
   "metadata": {},
   "outputs": [],
   "source": [
    "file = open('atividade_arquivos.txt', 'r')\n",
    "lista = file.readlines()\n",
    "\n",
    "dict_nomes_comp = {\n",
    "'id_municipio': [linha.strip('\\n').split(';')[0] for linha in lista[1:]],\n",
    "'nome': [linha.strip('\\n').split(';')[1] for linha in lista[1:]],\n",
    "'quantidade': [linha.strip('\\n').split(';')[2] for linha in lista[1:]]}"
   ]
  },
  {
   "cell_type": "markdown",
   "metadata": {},
   "source": [
    "## Expressão Regular"
   ]
  },
  {
   "cell_type": "markdown",
   "metadata": {},
   "source": [
    "#### Metodos basicos:\n",
    "##### sub\n",
    "Substitui um padrão por outro em uma string (similar ao replace).\n",
    "##### search\n",
    "Retorna um padrão encontrado no texto.\n",
    "##### match\n",
    "Informa se o padrão existe no texto."
   ]
  },
  {
   "cell_type": "code",
   "execution_count": 32,
   "metadata": {},
   "outputs": [
    {
     "data": {
      "text/plain": [
       "'mil duzentos trinta 1,5k'"
      ]
     },
     "execution_count": 32,
     "metadata": {},
     "output_type": "execute_result"
    }
   ],
   "source": [
    "from re import sub\n",
    "\n",
    "txt = 'mil, duzentos, trinta 1,5k'\n",
    "\n",
    "new_txt = sub(r\"([a-z])(,)([a-z ])\", r\"\\1\\3\", txt)\n",
    "new_txt"
   ]
  },
  {
   "cell_type": "code",
   "execution_count": 28,
   "metadata": {},
   "outputs": [
    {
     "name": "stdout",
     "output_type": "stream",
     "text": [
      "Nome\n",
      "Sobrenome\n"
     ]
    }
   ],
   "source": [
    "from re import search\n",
    "\n",
    "texto = \"Nome Sobrenome\"\n",
    "resultados = search(r\"(\\w+) (\\w+)\", texto)\n",
    "print(resultados.group(1))\n",
    "print(resultados.group(2))"
   ]
  },
  {
   "cell_type": "code",
   "execution_count": 49,
   "metadata": {},
   "outputs": [
    {
     "data": {
      "text/plain": [
       "<re.Match object; span=(0, 4), match='mil,'>"
      ]
     },
     "execution_count": 49,
     "metadata": {},
     "output_type": "execute_result"
    }
   ],
   "source": [
    "from re import match\n",
    "\n",
    "txt = 'mil, duzentos, trinta 1,5k'\n",
    "\n",
    "new_txt = match(\"([a-z]*,)*\", txt)\n",
    "new_txt"
   ]
  },
  {
   "cell_type": "code",
   "execution_count": 55,
   "metadata": {},
   "outputs": [
    {
     "data": {
      "text/plain": [
       "['l,', 's,']"
      ]
     },
     "execution_count": 55,
     "metadata": {},
     "output_type": "execute_result"
    }
   ],
   "source": [
    "from re import findall\n",
    "\n",
    "txt = 'mil, duzentos, trinta 1,5k'\n",
    "\n",
    "new_txt = findall(\"[a-z],+\", txt)\n",
    "new_txt"
   ]
  },
  {
   "cell_type": "code",
   "execution_count": null,
   "metadata": {},
   "outputs": [],
   "source": [
    "txt = 'JOSE APARECIDO DA SILVA, brasileiro, solteiro, engenheiro de dados, RG 123456 SSP/AL, CPF 123.456.789-10, residente e domiciliado na Rua Maria Aparecida, 502, Trindade, Maceió/AL, CEP 57123-45, vêm através deste'\n",
    "\n",
    "## site: https://regex101.com/r/uXL7eu/1"
   ]
  }
 ],
 "metadata": {
  "kernelspec": {
   "display_name": "Python 3.8.10 64-bit",
   "language": "python",
   "name": "python3"
  },
  "language_info": {
   "codemirror_mode": {
    "name": "ipython",
    "version": 3
   },
   "file_extension": ".py",
   "mimetype": "text/x-python",
   "name": "python",
   "nbconvert_exporter": "python",
   "pygments_lexer": "ipython3",
   "version": "3.8.10"
  },
  "orig_nbformat": 4,
  "vscode": {
   "interpreter": {
    "hash": "916dbcbb3f70747c44a77c7bcd40155683ae19c65e1c03b4aa3499c5328201f1"
   }
  }
 },
 "nbformat": 4,
 "nbformat_minor": 2
}
