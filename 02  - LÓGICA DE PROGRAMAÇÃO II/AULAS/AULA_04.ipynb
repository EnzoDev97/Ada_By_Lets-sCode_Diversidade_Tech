{
 "cells": [
  {
   "cell_type": "markdown",
   "metadata": {},
   "source": [
    "### Aula de Exercicios"
   ]
  },
  {
   "cell_type": "code",
   "execution_count": 3,
   "metadata": {},
   "outputs": [
    {
     "name": "stdout",
     "output_type": "stream",
     "text": [
      "nome Teo --- 7\n",
      "nome Guilherme --- 8\n"
     ]
    }
   ],
   "source": [
    "#Dict\n",
    "\n",
    "notas = {'Teo': 7, 'Guilherme': 8}\n",
    "\n",
    "\n",
    "for chave, valor in notas.items():\n",
    "    print(f'nome {chave} --- {valor}')"
   ]
  },
  {
   "cell_type": "code",
   "execution_count": 5,
   "metadata": {},
   "outputs": [
    {
     "data": {
      "text/plain": [
       "dict_keys(['Teo', 'Guilherme'])"
      ]
     },
     "execution_count": 5,
     "metadata": {},
     "output_type": "execute_result"
    }
   ],
   "source": [
    "notas.keys()"
   ]
  },
  {
   "cell_type": "code",
   "execution_count": 9,
   "metadata": {},
   "outputs": [
    {
     "data": {
      "text/plain": [
       "dict_values([7, 8])"
      ]
     },
     "execution_count": 9,
     "metadata": {},
     "output_type": "execute_result"
    }
   ],
   "source": [
    "#Dict\n",
    "\n",
    "notas = {'Teo': 7, 'Guilherme': 8}\n",
    "notas.values()\n",
    "#for value in notas.values():\n",
    "#    print(f'value {value}')"
   ]
  },
  {
   "cell_type": "code",
   "execution_count": 1,
   "metadata": {},
   "outputs": [],
   "source": [
    "def calc_media(x):\n",
    "    media = sum([value for key, value in x.items()])/len(x.values())\n",
    "    list = [key for key, value in x.items() if value > media]\n",
    "    return list"
   ]
  },
  {
   "cell_type": "code",
   "execution_count": 2,
   "metadata": {},
   "outputs": [
    {
     "name": "stdout",
     "output_type": "stream",
     "text": [
      "{'Telson': 20}\n"
     ]
    }
   ],
   "source": [
    "\"\"\"6. Utilizando o dicionário criado na questão 4 crie uma função \n",
    "que retorna uma lista contendo o nome das pessoas que tem a idade \n",
    "maior do que a média das idades.\n",
    "\n",
    "EX: \n",
    "Entrada: {'Ana': 10, 'Júlia':20}\n",
    "Saida: ['Júlia']\"\"\"\n",
    "\n",
    "def calcula_media(list_idades):\n",
    "    return sum(list_idades)/len(list_idades)\n",
    "\n",
    "def teste_media(x):\n",
    "    media = 15\n",
    "    if x[1] >= media:\n",
    "        return True\n",
    "    return False\n",
    "\n",
    "\n",
    "def acima_media(dict_nomes):\n",
    "    \n",
    "    dict_acima = list(filter(teste_media, dict_nomes.items()))\n",
    "    #dict_acima =  dict(filter(lambda key, value: value >= media, dict_nomes.keys(), dict_nomes.values()))\n",
    "    return dict_acima\n",
    "\n",
    "def teste(dicionario):\n",
    "  a = dict(filter(lambda x: x[1] >= 11, dicionario.items()))\n",
    "  print(a)\n",
    "\n",
    "dicionario = {'Telson': 20, 'Junior': 10}\n",
    "teste(dicionario)\n"
   ]
  },
  {
   "cell_type": "code",
   "execution_count": 21,
   "metadata": {},
   "outputs": [
    {
     "name": "stdout",
     "output_type": "stream",
     "text": [
      "1 8\n",
      "2 9\n"
     ]
    }
   ],
   "source": [
    "l1 = [1, 2, 3]\n",
    "l2 = [8, 9]\n",
    "for x, y in zip(l1, l2):\n",
    "    print(x, y)"
   ]
  },
  {
   "cell_type": "code",
   "execution_count": 26,
   "metadata": {},
   "outputs": [
    {
     "data": {
      "text/plain": [
       "[('Júlia', 20)]"
      ]
     },
     "execution_count": 26,
     "metadata": {},
     "output_type": "execute_result"
    }
   ],
   "source": [
    "nomes = {'Ana': 10, 'Júlia':20}\n",
    "acima_media(nomes)"
   ]
  }
 ],
 "metadata": {
  "kernelspec": {
   "display_name": "Python 3 (ipykernel)",
   "language": "python",
   "name": "python3"
  },
  "language_info": {
   "codemirror_mode": {
    "name": "ipython",
    "version": 3
   },
   "file_extension": ".py",
   "mimetype": "text/x-python",
   "name": "python",
   "nbconvert_exporter": "python",
   "pygments_lexer": "ipython3",
   "version": "3.9.12"
  },
  "vscode": {
   "interpreter": {
    "hash": "916dbcbb3f70747c44a77c7bcd40155683ae19c65e1c03b4aa3499c5328201f1"
   }
  }
 },
 "nbformat": 4,
 "nbformat_minor": 2
}
