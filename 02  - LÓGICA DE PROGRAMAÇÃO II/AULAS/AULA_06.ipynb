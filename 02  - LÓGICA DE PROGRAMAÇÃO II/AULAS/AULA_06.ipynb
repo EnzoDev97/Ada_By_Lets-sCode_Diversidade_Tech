{
 "cells": [
  {
   "cell_type": "markdown",
   "metadata": {},
   "source": [
    "## Manipulando Arquivos em Python"
   ]
  },
  {
   "cell_type": "code",
   "execution_count": 15,
   "metadata": {},
   "outputs": [
    {
     "name": "stdout",
     "output_type": "stream",
     "text": [
      "mil quientos e oitenta\n",
      "\n",
      "vinte e um mil\n",
      "\n",
      "2k\n",
      "\n",
      "3m\n",
      "\n",
      "4g\n",
      "\n",
      "oitocentos e oitenta\n",
      "\n",
      "noventa e três\n",
      "\n",
      "mil e oitenta e cinco\n",
      "\n",
      "um bilhão quientos e oitenta milhoẽs oitocentos e trinta mil e quarenta e quatro\n",
      "\n",
      "dezenove mil\n",
      "\n",
      "1.2m\n",
      "\n",
      "1,4g\n",
      "\n",
      "vinte e um\n",
      "\n",
      "cinco\n",
      "\n",
      "trinta e três\n",
      "\n",
      "onze\n",
      "\n",
      "mil novecentos e oitenta\n",
      "\n",
      "quarenta e nove milhões\n",
      "\n",
      "duzentos e treze\n",
      "\n",
      "treze mil e treze\n",
      "\n",
      "treze milhões trezentos e treze mil e treze\n",
      "\n",
      "trezentos e treze\n",
      "\n",
      "cento e treze\n",
      "\n",
      "quinhetos e treze\n",
      "\n",
      "novecentos de treze\n",
      "\n",
      "treze\n"
     ]
    }
   ],
   "source": [
    "##Iterar sobre um arquivo\n",
    "arquivo = open('arquivo.txt', 'r')\n",
    "for linha in arquivo:\n",
    "    print(linha)\n",
    "arquivo.close()\n",
    "\n",
    "\n"
   ]
  },
  {
   "cell_type": "code",
   "execution_count": 38,
   "metadata": {},
   "outputs": [
    {
     "data": {
      "text/plain": [
       "'mil quientos e oitenta\\nvinte e um mil\\n2k\\n3m\\n4g\\noitocentos e oitenta\\nnoventa e três\\nmil e oitenta e cinco\\num bilhão quientos e oitenta milhoẽs oitocentos e trinta mil e quarenta e quatro\\ndezenove mil\\n1.2m\\n1,4g\\nvinte e um\\ncinco\\ntrinta e três\\nonze\\nmil novecentos e oitenta\\nquarenta e nove milhões\\nduzentos e treze\\ntreze mil e treze\\ntreze milhões trezentos e treze mil e treze\\ntrezentos e treze\\ncento e treze\\nquinhetos e treze\\nnovecentos de treze\\ntreze'"
      ]
     },
     "execution_count": 38,
     "metadata": {},
     "output_type": "execute_result"
    }
   ],
   "source": [
    "#Ler todas as linhas em um única string\n",
    "arquivo = open('arquivo.txt', 'r')\n",
    "unica_string = arquivo.read()\n",
    "unica_string"
   ]
  },
  {
   "cell_type": "code",
   "execution_count": 39,
   "metadata": {},
   "outputs": [
    {
     "data": {
      "text/plain": [
       "['mil quientos e oitenta\\n',\n",
       " 'vinte e um mil\\n',\n",
       " '2k\\n',\n",
       " '3m\\n',\n",
       " '4g\\n',\n",
       " 'oitocentos e oitenta\\n',\n",
       " 'noventa e três\\n',\n",
       " 'mil e oitenta e cinco\\n',\n",
       " 'um bilhão quientos e oitenta milhoẽs oitocentos e trinta mil e quarenta e quatro\\n',\n",
       " 'dezenove mil\\n',\n",
       " '1.2m\\n',\n",
       " '1,4g\\n',\n",
       " 'vinte e um\\n',\n",
       " 'cinco\\n',\n",
       " 'trinta e três\\n',\n",
       " 'onze\\n',\n",
       " 'mil novecentos e oitenta\\n',\n",
       " 'quarenta e nove milhões\\n',\n",
       " 'duzentos e treze\\n',\n",
       " 'treze mil e treze\\n',\n",
       " 'treze milhões trezentos e treze mil e treze\\n',\n",
       " 'trezentos e treze\\n',\n",
       " 'cento e treze\\n',\n",
       " 'quinhetos e treze\\n',\n",
       " 'novecentos de treze\\n',\n",
       " 'treze']"
      ]
     },
     "execution_count": 39,
     "metadata": {},
     "output_type": "execute_result"
    }
   ],
   "source": [
    "#Ler todas as linhas em uma lista\n",
    "\n",
    "arquivo = open('arquivo.txt', 'r')\n",
    "lista = arquivo.readlines() # readlinesssssss\n",
    "lista"
   ]
  },
  {
   "cell_type": "code",
   "execution_count": 41,
   "metadata": {},
   "outputs": [
    {
     "data": {
      "text/plain": [
       "'vinte e um mil\\n'"
      ]
     },
     "execution_count": 41,
     "metadata": {},
     "output_type": "execute_result"
    }
   ],
   "source": [
    "##Ler linha a linha do arquivo\n",
    "arquivo = open('arquivo.txt', 'r')\n",
    "primeira_linha = arquivo.readline()\n",
    "segunda_linha  = arquivo.readline()\n",
    "terceira_linha = arquivo.readline()\n",
    "segunda_linha"
   ]
  },
  {
   "cell_type": "code",
   "execution_count": 16,
   "metadata": {},
   "outputs": [],
   "source": [
    "#Criar um arquivo vazio\n",
    "arquivo = open('novo-arquivo.txt', 'w')\n",
    "arquivo.close()"
   ]
  },
  {
   "cell_type": "code",
   "execution_count": 17,
   "metadata": {},
   "outputs": [],
   "source": [
    "#Apagar o conteúdo de um arquivo\n",
    "arquivo = open('novo-arquivo.txt', 'w')\n",
    "arquivo.close()"
   ]
  },
  {
   "cell_type": "code",
   "execution_count": 9,
   "metadata": {},
   "outputs": [],
   "source": [
    "##Escrever em um arquivo\n",
    "arquivo = open('novo-arquivo.txt', 'w')\n",
    "arquivo.write('nova linha')\n",
    "arquivo.close()"
   ]
  },
  {
   "cell_type": "code",
   "execution_count": 5,
   "metadata": {},
   "outputs": [
    {
     "ename": "FileNotFoundError",
     "evalue": "[Errno 2] No such file or directory: 'novo-arquivo.txt'",
     "output_type": "error",
     "traceback": [
      "\u001b[1;31m---------------------------------------------------------------------------\u001b[0m",
      "\u001b[1;31mFileNotFoundError\u001b[0m                         Traceback (most recent call last)",
      "Input \u001b[1;32mIn [5]\u001b[0m, in \u001b[0;36m<cell line: 2>\u001b[1;34m()\u001b[0m\n\u001b[0;32m      1\u001b[0m \u001b[38;5;66;03m##Inserir conteúdo ao já existente (adicionar)\u001b[39;00m\n\u001b[1;32m----> 2\u001b[0m arquivo \u001b[38;5;241m=\u001b[39m \u001b[38;5;28;43mopen\u001b[39;49m\u001b[43m(\u001b[49m\u001b[38;5;124;43m'\u001b[39;49m\u001b[38;5;124;43mnovo-arquivo.txt\u001b[39;49m\u001b[38;5;124;43m'\u001b[39;49m\u001b[43m,\u001b[49m\u001b[43m \u001b[49m\u001b[38;5;124;43m'\u001b[39;49m\u001b[38;5;124;43mr\u001b[39;49m\u001b[38;5;124;43m'\u001b[39;49m\u001b[43m)\u001b[49m \u001b[38;5;66;03m# Abra o arquivo (leitura)\u001b[39;00m\n\u001b[0;32m      3\u001b[0m conteudo \u001b[38;5;241m=\u001b[39m arquivo\u001b[38;5;241m.\u001b[39mreadlines()\n\u001b[0;32m      4\u001b[0m conteudo\u001b[38;5;241m.\u001b[39mappend(\u001b[38;5;124m'\u001b[39m\u001b[38;5;130;01m\\n\u001b[39;00m\u001b[38;5;124mNova linha\u001b[39m\u001b[38;5;124m'\u001b[39m)   \u001b[38;5;66;03m# insira seu conteúdo\u001b[39;00m\n",
      "\u001b[1;31mFileNotFoundError\u001b[0m: [Errno 2] No such file or directory: 'novo-arquivo.txt'"
     ]
    }
   ],
   "source": [
    "##Inserir conteúdo ao já existente (adicionar)\n",
    "arquivo = open('novo-arquivo.txt', 'r') # Abra o arquivo (leitura)\n",
    "conteudo = arquivo.readlines()\n",
    "conteudo.append('\\nNova linha')   # insira seu conteúdo\n",
    "\n",
    "arquivo = open('novo-arquivoe.txt', 'w') # Abre novamente o arquivo (escrita)\n",
    "arquivo.writelines(conteudo)    # escreva o conteúdo criado anteriormente nele.\n",
    "\n",
    "arquivo.close()"
   ]
  },
  {
   "cell_type": "code",
   "execution_count": null,
   "metadata": {},
   "outputs": [],
   "source": []
  }
 ],
 "metadata": {
  "kernelspec": {
   "display_name": "Python 3 (ipykernel)",
   "language": "python",
   "name": "python3"
  },
  "language_info": {
   "codemirror_mode": {
    "name": "ipython",
    "version": 3
   },
   "file_extension": ".py",
   "mimetype": "text/x-python",
   "name": "python",
   "nbconvert_exporter": "python",
   "pygments_lexer": "ipython3",
   "version": "3.9.12"
  },
  "vscode": {
   "interpreter": {
    "hash": "916dbcbb3f70747c44a77c7bcd40155683ae19c65e1c03b4aa3499c5328201f1"
   }
  }
 },
 "nbformat": 4,
 "nbformat_minor": 2
}
