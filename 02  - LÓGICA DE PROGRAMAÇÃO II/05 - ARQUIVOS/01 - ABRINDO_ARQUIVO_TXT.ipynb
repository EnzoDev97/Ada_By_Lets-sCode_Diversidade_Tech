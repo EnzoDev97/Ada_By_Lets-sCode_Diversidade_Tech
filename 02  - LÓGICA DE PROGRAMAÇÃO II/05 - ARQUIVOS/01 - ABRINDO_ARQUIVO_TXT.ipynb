{
 "cells": [
  {
   "cell_type": "markdown",
   "id": "33ea7db1",
   "metadata": {},
   "source": [
    "# 01 - ABRINDO ARQUIVO TXT"
   ]
  },
  {
   "cell_type": "code",
   "execution_count": 6,
   "id": "4069817d",
   "metadata": {},
   "outputs": [
    {
     "name": "stdout",
     "output_type": "stream",
     "text": [
      "mil quientos e oitenta\n",
      "\n",
      "vinte e um mil\n",
      "\n",
      "2k\n",
      "\n",
      "3m\n",
      "\n",
      "4g\n",
      "\n",
      "oitocentos e oitenta\n",
      "\n",
      "noventa e trÃªs\n",
      "\n",
      "mil e oitenta e cinco\n",
      "\n",
      "um bilhÃ£o quientos e oitenta milhoáº½s oitocentos e trinta mil e quarenta e quatro\n",
      "\n",
      "dezenove mil\n",
      "\n",
      "1.2m\n",
      "\n",
      "1,4g\n",
      "\n",
      "vinte e um\n",
      "\n",
      "cinco\n",
      "\n",
      "trinta e trÃªs\n",
      "\n",
      "onze\n",
      "\n",
      "mil novecentos e oitenta\n",
      "\n",
      "quarenta e nove milhÃµes\n",
      "\n",
      "duzentos e treze\n",
      "\n",
      "treze mil e treze\n",
      "\n",
      "treze milhÃµes trezentos e treze mil e treze\n",
      "\n",
      "trezentos e treze\n",
      "\n",
      "cento e treze\n",
      "\n",
      "quinhetos e treze\n",
      "\n",
      "novecentos de treze\n",
      "\n",
      "treze\n"
     ]
    }
   ],
   "source": [
    "##Iterar sobre um arquivo\n",
    "arquivo = open('ARQUIVO.txt', 'r')\n",
    "for linha in arquivo:\n",
    "    print(linha)\n",
    "arquivo.close()\n"
   ]
  },
  {
   "cell_type": "code",
   "execution_count": null,
   "id": "10ec826a",
   "metadata": {},
   "outputs": [],
   "source": []
  },
  {
   "cell_type": "code",
   "execution_count": null,
   "id": "6aef9462",
   "metadata": {},
   "outputs": [],
   "source": []
  }
 ],
 "metadata": {
  "kernelspec": {
   "display_name": "Python 3 (ipykernel)",
   "language": "python",
   "name": "python3"
  },
  "language_info": {
   "codemirror_mode": {
    "name": "ipython",
    "version": 3
   },
   "file_extension": ".py",
   "mimetype": "text/x-python",
   "name": "python",
   "nbconvert_exporter": "python",
   "pygments_lexer": "ipython3",
   "version": "3.9.12"
  }
 },
 "nbformat": 4,
 "nbformat_minor": 5
}
