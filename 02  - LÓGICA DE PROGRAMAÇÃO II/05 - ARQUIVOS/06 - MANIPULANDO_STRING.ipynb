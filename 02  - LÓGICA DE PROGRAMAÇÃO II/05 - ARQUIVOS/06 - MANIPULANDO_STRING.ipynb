{
 "cells": [
  {
   "cell_type": "code",
   "execution_count": null,
   "id": "fa3ff6b9",
   "metadata": {},
   "outputs": [],
   "source": []
  },
  {
   "cell_type": "code",
   "execution_count": 1,
   "id": "e37e4917",
   "metadata": {},
   "outputs": [
    {
     "data": {
      "text/plain": [
       "'mil duzentos trinta 1,5k'"
      ]
     },
     "execution_count": 1,
     "metadata": {},
     "output_type": "execute_result"
    }
   ],
   "source": [
    "from re import sub\n",
    "\n",
    "txt = 'mil, duzentos, trinta 1,5k'\n",
    "\n",
    "new_txt = sub(r\"([a-z])(,)([a-z ])\", r\"\\1\\3\", txt)\n",
    "new_txt"
   ]
  },
  {
   "cell_type": "code",
   "execution_count": 3,
   "id": "74eb90bd",
   "metadata": {},
   "outputs": [
    {
     "data": {
      "text/plain": [
       "<re.Match object; span=(0, 4), match='mil,'>"
      ]
     },
     "execution_count": 3,
     "metadata": {},
     "output_type": "execute_result"
    }
   ],
   "source": [
    "from re import match\n",
    "\n",
    "txt = 'mil, duzentos, trinta 1,5k'\n",
    "\n",
    "new_txt = match(\"([a-z]*,)*\", txt)\n",
    "new_txt"
   ]
  },
  {
   "cell_type": "code",
   "execution_count": 4,
   "id": "63960fce",
   "metadata": {},
   "outputs": [
    {
     "data": {
      "text/plain": [
       "['l,', 's,']"
      ]
     },
     "execution_count": 4,
     "metadata": {},
     "output_type": "execute_result"
    }
   ],
   "source": [
    "from re import findall\n",
    "\n",
    "txt = 'mil, duzentos, trinta 1,5k'\n",
    "\n",
    "new_txt = findall(\"[a-z],+\", txt)\n",
    "new_txt"
   ]
  },
  {
   "cell_type": "code",
   "execution_count": 2,
   "id": "4e9ed295",
   "metadata": {},
   "outputs": [
    {
     "name": "stdout",
     "output_type": "stream",
     "text": [
      "Nome\n",
      "Sobrenome\n"
     ]
    }
   ],
   "source": [
    "from re import search\n",
    "\n",
    "texto = \"Nome Sobrenome\"\n",
    "resultados = search(r\"(\\w+) (\\w+)\", texto)\n",
    "print(resultados.group(1))\n",
    "print(resultados.group(2))"
   ]
  },
  {
   "cell_type": "code",
   "execution_count": 6,
   "id": "f2c54546",
   "metadata": {},
   "outputs": [],
   "source": [
    "txt = 'JOSE APARECIDO DA SILVA, brasileiro, solteiro, engenheiro de dados, RG 123456 SSP/AL, CPF 123.456.789-10, residente e domiciliado na Rua Maria Aparecida, 502, Trindade, Maceió/AL, CEP 57123-45, vêm através deste'\n",
    "\n",
    "## site: https://regex101.com/r/uXL7eu/1"
   ]
  },
  {
   "cell_type": "code",
   "execution_count": null,
   "id": "82eee9cb",
   "metadata": {},
   "outputs": [],
   "source": []
  }
 ],
 "metadata": {
  "kernelspec": {
   "display_name": "Python 3 (ipykernel)",
   "language": "python",
   "name": "python3"
  },
  "language_info": {
   "codemirror_mode": {
    "name": "ipython",
    "version": 3
   },
   "file_extension": ".py",
   "mimetype": "text/x-python",
   "name": "python",
   "nbconvert_exporter": "python",
   "pygments_lexer": "ipython3",
   "version": "3.9.12"
  }
 },
 "nbformat": 4,
 "nbformat_minor": 5
}
