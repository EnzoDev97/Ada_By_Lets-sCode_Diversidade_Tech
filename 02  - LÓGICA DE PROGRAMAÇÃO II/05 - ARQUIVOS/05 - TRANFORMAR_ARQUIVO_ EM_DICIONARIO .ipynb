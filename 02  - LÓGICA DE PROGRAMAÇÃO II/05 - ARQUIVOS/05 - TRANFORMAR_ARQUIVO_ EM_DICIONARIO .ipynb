{
 "cells": [
  {
   "cell_type": "markdown",
   "id": "3a85d3ee",
   "metadata": {},
   "source": [
    "# 05 - Atividade de Revisão: transformar o arquivo (atividade_arquivos.txt) em um dicionário com o seguinte formato: \n",
    "\n",
    "```\n",
    "dict_nomes = {\n",
    "    'id_municipio': [],\n",
    "    'nome': [],\n",
    "    'qtd_nasc': [] \n",
    "}\n",
    "```"
   ]
  },
  {
   "cell_type": "code",
   "execution_count": 2,
   "id": "496e990e",
   "metadata": {},
   "outputs": [],
   "source": [
    "## solução\n",
    "\n",
    "file = open('atividade_arquivos.txt', 'r')\n",
    "lista = file.readlines()\n",
    "cod_mun = []\n",
    "nomes = []\n",
    "quantidade_nomes = []\n",
    "\n",
    "for linha in lista[1:]:\n",
    "    cod_mun.append(linha.strip('\\n').split(';')[0])\n",
    "    nomes.append(linha.strip('\\n').split(';')[1])\n",
    "    quantidade_nomes.append(linha.strip('\\n').split(';')[2])\n",
    "\n",
    "dict_nomes = {'id_municipio': cod_mun, 'nome': nomes, 'quantidade': quantidade_nomes}\n"
   ]
  },
  {
   "cell_type": "code",
   "execution_count": 3,
   "id": "9127d7ab",
   "metadata": {},
   "outputs": [],
   "source": [
    "file = open('atividade_arquivos.txt', 'r')\n",
    "lista = file.readlines()\n",
    "\n",
    "dict_nomes_comp = {\n",
    "'id_municipio': [linha.strip('\\n').split(';')[0] for linha in lista[1:]],\n",
    "'nome': [linha.strip('\\n').split(';')[1] for linha in lista[1:]],\n",
    "'quantidade': [linha.strip('\\n').split(';')[2] for linha in lista[1:]]}"
   ]
  },
  {
   "cell_type": "code",
   "execution_count": null,
   "id": "b1ad7b41",
   "metadata": {},
   "outputs": [],
   "source": []
  }
 ],
 "metadata": {
  "kernelspec": {
   "display_name": "Python 3 (ipykernel)",
   "language": "python",
   "name": "python3"
  },
  "language_info": {
   "codemirror_mode": {
    "name": "ipython",
    "version": 3
   },
   "file_extension": ".py",
   "mimetype": "text/x-python",
   "name": "python",
   "nbconvert_exporter": "python",
   "pygments_lexer": "ipython3",
   "version": "3.9.12"
  }
 },
 "nbformat": 4,
 "nbformat_minor": 5
}
