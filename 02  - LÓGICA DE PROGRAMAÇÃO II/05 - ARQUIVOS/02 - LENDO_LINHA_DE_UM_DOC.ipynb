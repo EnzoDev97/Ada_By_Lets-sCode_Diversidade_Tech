{
 "cells": [
  {
   "cell_type": "markdown",
   "id": "a8fe1d28",
   "metadata": {},
   "source": [
    "## Ler linha a linha do arquivo"
   ]
  },
  {
   "cell_type": "code",
   "execution_count": 1,
   "id": "f9fc0ba2",
   "metadata": {},
   "outputs": [
    {
     "data": {
      "text/plain": [
       "'vinte e um mil\\n'"
      ]
     },
     "execution_count": 1,
     "metadata": {},
     "output_type": "execute_result"
    }
   ],
   "source": [
    "##Ler linha a linha do arquivo\n",
    "arquivo = open('ARQUIVO.txt', 'r')\n",
    "primeira_linha = arquivo.readline()\n",
    "segunda_linha  = arquivo.readline()\n",
    "terceira_linha = arquivo.readline()\n",
    "segunda_linha"
   ]
  }
 ],
 "metadata": {
  "kernelspec": {
   "display_name": "Python 3 (ipykernel)",
   "language": "python",
   "name": "python3"
  },
  "language_info": {
   "codemirror_mode": {
    "name": "ipython",
    "version": 3
   },
   "file_extension": ".py",
   "mimetype": "text/x-python",
   "name": "python",
   "nbconvert_exporter": "python",
   "pygments_lexer": "ipython3",
   "version": "3.9.12"
  }
 },
 "nbformat": 4,
 "nbformat_minor": 5
}
