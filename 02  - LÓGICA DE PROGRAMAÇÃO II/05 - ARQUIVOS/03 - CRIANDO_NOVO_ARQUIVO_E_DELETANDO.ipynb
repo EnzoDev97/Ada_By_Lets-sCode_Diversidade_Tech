{
 "cells": [
  {
   "cell_type": "markdown",
   "id": "5c77c8bf",
   "metadata": {},
   "source": [
    "# Criar um arquivo vazio"
   ]
  },
  {
   "cell_type": "code",
   "execution_count": 1,
   "id": "ecb5360c",
   "metadata": {},
   "outputs": [],
   "source": [
    "#Criar um arquivo vazio\n",
    "arquivo = open('novo-arquivo.txt', 'w')\n",
    "arquivo.close()"
   ]
  },
  {
   "cell_type": "markdown",
   "id": "058b27bc",
   "metadata": {},
   "source": [
    "# Apagar o conteúdo de um arquivo"
   ]
  },
  {
   "cell_type": "code",
   "execution_count": 2,
   "id": "59f7ddf3",
   "metadata": {},
   "outputs": [],
   "source": [
    "#Apagar o conteúdo de um arquivo\n",
    "arquivo = open('novo-arquivo.txt', 'w')\n",
    "arquivo.close()"
   ]
  },
  {
   "cell_type": "code",
   "execution_count": null,
   "id": "2a332410",
   "metadata": {},
   "outputs": [],
   "source": []
  }
 ],
 "metadata": {
  "kernelspec": {
   "display_name": "Python 3 (ipykernel)",
   "language": "python",
   "name": "python3"
  },
  "language_info": {
   "codemirror_mode": {
    "name": "ipython",
    "version": 3
   },
   "file_extension": ".py",
   "mimetype": "text/x-python",
   "name": "python",
   "nbconvert_exporter": "python",
   "pygments_lexer": "ipython3",
   "version": "3.9.12"
  }
 },
 "nbformat": 4,
 "nbformat_minor": 5
}
