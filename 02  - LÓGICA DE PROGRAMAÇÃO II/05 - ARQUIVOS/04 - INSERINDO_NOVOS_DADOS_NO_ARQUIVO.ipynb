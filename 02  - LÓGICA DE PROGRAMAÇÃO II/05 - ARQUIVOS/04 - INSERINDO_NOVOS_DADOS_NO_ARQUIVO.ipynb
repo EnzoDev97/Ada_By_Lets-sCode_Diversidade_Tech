{
 "cells": [
  {
   "cell_type": "markdown",
   "id": "8baccebb",
   "metadata": {},
   "source": [
    "## Escrever em um arquivo"
   ]
  },
  {
   "cell_type": "code",
   "execution_count": 15,
   "id": "cb7350fa",
   "metadata": {},
   "outputs": [],
   "source": [
    "##Escrever em um arquivo\n",
    "arquivo = open('novo-arquivo.txt', 'w')\n",
    "arquivo.write('nova linha')\n",
    "arquivo.write('\\nOLÁ! MUNDO.')\n",
    "arquivo.close()"
   ]
  },
  {
   "cell_type": "markdown",
   "id": "b4bd440a",
   "metadata": {},
   "source": [
    "## Inserir conteúdo ao já existente (adicionar)"
   ]
  },
  {
   "cell_type": "code",
   "execution_count": 16,
   "id": "8635f714",
   "metadata": {},
   "outputs": [],
   "source": [
    "##Inserir conteúdo ao já existente (adicionar)\n",
    "arquivo = open('novo-arquivo.txt', 'r') # Abra o arquivo (leitura)\n",
    "conteudo = arquivo.readlines()\n",
    "conteudo.append('\\nNova linha')   # insira seu conteúdo\n",
    "\n",
    "arquivo = open('novo-arquivo.txt', 'w') # Abre novamente o arquivo (escrita)\n",
    "arquivo.writelines(conteudo)    # escreva o conteúdo criado anteriormente nele.\n",
    "\n",
    "arquivo.close()"
   ]
  },
  {
   "cell_type": "code",
   "execution_count": null,
   "id": "0de3914f",
   "metadata": {},
   "outputs": [],
   "source": []
  }
 ],
 "metadata": {
  "kernelspec": {
   "display_name": "Python 3 (ipykernel)",
   "language": "python",
   "name": "python3"
  },
  "language_info": {
   "codemirror_mode": {
    "name": "ipython",
    "version": 3
   },
   "file_extension": ".py",
   "mimetype": "text/x-python",
   "name": "python",
   "nbconvert_exporter": "python",
   "pygments_lexer": "ipython3",
   "version": "3.9.12"
  }
 },
 "nbformat": 4,
 "nbformat_minor": 5
}
