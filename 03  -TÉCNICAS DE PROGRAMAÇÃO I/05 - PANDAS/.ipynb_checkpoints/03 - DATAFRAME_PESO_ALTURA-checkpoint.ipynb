{
 "cells": [
  {
   "cell_type": "markdown",
   "id": "8ff5fae8",
   "metadata": {},
   "source": [
    "### 03 - Crie um objeto DataFrame que contenha os dados da tabela abaixo, os quais se referem ao peso, altura e idade de cinco pessoas:\n",
    "\n",
    "```\n",
    "Peso (kg)\tAltura (cm)\tIdade\n",
    "72\t180\t31\n",
    "80\t170\t21\n",
    "60\t175\t16\n",
    "90\t174\t28\n",
    "100\t185\t23\n",
    "```\n",
    "**Com base no DataFrame criado, realize o que pedido nos itens abaixo:\n",
    "\n",
    "* (a) Visualize apenas os dados da coluna que contém a altura das pessoas.\n",
    "* (b) Obtenha a idade média das pessoas.\n",
    "* (c) Obtenha os dados das pessoas que estão abaixo da altura média.\n",
    "* (d) Crie um nova coluna no DataFrame que contenha o IMC (Índice de Massa Corporal) de cada pessoa.\n",
    "* (e) Remova a coluna que contém a idade das pessoas.\n",
    "* (f) Salve esses dados do DataFrame em um arquivo csv."
   ]
  },
  {
   "cell_type": "code",
   "execution_count": 26,
   "id": "b138e402",
   "metadata": {},
   "outputs": [
    {
     "data": {
      "text/plain": [
       "0    180\n",
       "1    170\n",
       "2    175\n",
       "3    174\n",
       "4    185\n",
       "Name: Altura (cm), dtype: int64"
      ]
     },
     "execution_count": 26,
     "metadata": {},
     "output_type": "execute_result"
    }
   ],
   "source": [
    "import pandas as pd\n",
    "\n",
    "dados = {'Peso (kg)': [72, 80, 60, 90, 100],\n",
    "         'Altura (cm)': [180, 170, 175, 174, 185],\n",
    "         'Idade': [31, 21, 16, 28, 23]}\n",
    "\n",
    "df = pd.DataFrame(dados)\n",
    "\n",
    " # a\n",
    "df['Altura (cm)']\n"
   ]
  },
  {
   "cell_type": "code",
   "execution_count": 27,
   "id": "85df9846",
   "metadata": {},
   "outputs": [
    {
     "data": {
      "text/plain": [
       "23.8"
      ]
     },
     "execution_count": 27,
     "metadata": {},
     "output_type": "execute_result"
    }
   ],
   "source": [
    "# b\n",
    "df['Idade'].mean()"
   ]
  },
  {
   "cell_type": "code",
   "execution_count": 28,
   "id": "73685d64",
   "metadata": {},
   "outputs": [
    {
     "name": "stdout",
     "output_type": "stream",
     "text": [
      "176.8\n"
     ]
    },
    {
     "data": {
      "text/html": [
       "<div>\n",
       "<style scoped>\n",
       "    .dataframe tbody tr th:only-of-type {\n",
       "        vertical-align: middle;\n",
       "    }\n",
       "\n",
       "    .dataframe tbody tr th {\n",
       "        vertical-align: top;\n",
       "    }\n",
       "\n",
       "    .dataframe thead th {\n",
       "        text-align: right;\n",
       "    }\n",
       "</style>\n",
       "<table border=\"1\" class=\"dataframe\">\n",
       "  <thead>\n",
       "    <tr style=\"text-align: right;\">\n",
       "      <th></th>\n",
       "      <th>Peso (kg)</th>\n",
       "      <th>Altura (cm)</th>\n",
       "      <th>Idade</th>\n",
       "    </tr>\n",
       "  </thead>\n",
       "  <tbody>\n",
       "    <tr>\n",
       "      <th>1</th>\n",
       "      <td>80</td>\n",
       "      <td>170</td>\n",
       "      <td>21</td>\n",
       "    </tr>\n",
       "    <tr>\n",
       "      <th>2</th>\n",
       "      <td>60</td>\n",
       "      <td>175</td>\n",
       "      <td>16</td>\n",
       "    </tr>\n",
       "    <tr>\n",
       "      <th>3</th>\n",
       "      <td>90</td>\n",
       "      <td>174</td>\n",
       "      <td>28</td>\n",
       "    </tr>\n",
       "  </tbody>\n",
       "</table>\n",
       "</div>"
      ],
      "text/plain": [
       "   Peso (kg)  Altura (cm)  Idade\n",
       "1         80          170     21\n",
       "2         60          175     16\n",
       "3         90          174     28"
      ]
     },
     "execution_count": 28,
     "metadata": {},
     "output_type": "execute_result"
    }
   ],
   "source": [
    "# c\n",
    "print(df['Altura (cm)'].mean())\n",
    "\n",
    "df[df['Altura (cm)'] < df['Altura (cm)'].mean()]"
   ]
  },
  {
   "cell_type": "code",
   "execution_count": 29,
   "id": "38096199",
   "metadata": {},
   "outputs": [
    {
     "data": {
      "text/plain": [
       "0    22.222222\n",
       "1    27.681661\n",
       "2    19.591837\n",
       "3    29.726516\n",
       "4    29.218408\n",
       "Name: IMC, dtype: float64"
      ]
     },
     "execution_count": 29,
     "metadata": {},
     "output_type": "execute_result"
    }
   ],
   "source": [
    "\n",
    " # d\n",
    "\n",
    "IMC = df['Peso (kg)'] / (df['Altura (cm)'] / 100)**2\n",
    "\n",
    "df['IMC'] = IMC\n",
    "df['IMC'] "
   ]
  },
  {
   "cell_type": "code",
   "execution_count": 30,
   "id": "d0ab0054",
   "metadata": {},
   "outputs": [],
   "source": [
    "\n",
    " # e\n",
    "\n",
    "df.drop('Idade', axis=1, inplace=True)"
   ]
  },
  {
   "cell_type": "code",
   "execution_count": 32,
   "id": "16eec8f9",
   "metadata": {},
   "outputs": [],
   "source": [
    "# f\n",
    "\n",
    "df.to_csv('01-peso-altura-imc.csv', index=False)"
   ]
  },
  {
   "cell_type": "code",
   "execution_count": null,
   "id": "4db5cdc1",
   "metadata": {},
   "outputs": [],
   "source": []
  }
 ],
 "metadata": {
  "kernelspec": {
   "display_name": "Python 3 (ipykernel)",
   "language": "python",
   "name": "python3"
  },
  "language_info": {
   "codemirror_mode": {
    "name": "ipython",
    "version": 3
   },
   "file_extension": ".py",
   "mimetype": "text/x-python",
   "name": "python",
   "nbconvert_exporter": "python",
   "pygments_lexer": "ipython3",
   "version": "3.9.12"
  }
 },
 "nbformat": 4,
 "nbformat_minor": 5
}
