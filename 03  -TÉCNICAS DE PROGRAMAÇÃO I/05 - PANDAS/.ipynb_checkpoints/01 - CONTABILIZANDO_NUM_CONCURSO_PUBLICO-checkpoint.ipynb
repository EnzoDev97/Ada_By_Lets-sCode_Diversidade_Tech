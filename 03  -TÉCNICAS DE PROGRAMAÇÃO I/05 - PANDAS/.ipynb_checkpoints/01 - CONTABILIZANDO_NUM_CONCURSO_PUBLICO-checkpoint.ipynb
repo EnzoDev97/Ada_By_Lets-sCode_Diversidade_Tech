{
 "cells": [
  {
   "cell_type": "markdown",
   "id": "31a3a43a",
   "metadata": {},
   "source": [
    "### 01 - Em um concurso público foram contabilizados os números de pessoas inscritas (até a data inicialmente estabelecida para a inscrição) segundo os níveis de escolaridade: fundamental completo, médio completo, superior completo e pós-graduação completa. Segue abaixo a tabela com os valores observados.\n",
    "\n",
    "```\n",
    "Nível de escolaridade\tInscritos\n",
    "Fundamental completo\t451\n",
    "Médio completo\t627\n",
    "Superior completo\t292\n",
    "Pós-graduação completa\t95\n",
    "```\n",
    "**Com base na tabela acima, crie uma Series com esses valores e calcule:**\n",
    "\n",
    "* (a) O número total de inscritos\n",
    "* (b) Número inscritos que possuem, pelo menos, o superior completo.\n",
    "* (c) Suponha que a inscrição foi prorrogada e, com isso, foi obtido um número adicional de inscrições: 68, 93, 22 e 0 inscritos a mais em cada uma das categorias de escolaridade apresentados na tabela acima (na mesma ordem). Assim, crie uma nova Series com esses valores.\n",
    "* (d) Utilizando as duas Series que você tem, calcule o número total de inscritos após a prorrogação do período de inscrições."
   ]
  },
  {
   "cell_type": "code",
   "execution_count": 2,
   "id": "d76bbb70",
   "metadata": {},
   "outputs": [
    {
     "name": "stdout",
     "output_type": "stream",
     "text": [
      "1465\n",
      "-------------------------------------------------- \n",
      "\n",
      "387\n",
      "-------------------------------------------------- \n",
      "\n",
      "Fundamental Completo      68\n",
      "Médio Incompleto          93\n",
      "Superior Completo         22\n",
      "Pós-Graduação Completa     0\n",
      "dtype: int64\n",
      "-------------------------------------------------- \n",
      "\n",
      "1648\n"
     ]
    }
   ],
   "source": [
    "import pandas as pd\n",
    "\n",
    "concurso = pd.Series([451, 627, 292, 95],\n",
    "            index=['Fundamental Completo', 'Médio Incompleto', 'Superior Completo', 'Pós-Graduação Completa'])\n",
    "\n",
    "# a\n",
    "print(concurso.sum())\n",
    "print('-'*50,'\\n')\n",
    "\n",
    "# b\n",
    "print(concurso['Superior Completo':].sum())\n",
    "print('-'*50,'\\n')\n",
    "\n",
    "# c\n",
    "add = pd.Series([68, 93, 22, 0],\n",
    "               index=['Fundamental Completo', 'Médio Incompleto', 'Superior Completo', 'Pós-Graduação Completa'])\n",
    "print(add)\n",
    "print('-'*50,'\\n')\n",
    "\n",
    "# d\n",
    "concurso_total = concurso + add\n",
    "print(concurso_total.sum())"
   ]
  },
  {
   "cell_type": "code",
   "execution_count": null,
   "id": "e3090669",
   "metadata": {},
   "outputs": [],
   "source": [
    " "
   ]
  }
 ],
 "metadata": {
  "kernelspec": {
   "display_name": "Python 3 (ipykernel)",
   "language": "python",
   "name": "python3"
  },
  "language_info": {
   "codemirror_mode": {
    "name": "ipython",
    "version": 3
   },
   "file_extension": ".py",
   "mimetype": "text/x-python",
   "name": "python",
   "nbconvert_exporter": "python",
   "pygments_lexer": "ipython3",
   "version": "3.9.12"
  }
 },
 "nbformat": 4,
 "nbformat_minor": 5
}
