{
 "cells": [
  {
   "cell_type": "markdown",
   "id": "8d6a3a15",
   "metadata": {},
   "source": [
    "### 12- Crie uma Series com os 11 primeiros termos da sequência de Fibonacci. Utilize letras (em ordem alfabética) como os índices da Series. Em seguida, obtenha apenas aqueles elementos que forem superiores a 10 e inferiores a 50.\n",
    "\n",
    "```Sequência de Fibonacci: 0, 1, 1, 2, 3, 5, 8, 13, 21, 34, 55...```"
   ]
  },
  {
   "cell_type": "code",
   "execution_count": 1,
   "id": "e42502a0",
   "metadata": {},
   "outputs": [
    {
     "name": "stdout",
     "output_type": "stream",
     "text": [
      "[5 2 1 4 5 1 1 2 3 3 3 1 3 1 2 1 4 5 1 1]\n",
      "Valor mais frequente: 1\n",
      "0     Outro valor\n",
      "1     Outro valor\n",
      "2               1\n",
      "3     Outro valor\n",
      "4     Outro valor\n",
      "5               1\n",
      "6               1\n",
      "7     Outro valor\n",
      "8     Outro valor\n",
      "9     Outro valor\n",
      "10    Outro valor\n",
      "11              1\n",
      "12    Outro valor\n",
      "13              1\n",
      "14    Outro valor\n",
      "15              1\n",
      "16    Outro valor\n",
      "17    Outro valor\n",
      "18              1\n",
      "19              1\n",
      "dtype: object\n"
     ]
    }
   ],
   "source": [
    "import pandas as pd\n",
    "import numpy as np\n",
    "\n",
    "# Gerando dados aleatórios\n",
    "numeros = np.random.randint(1, 6, 20)\n",
    "print(numeros)\n",
    "\n",
    "series = pd.Series(numeros)\n",
    "\n",
    "# Pode haver mais de uma moda, mas escolheremos a primeira\n",
    "mais_frequente = series.mode()[0]\n",
    "print(f'Valor mais frequente: {mais_frequente}')\n",
    "\n",
    "# Substituição\n",
    "series[series != mais_frequente] = \"Outro valor\"\n",
    "\n",
    "print(series)"
   ]
  },
  {
   "cell_type": "code",
   "execution_count": null,
   "id": "b558d235",
   "metadata": {},
   "outputs": [],
   "source": []
  }
 ],
 "metadata": {
  "kernelspec": {
   "display_name": "Python 3 (ipykernel)",
   "language": "python",
   "name": "python3"
  },
  "language_info": {
   "codemirror_mode": {
    "name": "ipython",
    "version": 3
   },
   "file_extension": ".py",
   "mimetype": "text/x-python",
   "name": "python",
   "nbconvert_exporter": "python",
   "pygments_lexer": "ipython3",
   "version": "3.9.12"
  }
 },
 "nbformat": 4,
 "nbformat_minor": 5
}
