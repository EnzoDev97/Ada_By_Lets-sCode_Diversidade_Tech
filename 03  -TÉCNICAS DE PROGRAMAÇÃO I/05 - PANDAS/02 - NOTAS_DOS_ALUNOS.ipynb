{
 "cells": [
  {
   "cell_type": "markdown",
   "id": "3f9cb80d",
   "metadata": {},
   "source": [
    "###  02-  Uma turma de cinco alunos foi submetida a uma avaliação e a nota de cada um dos alunos é apresentada na tabela abaixo:\n",
    "\n",
    "```\n",
    "Nome do Aluno\tNota\n",
    "Wilfred\t2\n",
    "Abbie\t7\n",
    "Harry\t5.5\n",
    "Julia\t10\n",
    "Carrie\t6.2\n",
    "```\n",
    "\n",
    "* (a) Crie uma Series com os valores da tabela acima.\n",
    "* ((b) Retorne o número de alunos que foram aprovados (considerando que a nota mínima para a aprovação é 7).\n",
    "* ((c) Qual foi a nota média da turma.\n",
    "* ((d) Obtenha o nome dos alunos que tiraram notas acima da média da turma."
   ]
  },
  {
   "cell_type": "code",
   "execution_count": 9,
   "id": "cdac1093",
   "metadata": {},
   "outputs": [
    {
     "name": "stdout",
     "output_type": "stream",
     "text": [
      "2\n",
      "-------------------------------------------------- \n",
      "\n",
      "6.14\n",
      "-------------------------------------------------- \n",
      "\n",
      "Index(['Abbie', 'Julia', 'Carrie'], dtype='object')\n",
      "Abbie, Julia, Carrie\n"
     ]
    }
   ],
   "source": [
    "import pandas as pd\n",
    "\n",
    "#a\n",
    "notas = pd.Series([2, 7, 5.5, 10, 6.2],\n",
    "            index=['Wilfred', 'Abbie' , 'Harry', 'Julia','Carrie'])\n",
    "\n",
    "\n",
    "# b\n",
    "print(notas[notas >= 7].count())\n",
    "print('-'*50,'\\n')\n",
    "# c\n",
    "print(notas.mean())\n",
    "print('-'*50,'\\n')\n",
    "# d\n",
    "print(notas[notas > notas.mean()].index)\n",
    "print(', '.join(list(notas[notas > notas.mean()].index))) # se preferir\n",
    "    "
   ]
  },
  {
   "cell_type": "code",
   "execution_count": null,
   "id": "cfca1ef1",
   "metadata": {},
   "outputs": [],
   "source": []
  }
 ],
 "metadata": {
  "kernelspec": {
   "display_name": "Python 3 (ipykernel)",
   "language": "python",
   "name": "python3"
  },
  "language_info": {
   "codemirror_mode": {
    "name": "ipython",
    "version": 3
   },
   "file_extension": ".py",
   "mimetype": "text/x-python",
   "name": "python",
   "nbconvert_exporter": "python",
   "pygments_lexer": "ipython3",
   "version": "3.9.12"
  }
 },
 "nbformat": 4,
 "nbformat_minor": 5
}
