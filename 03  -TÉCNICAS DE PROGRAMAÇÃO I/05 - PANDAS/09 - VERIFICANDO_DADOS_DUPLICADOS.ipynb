{
 "cells": [
  {
   "cell_type": "markdown",
   "id": "4fffbd55",
   "metadata": {},
   "source": [
    "### 04 - O arquivo googleplaystore.csv é um dataset que contém diversas informações sobre aplicativos disponíveis para download na Google Play Store. Logo após, verifique se existem dados duplicados e/ou ausentes nesse dataset.\n",
    "\n",
    "### Caso existam dados duplicados, remova-os. Caso existam dados ausentes, você pode removê-los ou pensar em alguma maneira de preenchê-los."
   ]
  },
  {
   "cell_type": "code",
   "execution_count": 2,
   "id": "3cbaa1fc",
   "metadata": {},
   "outputs": [],
   "source": [
    "import pandas as pd\n",
    "\n",
    "df = pd.read_csv('googleplaystore.csv')\n",
    "\n",
    "df.head()\n",
    "\n",
    "df.drop_duplicates(inplace=True)\n",
    "\n",
    "# Percentual de dados ausentes na coluna Rating\n",
    "df['Rating'].isnull().sum() / df.shape[0] # 1465 / 10358\n",
    "\n",
    "df['Rating'].fillna(df['Rating'].mean(), inplace=True)\n",
    "\n",
    "df['Type'].fillna('Free', inplace=True)\n",
    "\n",
    "# Difícil prever a versão do Aplicativo e do Android, portanto...\n",
    "df.dropna(inplace=True)"
   ]
  },
  {
   "cell_type": "code",
   "execution_count": null,
   "id": "deea22a0",
   "metadata": {},
   "outputs": [],
   "source": []
  }
 ],
 "metadata": {
  "kernelspec": {
   "display_name": "Python 3 (ipykernel)",
   "language": "python",
   "name": "python3"
  },
  "language_info": {
   "codemirror_mode": {
    "name": "ipython",
    "version": 3
   },
   "file_extension": ".py",
   "mimetype": "text/x-python",
   "name": "python",
   "nbconvert_exporter": "python",
   "pygments_lexer": "ipython3",
   "version": "3.9.12"
  }
 },
 "nbformat": 4,
 "nbformat_minor": 5
}
