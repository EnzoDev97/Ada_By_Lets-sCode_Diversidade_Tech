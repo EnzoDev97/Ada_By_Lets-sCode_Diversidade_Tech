{
 "cells": [
  {
   "cell_type": "markdown",
   "id": "9517f970",
   "metadata": {},
   "source": [
    "### 11 - Crie uma Series com os índices registrados pelo TIOBE Index para as top 10 linguagens de programação. Os índices da Series devem ser os nomes das linguagens, e os valores devem ser as taxas de popularidade de cada respectiva linguagem de programação. Em seguida, utilize os métodos da Series para:\n",
    "\n",
    "* Exibir os cinco primeiros valores da Series\n",
    "( Exibir os cinco últimos valores da Series"
   ]
  },
  {
   "cell_type": "code",
   "execution_count": 1,
   "id": "84febba7",
   "metadata": {},
   "outputs": [
    {
     "name": "stdout",
     "output_type": "stream",
     "text": [
      "C         12.57\n",
      "Python    11.86\n",
      "Java      10.43\n",
      "C++        7.36\n",
      "C#         5.14\n",
      "dtype: float64\n",
      "Visual Basic         4.67\n",
      "JavaScript           2.95\n",
      "PHP                  2.19\n",
      "Assembly Language    2.03\n",
      "SQL                  1.47\n",
      "dtype: float64\n"
     ]
    }
   ],
   "source": [
    "import pandas as pd\n",
    "\n",
    "# Dados de agosto de 2021\n",
    "index = [\n",
    "    'C',\n",
    "    'Python',\n",
    "    'Java',\n",
    "    'C++',\n",
    "    'C#',\n",
    "    'Visual Basic',\n",
    "    'JavaScript',\n",
    "    'PHP',\n",
    "    'Assembly Language',\n",
    "    'SQL'\n",
    "]\n",
    "\n",
    "taxas = [12.57, 11.86, 10.43, 7.36, 5.14, 4.67, 2.95, 2.19, 2.03, 1.47]\n",
    "\n",
    "tiobe_series = pd.Series(taxas, index=index)\n",
    "\n",
    "print(tiobe_series.iloc[:5])\n",
    "print(tiobe_series.iloc[5:])"
   ]
  },
  {
   "cell_type": "code",
   "execution_count": null,
   "id": "befd6150",
   "metadata": {},
   "outputs": [],
   "source": []
  }
 ],
 "metadata": {
  "kernelspec": {
   "display_name": "Python 3 (ipykernel)",
   "language": "python",
   "name": "python3"
  },
  "language_info": {
   "codemirror_mode": {
    "name": "ipython",
    "version": 3
   },
   "file_extension": ".py",
   "mimetype": "text/x-python",
   "name": "python",
   "nbconvert_exporter": "python",
   "pygments_lexer": "ipython3",
   "version": "3.9.12"
  }
 },
 "nbformat": 4,
 "nbformat_minor": 5
}
