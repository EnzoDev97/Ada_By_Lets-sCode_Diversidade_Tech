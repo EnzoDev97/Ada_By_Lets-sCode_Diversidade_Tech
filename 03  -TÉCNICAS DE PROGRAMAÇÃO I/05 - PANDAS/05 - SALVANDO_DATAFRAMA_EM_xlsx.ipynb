{
 "cells": [
  {
   "cell_type": "markdown",
   "id": "090bc461",
   "metadata": {},
   "source": [
    "### 05 - Carregue, em um objeto DataFrame, o mesmo dataset que você salvou na Questão 3. Em seguida,\n",
    "\n",
    "* (a) Adicione uma nova coluna nesse DF chamada Classificação, que contenha a classificação de cada indivíduo, de acordo com o seu IMC. Para isso, consulte a tabela abaixo.\n",
    "\n",
    "```\n",
    "IMC\tClassificação\tObesidade (grau)\n",
    "Menor que 18,5\tMagreza\t0\n",
    "Entre 18,5 e 24,9\tNormal\t0\n",
    "Entre 25,0 e 29,9\tSobrepeso\tI\n",
    "Entre 30,0 e 39,9\tObesidade\tII\n",
    "Maior que 40,0\tObesidade Grave\tIII\n",
    "\n",
    "```\n",
    "* (b) Salve em DataFrame no formato xlsx."
   ]
  },
  {
   "cell_type": "code",
   "execution_count": 4,
   "id": "f1423285",
   "metadata": {},
   "outputs": [],
   "source": [
    "# a\n",
    "\n",
    "import pandas as pd\n",
    "import numpy as np\n",
    "\n",
    "df = pd.read_csv('peso-altura-imc.csv')\n",
    "\n",
    "classificacao = [''] * df.shape[0]\n",
    "\n",
    "for i in range(df.shape[0]):\n",
    "    imc = df.loc[i, 'IMC']\n",
    "    if (imc < 18.5):\n",
    "        classificacao[i] = 'Abaixo do peso'\n",
    "    elif (imc < 25):\n",
    "        classificacao[i] = 'Normal'\n",
    "    elif (imc < 30):\n",
    "        classificacao[i] = 'Sobrepeso'\n",
    "    elif imc < 40:\n",
    "        classificacao[i] = 'Obesidade'\n",
    "    else:\n",
    "        classificacao[i] = 'Obesidade Grave'\n",
    "\n",
    "df['Classificação'] = classificacao\n",
    "\n",
    "# b\n",
    "\n",
    "df.to_excel('peso-altura-imc.xlsx', index=False)"
   ]
  },
  {
   "cell_type": "code",
   "execution_count": null,
   "id": "129b0442",
   "metadata": {},
   "outputs": [],
   "source": []
  }
 ],
 "metadata": {
  "kernelspec": {
   "display_name": "Python 3 (ipykernel)",
   "language": "python",
   "name": "python3"
  },
  "language_info": {
   "codemirror_mode": {
    "name": "ipython",
    "version": 3
   },
   "file_extension": ".py",
   "mimetype": "text/x-python",
   "name": "python",
   "nbconvert_exporter": "python",
   "pygments_lexer": "ipython3",
   "version": "3.9.12"
  }
 },
 "nbformat": 4,
 "nbformat_minor": 5
}
