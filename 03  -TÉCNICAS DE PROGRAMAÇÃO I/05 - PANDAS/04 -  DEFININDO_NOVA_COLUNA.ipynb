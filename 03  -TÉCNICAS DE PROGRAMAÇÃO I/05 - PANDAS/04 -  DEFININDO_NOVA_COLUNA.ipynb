{
 "cells": [
  {
   "cell_type": "markdown",
   "id": "e8bf3f48",
   "metadata": {},
   "source": [
    "### 04 - Carregue, em um objeto DataFrame, o arquivo CSV que você salvou no item (f) da questão anterior. Em seguida,\n",
    "\n",
    "* (a) Crie uma nova coluna que contenha o nome das pessoas (sinta-se à vontade para atribuir os nomes que preferir).\n",
    "* (b) Defina a nova coluna criada (com os nomes) como o índice (index) do seu DataFrame."
   ]
  },
  {
   "cell_type": "code",
   "execution_count": 7,
   "id": "a82f9538",
   "metadata": {},
   "outputs": [
    {
     "name": "stdout",
     "output_type": "stream",
     "text": [
      "176.8\n"
     ]
    }
   ],
   "source": [
    "import pandas as pd\n",
    "\n",
    "# DADOS DA QUESTÃO ANTERIOR\n",
    "\n",
    "dados = {'Peso (kg)': [72, 80, 60, 90, 100],\n",
    "         'Altura (cm)': [180, 170, 175, 174, 185],\n",
    "         'Idade': [31, 21, 16, 28, 23]}\n",
    "\n",
    "df = pd.DataFrame(dados)\n",
    "\n",
    " # a\n",
    "df['Altura (cm)']\n",
    "\n",
    "\n",
    "# b\n",
    "df['Idade'].mean()\n",
    "\n",
    "\n",
    "# c\n",
    "print(df['Altura (cm)'].mean())\n",
    "\n",
    "df[df['Altura (cm)'] < df['Altura (cm)'].mean()]\n",
    "\n",
    "\n",
    "\n",
    " # d\n",
    "\n",
    "IMC = df['Peso (kg)'] / (df['Altura (cm)'] / 100)**2\n",
    "\n",
    "df['IMC'] = IMC\n",
    "df['IMC'] \n",
    "\n",
    "\n",
    " # e\n",
    "\n",
    "df.drop('Idade', axis=1, inplace=True)\n",
    "\n",
    "\n",
    "# f\n",
    "\n",
    "df.to_csv('peso-altura-imc.csv', index=False)"
   ]
  },
  {
   "cell_type": "code",
   "execution_count": 9,
   "id": "be9c5aa6",
   "metadata": {},
   "outputs": [],
   "source": [
    "import pandas as pd\n",
    "\n",
    "df = pd.read_csv('peso-altura-imc.csv')\n",
    "\n",
    "\n",
    "# a\n",
    "\n",
    "df['Nome'] = ['Ryu', 'Ken', 'Akuma', 'Chun Li', 'Sagat']\n"
   ]
  },
  {
   "cell_type": "code",
   "execution_count": 10,
   "id": "3a97a16a",
   "metadata": {},
   "outputs": [],
   "source": [
    "# b\n",
    "\n",
    "df.set_index('Nome', inplace=True)"
   ]
  },
  {
   "cell_type": "code",
   "execution_count": 11,
   "id": "82e36535",
   "metadata": {},
   "outputs": [
    {
     "data": {
      "text/plain": [
       "['Ken', 'Chun Li', 'Sagat']"
      ]
     },
     "execution_count": 11,
     "metadata": {},
     "output_type": "execute_result"
    }
   ],
   "source": [
    " # c\n",
    "\n",
    "nomes = df[(df['IMC'] >= 25) & (df['IMC'] < 30)].index\n",
    "list(nomes)"
   ]
  },
  {
   "cell_type": "code",
   "execution_count": null,
   "id": "27ba71d5",
   "metadata": {},
   "outputs": [],
   "source": []
  }
 ],
 "metadata": {
  "kernelspec": {
   "display_name": "Python 3 (ipykernel)",
   "language": "python",
   "name": "python3"
  },
  "language_info": {
   "codemirror_mode": {
    "name": "ipython",
    "version": 3
   },
   "file_extension": ".py",
   "mimetype": "text/x-python",
   "name": "python",
   "nbconvert_exporter": "python",
   "pygments_lexer": "ipython3",
   "version": "3.9.12"
  }
 },
 "nbformat": 4,
 "nbformat_minor": 5
}
