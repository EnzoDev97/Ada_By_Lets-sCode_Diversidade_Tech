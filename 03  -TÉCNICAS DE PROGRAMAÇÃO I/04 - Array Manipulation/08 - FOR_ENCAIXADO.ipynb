{
 "cells": [
  {
   "cell_type": "code",
   "execution_count": null,
   "metadata": {},
   "outputs": [],
   "source": [
    "#** 08 - Percorra os indexes do seguinte array utilizando for encaixado:**\n",
    "\n",
    "#```arr = [[[1, 2], [3, 4]], [[5, 6], [7, 8]]]```\n",
    "\n",
    "#**Agora faça o mesmo trabalho utilizando a função ndenumerate.**\n",
    "\n",
    "\n",
    "import numpy as np\n",
    "\n",
    "arr = np.array([[[1, 2], [3, 4]], [[5, 6], [7, 8]]])\n",
    "\n",
    "shape = arr.shape\n",
    "\n",
    "print(\"Com for encaixado: \")\n",
    "for i in range(shape[0]):\n",
    "    for j in range(shape[1]):\n",
    "        for k in range(shape[2]):\n",
    "            print(arr[i, j, k])\n",
    "            \n",
    "print('-'*100,'\\n')\n",
    "print(\"Com np.ndenumerate: \")\n",
    "for index, value in np.ndenumerate(arr):\n",
    "    print(arr[index])\n"
   ]
  }
 ],
 "metadata": {
  "language_info": {
   "name": "python"
  },
  "orig_nbformat": 4
 },
 "nbformat": 4,
 "nbformat_minor": 2
}
