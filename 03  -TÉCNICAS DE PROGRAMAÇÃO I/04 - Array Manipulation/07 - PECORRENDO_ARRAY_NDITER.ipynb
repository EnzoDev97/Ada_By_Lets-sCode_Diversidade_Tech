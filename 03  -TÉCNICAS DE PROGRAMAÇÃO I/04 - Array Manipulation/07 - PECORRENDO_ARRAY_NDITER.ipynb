{
 "cells": [
  {
   "cell_type": "code",
   "execution_count": null,
   "metadata": {},
   "outputs": [],
   "source": [
    "#** 07 - Percorra o seguinte array utilizando for encaixado:**\n",
    "\n",
    "#```arr = [[[1, 2], [3, 4]], [[5, 6], [7, 8]]]```\n",
    "\n",
    "#**Agora, percorra o mesmo array utilizando a função nditer de numpy.**\n",
    "\n",
    "\n",
    "\n",
    "import numpy as np\n",
    "\n",
    "arr = np.array([[[1, 2], [3, 4]], [[5, 6], [7, 8]]])\n",
    "\n",
    "shape = arr.shape\n",
    "\n",
    "print(\"Com for encaixado: \")\n",
    "for i in range(shape[0]):\n",
    "    for j in range(shape[1]):\n",
    "        for k in range(shape[2]):\n",
    "            print(arr[i, j, k])\n",
    "\n",
    "print('-'*100,'\\n')\n",
    "print(\"Com nditer: \")\n",
    "for x in np.nditer(arr):\n",
    "    print(x)\n"
   ]
  }
 ],
 "metadata": {
  "language_info": {
   "name": "python"
  },
  "orig_nbformat": 4
 },
 "nbformat": 4,
 "nbformat_minor": 2
}
