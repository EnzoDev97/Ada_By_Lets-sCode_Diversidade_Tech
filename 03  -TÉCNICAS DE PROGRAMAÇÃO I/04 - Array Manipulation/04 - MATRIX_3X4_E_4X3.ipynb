{
 "cells": [
  {
   "cell_type": "code",
   "execution_count": null,
   "metadata": {},
   "outputs": [],
   "source": [
    "#** 04 - Transforme o array em uma matriz 4 por 3 utilizando numpy.**\n",
    "\n",
    "#```arr = [1, 2, 3, 4, 'Amelia, 'Bruna, 'Carolina', 'Débora', True, False, False, True]```\n",
    "\n",
    "#**Depois, faça o mesmo para uma matriz 3 por 4.**\n",
    "\n",
    "\n",
    "\n",
    "import numpy as np\n",
    "\n",
    "arr = [1, 2, 3, 4, 'Amelia', 'Bruna', 'Carolina', 'Débora', True, False, False, True]\n",
    "\n",
    "arr_4_por_3 = np.array(arr).reshape(4, 3)\n",
    "print(arr_4_por_3)\n",
    "print('-'*100,'\\n')\n",
    "\n",
    "arr_3_por_4 = np.array(arr).reshape(3, 4)\n",
    "print(arr_3_por_4)\n"
   ]
  }
 ],
 "metadata": {
  "language_info": {
   "name": "python"
  },
  "orig_nbformat": 4
 },
 "nbformat": 4,
 "nbformat_minor": 2
}
