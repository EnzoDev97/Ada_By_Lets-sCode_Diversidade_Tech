{
 "cells": [
  {
   "cell_type": "code",
   "execution_count": null,
   "metadata": {},
   "outputs": [],
   "source": [
    "#** 03 - Imprima a dimensão dos seguintes objetos numpy:**\n",
    "\n",
    "#```a = np.array(2)```\n",
    "\n",
    "#```b = np.array([1, 2, 3, 4, 5])```\n",
    "\n",
    "#```c = np.array([[1, 2, 3], [4, 5, 6]])```\n",
    "\n",
    "#```d = np.array([[[1, 2, 3], [4, 5, 6]], [[7, 8, 9], [10, 11, 12]]])```\n",
    "\n",
    "\n",
    "\n",
    "import numpy as np\n",
    "\n",
    "objetos_numpy = [\n",
    "    np.array(2),\n",
    "    np.array([1, 2, 3, 4, 5]),\n",
    "    np.array([[1, 2, 3],[4, 5, 6]]),\n",
    "    np.array([[[1, 2, 3], [4, 5, 6]], [[7, 8, 9], [10, 11, 12]]])\n",
    "]\n",
    "\n",
    "for objeto_numpy in objetos_numpy:\n",
    "    print('Array:\\n', objeto_numpy)\n",
    "    print('shape:', objeto_numpy.shape, '\\n')\n"
   ]
  }
 ],
 "metadata": {
  "language_info": {
   "name": "python"
  },
  "orig_nbformat": 4
 },
 "nbformat": 4,
 "nbformat_minor": 2
}
