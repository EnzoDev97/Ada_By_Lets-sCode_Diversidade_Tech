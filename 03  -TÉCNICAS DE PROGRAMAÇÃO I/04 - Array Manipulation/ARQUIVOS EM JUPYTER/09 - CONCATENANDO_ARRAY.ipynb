{
 "cells": [
  {
   "cell_type": "code",
   "execution_count": null,
   "metadata": {},
   "outputs": [],
   "source": [
    "#** 09 - Junte os dois seguintes arrays na horizontal:**\n",
    "\n",
    "#```arr1 = [1, 2, 3]```\n",
    "\n",
    "#```arr2 = [4, 5, 6]```\n",
    "\n",
    "#**Depois, os junte verticalmente.**\n",
    "\n",
    "\n",
    "\n",
    "import numpy as np\n",
    "\n",
    "arr1 = np.array([1, 2, 3])\n",
    "arr2 = np.array([4, 5, 6])\n",
    "\n",
    "horizontal = np.concatenate((arr1, arr2))\n",
    "vertical = np.stack((arr1, arr2))\n",
    "\n",
    "print(\"Horizontal:\\n\", horizontal)\n",
    "print(\"Vertical:\\n\", vertical)\n"
   ]
  }
 ],
 "metadata": {
  "language_info": {
   "name": "python"
  },
  "orig_nbformat": 4
 },
 "nbformat": 4,
 "nbformat_minor": 2
}
