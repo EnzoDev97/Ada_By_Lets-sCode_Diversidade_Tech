{
 "cells": [
  {
   "cell_type": "code",
   "execution_count": null,
   "metadata": {},
   "outputs": [],
   "source": [
    "#** 11 - a) Tranforme o seguinte array 2D em dois arrays 2D:**\n",
    "\n",
    "#```arr = [[1, 2], [3, 4], [5, 6], [7, 8]]```\n",
    "\n",
    "#**b) Transforme o seguinte array em três arrays com apenas uma coluna:**\n",
    "\n",
    "#```arr = [[1, 2, 3], [4, 5, 6], [7, 8, 9]]```\n",
    "\n",
    "\n",
    "\n",
    "import numpy as np\n",
    "\n",
    "# a)\n",
    "arr = np.array([[1, 2], [3, 4], [5, 6], [7, 8]])\n",
    "arrays = np.vsplit(arr, 2)\n",
    "\n",
    "for i in range(len(arrays)):\n",
    "    print(f'Array {i}: \\n', arrays[i])\n",
    "\n",
    "# b)\n",
    "arr = np.array([[1, 2, 3], [4, 5, 6], [7, 8, 9]])\n",
    "arrays = np.hsplit(arr, 3)\n",
    "\n",
    "for i in range(len(arrays)):\n",
    "    print(f'Array {i}: \\n', arrays[i])"
   ]
  }
 ],
 "metadata": {
  "language_info": {
   "name": "python"
  },
  "orig_nbformat": 4
 },
 "nbformat": 4,
 "nbformat_minor": 2
}
