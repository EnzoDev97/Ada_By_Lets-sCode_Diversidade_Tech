{
 "cells": [
  {
   "cell_type": "code",
   "execution_count": null,
   "metadata": {},
   "outputs": [],
   "source": [
    "#** 07 - Percorra o seguinte array utilizando for encaixado:**\n",
    "\n",
    "#```arr = [[[1, 2], [3, 4]], [[5, 6], [7, 8]]]```\n",
    "\n",
    "#**Agora, percorra o mesmo array utilizando a função nditer de numpy.**\n",
    "\n",
    "\n",
    "\n",
    "import numpy as np\n",
    "\n",
    "arr = np.array([[[1, 2], [3, 4]], [[5, 6], [7, 8]]])\n",
    "\n",
    "shape = arr.shape\n",
    "\n",
    "print(\"Com for encaixado: \")\n",
    "for i in range(shape[0]):\n",
    "    for j in range(shape[1]):\n",
    "        for k in range(shape[2]):\n",
    "            print(arr[i, j, k])\n",
    "\n",
    "print('-'*100,'\\n')\n",
    "print(\"Com nditer: \")\n",
    "for x in np.nditer(arr):\n",
    "    print(x)\n"
   ]
  }
 ],
 "metadata": {
  "kernelspec": {
   "display_name": "Python 3.9.12 ('base')",
   "language": "python",
   "name": "python3"
  },
  "language_info": {
   "name": "python",
   "version": "3.9.12"
  },
  "orig_nbformat": 4,
  "vscode": {
   "interpreter": {
    "hash": "84119b4a23c727451d2f5b202898a53a27583c1b582daf411d2362849740e029"
   }
  }
 },
 "nbformat": 4,
 "nbformat_minor": 2
}
