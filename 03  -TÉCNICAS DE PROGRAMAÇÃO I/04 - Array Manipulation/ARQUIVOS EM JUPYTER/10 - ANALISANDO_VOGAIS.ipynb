{
 "cells": [
  {
   "cell_type": "code",
   "execution_count": null,
   "metadata": {},
   "outputs": [],
   "source": [
    "#DESAFIO: \n",
    "\n",
    "#**10 - Utilizando manipulação de arrays, ache os indexes do array cujo valor possua apenas 2 vogais no nome usando numpy.**\n",
    "\n",
    "#```frutas = ['banana', 'morango, 'uva', 'pitaia', 'abacate', 'abacaxi', 'acerola', 'jenipapo', 'kiwi']```\n",
    "\n",
    "\n",
    "\n",
    "import numpy as np\n",
    "\n",
    "frutas = np.array([\n",
    "    'banana',\n",
    "    'morango',\n",
    "    'uva',\n",
    "    'pitaia',\n",
    "    'abacate',\n",
    "    'abacaxi',\n",
    "    'acerola',\n",
    "    'jenipapo',\n",
    "    'kiwi'\n",
    "])\n",
    "\n",
    "vogais = ['a', 'e', 'i', 'o', 'u']\n",
    "\n",
    "contagens = sum([np.char.count(frutas, vogal) for vogal in vogais])\n",
    "indices = np.where(contagens == 2)[0]\n",
    "\n",
    "print(indices)\n",
    "\n"
   ]
  }
 ],
 "metadata": {
  "language_info": {
   "name": "python"
  },
  "orig_nbformat": 4
 },
 "nbformat": 4,
 "nbformat_minor": 2
}
