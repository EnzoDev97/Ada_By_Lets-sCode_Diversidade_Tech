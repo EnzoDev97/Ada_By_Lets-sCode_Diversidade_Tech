{
 "cells": [
  {
   "cell_type": "code",
   "execution_count": null,
   "metadata": {},
   "outputs": [],
   "source": [
    "#** 05 - Transforme o seguinte array em uma matriz 3D 3x3x3:**\n",
    "\n",
    "#```arr = range(27)```\n",
    "\n",
    "#**Deixe um comentário explicando o que significa uma matriz 3D.**\n",
    "\n",
    "\n",
    "import numpy as np\n",
    "\n",
    "arr = range(27)\n",
    "np_arr = np.array(arr).reshape(3, 3, 3)\n",
    "print(np_arr)\n",
    "\n",
    "# Da mesma forma que uma matriz (2D) é uma lista\n",
    "# de linhas, uma matriz 3D é uma lista de matrizes.\n",
    "# Pode imaginar como se fossem várias matrizes\n",
    "# uma atrás da outra, cada uma constituindo uma camada\n",
    "# de um cubo"
   ]
  }
 ],
 "metadata": {
  "language_info": {
   "name": "python"
  },
  "orig_nbformat": 4
 },
 "nbformat": 4,
 "nbformat_minor": 2
}
