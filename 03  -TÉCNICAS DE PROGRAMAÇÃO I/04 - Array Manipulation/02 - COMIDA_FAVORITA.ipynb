{
 "cells": [
  {
   "cell_type": "code",
   "execution_count": null,
   "metadata": {},
   "outputs": [],
   "source": [
    "#** 02  - Peça para o usuário uma lista com as comidas favoritas dele, depois transforme isso em um objeto numpy. Agora transformado, elimine todas as comidas que começam com uma vogal. Mostre o resultado.** \n",
    "\n",
    "#Exemplo:\n",
    "\n",
    "#```Entrada: [maçã, uva, morango, melancia, acelga]```\n",
    "\n",
    "#```Saída: [maçã, morango, melancia]```\n",
    "\n",
    "\n",
    "\n",
    "import numpy as np\n",
    "\n",
    "print(\"Por favor, informe suas comidas favoritas.\")\n",
    "comidas_favoritas = []\n",
    "\n",
    "resposta = input(\"Digite uma comida favorita (digite 'fim' para encerrar): \")\n",
    "while resposta != 'fim':\n",
    "    comidas_favoritas.append(resposta)\n",
    "    resposta = input(\"Digite uma comida favorita (digite 'fim' para encerrar): \")\n",
    "\n",
    "print('_'*100,'\\n')\n",
    "print('LISTA DE COMIDAS FAVORITAS...')\n",
    "print(comidas_favoritas)\n",
    "print('-'*100,'\\n')\n",
    "comidas_favoritas = np.array(comidas_favoritas)\n",
    "\n",
    "vogais = ['a', 'e', 'i', 'o', 'u']\n",
    "\n",
    "letras_iniciais = np.char.rjust(comidas_favoritas, 1)\n",
    "indices_para_excluir = np.where(np.in1d(letras_iniciais, vogais))\n",
    "comidas_favoritas = np.delete(comidas_favoritas, indices_para_excluir)\n",
    "\n",
    "print(comidas_favoritas)\n"
   ]
  }
 ],
 "metadata": {
  "language_info": {
   "name": "python"
  },
  "orig_nbformat": 4
 },
 "nbformat": 4,
 "nbformat_minor": 2
}
