{
 "cells": [
  {
   "cell_type": "code",
   "execution_count": null,
   "metadata": {},
   "outputs": [],
   "source": [
    "# 01 - Printe os elementos dos seguintes dois vetores usando apenas um for:\n",
    "\n",
    "#arr = np.array([[[1, 2, 3], [4, 5, 6]], [[7, 8, 9], [10, 11, 12]]])\n",
    "#Depois, faça o mesmo usando numpy (usando a função nditer) e deixe um comentário sobre a diferença dos dois métodos.\n",
    "\n",
    "#arr = np.array([[[1, 2, 3], [4, 5, 6]], [[7, 8, 9], [10, 11, 12]]])\n",
    "\n",
    "\n",
    "# RESPOSTA !!\n",
    "\n",
    "import numpy as np\n",
    "arr = np.array([[[1, 2, 3], [4, 5, 6]], [[7, 8, 9], [10, 11, 12]]])\n",
    "\n",
    "print(\"Com for:\")\n",
    "for i in range(arr.shape[0]):\n",
    "    for j in range(arr.shape[1]):\n",
    "        for k in range(arr.shape[2]):\n",
    "            print(arr[i,j,k])\n",
    "\n",
    "print('-'*100,'\\n')\n",
    "print(\"Com nditer:\")\n",
    "for x in np.nditer(arr):\n",
    "    print(x)\n",
    "\n",
    "# A diferença é que utilizar o método nditer, que é otimizado\n",
    "# para percorrer arrays, irá tornar o código mais eficiente.\n",
    "# Podemos ver que com o nditer apenas um for foi necessário,\n",
    "# enquanto do primeiro jeito foram necessários 3\n"
   ]
  }
 ],
 "metadata": {
  "language_info": {
   "name": "python"
  },
  "orig_nbformat": 4
 },
 "nbformat": 4,
 "nbformat_minor": 2
}
