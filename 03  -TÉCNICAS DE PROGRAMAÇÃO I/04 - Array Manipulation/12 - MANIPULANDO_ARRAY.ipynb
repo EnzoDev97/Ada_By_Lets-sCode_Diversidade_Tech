{
 "cells": [
  {
   "cell_type": "code",
   "execution_count": null,
   "metadata": {},
   "outputs": [],
   "source": [
    "#DESAFIO:\n",
    "\n",
    "#** 12 -  Utilizando manipulação de arrays, vamos seguir um conjunto de passos para organizar alguns dados. Teremos nesse seguinte array uma ordem que segue:**\n",
    "\n",
    "#```[Nome do aluno, idade, 'gênero', signo, altura, nota do 1° semestre, nota do 2° bimestre, se está ou não inscrito no próximo ano da escola, nome do outro aluno, idade do outro aluno...]```\n",
    "\n",
    "#```arr = ['Amélia', 13, 'F', 'peixes', 1.51, 9, 7, True, 'Bruno', 14, 'O', 'leão', 1.60, 4, 10, False, 'João', 14, 'M', 'escorpião', 1.58, 8, 9, True, 'Jordana', 13, 'F', 'escorpião', 1.72, 9, 9, False]```\n",
    "\n",
    "#**a) Enumere os indexes de todas as informações que são do tipo string.**\n",
    "\n",
    "#**b) Separe essas informações do objeto arr de forma que cada aluno tenha seu próprio array.**\n",
    "\n",
    "#**c) Separe em duas colunas, a primeira com o nome, a idade, o gênero e o signo e a segunda com a altura, nota do primeiro bimestre, nota do segundo bimestre e se está ou não inscrito no próximo ano.**\n",
    "\n",
    "#**d) Elimine o gênero de todos os arrays cujos alunos tem menos de 14 anos.**\n",
    "\n",
    "\n",
    "\n",
    "import numpy as np\n",
    "\n",
    "arr = np.array(['Amélia', 13, 'F', 'peixes', 1.51, 9, 7, True,\n",
    "                'Bruno', 14, 'O', 'leão', 1.60, 4, 10, False,\n",
    "                'João', 14, 'M', 'escorpião', 1.58, 8, 9, True,\n",
    "                'Jordana', 13, 'F', 'escorpião', 1.72, 9, 9, False])\n",
    "\n",
    "# a)\n",
    "indices = np.where(np.char.isalpha(arr))[0]\n",
    "print(indices)\n",
    "\n",
    "# b)\n",
    "alunos = np.split(arr, 4)\n",
    "print(alunos)\n",
    "\n",
    "# c)\n",
    "coluna1, coluna2 = np.hsplit(arr.reshape(-1, 8), 2)\n",
    "print(coluna1)\n",
    "print(coluna2)\n",
    "\n",
    "# d)\n",
    "def delete_gender(x):\n",
    "    if int(x[1]) < 14:\n",
    "        x[2] = None\n",
    "    return x\n",
    "\n",
    "sem_genero = np.apply_along_axis(delete_gender, axis=1, arr=coluna1)\n",
    "print(sem_genero)\n"
   ]
  }
 ],
 "metadata": {
  "language_info": {
   "name": "python"
  },
  "orig_nbformat": 4
 },
 "nbformat": 4,
 "nbformat_minor": 2
}
