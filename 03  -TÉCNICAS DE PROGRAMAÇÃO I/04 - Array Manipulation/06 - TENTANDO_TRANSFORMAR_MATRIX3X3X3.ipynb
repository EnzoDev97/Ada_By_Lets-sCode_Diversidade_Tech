{
 "cells": [
  {
   "cell_type": "code",
   "execution_count": null,
   "metadata": {},
   "outputs": [],
   "source": [
    "#** 06 - Tente transformar o seguinte array em uma matriz 3x3x3**\n",
    "\n",
    "#```arr = [1, 2, 3, 4, 5, 6, 7, 8]```\n",
    "\n",
    "#**Funciona? Se sim, explique o motivo. Se não, explique o erro.**\n",
    "\n",
    "\n",
    "arr = [1, 2, 3, 4, 5, 6, 7, 8]\n",
    "np_arr = np.array(arr).reshape(3, 3, 3)\n",
    "print(np_arr)\n",
    "\n",
    "# Não funciona: Irá imprimir um erro\n",
    "# O motivo é que para ser 3x3x3, é necessário\n",
    "# que possua 3x3x3=27 elementos, e só há 8\n"
   ]
  }
 ],
 "metadata": {
  "language_info": {
   "name": "python"
  },
  "orig_nbformat": 4
 },
 "nbformat": 4,
 "nbformat_minor": 2
}
