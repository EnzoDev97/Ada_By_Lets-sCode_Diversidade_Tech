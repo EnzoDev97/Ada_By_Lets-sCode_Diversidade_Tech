{
 "cells": [
  {
   "cell_type": "code",
   "execution_count": 2,
   "metadata": {},
   "outputs": [
    {
     "name": "stdout",
     "output_type": "stream",
     "text": [
      "A palavra ou frase digitada foi: ABBA\n",
      "ABBA\n",
      "ABBA\n",
      "A palavra ou frase é um palíndromo\n"
     ]
    }
   ],
   "source": [
    "# 04- Receba uma string e verifique se esta string é um palíndromo. Por ex: aabaa é um palindromo.\n",
    "\n",
    "string = input(\"Digita uma palavra ou frase: \")\n",
    "print(f\"A palavra ou frase digitada foi: {string}\")\n",
    "i = 1\n",
    "string = string.replace(' ','')\n",
    "string_invertido = ''\n",
    "while i <= len(string):\n",
    "    string_invertido += string[-i]\n",
    "    i += 1\n",
    "print(string)\n",
    "print(string_invertido)\n",
    "if string_invertido == string:\n",
    "    print(\"A palavra ou frase é um palíndromo\")\n",
    "else:\n",
    "    print(\"A palavra ou frase não é um palíndromo\")"
   ]
  }
 ],
 "metadata": {
  "kernelspec": {
   "display_name": "Python 3.9.12 ('base')",
   "language": "python",
   "name": "python3"
  },
  "language_info": {
   "codemirror_mode": {
    "name": "ipython",
    "version": 3
   },
   "file_extension": ".py",
   "mimetype": "text/x-python",
   "name": "python",
   "nbconvert_exporter": "python",
   "pygments_lexer": "ipython3",
   "version": "3.9.12"
  },
  "orig_nbformat": 4,
  "vscode": {
   "interpreter": {
    "hash": "e8755eff31258cf3f68aa399e6f759d79082959dfad6f58a9830d0e0b06355a5"
   }
  }
 },
 "nbformat": 4,
 "nbformat_minor": 2
}
