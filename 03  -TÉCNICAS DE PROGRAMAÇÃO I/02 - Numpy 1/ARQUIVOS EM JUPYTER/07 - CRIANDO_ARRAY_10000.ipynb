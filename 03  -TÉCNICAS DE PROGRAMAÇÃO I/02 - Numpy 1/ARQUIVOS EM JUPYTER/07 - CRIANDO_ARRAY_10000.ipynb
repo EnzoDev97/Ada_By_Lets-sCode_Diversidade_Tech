{
 "cells": [
  {
   "cell_type": "markdown",
   "metadata": {},
   "source": [
    "**Drops**\n",
    "\n",
    "Crie um array aleatório de 10.000 elementos de cada distribuição:\n",
    "- [Normal](https://numpy.org/doc/stable/reference/random/generated/numpy.random.normal.html#) (média: 5, desvio: 10)\n",
    "- [Poisson](https://numpy.org/doc/stable/reference/random/generated/numpy.random.poisson.html) (use lam (lambda) de 5)\n",
    "- [Exponencial](https://numpy.org/doc/stable/reference/random/generated/numpy.random.exponential.html) (use scale: 5)\n",
    "\n",
    "Casos de uso:\n",
    "- Normal\n",
    "  - Altura\n",
    "  - Jogar um dado\n",
    "  - Preço de ações\n",
    "- Poisson\n",
    "  - Número de clientes numa fila em um determinado tempo (uma hora por exemplo)\n",
    "  - Número de inadiplências por mês\n",
    "  - Venda de um item por mês\n",
    "- Exponencial\n",
    "  - Predizer quando um terremoto irá acontecer\n",
    "  - Duração de uma ligação\n",
    "  - Vendas esperadas ao abrir uma nova loja"
   ]
  },
  {
   "cell_type": "code",
   "execution_count": 2,
   "metadata": {},
   "outputs": [
    {
     "name": "stdout",
     "output_type": "stream",
     "text": [
      "normal tamanho (300000,)\n",
      "[ 8.53709955  6.53082801 26.8751702  ... 15.61238682 20.23580345\n",
      "  0.46291539]\n",
      "poisson tamanho (300000,)\n",
      "[3 5 5 ... 5 3 5]\n",
      "exponential tamanho (300000,)\n",
      "[13.46550012 23.91050151  7.08512202 ... 18.16345537  3.21658322\n",
      "  2.4325965 ]\n"
     ]
    }
   ],
   "source": [
    "import numpy as np\n",
    "\n",
    "# Distribuição normal utilizando Numpy\n",
    "normal = np.random.normal(5, 10, 300_000)\n",
    "\n",
    "# Distribuição de Poisson\n",
    "# média = lambda e o desvio padrão = lambda\n",
    "poisson = np.random.poisson(5, 300_000)\n",
    "\n",
    "# Distribuição exponencial\n",
    "exponential = np.random.exponential(5, 300_000)\n",
    "\n",
    "# Distribuição weibull\n",
    "weibull = np.random.weibull(5, 300_000)\n",
    "\n",
    "print('normal', 'tamanho', normal.shape)\n",
    "print(normal)\n",
    "print('poisson', 'tamanho', poisson.shape)\n",
    "print(poisson)\n",
    "print('exponential', 'tamanho', exponential.shape)\n",
    "print(exponential)"
   ]
  },
  {
   "cell_type": "code",
   "execution_count": 3,
   "metadata": {},
   "outputs": [
    {
     "data": {
      "text/plain": [
       "<AxesSubplot:ylabel='Count'>"
      ]
     },
     "execution_count": 3,
     "metadata": {},
     "output_type": "execute_result"
    },
    {
     "data": {
      "image/png": "[encoded data removed]",
      "text/plain": [
       "<Figure size 432x288 with 1 Axes>"
      ]
     },
     "metadata": {
      "needs_background": "light"
     },
     "output_type": "display_data"
    }
   ],
   "source": [
    "import matplotlib.pyplot as plt\n",
    "import seaborn as sns\n",
    "\n",
    "# sns.histplot(normal, bins=30)\n",
    "# sns.histplot(poisson, bins=19, color ='orange')\n",
    "# sns.histplot(exponential, bins=25, color='red')\n",
    "sns.histplot(weibull, bins=25, color=sns.color_palette()[0]) # sns.color_palette()[0] -> Azu"
   ]
  }
 ],
 "metadata": {
  "kernelspec": {
   "display_name": "Python 3.9.12 ('base')",
   "language": "python",
   "name": "python3"
  },
  "language_info": {
   "codemirror_mode": {
    "name": "ipython",
    "version": 3
   },
   "file_extension": ".py",
   "mimetype": "text/x-python",
   "name": "python",
   "nbconvert_exporter": "python",
   "pygments_lexer": "ipython3",
   "version": "3.9.12"
  },
  "orig_nbformat": 4,
  "vscode": {
   "interpreter": {
    "hash": "e8755eff31258cf3f68aa399e6f759d79082959dfad6f58a9830d0e0b06355a5"
   }
  }
 },
 "nbformat": 4,
 "nbformat_minor": 2
}
