{
 "cells": [
  {
   "cell_type": "markdown",
   "metadata": {},
   "source": [
    "Escreva um programa que crie um array de tamanho 100 e atualize os indices pares com o número do indice ao quadrado\n",
    "\n",
    "Por exemplo:\n",
    "\n",
    "array(0, 0, 1, 0, 4, 0, 16, ...)\n",
    "\n",
    "Explicação\n",
    "\n",
    "0 -> 0**2  -> 0\n",
    "1 -> impar -> 0\n",
    "2 -> 2**2  -> 4\n",
    "3 -> impar -> 0\n",
    "4 -> 4**2  -> 16"
   ]
  },
  {
   "cell_type": "code",
   "execution_count": 1,
   "metadata": {},
   "outputs": [
    {
     "name": "stdout",
     "output_type": "stream",
     "text": [
      "[0.000e+00 0.000e+00 4.000e+00 0.000e+00 1.600e+01 0.000e+00 3.600e+01\n",
      " 0.000e+00 6.400e+01 0.000e+00 1.000e+02 0.000e+00 1.440e+02 0.000e+00\n",
      " 1.960e+02 0.000e+00 2.560e+02 0.000e+00 3.240e+02 0.000e+00 4.000e+02\n",
      " 0.000e+00 4.840e+02 0.000e+00 5.760e+02 0.000e+00 6.760e+02 0.000e+00\n",
      " 7.840e+02 0.000e+00 9.000e+02 0.000e+00 1.024e+03 0.000e+00 1.156e+03\n",
      " 0.000e+00 1.296e+03 0.000e+00 1.444e+03 0.000e+00 1.600e+03 0.000e+00\n",
      " 1.764e+03 0.000e+00 1.936e+03 0.000e+00 2.116e+03 0.000e+00 2.304e+03\n",
      " 0.000e+00 2.500e+03 0.000e+00 2.704e+03 0.000e+00 2.916e+03 0.000e+00\n",
      " 3.136e+03 0.000e+00 3.364e+03 0.000e+00 3.600e+03 0.000e+00 3.844e+03\n",
      " 0.000e+00 4.096e+03 0.000e+00 4.356e+03 0.000e+00 4.624e+03 0.000e+00\n",
      " 4.900e+03 0.000e+00 5.184e+03 0.000e+00 5.476e+03 0.000e+00 5.776e+03\n",
      " 0.000e+00 6.084e+03 0.000e+00 6.400e+03 0.000e+00 6.724e+03 0.000e+00\n",
      " 7.056e+03 0.000e+00 7.396e+03 0.000e+00 7.744e+03 0.000e+00 8.100e+03\n",
      " 0.000e+00 8.464e+03 0.000e+00 8.836e+03 0.000e+00 9.216e+03 0.000e+00\n",
      " 9.604e+03 0.000e+00]\n"
     ]
    }
   ],
   "source": [
    "import numpy as np\n",
    "\n",
    "arr = np.zeros(100)\n",
    "# np.set_printoptions(suppress=True)  # Suprimindo a anotação científica, suppress=True!\n",
    "for idx, valor in enumerate(arr):\n",
    "  if idx % 2 == 0:\n",
    "    arr[idx] = idx**2\n",
    "  else:\n",
    "    arr[idx] = 0\n",
    "print(arr)\n"
   ]
  }
 ],
 "metadata": {
  "kernelspec": {
   "display_name": "Python 3.9.12 ('base')",
   "language": "python",
   "name": "python3"
  },
  "language_info": {
   "codemirror_mode": {
    "name": "ipython",
    "version": 3
   },
   "file_extension": ".py",
   "mimetype": "text/x-python",
   "name": "python",
   "nbconvert_exporter": "python",
   "pygments_lexer": "ipython3",
   "version": "3.9.12"
  },
  "orig_nbformat": 4,
  "vscode": {
   "interpreter": {
    "hash": "e8755eff31258cf3f68aa399e6f759d79082959dfad6f58a9830d0e0b06355a5"
   }
  }
 },
 "nbformat": 4,
 "nbformat_minor": 2
}
