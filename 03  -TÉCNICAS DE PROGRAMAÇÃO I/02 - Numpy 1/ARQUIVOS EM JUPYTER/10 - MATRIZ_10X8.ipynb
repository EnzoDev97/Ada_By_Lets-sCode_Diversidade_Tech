{
 "cells": [
  {
   "cell_type": "markdown",
   "metadata": {},
   "source": [
    "**Drops**\n",
    "\n",
    "Crie uma matriz 10x8.\n",
    "\n",
    "Pegue apenas as linhas cujo indices são pares (0, 2, etc) e cuja colunas sejam impares (1, 3, etc).\n",
    "\n",
    "Dica: Utilize primeiro o slice por linhas e depois por coluna!\n",
    "\n",
    "Não faça algo do tipoe `mat[[0,2], [1,3]]`, prefira\n",
    "\n",
    "```\n",
    "res = mat[[0,2], :]\n",
    "mat_final = res[:, [0,2]]\n",
    "```"
   ]
  },
  {
   "cell_type": "code",
   "execution_count": 2,
   "metadata": {},
   "outputs": [
    {
     "name": "stdout",
     "output_type": "stream",
     "text": [
      "Shape (10, 8)\n",
      "--------------------------------\n",
      "[[5 0 3 3 7 9 3 5]\n",
      " [2 4 7 6 8 8 1 6]\n",
      " [7 7 8 1 5 9 8 9]\n",
      " [4 3 0 3 5 0 2 3]\n",
      " [8 1 3 3 3 7 0 1]\n",
      " [9 9 0 4 7 3 2 7]\n",
      " [2 0 0 4 5 5 6 8]\n",
      " [4 1 4 9 8 1 1 7]\n",
      " [9 9 3 6 7 2 0 3]\n",
      " [5 9 4 4 6 4 4 3]]\n",
      "--------------------------------\n",
      "col_impar [1, 3, 5, 7]\n",
      "linha_par [0, 2, 4, 6, 8]\n",
      "--------------------------------\n"
     ]
    }
   ],
   "source": [
    "import numpy as np\n",
    "\n",
    "\n",
    "# Linha para permitir a reprodutibilidade do exercício\n",
    "np.random.seed(0)\n",
    "n_linhas = 10\n",
    "n_cols = 8\n",
    "mat = np.random.randint(0, 10, (n_linhas, n_cols))\n",
    "print('Shape', mat.shape)\n",
    "print('-'*32)\n",
    "print(mat)\n",
    "print('-'*32)\n",
    "col_impar = list(filter(lambda x: x%2 != 0, range(n_cols)))\n",
    "linha_par = list(filter(lambda x: x%2 == 0, range(n_linhas)))\n",
    "print('col_impar', col_impar)\n",
    "print('linha_par', linha_par)\n",
    "print('-'*32)\n",
    "\n",
    "# Quando queremos filtrar por duas listas\n",
    "# Devemos fazer de forma sequencial\n",
    "filtrando_linhas = mat[linha_par, :]\n",
    "filtrando_colunas = filtrando_linhas[:, col_impar] "
   ]
  }
 ],
 "metadata": {
  "kernelspec": {
   "display_name": "Python 3.9.12 ('base')",
   "language": "python",
   "name": "python3"
  },
  "language_info": {
   "codemirror_mode": {
    "name": "ipython",
    "version": 3
   },
   "file_extension": ".py",
   "mimetype": "text/x-python",
   "name": "python",
   "nbconvert_exporter": "python",
   "pygments_lexer": "ipython3",
   "version": "3.9.12"
  },
  "orig_nbformat": 4,
  "vscode": {
   "interpreter": {
    "hash": "84119b4a23c727451d2f5b202898a53a27583c1b582daf411d2362849740e029"
   }
  }
 },
 "nbformat": 4,
 "nbformat_minor": 2
}
