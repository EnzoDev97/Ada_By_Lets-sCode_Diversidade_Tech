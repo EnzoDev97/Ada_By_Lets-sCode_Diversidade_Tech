{
 "cells": [
  {
   "cell_type": "markdown",
   "metadata": {},
   "source": [
    "#### Criando listas/vetores/arrays"
   ]
  },
  {
   "cell_type": "code",
   "execution_count": 6,
   "metadata": {},
   "outputs": [],
   "source": [
    "import numpy as np"
   ]
  },
  {
   "cell_type": "code",
   "execution_count": 7,
   "metadata": {},
   "outputs": [
    {
     "name": "stdout",
     "output_type": "stream",
     "text": [
      "lista <class 'list'> [2, 3, 4, 20, 31, 7]\n"
     ]
    }
   ],
   "source": [
    "lista = [2, 3, 4, 20, 31, 7]\n",
    "\n",
    "print('lista', type(lista), lista)"
   ]
  },
  {
   "cell_type": "code",
   "execution_count": 8,
   "metadata": {},
   "outputs": [
    {
     "name": "stdout",
     "output_type": "stream",
     "text": [
      "<class 'numpy.ndarray'>\n",
      "[[[  0  22  32]\n",
      "  [  0  45  61]\n",
      "  [  0   0   0]]\n",
      "\n",
      " [[ 10  27  37]\n",
      "  [ 12  45  61]\n",
      "  [120  10 120]]\n",
      "\n",
      " [[ 15  45  78]\n",
      "  [ 10  22  64]\n",
      "  [ 20  20  22]]]\n"
     ]
    }
   ],
   "source": [
    "# Matrizes com mais dimensões\n",
    "red = [\n",
    "    [0, 22, 32],\n",
    "    [0, 45, 61],\n",
    "    [0, 0, 0],\n",
    "]\n",
    "green = [\n",
    "    [10, 27, 37],\n",
    "    [12, 45, 61],\n",
    "    [120, 10, 120],\n",
    "]\n",
    "blue = [\n",
    "    [15, 45, 78],\n",
    "    [10, 22, 64],\n",
    "    [20, 20, 22],\n",
    "]\n",
    "\n",
    "rgb = np.asarray([red, green, blue])\n",
    "print(type(rgb))\n",
    "print(rgb)"
   ]
  }
 ],
 "metadata": {
  "kernelspec": {
   "display_name": "Python 3.9.12 ('base')",
   "language": "python",
   "name": "python3"
  },
  "language_info": {
   "codemirror_mode": {
    "name": "ipython",
    "version": 3
   },
   "file_extension": ".py",
   "mimetype": "text/x-python",
   "name": "python",
   "nbconvert_exporter": "python",
   "pygments_lexer": "ipython3",
   "version": "3.9.12"
  },
  "orig_nbformat": 4,
  "vscode": {
   "interpreter": {
    "hash": "e8755eff31258cf3f68aa399e6f759d79082959dfad6f58a9830d0e0b06355a5"
   }
  }
 },
 "nbformat": 4,
 "nbformat_minor": 2
}
