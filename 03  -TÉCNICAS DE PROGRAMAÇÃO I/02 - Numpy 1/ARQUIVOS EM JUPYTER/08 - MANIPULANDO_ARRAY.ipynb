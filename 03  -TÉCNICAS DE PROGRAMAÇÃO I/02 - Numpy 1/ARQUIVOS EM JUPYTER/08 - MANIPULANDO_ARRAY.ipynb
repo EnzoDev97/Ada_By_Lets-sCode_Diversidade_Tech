{
 "cells": [
  {
   "cell_type": "code",
   "execution_count": 11,
   "metadata": {},
   "outputs": [
    {
     "name": "stdout",
     "output_type": "stream",
     "text": [
      "Shape (3, 3)\n",
      "[[0. 0. 0.]\n",
      " [0. 0. 0.]\n",
      " [0. 0. 0.]]\n",
      "Shape (2, 3, 3)\n",
      "[[[0. 0. 0.]\n",
      "  [0. 0. 0.]\n",
      "  [0. 0. 0.]]\n",
      "\n",
      " [[0. 0. 0.]\n",
      "  [0. 0. 0.]\n",
      "  [0. 0. 0.]]]\n"
     ]
    }
   ],
   "source": [
    "import numpy as np\n",
    "\n",
    "# Matriz 3x3 de zeros\n",
    "matrix_3x3 = np.zeros((3, 3))\n",
    "print('Shape', matrix_3x3.shape)\n",
    "print(matrix_3x3)\n",
    "\n",
    "matriz_2x3x3 = np.zeros((2, 3, 3))\n",
    "print('Shape', matriz_2x3x3.shape)\n",
    "print(matriz_2x3x3)"
   ]
  },
  {
   "cell_type": "code",
   "execution_count": 12,
   "metadata": {},
   "outputs": [
    {
     "name": "stdout",
     "output_type": "stream",
     "text": [
      "vetor, shape (12,), [ 0  1  2  3  4  5  6  7  8  9 10 11]\n",
      "matriz_3x4, shape (3, 4)\n",
      "[[ 0  1  2  3]\n",
      " [ 4  5  6  7]\n",
      " [ 8  9 10 11]]\n"
     ]
    }
   ],
   "source": [
    "vetor = np.arange(0, 12)\n",
    "print(f'vetor, shape {vetor.shape}, {vetor}')\n",
    "\n",
    "# Redimensionar a matriz utilizando o reshape\n",
    "matriz_3x4 = vetor.reshape(3, 4)\n",
    "print(f'matriz_3x4, shape {matriz_3x4.shape}')\n",
    "print(matriz_3x4)"
   ]
  },
  {
   "cell_type": "code",
   "execution_count": 13,
   "metadata": {},
   "outputs": [
    {
     "name": "stdout",
     "output_type": "stream",
     "text": [
      "matriz_nx3, shape (4, 3)\n",
      "[[ 0  1  2]\n",
      " [ 3  4  5]\n",
      " [ 6  7  8]\n",
      " [ 9 10 11]]\n"
     ]
    }
   ],
   "source": [
    "# Ou podemos ilimitar uma dimensão\n",
    "# Queremos 3 colunas\n",
    "matriz_nx3 = vetor.reshape(-1, 3)\n",
    "print(f'matriz_nx3, shape {matriz_nx3.shape}')\n",
    "print(matriz_nx3)"
   ]
  },
  {
   "cell_type": "code",
   "execution_count": 14,
   "metadata": {},
   "outputs": [
    {
     "name": "stdout",
     "output_type": "stream",
     "text": [
      "v1, shape (3,), [1 2 3]\n",
      "v2, shape (3,), [40 50 60]\n",
      "m1, shape (2, 3), [[ 7  8  9]\n",
      " [10 11 12]]\n",
      "m2, shape (2, 2), [[0. 0.]\n",
      " [0. 0.]]\n",
      "v1_v2, shape (2, 3)\n"
     ]
    }
   ],
   "source": [
    "# Empilhando arrays\n",
    "v1 = np.array([1, 2, 3])\n",
    "v2 = np.array([40, 50, 60])\n",
    "m1 = np.array([\n",
    "    [7, 8, 9],\n",
    "    [10, 11, 12],\n",
    "])\n",
    "\n",
    "m2 = np.zeros((2, 2))\n",
    "# Empilhamento vertical\n",
    "print(f\"v1, shape {v1.shape}, {v1}\")\n",
    "print(f\"v2, shape {v2.shape}, {v2}\")\n",
    "print(f\"m1, shape {m1.shape}, {m1}\")\n",
    "print(f\"m2, shape {m2.shape}, {m2}\")\n",
    "\n",
    "v1_v2 = np.vstack([v1, v2])\n",
    "print(f\"v1_v2, shape {v1_v2.shape}\")"
   ]
  },
  {
   "cell_type": "code",
   "execution_count": 15,
   "metadata": {},
   "outputs": [
    {
     "data": {
      "text/plain": [
       "array([[ 7.,  8.,  9.,  0.,  0.],\n",
       "       [10., 11., 12.,  0.,  0.]])"
      ]
     },
     "execution_count": 15,
     "metadata": {},
     "output_type": "execute_result"
    }
   ],
   "source": [
    "np.hstack([m1, m2])"
   ]
  }
 ],
 "metadata": {
  "kernelspec": {
   "display_name": "Python 3.9.12 ('base')",
   "language": "python",
   "name": "python3"
  },
  "language_info": {
   "codemirror_mode": {
    "name": "ipython",
    "version": 3
   },
   "file_extension": ".py",
   "mimetype": "text/x-python",
   "name": "python",
   "nbconvert_exporter": "python",
   "pygments_lexer": "ipython3",
   "version": "3.9.12"
  },
  "orig_nbformat": 4,
  "vscode": {
   "interpreter": {
    "hash": "e8755eff31258cf3f68aa399e6f759d79082959dfad6f58a9830d0e0b06355a5"
   }
  }
 },
 "nbformat": 4,
 "nbformat_minor": 2
}
