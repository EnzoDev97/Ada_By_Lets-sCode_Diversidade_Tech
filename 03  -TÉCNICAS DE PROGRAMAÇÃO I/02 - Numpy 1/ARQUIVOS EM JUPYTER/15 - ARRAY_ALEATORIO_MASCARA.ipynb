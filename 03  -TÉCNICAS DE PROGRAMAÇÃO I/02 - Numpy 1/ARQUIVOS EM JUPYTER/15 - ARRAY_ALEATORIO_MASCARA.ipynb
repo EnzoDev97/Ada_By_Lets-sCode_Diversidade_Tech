{
 "cells": [
  {
   "cell_type": "markdown",
   "metadata": {},
   "source": [
    "02 - Agora, vamos explorar os arrays aleatórios e máscaras. Faça o que se pede:\n",
    "\n",
    "a) Crie um array aleatório de 15 itens entre 0 e 100;\n",
    "\n",
    "b) Qual o maior número do array?\n",
    "\n",
    "c) Qual a sua posição?\n",
    "\n",
    "d) Verifique quais números do array são maior que 10;\n",
    "\n",
    "e) Salve em uma nova lista apenas os itens entre 10 e 30."
   ]
  },
  {
   "cell_type": "code",
   "execution_count": 4,
   "metadata": {},
   "outputs": [
    {
     "name": "stdout",
     "output_type": "stream",
     "text": [
      "LISTA -> \u001b[32m  [51 58 21 91 34 51 50 27 13 56 34 53 20 19 94]\u001b[m\n",
      "---------------------------------------------------------------------------------------------------- \n",
      "\n",
      "MAIOR VALOR DA LISTA É : \u001b[34m  94\u001b[m\n",
      "---------------------------------------------------------------------------------------------------- \n",
      "\n",
      "A  POSIÇÃO DO MAIOR NÚMERO NA LISTA É ------>  14\n",
      "---------------------------------------------------------------------------------------------------- \n",
      "\n",
      "|LISTA  COM N > 10| -> \u001b[35m  [51 58 21 91 34 51 50 27 13 56 34 53 20 19 94]\u001b[m\n",
      "---------------------------------------------------------------------------------------------------- \n",
      "\n",
      "|LISTA  COM N  ENTRE 10 E 30| -> \u001b[31m  [21 27 13 20 19]\u001b[0m\n",
      "____________________________________________________________________________________________________ \n",
      "\n",
      "[55 61 75 38 52 55 37 37 56 58 65 30  6 72 14]\n",
      "75\n",
      "2\n",
      "[55 61 75 38 52 55 37 37 56 58 65 30 72 14]\n",
      "[30 14]\n"
     ]
    }
   ],
   "source": [
    "import numpy as np\n",
    "import random\n",
    "from random import randint \n",
    "\n",
    "#a) Crie um array aleatório de 15 itens entre 0 e 100;\n",
    "\n",
    "lista1 = np.array([random.randint(0,100) for n in range(0,15)])\n",
    "print('LISTA -> \\033[32m  {}\\033[m'.format(lista1))\n",
    "print('-'*100,'\\n')\n",
    "\n",
    "#b) Qual o maior número do array?\n",
    "\n",
    "maior = max(lista1)\n",
    "print('MAIOR VALOR DA LISTA É : \\033[34m  {}\\033[m'.format(maior))\n",
    "print('-'*100,'\\n')\n",
    "\n",
    "# c) Qual a sua posição?\n",
    "\n",
    "lista1_nova = list(lista1)\n",
    "maior_novo = max(lista1_nova)\n",
    "posicao = lista1_nova.index(maior_novo)\n",
    "print('A  POSIÇÃO DO MAIOR NÚMERO NA LISTA É ------>  {}'.format(posicao))\n",
    "print('-'*100,'\\n')\n",
    "\n",
    "#d) Verifique quais números do array são maior que 10;\n",
    "\n",
    "lista_10 = []\n",
    "for num in lista1:\n",
    "    if num > 10:\n",
    "        lista_10.append(num)\n",
    "        maior_10 = np.array(lista_10)\n",
    "\n",
    "print('|LISTA  COM N > 10| -> \\033[35m  {}\\033[m'.format(maior_10))\n",
    "print('-'*100,'\\n')\n",
    "\n",
    "#e) Salve em uma nova lista apenas os itens entre 10 e 30.\n",
    "\n",
    "lista_10_30 = []\n",
    "\n",
    "for n in lista1:\n",
    "    if 10 < n < 30:\n",
    "        lista_10_30.append(n)\n",
    "        num_10_30 = np.array(lista_10_30)\n",
    "\n",
    "print('|LISTA  COM N  ENTRE 10 E 30| -> \\033[31m  {}\\033[0m'.format(num_10_30))\n",
    "print('_'*100,'\\n')\n",
    "\n",
    "\n",
    "#OUTRO MÉTODO\n",
    "\n",
    "\n",
    "\n",
    "# a)\n",
    "numeros = np.random.randint(0, 101, 15)\n",
    "print(numeros)\n",
    "\n",
    "# b)\n",
    "maior = max(numeros)\n",
    "print(maior)\n",
    "\n",
    "# c)\n",
    "indice = np.argmax(numeros)\n",
    "print(indice)\n",
    "\n",
    "# d)\n",
    "maiores_que_10 = numeros[numeros > 10]\n",
    "print(maiores_que_10)\n",
    "\n",
    "# e)\n",
    "entre_10_e_30 = numeros[(numeros >= 10) & (numeros <= 30)]\n",
    "print(entre_10_e_30)"
   ]
  }
 ],
 "metadata": {
  "kernelspec": {
   "display_name": "Python 3.9.12 ('base')",
   "language": "python",
   "name": "python3"
  },
  "language_info": {
   "codemirror_mode": {
    "name": "ipython",
    "version": 3
   },
   "file_extension": ".py",
   "mimetype": "text/x-python",
   "name": "python",
   "nbconvert_exporter": "python",
   "pygments_lexer": "ipython3",
   "version": "3.9.12"
  },
  "orig_nbformat": 4,
  "vscode": {
   "interpreter": {
    "hash": "84119b4a23c727451d2f5b202898a53a27583c1b582daf411d2362849740e029"
   }
  }
 },
 "nbformat": 4,
 "nbformat_minor": 2
}
