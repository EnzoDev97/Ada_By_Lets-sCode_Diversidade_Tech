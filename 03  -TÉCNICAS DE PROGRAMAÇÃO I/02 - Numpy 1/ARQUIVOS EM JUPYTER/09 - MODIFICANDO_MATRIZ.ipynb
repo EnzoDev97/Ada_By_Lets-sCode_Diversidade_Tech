{
 "cells": [
  {
   "cell_type": "code",
   "execution_count": 22,
   "metadata": {},
   "outputs": [
    {
     "data": {
      "text/plain": [
       "array([26, 40, 28, ..., 31, 51, 97])"
      ]
     },
     "execution_count": 22,
     "metadata": {},
     "output_type": "execute_result"
    }
   ],
   "source": [
    "import numpy as np\n",
    "\n",
    "arr1 = np.random.randint(0, 100, 10_000)\n",
    "arr1"
   ]
  },
  {
   "cell_type": "code",
   "execution_count": 23,
   "metadata": {},
   "outputs": [
    {
     "name": "stdout",
     "output_type": "stream",
     "text": [
      "Primeiro elemento 26\n",
      "12 elemento 45\n"
     ]
    }
   ],
   "source": [
    "print('Primeiro elemento', arr1[0])\n",
    "print('12 elemento', arr1[11])"
   ]
  },
  {
   "cell_type": "code",
   "execution_count": 24,
   "metadata": {},
   "outputs": [
    {
     "name": "stdout",
     "output_type": "stream",
     "text": [
      "Pegando os quatro primeiros elementos [26 40 28 55] tamanho 4\n",
      "Pegando os elementos internos [60 18 83 ... 51 31 67] tamanho 7600\n"
     ]
    }
   ],
   "source": [
    "# Conseguimos fatiar o array (slice) semelhante a listas\n",
    "print('Pegando os quatro primeiros elementos', arr1[: 4], 'tamanho', len(arr1[: 4]))\n",
    "print('Pegando os elementos internos', arr1[900: 8500], 'tamanho', len(arr1[900: 8500]))"
   ]
  },
  {
   "cell_type": "code",
   "execution_count": 25,
   "metadata": {},
   "outputs": [
    {
     "data": {
      "text/plain": [
       "array([[22, 24, 65, 43],\n",
       "       [22, 75, 41, 73],\n",
       "       [ 8, 41, 10,  6]])"
      ]
     },
     "execution_count": 25,
     "metadata": {},
     "output_type": "execute_result"
    }
   ],
   "source": [
    "mat = np.random.randint(0, 100, (3, 4))\n",
    "mat"
   ]
  },
  {
   "cell_type": "code",
   "execution_count": 26,
   "metadata": {},
   "outputs": [
    {
     "name": "stdout",
     "output_type": "stream",
     "text": [
      "Shape (3, 4)\n"
     ]
    }
   ],
   "source": [
    "print('Shape', mat.shape)"
   ]
  },
  {
   "cell_type": "code",
   "execution_count": 27,
   "metadata": {},
   "outputs": [
    {
     "name": "stdout",
     "output_type": "stream",
     "text": [
      "[22, 22, 8]\n"
     ]
    }
   ],
   "source": [
    "lista = list(mat)\n",
    "col = []\n",
    "for linha in lista:\n",
    "  col.append(linha[0])\n",
    "\n",
    "print(col)"
   ]
  },
  {
   "cell_type": "code",
   "execution_count": 28,
   "metadata": {},
   "outputs": [
    {
     "name": "stdout",
     "output_type": "stream",
     "text": [
      "[22 24 65 43]\n",
      "--------------------------------\n",
      "[[22 75 41 73]\n",
      " [ 8 41 10  6]]\n",
      "[[22 75 41 73]\n",
      " [ 8 41 10  6]]\n",
      "--------------------------------\n",
      "[22 22  8]\n",
      "--------------------------------\n",
      "[[75 41 73]\n",
      " [41 10  6]]\n",
      "--------------------------------\n",
      "[[22 24 65 43]\n",
      " [ 8 41 10  6]]\n",
      "--------------------------------\n",
      "[[24 43]\n",
      " [75 73]\n",
      " [41  6]]\n"
     ]
    }
   ],
   "source": [
    "# Pegando a primeira linha\n",
    "print(mat[0])\n",
    "print('-'*32)\n",
    "# As duas últimas linhas\n",
    "print(mat[1:])\n",
    "print(mat[-2:])\n",
    "print('-'*32)\n",
    "# A primeira coluna\n",
    "print(mat[ : , 0]) # O `:`significa todas as linhas, o zeo representa a coluna\n",
    "print('-'*32)\n",
    "\n",
    "# As três últimas colunas e duas últimas linhas\n",
    "print(mat[-2: , -3: ])\n",
    "print('-'*32)\n",
    "\n",
    "# Podemos filtrar usando os indices\n",
    "# Pegando a primeira e terceira linha e todas as colunas\n",
    "print(mat[[0,2], :])\n",
    "print('-'*32)\n",
    "# Pegando a segunda e quarta coluna\n",
    "print(mat[ : , [1, 3]])"
   ]
  }
 ],
 "metadata": {
  "kernelspec": {
   "display_name": "Python 3.9.12 ('base')",
   "language": "python",
   "name": "python3"
  },
  "language_info": {
   "codemirror_mode": {
    "name": "ipython",
    "version": 3
   },
   "file_extension": ".py",
   "mimetype": "text/x-python",
   "name": "python",
   "nbconvert_exporter": "python",
   "pygments_lexer": "ipython3",
   "version": "3.9.12"
  },
  "orig_nbformat": 4,
  "vscode": {
   "interpreter": {
    "hash": "e8755eff31258cf3f68aa399e6f759d79082959dfad6f58a9830d0e0b06355a5"
   }
  }
 },
 "nbformat": 4,
 "nbformat_minor": 2
}
