{
 "cells": [
  {
   "cell_type": "markdown",
   "metadata": {},
   "source": [
    "03 - Nosso próximo foco serão as matrizes. Faça o que se pede:\n",
    "\n",
    "a) Gere uma matriz (3,2) com números linearmente espaçados entre 0 e 100 e intervalos de 20, usando o np.linspace();\n",
    "\n",
    "b) Gere uma matriz aleatória (5,2) com números entre 0 e 100;\n",
    "\n",
    "c) Crie um array com as dimensões apropriadas que, quando multiplicado pela matriz do item a), devolva essa mesma matriz. Use o método np.matmul()."
   ]
  },
  {
   "cell_type": "code",
   "execution_count": 3,
   "metadata": {},
   "outputs": [
    {
     "name": "stdout",
     "output_type": "stream",
     "text": [
      "\u001b[35m  [[44 47]\n",
      " [64 67]\n",
      " [67  9]]\u001b[m\n",
      "---------------------------------------------------------------------------------------------------- \n",
      "\n",
      "MATRIX 5X2\n",
      "\n",
      "\u001b[31m[[83 21]\n",
      " [36 87]\n",
      " [70 88]\n",
      " [88 12]\n",
      " [58 65]]\u001b[m\n",
      "---------------------------------------------------------------------------------------------------- \n",
      "\n",
      "\u001b[34m [[44 47 64]\n",
      " [67 67  9]]\u001b[m\n",
      "---------------------------------------------------------------------------------------------------- \n",
      "\n",
      "[[5085 5217 3239]\n",
      " [7305 7497 4699]\n",
      " [3551 3752 4369]]\n",
      "[[  0.  20.]\n",
      " [ 40.  60.]\n",
      " [ 80. 100.]]\n",
      "[[83 21]\n",
      " [36 87]\n",
      " [70 88]\n",
      " [88 12]\n",
      " [58 65]]\n",
      "[[1. 0.]\n",
      " [0. 1.]]\n",
      "[[  0.  20.]\n",
      " [ 40.  60.]\n",
      " [ 80. 100.]]\n"
     ]
    }
   ],
   "source": [
    "import numpy as np\n",
    "import random\n",
    "from random import randint \n",
    "\n",
    "np.random.seed(0)\n",
    "n_linha = 3\n",
    "n_col = 2\n",
    "matrix_3x2  = np.random.randint(0, 100, (n_linha, n_col))\n",
    "print('\\033[35m  {}\\033[m'.format(matrix_3x2))\n",
    "print('-'*100,'\\n')\n",
    "\n",
    "#b) Gere uma matriz aleatória (5,2) com números entre 0 e 100;\n",
    "\n",
    "print('MATRIX 5X2\\n')\n",
    "matrix_5x2 = np.random.randint(0,100,(5,2))\n",
    "print('\\033[31m{}\\033[m'.format(matrix_5x2))\n",
    "print('-'*100,'\\n')\n",
    "\n",
    "\n",
    "#c) Crie um array com as dimensões apropriadas que, quando multiplicado pela matriz do item a), \n",
    "#devolva essa mesma matriz. Use o método np.matmul().\n",
    "\n",
    "np.random.seed(0)\n",
    "n_linhas = 2\n",
    "n_cols = 3\n",
    "matrix_nova  = np.random.randint(0, 100, (n_linhas, n_cols))\n",
    "print('\\033[34m {}\\033[m'.format(matrix_nova))\n",
    "print('-'*100,'\\n')\n",
    "\n",
    "# APLICANDO A FUNÇÃO\n",
    "\n",
    "matmult = np.matmul(matrix_3x2, matrix_nova)\n",
    "print(matmult)\n",
    "\n",
    "#OUTRO MÉTODO\n",
    "\n",
    "import numpy as np\n",
    "\n",
    "# a)\n",
    "matriz = np.linspace(0, 100, 6).reshape(3, 2)\n",
    "print(matriz)\n",
    "\n",
    "# b)\n",
    "matriz_aleatoria = np.random.randint(0, 101, size=(5, 2))\n",
    "print(matriz_aleatoria)\n",
    "\n",
    "# c)\n",
    "array = np.identity(2)\n",
    "print(array)\n",
    "print(np.matmul(matriz, array))"
   ]
  }
 ],
 "metadata": {
  "kernelspec": {
   "display_name": "Python 3.9.12 ('base')",
   "language": "python",
   "name": "python3"
  },
  "language_info": {
   "codemirror_mode": {
    "name": "ipython",
    "version": 3
   },
   "file_extension": ".py",
   "mimetype": "text/x-python",
   "name": "python",
   "nbconvert_exporter": "python",
   "pygments_lexer": "ipython3",
   "version": "3.9.12"
  },
  "orig_nbformat": 4,
  "vscode": {
   "interpreter": {
    "hash": "84119b4a23c727451d2f5b202898a53a27583c1b582daf411d2362849740e029"
   }
  }
 },
 "nbformat": 4,
 "nbformat_minor": 2
}
