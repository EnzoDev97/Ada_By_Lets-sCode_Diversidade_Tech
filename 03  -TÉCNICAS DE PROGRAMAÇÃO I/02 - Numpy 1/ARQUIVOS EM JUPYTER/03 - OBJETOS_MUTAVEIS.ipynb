{
 "cells": [
  {
   "cell_type": "markdown",
   "metadata": {},
   "source": [
    "Cuidado com objetos mutáveis em Python (listas e arrays)!\n",
    "\n",
    "Há dois comportamentos, shalow copy e deep copy"
   ]
  },
  {
   "cell_type": "code",
   "execution_count": 22,
   "metadata": {},
   "outputs": [
    {
     "name": "stdout",
     "output_type": "stream",
     "text": [
      "\n",
      "Utilizando o operador \"+\"\n",
      "ds: [id:\u001b[34m2473585506112\u001b[0m]: \u001b[31m['Python', 'SQL', 'R']\u001b[0m\n",
      "web: [id:\u001b[33m2473604903552\u001b[0m]: \u001b[32m['HTML', 'CSS', 'JavaScript']\u001b[0m\n",
      "linguagens_mais: [id:\u001b[36m2473617021440\u001b[0m]: \u001b[35m['Python', 'SQL', 'R', 'HTML', 'CSS', 'JavaScript']\u001b[0m\n",
      "\n",
      "\n",
      "Antes de utilizar o extend\n",
      "ds: [id:\u001b[34m2473585506112\u001b[0m]: \u001b[31m['Python', 'SQL', 'R']\u001b[0m\n",
      "web: [id:\u001b[33m2473604903552\u001b[0m]: \u001b[32m['HTML', 'CSS', 'JavaScript']\u001b[0m\n",
      "linguagens_extend: [id:\u001b[36m2473585506112\u001b[0m]: \u001b[35m['Python', 'SQL', 'R']\u001b[0m\n",
      "\n",
      "\n",
      "Após utilizar o extend\n",
      "ds: [id:\u001b[34m2473585506112\u001b[0m]: \u001b[31m['Python', 'SQL', 'R', 'HTML', 'CSS', 'JavaScript']\u001b[0m\n",
      "web: [id:\u001b[33m2473604903552\u001b[0m]: \u001b[32m['HTML', 'CSS', 'JavaScript']\u001b[0m\n",
      "linguagens_extend: [id:2473585506112]: ['Python', 'SQL', 'R', 'HTML', 'CSS', 'JavaScript']\n",
      "\n"
     ]
    }
   ],
   "source": [
    "ds = [\"Python\", \"SQL\", 'R']\n",
    "web = [\"HTML\", \"CSS\", 'JavaScript']\n",
    "\n",
    "# Concatenando as listas com `+`\n",
    "linguagens_mais = ds + web\n",
    "\n",
    "print(f'''\n",
    "Utilizando o operador \"+\"\n",
    "ds: [id:\\033[34m{id(ds)}\\033[0m]: \\033[31m{ds}\\033[0m\n",
    "web: [id:\\033[33m{id(web)}\\033[0m]: \\033[32m{web}\\033[0m\n",
    "linguagens_mais: [id:\\033[36m{id(linguagens_mais)}\\033[0m]: \\033[35m{linguagens_mais}\\033[0m\n",
    "''')\n",
    "\n",
    "# Extendendo as listas com `extend`\n",
    "linguagens_extend = ds\n",
    "print(f'''\n",
    "Antes de utilizar o extend\n",
    "ds: [id:\\033[34m{id(ds)}\\033[0m]: \\033[31m{ds}\\033[0m\n",
    "web: [id:\\033[33m{id(web)}\\033[0m]: \\033[32m{web}\\033[0m\n",
    "linguagens_extend: [id:\\033[36m{id(linguagens_extend)}\\033[0m]: \\033[35m{linguagens_extend}\\033[0m\n",
    "''')\n",
    "\n",
    "linguagens_extend.extend(web)\n",
    "\n",
    "print(f'''\n",
    "Após utilizar o extend\n",
    "ds: [id:\\033[34m{id(ds)}\\033[0m]: \\033[31m{ds}\\033[0m\n",
    "web: [id:\\033[33m{id(web)}\\033[0m]: \\033[32m{web}\\033[0m\n",
    "linguagens_extend: [id:{id(linguagens_extend)}]: {linguagens_extend}\n",
    "''')"
   ]
  },
  {
   "cell_type": "markdown",
   "metadata": {},
   "source": [
    "No exemplo acima, ao utilizar o extend houve a mudança da lista original ds\n",
    "\n",
    "Para evitar esse comportamento precisamos alterar o endereço de memória, ou seja, realizar uma cópia profunda!\n",
    "\n",
    "Para ser seguro utilizamos o deepcopy"
   ]
  },
  {
   "cell_type": "code",
   "execution_count": 23,
   "metadata": {},
   "outputs": [
    {
     "name": "stdout",
     "output_type": "stream",
     "text": [
      "\n",
      "Utilizando o operador \"+\"\n",
      "ds: [id:\u001b[34m2473605857792\u001b[0m]: ['Python', 'SQL', 'R']\n",
      "web: [id:\u001b[33m2473605860288\u001b[0m]: ['HTML', 'CSS', 'JavaScript']\n",
      "linguagens_mais: [id:\u001b[32m2473604878784\u001b[0m]: \u001b[31m['Python', 'SQL', 'R', 'HTML', 'CSS', 'JavaScript']\u001b[0m\n",
      "\n",
      "\n",
      "Antes de utilizar o extend\n",
      "ds: [id:\u001b[34m2473605857792\u001b[0m]: ['Python', 'SQL', 'R']\n",
      "web: [id:\u001b[33m2473605860288\u001b[0m]: ['HTML', 'CSS', 'JavaScript']\n",
      "linguagens_extend: [id:\u001b[32m2473605853248\u001b[0m]: \u001b[31m['Python', 'SQL', 'R']\u001b[0m\n",
      "\n",
      "\n",
      "Após utilizar o extend\n",
      "ds: [id:\u001b[34m2473605857792\u001b[0m]: ['Python', 'SQL', 'R']\n",
      "web: [id:\u001b[33m2473605860288\u001b[0m]: ['HTML', 'CSS', 'JavaScript']\n",
      "linguagens_extend: [id:\u001b[32m2473605853248\u001b[0m]: \u001b[31m['Python', 'SQL', 'R', 'HTML', 'CSS', 'JavaScript']\u001b[0m\n",
      "\n"
     ]
    }
   ],
   "source": [
    "from copy import deepcopy\n",
    "\n",
    "ds = [\"Python\", \"SQL\", 'R']\n",
    "web = [\"HTML\", \"CSS\", 'JavaScript']\n",
    "\n",
    "# Concatenando as listas com `+`\n",
    "linguagens_mais = ds + web\n",
    "\n",
    "print(f'''\n",
    "Utilizando o operador \"+\"\n",
    "ds: [id:\\033[34m{id(ds)}\\033[0m]: {ds}\n",
    "web: [id:\\033[33m{id(web)}\\033[0m]: {web}\n",
    "linguagens_mais: [id:\\033[32m{id(linguagens_mais)}\\033[0m]: \\033[31m{linguagens_mais}\\033[0m\n",
    "''')\n",
    "\n",
    "# Extendendo as listas com `extend`\n",
    "linguagens_extend = deepcopy(ds)\n",
    "print(f'''\n",
    "Antes de utilizar o extend\n",
    "ds: [id:\\033[34m{id(ds)}\\033[0m]: {ds}\n",
    "web: [id:\\033[33m{id(web)}\\033[0m]: {web}\n",
    "linguagens_extend: [id:\\033[32m{id(linguagens_extend)}\\033[0m]: \\033[31m{linguagens_extend}\\033[0m\n",
    "''')\n",
    "\n",
    "linguagens_extend.extend(web)\n",
    "\n",
    "print(f'''\n",
    "Após utilizar o extend\n",
    "ds: [id:\\033[34m{id(ds)}\\033[0m]: {ds}\n",
    "web: [id:\\033[33m{id(web)}\\033[0m]: {web}\n",
    "linguagens_extend: [id:\\033[32m{id(linguagens_extend)}\\033[0m]: \\033[31m{linguagens_extend}\\033[0m\n",
    "''')"
   ]
  }
 ],
 "metadata": {
  "kernelspec": {
   "display_name": "Python 3.9.12 ('base')",
   "language": "python",
   "name": "python3"
  },
  "language_info": {
   "codemirror_mode": {
    "name": "ipython",
    "version": 3
   },
   "file_extension": ".py",
   "mimetype": "text/x-python",
   "name": "python",
   "nbconvert_exporter": "python",
   "pygments_lexer": "ipython3",
   "version": "3.9.12"
  },
  "orig_nbformat": 4,
  "vscode": {
   "interpreter": {
    "hash": "e8755eff31258cf3f68aa399e6f759d79082959dfad6f58a9830d0e0b06355a5"
   }
  }
 },
 "nbformat": 4,
 "nbformat_minor": 2
}
