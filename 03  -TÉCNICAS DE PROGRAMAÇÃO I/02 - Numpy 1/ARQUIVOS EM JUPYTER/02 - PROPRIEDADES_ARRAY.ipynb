{
 "cells": [
  {
   "cell_type": "code",
   "execution_count": 15,
   "metadata": {},
   "outputs": [
    {
     "name": "stdout",
     "output_type": "stream",
     "text": [
      "MATRIZ 01...\n",
      "\u001b[34m [[1 2 3]\n",
      " [4 5 6]\n",
      " [7 8 9]] \u001b[0m\n",
      "---------------------------------------------------------------------------------------------------- \n",
      "\n",
      "MATRIZ 02...\n",
      "\u001b[35m [[[  0  22  32]\n",
      "  [  0  45  61]\n",
      "  [  0   0   0]]\n",
      "\n",
      " [[ 10  27  37]\n",
      "  [ 12  45  61]\n",
      "  [120  10 120]]\n",
      "\n",
      " [[ 15  45  78]\n",
      "  [ 10  22  64]\n",
      "  [ 20  20  22]]] \u001b[0m\n",
      "---------------------------------------------------------------------------------------------------- \n",
      "\n",
      "\u001b[31m INFORMAÇÕES DAS PROPRIEDAS DO ARRAY LOGO ABAIXO...\u001b[0m \n",
      "\n",
      "Vetor ndim 1\n",
      "Vetor shape (5,)\n",
      "Vetor size 5\n",
      "--------------------------------\n",
      "Matriz bidimensional ndim 2\n",
      "Matriz bidimensional shape (3, 3)\n",
      "Matriz bidimensional size 9\n",
      "--------------------------------\n",
      "Matriz tridimensional ndim 3\n",
      "Matriz tridimensional shape (3, 3, 3)\n",
      "Matriz tridimensional size 27\n",
      "--------------------------------\n"
     ]
    }
   ],
   "source": [
    "import numpy as np\n",
    "\n",
    "lista_de_lista = [\n",
    "    [1, 2, 3],\n",
    "    [4, 5, 6],\n",
    "    [7, 8, 9],\n",
    "]\n",
    "bi_matrix = np.array(lista_de_lista)\n",
    "print('MATRIZ 01...')\n",
    "print('\\033[34m {} \\033[0m'.format(bi_matrix))\n",
    "\n",
    "print('-'*100,'\\n')\n",
    "\n",
    "red = [\n",
    "    [0, 22, 32],\n",
    "    [0, 45, 61],\n",
    "    [0, 0, 0],\n",
    "]\n",
    "green = [\n",
    "    [10, 27, 37],\n",
    "    [12, 45, 61],\n",
    "    [120, 10, 120],\n",
    "]\n",
    "blue = [\n",
    "    [15, 45, 78],\n",
    "    [10, 22, 64],\n",
    "    [20, 20, 22],\n",
    "]\n",
    "\n",
    "rgb = np.asarray([red, green, blue])\n",
    "print('MATRIZ 02...')\n",
    "\n",
    "print('\\033[35m {} \\033[0m'.format(rgb))\n",
    "\n",
    "print('-'*100,'\\n')\n",
    "\n",
    "\n",
    "\n",
    "\n",
    "\n",
    "print('\\033[31m INFORMAÇÕES DAS PROPRIEDAS DO ARRAY LOGO ABAIXO...\\033[0m \\n')\n",
    "\n",
    "vetor_numpy = np.array([1, 2, 3, 4, 5])\n",
    "print('Vetor ndim', vetor_numpy.ndim)    # Unidimensional\n",
    "print('Vetor shape', vetor_numpy.shape)  # 5 elementos\n",
    "print('Vetor size', vetor_numpy.size)    # Número de elementos totais\n",
    "print('-' * 32)\n",
    "\n",
    "print('Matriz bidimensional ndim', bi_matrix.ndim)    # Bidimensional\n",
    "print('Matriz bidimensional shape', bi_matrix.shape)  # (3, 3) elementos (Linha/Coluna)\n",
    "print('Matriz bidimensional size', bi_matrix.size)    # Número de elementos totais\n",
    "print('-' * 32)\n",
    "\n",
    "print('Matriz tridimensional ndim', rgb.ndim)    # Tridimensional\n",
    "print('Matriz tridimensional shape', rgb.shape)  # (3, 3, 3) elementos (Canais/Linha/Coluna)\n",
    "print('Matriz tridimensional size', rgb.size)    # Número de elementos totais\n",
    "print('-' * 32)"
   ]
  }
 ],
 "metadata": {
  "kernelspec": {
   "display_name": "Python 3.9.12 ('base')",
   "language": "python",
   "name": "python3"
  },
  "language_info": {
   "codemirror_mode": {
    "name": "ipython",
    "version": 3
   },
   "file_extension": ".py",
   "mimetype": "text/x-python",
   "name": "python",
   "nbconvert_exporter": "python",
   "pygments_lexer": "ipython3",
   "version": "3.9.12"
  },
  "orig_nbformat": 4,
  "vscode": {
   "interpreter": {
    "hash": "e8755eff31258cf3f68aa399e6f759d79082959dfad6f58a9830d0e0b06355a5"
   }
  }
 },
 "nbformat": 4,
 "nbformat_minor": 2
}
