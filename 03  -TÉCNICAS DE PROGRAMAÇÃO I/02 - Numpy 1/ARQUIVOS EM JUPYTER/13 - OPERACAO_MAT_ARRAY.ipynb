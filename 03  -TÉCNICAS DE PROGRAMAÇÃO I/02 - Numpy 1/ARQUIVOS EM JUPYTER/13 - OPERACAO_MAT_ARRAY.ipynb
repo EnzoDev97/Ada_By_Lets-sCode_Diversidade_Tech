{
 "cells": [
  {
   "cell_type": "code",
   "execution_count": 33,
   "metadata": {},
   "outputs": [
    {
     "name": "stdout",
     "output_type": "stream",
     "text": [
      "[[83 10 10 40 12]\n",
      " [ 9 92 39 84 70]\n",
      " [21 36 42 61 39]]\n",
      "----------------------------------------------------------------------------------------------------\n",
      "[[975 902 902 932 904]\n",
      " [901 984 931 976 962]\n",
      " [913 928 934 953 931]]\n",
      "----------------------------------------------------------------------------------------------------\n",
      "[[-917 -990 -990 -960 -988]\n",
      " [-991 -908 -961 -916 -930]\n",
      " [-979 -964 -958 -939 -961]]\n",
      "----------------------------------------------------------------------------------------------------\n",
      "[[0.83 0.1  0.1  0.4  0.12]\n",
      " [0.09 0.92 0.39 0.84 0.7 ]\n",
      " [0.21 0.36 0.42 0.61 0.39]]\n",
      "----------------------------------------------------------------------------------------------------\n",
      "[[4.41884061 2.3025851  2.3025851  3.68887946 2.48490666]\n",
      " [2.19722459 4.52178858 3.66356165 4.4308168  4.24849524]\n",
      " [3.04452244 3.58351894 3.73766962 4.11087387 3.66356165]]\n",
      "----------------------------------------------------------------------------------------------------\n",
      "[[6889  100  100 1600  144]\n",
      " [  81 8464 1521 7056 4900]\n",
      " [ 441 1296 1764 3721 1521]]\n",
      "[[6889  100  100 1600  144]\n",
      " [  81 8464 1521 7056 4900]\n",
      " [ 441 1296 1764 3721 1521]]\n",
      "----------------------------------------------------------------------------------------------------\n",
      "[[83 10 10 40 12]\n",
      " [ 9 92 39 84 70]\n",
      " [21 36 42 61 39]]\n",
      "[[9.11043358 3.16227766 3.16227766 6.32455532 3.46410162]\n",
      " [3.         9.59166305 6.244998   9.16515139 8.36660027]\n",
      " [4.58257569 6.         6.4807407  7.81024968 6.244998  ]]\n",
      "----------------------------------------------------------------------------------------------------\n"
     ]
    }
   ],
   "source": [
    "import numpy as np\n",
    "import random\n",
    "from random import randint \n",
    "\n",
    "arr = np.random.randint(0, 100, (3, 5))\n",
    "print(arr)\n",
    "print('-'*100)\n",
    "\n",
    "# Somando uma constante\n",
    "print(arr + 892)\n",
    "print('-'*100)\n",
    "# Subtraindo uma constante\n",
    "print(arr - 1000)\n",
    "print('-'*100)\n",
    "# Divisão com uma constante\n",
    "print(arr / 100)\n",
    "print('-'*100)\n",
    "# Divisões por zero gera infinito\n",
    "# print(arr / 0)\n",
    "\n",
    "# Log (utilizando np.log)\n",
    "print(np.log(arr + 0.0000001)) # Adicionando um valor muito muito pequeno para evitar log de zero (0)\n",
    "print('-'*100)\n",
    "# Exponencial\n",
    "print(np.square(arr))\n",
    "print(arr**2)\n",
    "print('-'*100)\n",
    "\n",
    "# Raiz quadrada\n",
    "print(arr)\n",
    "print(np.sqrt(arr))\n",
    "print('-'*100)"
   ]
  },
  {
   "cell_type": "code",
   "execution_count": 34,
   "metadata": {},
   "outputs": [
    {
     "name": "stdout",
     "output_type": "stream",
     "text": [
      "Max valor: 88\n",
      "Max coluna: [88 58 75 78 67]\n",
      "Max linha: [80 88 88]\n",
      "----------------------------------------------------------------------------------------------------\n"
     ]
    }
   ],
   "source": [
    "mat  = np.random.randint(0, 100, (3, 5))\n",
    "\n",
    "\n",
    "print(\"Max valor:\", mat.max())\n",
    "# Valor máximo por coluna\n",
    "print(\"Max coluna:\", mat.max(axis=0))\n",
    "# Valor máximo por linha\n",
    "print(\"Max linha:\", mat.max(axis=1))\n",
    "print('-'*100)"
   ]
  },
  {
   "cell_type": "code",
   "execution_count": 35,
   "metadata": {},
   "outputs": [
    {
     "name": "stdout",
     "output_type": "stream",
     "text": [
      "Min valor: 4\n",
      "[80]\n",
      "Min col: [0 0 0 1 0]\n",
      "Min linha: [4 3 4]\n"
     ]
    }
   ],
   "source": [
    "# Indice cujo valor é o minimo (`argmin`)\n",
    "# -> Volta o index na matriz considerando que ela é unidimensional\n",
    "print(\"Min valor:\", mat.argmin())\n",
    "# Para pegar o valor, precisamos achatar a matriz e para tal utilizamos o reshape\n",
    "print(mat.reshape(-1, 1)[0])\n",
    "\n",
    "# Indice cujo valor é o minimo por coluna\n",
    "print('Min col:', mat.argmin(axis=0))\n",
    "\n",
    "# Indice cujo valor é o minimo por linha\n",
    "print('Min linha:', mat.argmin(axis=1))"
   ]
  },
  {
   "cell_type": "code",
   "execution_count": 36,
   "metadata": {},
   "outputs": [
    {
     "name": "stdout",
     "output_type": "stream",
     "text": [
      "Valor total: 783\n",
      "Valor coluna: [256 155 146 144  82]\n",
      "Valor linha: [201 306 276]\n"
     ]
    }
   ],
   "source": [
    "# Soma total\n",
    "print('Valor total:', mat.sum())\n",
    "# Soma por coluna\n",
    "print('Valor coluna:', mat.sum(axis=0))\n",
    "# Soma por linha\n",
    "print('Valor linha:', mat.sum(axis=1))"
   ]
  },
  {
   "cell_type": "code",
   "execution_count": 37,
   "metadata": {},
   "outputs": [
    {
     "name": "stdout",
     "output_type": "stream",
     "text": [
      "Média valor: 52.2\n",
      "Média coluna: [85.33333333 51.66666667 48.66666667 48.         27.33333333]\n",
      "Média linha: [40.2 61.2 55.2]\n"
     ]
    }
   ],
   "source": [
    "# Média total\n",
    "print('Média valor:', mat.mean())\n",
    "\n",
    "# Média por coluna\n",
    "print('Média coluna:', mat.mean(axis=0))\n",
    "\n",
    "# Média por linha\n",
    "print('Média linha:', mat.mean(axis=1))"
   ]
  },
  {
   "cell_type": "code",
   "execution_count": 38,
   "metadata": {},
   "outputs": [
    {
     "name": "stdout",
     "output_type": "stream",
     "text": [
      "Desvio padrão: 26.803482360817718\n",
      "Desvio padrão por coluna: [ 3.77123617  6.3420992  19.60158724 24.49489743 28.40578971]\n",
      "Desvio padrão por linha: [25.53742352 23.74363072 26.55861442]\n"
     ]
    }
   ],
   "source": [
    "# Desvio padrão total\n",
    "print('Desvio padrão:', mat.std())\n",
    "\n",
    "# Desvio padrão coluna\n",
    "print('Desvio padrão por coluna:', mat.std(axis=0))\n",
    "\n",
    "# Desvio padrão linha\n",
    "print('Desvio padrão por linha:', mat.std(axis=1))"
   ]
  }
 ],
 "metadata": {
  "kernelspec": {
   "display_name": "Python 3.9.12 ('base')",
   "language": "python",
   "name": "python3"
  },
  "language_info": {
   "codemirror_mode": {
    "name": "ipython",
    "version": 3
   },
   "file_extension": ".py",
   "mimetype": "text/x-python",
   "name": "python",
   "nbconvert_exporter": "python",
   "pygments_lexer": "ipython3",
   "version": "3.9.12"
  },
  "orig_nbformat": 4,
  "vscode": {
   "interpreter": {
    "hash": "84119b4a23c727451d2f5b202898a53a27583c1b582daf411d2362849740e029"
   }
  }
 },
 "nbformat": 4,
 "nbformat_minor": 2
}
