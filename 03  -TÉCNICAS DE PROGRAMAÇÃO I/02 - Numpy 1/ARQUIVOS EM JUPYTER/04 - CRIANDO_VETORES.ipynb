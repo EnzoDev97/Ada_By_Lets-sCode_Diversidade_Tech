{
 "cells": [
  {
   "cell_type": "markdown",
   "metadata": {},
   "source": [
    "### Criando vetores de zeros"
   ]
  },
  {
   "cell_type": "code",
   "execution_count": 40,
   "metadata": {},
   "outputs": [
    {
     "name": "stdout",
     "output_type": "stream",
     "text": [
      "----\u001b[36m[0, 0, 0, 0, 0, 0, 0, 0, 0, 0]\u001b[0m----  TAMANHO: 10\n"
     ]
    }
   ],
   "source": [
    "n = 10\n",
    "lista_zeros = [0] * n\n",
    "print('----\\033[36m{}\\033[0m----  TAMANHO: {}'.format(lista_zeros,len(lista_zeros)))\n",
    "    "
   ]
  },
  {
   "cell_type": "code",
   "execution_count": 41,
   "metadata": {},
   "outputs": [
    {
     "name": "stdout",
     "output_type": "stream",
     "text": [
      "----\u001b[33m[0. 0. 0. 0. 0. 0. 0. 0. 0. 0.]\u001b[0m----  TAMANHO: 10\n"
     ]
    }
   ],
   "source": [
    "import numpy as np\n",
    "#  Utilizando o numpy\n",
    "\n",
    "zeros = np.zeros(n)\n",
    "print('----\\033[33m{}\\033[0m----  TAMANHO: {}'.format(zeros,len(zeros)))\n",
    "    \n"
   ]
  },
  {
   "cell_type": "code",
   "execution_count": 42,
   "metadata": {},
   "outputs": [
    {
     "name": "stdout",
     "output_type": "stream",
     "text": [
      "----\u001b[32m[1. 1. 1. 1. 1. 1. 1. 1. 1. 1.]\u001b[0m----  TAMANHO: 10\n"
     ]
    }
   ],
   "source": [
    "#import numpy as np\n",
    "#  Utilizando o numpy\n",
    "\n",
    "uns= np.ones(n)\n",
    "print('----\\033[32m{}\\033[0m----  TAMANHO: {}'.format(uns,len(uns)))"
   ]
  },
  {
   "cell_type": "code",
   "execution_count": null,
   "metadata": {},
   "outputs": [],
   "source": []
  }
 ],
 "metadata": {
  "kernelspec": {
   "display_name": "Python 3.9.12 ('base')",
   "language": "python",
   "name": "python3"
  },
  "language_info": {
   "codemirror_mode": {
    "name": "ipython",
    "version": 3
   },
   "file_extension": ".py",
   "mimetype": "text/x-python",
   "name": "python",
   "nbconvert_exporter": "python",
   "pygments_lexer": "ipython3",
   "version": "3.9.12"
  },
  "orig_nbformat": 4,
  "vscode": {
   "interpreter": {
    "hash": "e8755eff31258cf3f68aa399e6f759d79082959dfad6f58a9830d0e0b06355a5"
   }
  }
 },
 "nbformat": 4,
 "nbformat_minor": 2
}
