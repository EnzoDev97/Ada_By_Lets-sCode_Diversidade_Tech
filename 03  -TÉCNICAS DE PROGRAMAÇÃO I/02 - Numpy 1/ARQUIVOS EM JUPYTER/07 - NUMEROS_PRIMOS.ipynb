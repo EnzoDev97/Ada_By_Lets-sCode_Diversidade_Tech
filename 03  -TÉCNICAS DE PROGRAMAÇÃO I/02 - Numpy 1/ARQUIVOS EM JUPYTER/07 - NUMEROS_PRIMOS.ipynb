{
 "cells": [
  {
   "cell_type": "code",
   "execution_count": 1,
   "metadata": {},
   "outputs": [
    {
     "name": "stdout",
     "output_type": "stream",
     "text": [
      "30\n"
     ]
    }
   ],
   "source": [
    "# 07 - Faça um programa que receba um número. Verifique quantos números primos existe entre 1 e o número digitado (lembrando que 1 não é primo)\n",
    "\n",
    "#Por ex: 12 Existem 3 números primos entre 1 e 12\n",
    "\n",
    "number = int(input('Numero: '))\n",
    "\n",
    "p = 0\n",
    "\n",
    "for i in range (2, number+1):\n",
    "    for k in range(2, i):\n",
    "        if i % k == 0:\n",
    "            p += 1\n",
    "            break\n",
    "q_numeros_primos = number - (p + 1)\n",
    "\n",
    "print(q_numeros_primos)"
   ]
  }
 ],
 "metadata": {
  "kernelspec": {
   "display_name": "Python 3.9.12 ('base')",
   "language": "python",
   "name": "python3"
  },
  "language_info": {
   "name": "python",
   "version": "3.9.12"
  },
  "orig_nbformat": 4,
  "vscode": {
   "interpreter": {
    "hash": "84119b4a23c727451d2f5b202898a53a27583c1b582daf411d2362849740e029"
   }
  }
 },
 "nbformat": 4,
 "nbformat_minor": 2
}
