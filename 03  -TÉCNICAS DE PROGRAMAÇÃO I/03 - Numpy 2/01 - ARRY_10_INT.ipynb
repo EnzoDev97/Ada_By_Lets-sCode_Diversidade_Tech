{
 "cells": [
  {
   "cell_type": "code",
   "execution_count": 1,
   "metadata": {},
   "outputs": [
    {
     "name": "stdout",
     "output_type": "stream",
     "text": [
      "Requirement already satisfied: numpy in c:\\users\\enzoc\\anaconda3\\lib\\site-packages (1.21.5)\n"
     ]
    },
    {
     "ename": "NameError",
     "evalue": "name 'random' is not defined",
     "output_type": "error",
     "traceback": [
      "\u001b[1;31m---------------------------------------------------------------------------\u001b[0m",
      "\u001b[1;31mNameError\u001b[0m                                 Traceback (most recent call last)",
      "\u001b[1;32mc:\\Users\\enzoc\\OneDrive\\Área de Trabalho\\CÓDIGO PYTHON\\Diversidade_Tech\\03  -TÉCNICAS DE PROGRAMAÇÃO I\\03 - Numpy 2\\01.ipynb Célula: 1\u001b[0m in \u001b[0;36m<cell line: 7>\u001b[1;34m()\u001b[0m\n\u001b[0;32m      <a href='vscode-notebook-cell:/c%3A/Users/enzoc/OneDrive/%C3%81rea%20de%20Trabalho/C%C3%93DIGO%20PYTHON/Diversidade_Tech/03%20%20-T%C3%89CNICAS%20DE%20PROGRAMA%C3%87%C3%83O%20I/03%20-%20Numpy%202/01.ipynb#W0sZmlsZQ%3D%3D?line=2'>3</a>\u001b[0m get_ipython()\u001b[39m.\u001b[39msystem(\u001b[39m'\u001b[39m\u001b[39mpip install numpy\u001b[39m\u001b[39m'\u001b[39m)\n\u001b[0;32m      <a href='vscode-notebook-cell:/c%3A/Users/enzoc/OneDrive/%C3%81rea%20de%20Trabalho/C%C3%93DIGO%20PYTHON/Diversidade_Tech/03%20%20-T%C3%89CNICAS%20DE%20PROGRAMA%C3%87%C3%83O%20I/03%20-%20Numpy%202/01.ipynb#W0sZmlsZQ%3D%3D?line=4'>5</a>\u001b[0m \u001b[39mimport\u001b[39;00m \u001b[39mnumpy\u001b[39;00m \u001b[39mas\u001b[39;00m \u001b[39mnp\u001b[39;00m\n\u001b[1;32m----> <a href='vscode-notebook-cell:/c%3A/Users/enzoc/OneDrive/%C3%81rea%20de%20Trabalho/C%C3%93DIGO%20PYTHON/Diversidade_Tech/03%20%20-T%C3%89CNICAS%20DE%20PROGRAMA%C3%87%C3%83O%20I/03%20-%20Numpy%202/01.ipynb#W0sZmlsZQ%3D%3D?line=6'>7</a>\u001b[0m lista1 \u001b[39m=\u001b[39m [random\u001b[39m.\u001b[39mrandint(\u001b[39m0\u001b[39m, \u001b[39m100\u001b[39m) \u001b[39mfor\u001b[39;00m n \u001b[39min\u001b[39;00m \u001b[39mrange\u001b[39m(\u001b[39m0\u001b[39m, \u001b[39m10\u001b[39m)]\n\u001b[0;32m      <a href='vscode-notebook-cell:/c%3A/Users/enzoc/OneDrive/%C3%81rea%20de%20Trabalho/C%C3%93DIGO%20PYTHON/Diversidade_Tech/03%20%20-T%C3%89CNICAS%20DE%20PROGRAMA%C3%87%C3%83O%20I/03%20-%20Numpy%202/01.ipynb#W0sZmlsZQ%3D%3D?line=7'>8</a>\u001b[0m \u001b[39mprint\u001b[39m(lista1)\n\u001b[0;32m      <a href='vscode-notebook-cell:/c%3A/Users/enzoc/OneDrive/%C3%81rea%20de%20Trabalho/C%C3%93DIGO%20PYTHON/Diversidade_Tech/03%20%20-T%C3%89CNICAS%20DE%20PROGRAMA%C3%87%C3%83O%20I/03%20-%20Numpy%202/01.ipynb#W0sZmlsZQ%3D%3D?line=8'>9</a>\u001b[0m arry_1 \u001b[39m=\u001b[39m np\u001b[39m.\u001b[39marray(lista1)\n",
      "\u001b[1;32mc:\\Users\\enzoc\\OneDrive\\Área de Trabalho\\CÓDIGO PYTHON\\Diversidade_Tech\\03  -TÉCNICAS DE PROGRAMAÇÃO I\\03 - Numpy 2\\01.ipynb Célula: 1\u001b[0m in \u001b[0;36m<listcomp>\u001b[1;34m(.0)\u001b[0m\n\u001b[0;32m      <a href='vscode-notebook-cell:/c%3A/Users/enzoc/OneDrive/%C3%81rea%20de%20Trabalho/C%C3%93DIGO%20PYTHON/Diversidade_Tech/03%20%20-T%C3%89CNICAS%20DE%20PROGRAMA%C3%87%C3%83O%20I/03%20-%20Numpy%202/01.ipynb#W0sZmlsZQ%3D%3D?line=2'>3</a>\u001b[0m get_ipython()\u001b[39m.\u001b[39msystem(\u001b[39m'\u001b[39m\u001b[39mpip install numpy\u001b[39m\u001b[39m'\u001b[39m)\n\u001b[0;32m      <a href='vscode-notebook-cell:/c%3A/Users/enzoc/OneDrive/%C3%81rea%20de%20Trabalho/C%C3%93DIGO%20PYTHON/Diversidade_Tech/03%20%20-T%C3%89CNICAS%20DE%20PROGRAMA%C3%87%C3%83O%20I/03%20-%20Numpy%202/01.ipynb#W0sZmlsZQ%3D%3D?line=4'>5</a>\u001b[0m \u001b[39mimport\u001b[39;00m \u001b[39mnumpy\u001b[39;00m \u001b[39mas\u001b[39;00m \u001b[39mnp\u001b[39;00m\n\u001b[1;32m----> <a href='vscode-notebook-cell:/c%3A/Users/enzoc/OneDrive/%C3%81rea%20de%20Trabalho/C%C3%93DIGO%20PYTHON/Diversidade_Tech/03%20%20-T%C3%89CNICAS%20DE%20PROGRAMA%C3%87%C3%83O%20I/03%20-%20Numpy%202/01.ipynb#W0sZmlsZQ%3D%3D?line=6'>7</a>\u001b[0m lista1 \u001b[39m=\u001b[39m [random\u001b[39m.\u001b[39mrandint(\u001b[39m0\u001b[39m, \u001b[39m100\u001b[39m) \u001b[39mfor\u001b[39;00m n \u001b[39min\u001b[39;00m \u001b[39mrange\u001b[39m(\u001b[39m0\u001b[39m, \u001b[39m10\u001b[39m)]\n\u001b[0;32m      <a href='vscode-notebook-cell:/c%3A/Users/enzoc/OneDrive/%C3%81rea%20de%20Trabalho/C%C3%93DIGO%20PYTHON/Diversidade_Tech/03%20%20-T%C3%89CNICAS%20DE%20PROGRAMA%C3%87%C3%83O%20I/03%20-%20Numpy%202/01.ipynb#W0sZmlsZQ%3D%3D?line=7'>8</a>\u001b[0m \u001b[39mprint\u001b[39m(lista1)\n\u001b[0;32m      <a href='vscode-notebook-cell:/c%3A/Users/enzoc/OneDrive/%C3%81rea%20de%20Trabalho/C%C3%93DIGO%20PYTHON/Diversidade_Tech/03%20%20-T%C3%89CNICAS%20DE%20PROGRAMA%C3%87%C3%83O%20I/03%20-%20Numpy%202/01.ipynb#W0sZmlsZQ%3D%3D?line=8'>9</a>\u001b[0m arry_1 \u001b[39m=\u001b[39m np\u001b[39m.\u001b[39marray(lista1)\n",
      "\u001b[1;31mNameError\u001b[0m: name 'random' is not defined"
     ]
    }
   ],
   "source": [
    "# 01 - Crie uma lista do Python que contenha 10 inteiros aleatórios (entre 0 e 100). Em seguida, a partir da lista criada anteriormente, crie um array do Numpy, utilizando a função array.\n",
    "\n",
    "#!pip install numpy\n",
    "\n",
    "#import numpy as np\n",
    "\n",
    "import numpy as np\n",
    "import random\n",
    "\n",
    "lista1 = [random.randint(0, 100) for n in range(0, 10)]\n",
    "print(lista1)\n",
    "arry_1 = np.array(lista1)\n",
    "arry_1\n",
    "\n",
    "#OU\n",
    "\n",
    "from random import randint \n",
    "\n",
    "lista = [randint(0, 100) for _ in range(10)]\n",
    "array = np.array(lista)\n",
    "\n",
    "array"
   ]
  }
 ],
 "metadata": {
  "kernelspec": {
   "display_name": "Python 3.9.12 ('base')",
   "language": "python",
   "name": "python3"
  },
  "language_info": {
   "codemirror_mode": {
    "name": "ipython",
    "version": 3
   },
   "file_extension": ".py",
   "mimetype": "text/x-python",
   "name": "python",
   "nbconvert_exporter": "python",
   "pygments_lexer": "ipython3",
   "version": "3.9.12"
  },
  "orig_nbformat": 4,
  "vscode": {
   "interpreter": {
    "hash": "84119b4a23c727451d2f5b202898a53a27583c1b582daf411d2362849740e029"
   }
  }
 },
 "nbformat": 4,
 "nbformat_minor": 2
}
