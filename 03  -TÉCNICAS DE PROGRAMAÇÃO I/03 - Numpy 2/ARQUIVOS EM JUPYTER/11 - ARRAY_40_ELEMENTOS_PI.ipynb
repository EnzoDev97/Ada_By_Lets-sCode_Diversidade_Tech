{
 "cells": [
  {
   "cell_type": "markdown",
   "metadata": {},
   "source": [
    "11 - Crie um array com 40 elementos entre 0 e π."
   ]
  },
  {
   "cell_type": "code",
   "execution_count": 1,
   "metadata": {},
   "outputs": [
    {
     "data": {
      "text/plain": [
       "array([0.        , 0.08055366, 0.16110732, 0.24166097, 0.32221463,\n",
       "       0.40276829, 0.48332195, 0.5638756 , 0.64442926, 0.72498292,\n",
       "       0.80553658, 0.88609024, 0.96664389, 1.04719755, 1.12775121,\n",
       "       1.20830487, 1.28885852, 1.36941218, 1.44996584, 1.5305195 ,\n",
       "       1.61107316, 1.69162681, 1.77218047, 1.85273413, 1.93328779,\n",
       "       2.01384144, 2.0943951 , 2.17494876, 2.25550242, 2.33605608,\n",
       "       2.41660973, 2.49716339, 2.57771705, 2.65827071, 2.73882436,\n",
       "       2.81937802, 2.89993168, 2.98048534, 3.061039  , 3.14159265])"
      ]
     },
     "execution_count": 1,
     "metadata": {},
     "output_type": "execute_result"
    }
   ],
   "source": [
    "\n",
    "import numpy as np\n",
    "\n",
    "Q3 = np.linspace(0, np.pi, 40)\n",
    "Q3"
   ]
  },
  {
   "cell_type": "code",
   "execution_count": 2,
   "metadata": {},
   "outputs": [
    {
     "name": "stdout",
     "output_type": "stream",
     "text": [
      "[0.         0.08055366 0.16110732 0.24166097 0.32221463 0.40276829\n",
      " 0.48332195 0.5638756  0.64442926 0.72498292 0.80553658 0.88609024\n",
      " 0.96664389 1.04719755 1.12775121 1.20830487 1.28885852 1.36941218\n",
      " 1.44996584 1.5305195  1.61107316 1.69162681 1.77218047 1.85273413\n",
      " 1.93328779 2.01384144 2.0943951  2.17494876 2.25550242 2.33605608\n",
      " 2.41660973 2.49716339 2.57771705 2.65827071 2.73882436 2.81937802\n",
      " 2.89993168 2.98048534 3.061039   3.14159265]\n"
     ]
    }
   ],
   "source": [
    "import math\n",
    "pi = math.pi\n",
    "\n",
    "pi_linspace = np.linspace(0,3.141592653589793,40) # DE 0 Á 1 NO TOTAL DE 21 NUMEROS ATÉ CHEGAR AO NUMERO 1 \n",
    "print(pi_linspace)"
   ]
  }
 ],
 "metadata": {
  "kernelspec": {
   "display_name": "Python 3.9.12 ('base')",
   "language": "python",
   "name": "python3"
  },
  "language_info": {
   "codemirror_mode": {
    "name": "ipython",
    "version": 3
   },
   "file_extension": ".py",
   "mimetype": "text/x-python",
   "name": "python",
   "nbconvert_exporter": "python",
   "pygments_lexer": "ipython3",
   "version": "3.9.12"
  },
  "orig_nbformat": 4,
  "vscode": {
   "interpreter": {
    "hash": "84119b4a23c727451d2f5b202898a53a27583c1b582daf411d2362849740e029"
   }
  }
 },
 "nbformat": 4,
 "nbformat_minor": 2
}
