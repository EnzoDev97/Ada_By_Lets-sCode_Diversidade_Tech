{
 "cells": [
  {
   "cell_type": "markdown",
   "metadata": {},
   "source": [
    "10 - Crie outro array aleatório, porém, dessa vez, com 25 elementos inteiros, no intervalo [50, 100). Em seguida, converta esse array em uma matriz 5 x 5."
   ]
  },
  {
   "cell_type": "code",
   "execution_count": 13,
   "metadata": {},
   "outputs": [
    {
     "name": "stdout",
     "output_type": "stream",
     "text": [
      "\u001b[31m [3 4]\u001b[m\n",
      "---------------------------------------------------------------------------------------------------- \n",
      "\n",
      "\u001b[36m [ 2 12 22 32 42 52]\u001b[m\n",
      "---------------------------------------------------------------------------------------------------- \n",
      "\n",
      "\u001b[35m [[20 22 24]\n",
      " [40 42 44]]\u001b[m\n",
      "---------------------------------------------------------------------------------------------------- \n",
      "\n",
      "\u001b[32m [[44 45]\n",
      " [54 55]]\u001b[m\n",
      "---------------------------------------------------------------------------------------------------- \n",
      "\n"
     ]
    }
   ],
   "source": [
    "import math\n",
    "import numpy as np\n",
    "from random import randint\n",
    "\n",
    "\n",
    "mtx = np.array([np.arange(6), np.arange(10, 16), np.arange(20, 26), np.arange(30, 36), np.arange(40, 46), np.arange(50, 56)])\n",
    "\n",
    "vermelho = mtx[0,3:5]\n",
    "print('\\033[31m {}\\033[m'.format(vermelho))\n",
    "print('-'*100,'\\n')\n",
    "\n",
    "azul = mtx[:,2]\n",
    "print('\\033[36m {}\\033[m'.format(azul))\n",
    "print('-'*100,'\\n')\n",
    "\n",
    "roxo = mtx[2::2,::2]\n",
    "print('\\033[35m {}\\033[m'.format(roxo))\n",
    "print('-'*100,'\\n')\n",
    "\n",
    "verde = mtx[4:,4:]\n",
    "\n",
    "print('\\033[32m {}\\033[m'.format(verde ))\n",
    "print('-'*100,'\\n')"
   ]
  },
  {
   "cell_type": "code",
   "execution_count": 14,
   "metadata": {},
   "outputs": [
    {
     "name": "stdout",
     "output_type": "stream",
     "text": [
      "\u001b[34m [[94 97 50 53 53]\n",
      " [89 59 69 71 86]\n",
      " [73 56 74 74 62]\n",
      " [51 88 89 73 96]\n",
      " [74 67 87 75 63]]\u001b[m\n",
      "---------------------------------------------------------------------------------------------------- \n",
      "\n",
      "[[ 50.          52.08333333  54.16666667  56.25        58.33333333]\n",
      " [ 60.41666667  62.5         64.58333333  66.66666667  68.75      ]\n",
      " [ 70.83333333  72.91666667  75.          77.08333333  79.16666667]\n",
      " [ 81.25        83.33333333  85.41666667  87.5         89.58333333]\n",
      " [ 91.66666667  93.75        95.83333333  97.91666667 100.        ]]\n",
      "---------------------------------------------------------------------------------------------------- \n",
      "\n",
      "[[58 59 70 66 55]\n",
      " [65 97 50 68 85]\n",
      " [74 99 79 69 69]\n",
      " [64 89 82 51 59]\n",
      " [82 81 60 73 85]]\n"
     ]
    }
   ],
   "source": [
    "np.random.seed(0)\n",
    "n_linhas = 5\n",
    "n_cols = 5\n",
    "matrix_5x5  = np.random.randint(50, 100, (n_linhas, n_cols))\n",
    "print('\\033[34m {}\\033[m'.format(matrix_5x5))\n",
    "print('-'*100,'\\n')\n",
    "\n",
    "# OUTRA FORMA\n",
    "matriz = np.linspace(50, 100, 25).reshape(5, 5)\n",
    "print(matriz)\n",
    "print('-'*100,'\\n')\n",
    "# OUTRA FORMA\n",
    "\n",
    "matri_z = np.random.randint(50, 100, 25).reshape(5, 5)\n",
    "print(matri_z)"
   ]
  }
 ],
 "metadata": {
  "kernelspec": {
   "display_name": "Python 3.9.12 ('base')",
   "language": "python",
   "name": "python3"
  },
  "language_info": {
   "codemirror_mode": {
    "name": "ipython",
    "version": 3
   },
   "file_extension": ".py",
   "mimetype": "text/x-python",
   "name": "python",
   "nbconvert_exporter": "python",
   "pygments_lexer": "ipython3",
   "version": "3.9.12"
  },
  "orig_nbformat": 4,
  "vscode": {
   "interpreter": {
    "hash": "84119b4a23c727451d2f5b202898a53a27583c1b582daf411d2362849740e029"
   }
  }
 },
 "nbformat": 4,
 "nbformat_minor": 2
}
