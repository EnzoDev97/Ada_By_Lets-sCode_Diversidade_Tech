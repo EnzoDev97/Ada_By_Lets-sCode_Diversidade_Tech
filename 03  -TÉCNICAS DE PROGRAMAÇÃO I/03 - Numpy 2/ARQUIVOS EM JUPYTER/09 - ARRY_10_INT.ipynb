{
 "cells": [
  {
   "cell_type": "markdown",
   "metadata": {},
   "source": [
    "# 01 - Crie uma lista do Python que contenha 10 inteiros aleatórios (entre 0 e 100). Em seguida, a partir da lista criada anteriormente, crie um array do Numpy, utilizando a função array.\n"
   ]
  },
  {
   "cell_type": "code",
   "execution_count": 3,
   "metadata": {},
   "outputs": [
    {
     "name": "stdout",
     "output_type": "stream",
     "text": [
      "[25, 82, 5, 50, 4, 45, 73, 47, 46, 62]\n"
     ]
    },
    {
     "data": {
      "text/plain": [
       "array([63, 76, 90, 78, 96, 77, 11, 92, 88, 35])"
      ]
     },
     "execution_count": 3,
     "metadata": {},
     "output_type": "execute_result"
    }
   ],
   "source": [
    "import numpy as np\n",
    "import random\n",
    "\n",
    "lista1 = [random.randint(0, 100) for n in range(0, 10)]\n",
    "print(lista1)\n",
    "arry_1 = np.array(lista1)\n",
    "arry_1\n",
    "\n",
    "#OU\n",
    "\n",
    "from random import randint \n",
    "\n",
    "lista = [randint(0, 100) for _ in range(10)]\n",
    "array = np.array(lista)\n",
    "\n",
    "array"
   ]
  }
 ],
 "metadata": {
  "kernelspec": {
   "display_name": "Python 3.9.12 ('base')",
   "language": "python",
   "name": "python3"
  },
  "language_info": {
   "codemirror_mode": {
    "name": "ipython",
    "version": 3
   },
   "file_extension": ".py",
   "mimetype": "text/x-python",
   "name": "python",
   "nbconvert_exporter": "python",
   "pygments_lexer": "ipython3",
   "version": "3.9.12"
  },
  "orig_nbformat": 4,
  "vscode": {
   "interpreter": {
    "hash": "84119b4a23c727451d2f5b202898a53a27583c1b582daf411d2362849740e029"
   }
  }
 },
 "nbformat": 4,
 "nbformat_minor": 2
}
