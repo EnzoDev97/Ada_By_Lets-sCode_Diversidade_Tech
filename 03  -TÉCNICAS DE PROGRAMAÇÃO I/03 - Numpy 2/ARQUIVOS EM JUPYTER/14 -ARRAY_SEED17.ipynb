{
 "cells": [
  {
   "cell_type": "markdown",
   "metadata": {},
   "source": [
    "14 - Crie um array com 40 números aleatórios, distribuídos uniformemente, entre [0, 5). Em seguida, some-o com o array obtido na Questão 5.\n",
    "\n",
    "OBS.: Utilize a seed 17 para a criação do array aleatório."
   ]
  },
  {
   "cell_type": "code",
   "execution_count": 9,
   "metadata": {},
   "outputs": [
    {
     "data": {
      "text/plain": [
       "array([2.27059274, 2.72091251, 1.91839169, 0.99870718, 4.65370338,\n",
       "       4.02524437, 4.07534083, 3.01196014, 0.97228916, 2.62705953,\n",
       "       5.5577207 , 0.3293804 , 4.71058501, 4.82370462, 0.77660339,\n",
       "       3.75496575, 2.88918613, 3.9719498 , 2.48334544, 1.99422488,\n",
       "       2.06940342, 3.76188239, 2.17768096, 4.02682895, 2.97628614,\n",
       "       0.7352158 , 1.55012812, 1.04439719, 4.46222975, 2.37769686,\n",
       "       1.26768255, 4.39320074, 3.15047544, 1.127342  , 2.80772836,\n",
       "       1.47028017, 4.2423366 , 1.28525821, 3.01006402, 4.79319342])"
      ]
     },
     "execution_count": 9,
     "metadata": {},
     "output_type": "execute_result"
    }
   ],
   "source": [
    "import numpy as np\n",
    "from random import randint\n",
    "\n",
    "np.random.seed(17)\n",
    "\n",
    "Qr = np.random.rand(40) * 5\n",
    "Q5 = np.random.rand(40) \n",
    "Q6 = Qr + Q5\n",
    "Q6"
   ]
  },
  {
   "cell_type": "code",
   "execution_count": 10,
   "metadata": {},
   "outputs": [
    {
     "name": "stdout",
     "output_type": "stream",
     "text": [
      "LISTA 6...\n",
      "\n",
      "[0.         0.12820513 0.25641026 0.38461538 0.51282051 0.64102564\n",
      " 0.76923077 0.8974359  1.02564103 1.15384615 1.28205128 1.41025641\n",
      " 1.53846154 1.66666667 1.79487179 1.92307692 2.05128205 2.17948718\n",
      " 2.30769231 2.43589744 2.56410256 2.69230769 2.82051282 2.94871795\n",
      " 3.07692308 3.20512821 3.33333333 3.46153846 3.58974359 3.71794872\n",
      " 3.84615385 3.97435897 4.1025641  4.23076923 4.35897436 4.48717949\n",
      " 4.61538462 4.74358974 4.87179487 5.        ]\n",
      "____________________________________________________________________________________________________ \n",
      "\n",
      "LISTA NOVA...\n",
      "\n",
      "[0.22019207 0.37357752 0.98382277 0.44874316 0.96655797 1.12870297\n",
      " 1.4101056  1.00360475 1.59925096 2.11419195 1.79773186 1.98008146\n",
      " 2.5264682  2.4995376  2.29301548 2.00322826 2.92232905 2.89257359\n",
      " 3.03980435 3.25951742 3.30908178 3.10537032 3.33521815 3.79525944\n",
      " 3.93578513 3.51563182 3.45271973 3.98249794 4.03869366 4.61523599\n",
      " 4.33925618 4.47883649 4.46768775 5.01377535 5.30689738 4.6171945\n",
      " 5.27649729 4.90732205 5.18073364 5.96663015]\n"
     ]
    }
   ],
   "source": [
    "\n",
    "lista6 =np.linspace(0,5,40)\n",
    "print('LISTA 6...\\n')\n",
    "print(lista6)\n",
    "print('_'*100,'\\n')\n",
    "lista4 = np.random.rand(40) \n",
    "\n",
    "print('LISTA NOVA...\\n')\n",
    "print(lista6 +lista4)"
   ]
  }
 ],
 "metadata": {
  "kernelspec": {
   "display_name": "Python 3.9.12 ('base')",
   "language": "python",
   "name": "python3"
  },
  "language_info": {
   "codemirror_mode": {
    "name": "ipython",
    "version": 3
   },
   "file_extension": ".py",
   "mimetype": "text/x-python",
   "name": "python",
   "nbconvert_exporter": "python",
   "pygments_lexer": "ipython3",
   "version": "3.9.12"
  },
  "orig_nbformat": 4,
  "vscode": {
   "interpreter": {
    "hash": "84119b4a23c727451d2f5b202898a53a27583c1b582daf411d2362849740e029"
   }
  }
 },
 "nbformat": 4,
 "nbformat_minor": 2
}
