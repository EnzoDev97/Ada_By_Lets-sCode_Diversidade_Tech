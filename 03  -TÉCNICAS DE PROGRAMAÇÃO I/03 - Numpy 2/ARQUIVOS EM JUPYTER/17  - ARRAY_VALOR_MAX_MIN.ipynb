{
 "cells": [
  {
   "cell_type": "markdown",
   "metadata": {},
   "source": [
    "17- Para os dados contidos no array da Q6, obtenha:\n",
    "\n",
    "* O valor mínimo\n",
    "* O valor máximo\n",
    "* A posição do valor mínimo\n",
    "* A posição do valor máximo\n",
    "* A média dos dados\n",
    "* A mediana\n",
    "* A moda\n",
    "* A variância\n",
    "* O desvio padrão\n",
    "* O array ordenado (forma crescente)"
   ]
  },
  {
   "cell_type": "code",
   "execution_count": 5,
   "metadata": {},
   "outputs": [
    {
     "name": "stdout",
     "output_type": "stream",
     "text": [
      "0.4717583227509907\n",
      "--------------------\n",
      "11.752992817515103\n",
      "--------------------\n",
      "5\n",
      "--------------------\n",
      "26\n",
      "--------------------\n",
      "6.02191571258287\n",
      "--------------------\n",
      "10.482042541703624\n",
      "--------------------\n",
      "3.237598267497625\n",
      "--------------------\n",
      "[ 0.47175832  0.79030113  1.05954436  1.37832038  1.41569659  1.94841845\n",
      "  2.31401176  2.51728198  2.66504445  3.05895435  3.07417623  3.71154748\n",
      "  3.91068732  4.46892438  4.69694442  4.94063338  5.25751016  5.34629895\n",
      "  5.53329781  5.65311878  6.4242847   6.45528149  7.0188543   7.44913207\n",
      "  7.47137595  7.98082663  8.1208924   8.1627543   8.26831933  8.3605854\n",
      "  8.52679797  8.85828487  8.94668711  9.84762457  9.86052687 10.11415341\n",
      " 10.59709949 11.02165347 11.42603064 11.75299282]\n"
     ]
    }
   ],
   "source": [
    "import math\n",
    "import numpy as np\n",
    "from random import randint\n",
    "\n",
    "Q5 = np.random.rand(40)\n",
    "Q6 = Q5 * 12 \n",
    "\n",
    "menor = Q6.min()\n",
    "maior = Q6.max()\n",
    "pos_menor = Q6.argmin()\n",
    "pos_maior = Q6.argmax()\n",
    "media = Q6.mean()\n",
    "variancia = Q6.var()\n",
    "desvio = Q6.std()\n",
    "Q6.sort()\n",
    "\n",
    "print(menor)\n",
    "print('-'*20)\n",
    "\n",
    "print(maior)\n",
    "print('-'*20)\n",
    "\n",
    "print(pos_menor)\n",
    "print('-'*20)\n",
    "\n",
    "print(pos_maior)\n",
    "print('-'*20)\n",
    "\n",
    "print(media)\n",
    "print('-'*20)\n",
    "\n",
    "print(variancia)\n",
    "print('-'*20)\n",
    "\n",
    "print(desvio)\n",
    "print('-'*20)\n",
    "\n",
    "print(Q6)"
   ]
  }
 ],
 "metadata": {
  "kernelspec": {
   "display_name": "Python 3.9.12 ('base')",
   "language": "python",
   "name": "python3"
  },
  "language_info": {
   "codemirror_mode": {
    "name": "ipython",
    "version": 3
   },
   "file_extension": ".py",
   "mimetype": "text/x-python",
   "name": "python",
   "nbconvert_exporter": "python",
   "pygments_lexer": "ipython3",
   "version": "3.9.12"
  },
  "orig_nbformat": 4,
  "vscode": {
   "interpreter": {
    "hash": "84119b4a23c727451d2f5b202898a53a27583c1b582daf411d2362849740e029"
   }
  }
 },
 "nbformat": 4,
 "nbformat_minor": 2
}
