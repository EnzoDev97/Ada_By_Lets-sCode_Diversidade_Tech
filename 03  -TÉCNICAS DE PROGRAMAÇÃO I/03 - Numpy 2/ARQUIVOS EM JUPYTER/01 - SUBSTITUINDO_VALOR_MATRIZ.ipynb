{
 "cells": [
  {
   "cell_type": "markdown",
   "metadata": {},
   "source": [
    "**Drops**\n",
    "\n",
    "A partir da matriz `arr` substitua os valores com base nos seguintes critérios:\n",
    "- Divisivel por 3 -> fizz\n",
    "- Divisivel por 5 -> buzz\n",
    "- Divisivel por 3 e 5 -> fizzbuzz"
   ]
  },
  {
   "cell_type": "code",
   "execution_count": 1,
   "metadata": {},
   "outputs": [
    {
     "name": "stdout",
     "output_type": "stream",
     "text": [
      "arr [0 1 2 3 4 5 6 7 8 9 10 11 12 13 14 15 16 17 18 19 20 21 22 23 24 25 26 27\n",
      " 28 29 30 31 32 33 34 35 36 37 38 39 40 41 42 43 44 45 46 47 48 49 50 51\n",
      " 52 53 54 55 56 57 58 59 60 61 62 63 64 65 66 67 68 69 70 71 72 73 74 75\n",
      " 76 77 78 79 80 81 82 83 84 85 86 87 88 89 90 91 92 93 94 95 96 97 98 99]\n",
      "--------------------------------\n",
      "Div 3 [0 3 6 9 12 15 18 21 24 27 30 33 36 39 42 45 48 51 54 57 60 63 66 69 72 75\n",
      " 78 81 84 87 90 93 96 99]\n",
      "--------------------------------\n",
      "Div 5 [0 5 10 15 20 25 30 35 40 45 50 55 60 65 70 75 80 85 90 95]\n",
      "--------------------------------\n",
      "Div 3 e 5 [0 15 30 45 60 75 90]\n",
      "--------------------------------\n",
      "arr depois de substituir com a `mascara_3` ['fizz' 1 2 'fizz' 4 5 'fizz' 7 8 'fizz' 10 11 'fizz' 13 14 'fizz' 16 17\n",
      " 'fizz' 19 20 'fizz' 22 23 'fizz' 25 26 'fizz' 28 29 'fizz' 31 32 'fizz'\n",
      " 34 35 'fizz' 37 38 'fizz' 40 41 'fizz' 43 44 'fizz' 46 47 'fizz' 49 50\n",
      " 'fizz' 52 53 'fizz' 55 56 'fizz' 58 59 'fizz' 61 62 'fizz' 64 65 'fizz'\n",
      " 67 68 'fizz' 70 71 'fizz' 73 74 'fizz' 76 77 'fizz' 79 80 'fizz' 82 83\n",
      " 'fizz' 85 86 'fizz' 88 89 'fizz' 91 92 'fizz' 94 95 'fizz' 97 98 'fizz']\n",
      "--------------------------------\n",
      "arr depois de substituir com a `mascara_5` ['buzz' 1 2 'fizz' 4 'buzz' 'fizz' 7 8 'fizz' 'buzz' 11 'fizz' 13 14\n",
      " 'buzz' 16 17 'fizz' 19 'buzz' 'fizz' 22 23 'fizz' 'buzz' 26 'fizz' 28 29\n",
      " 'buzz' 31 32 'fizz' 34 'buzz' 'fizz' 37 38 'fizz' 'buzz' 41 'fizz' 43 44\n",
      " 'buzz' 46 47 'fizz' 49 'buzz' 'fizz' 52 53 'fizz' 'buzz' 56 'fizz' 58 59\n",
      " 'buzz' 61 62 'fizz' 64 'buzz' 'fizz' 67 68 'fizz' 'buzz' 71 'fizz' 73 74\n",
      " 'buzz' 76 77 'fizz' 79 'buzz' 'fizz' 82 83 'fizz' 'buzz' 86 'fizz' 88 89\n",
      " 'buzz' 91 92 'fizz' 94 'buzz' 'fizz' 97 98 'fizz']\n",
      "--------------------------------\n",
      "arr depois de substituir com a `mascara_3x5` ['fizzbuzz' 1 2 'fizz' 4 'buzz' 'fizz' 7 8 'fizz' 'buzz' 11 'fizz' 13 14\n",
      " 'fizzbuzz' 16 17 'fizz' 19 'buzz' 'fizz' 22 23 'fizz' 'buzz' 26 'fizz' 28\n",
      " 29 'fizzbuzz' 31 32 'fizz' 34 'buzz' 'fizz' 37 38 'fizz' 'buzz' 41 'fizz'\n",
      " 43 44 'fizzbuzz' 46 47 'fizz' 49 'buzz' 'fizz' 52 53 'fizz' 'buzz' 56\n",
      " 'fizz' 58 59 'fizzbuzz' 61 62 'fizz' 64 'buzz' 'fizz' 67 68 'fizz' 'buzz'\n",
      " 71 'fizz' 73 74 'fizzbuzz' 76 77 'fizz' 79 'buzz' 'fizz' 82 83 'fizz'\n",
      " 'buzz' 86 'fizz' 88 89 'fizzbuzz' 91 92 'fizz' 94 'buzz' 'fizz' 97 98\n",
      " 'fizz']\n",
      "arr2 ['fizzbuzz' 1 2 'fizz' 4 'buzz' 'fizz' 7 8 'fizz' 'buzz' 11 'fizz' 13 14\n",
      " 'fizzbuzz' 16 17 'fizz' 19 'buzz' 'fizz' 22 23 'fizz' 'buzz' 26 'fizz' 28\n",
      " 29 'fizzbuzz' 31 32 'fizz' 34 'buzz' 'fizz' 37 38 'fizz' 'buzz' 41 'fizz'\n",
      " 43 44 'fizzbuzz' 46 47 'fizz' 49 'buzz' 'fizz' 52 53 'fizz' 'buzz' 56\n",
      " 'fizz' 58 59 'fizzbuzz' 61 62 'fizz' 64 'buzz' 'fizz' 67 68 'fizz' 'buzz'\n",
      " 71 'fizz' 73 74 'fizzbuzz' 76 77 'fizz' 79 'buzz' 'fizz' 82 83 'fizz'\n",
      " 'buzz' 86 'fizz' 88 89 'fizzbuzz' 91 92 'fizz' 94 'buzz' 'fizz' 97 98\n",
      " 'fizz']\n"
     ]
    }
   ],
   "source": [
    "import numpy as np\n",
    "arr = np.arange(0, 100, dtype=\"object\")\n",
    "arr2 = arr.copy()\n",
    "print('arr', arr)\n",
    "print('-'*32)\n",
    "\n",
    "mascara_3 = (arr % 3 == 0)\n",
    "print('Div 3', arr[mascara_3])\n",
    "print('-'*32)\n",
    "\n",
    "mascara_5 = (arr % 5 == 0)\n",
    "print('Div 5', arr[mascara_5])\n",
    "print('-'*32)\n",
    "\n",
    "# mascara_3x5 = ((arr % 3 == 0) & (arr % 5 == 0))\n",
    "mascara_3x5 = ((mascara_3) & (mascara_5))\n",
    "print('Div 3 e 5', arr[mascara_3x5])\n",
    "print('-'*32)\n",
    "\n",
    "arr[mascara_3] = \"fizz\"\n",
    "print(\"arr depois de substituir com a `mascara_3`\", arr)\n",
    "print('-'*32)\n",
    "\n",
    "arr[mascara_5] = \"buzz\"\n",
    "print(\"arr depois de substituir com a `mascara_5`\", arr)\n",
    "print('-'*32)\n",
    "\n",
    "arr[mascara_3x5] = \"fizzbuzz\"\n",
    "print(\"arr depois de substituir com a `mascara_3x5`\", arr)\n",
    "\n",
    "for ele in arr2:\n",
    "  if ele % 3 == 0 and ele % 5 == 0:\n",
    "    arr2[ele] = 'fizzbuzz'\n",
    "  elif ele % 3 == 0:\n",
    "    arr2[ele] = 'fizz'\n",
    "  elif ele % 5 == 0:\n",
    "    arr2[ele] = 'buzz'\n",
    "\n",
    "print('arr2', arr2)"
   ]
  }
 ],
 "metadata": {
  "kernelspec": {
   "display_name": "Python 3.9.12 ('base')",
   "language": "python",
   "name": "python3"
  },
  "language_info": {
   "codemirror_mode": {
    "name": "ipython",
    "version": 3
   },
   "file_extension": ".py",
   "mimetype": "text/x-python",
   "name": "python",
   "nbconvert_exporter": "python",
   "pygments_lexer": "ipython3",
   "version": "3.9.12"
  },
  "orig_nbformat": 4,
  "vscode": {
   "interpreter": {
    "hash": "84119b4a23c727451d2f5b202898a53a27583c1b582daf411d2362849740e029"
   }
  }
 },
 "nbformat": 4,
 "nbformat_minor": 2
}
