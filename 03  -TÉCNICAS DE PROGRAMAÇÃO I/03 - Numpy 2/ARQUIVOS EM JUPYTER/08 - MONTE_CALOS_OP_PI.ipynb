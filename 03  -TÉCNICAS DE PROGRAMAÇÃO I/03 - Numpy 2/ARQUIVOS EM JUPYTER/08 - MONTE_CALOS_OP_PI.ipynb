{
 "cells": [
  {
   "cell_type": "markdown",
   "metadata": {},
   "source": [
    "## Monte Carlo Calculo de Pi\n",
    "\n",
    "Imagine que você tenha um quadrado de lado 2. Dentro desse quadrado conseguimos inserir um circulo com raio 1.\n",
    "\n",
    "Logo a área do quadrado é: $l^2 = (2*r)^2$  \n",
    "E a área do circulo é: $\\pi * r^2$  \n",
    "\n",
    "Imagine que eu jogue 1000 agulhas aleatoriamente nesse quadrado.  \n",
    "Quantas agulhas irão cair dentro do circulo?  \n",
    "Quantas agulhas irão cair fora do circulo?\n",
    "\n",
    "$P(agulha \\ dentro) = ÁreaCirculo / AreaQuadrado$  \n",
    "$P(agulha \\ dentro) = \\pi * r^2 / 4r^2$  \n",
    "$P(agulha \\ dentro) = \\pi / 4$  \n",
    "$\\pi = (Dentro/Total) * 4$  \n",
    "\n",
    "\n",
    "Construa um programa que simule o lançamento de $n$ agulhas (1000 por exemplo).  \n",
    "Qual seria o valor de pi?  \n",
    "E se fizermos essa simulação (Monte Carlo) muitas vezes(1, 10, 100, 1000, 10000)? Qual o valor de pi (média e desvio padrão)?  \n",
    "\n",
    "distância <= 1 agulha dentro do círculo\n",
    "\n",
    "e lembrando que:\n",
    "$d^2 = x^2 + y^2$ ==> $d =  sqrt(x^2 + y^2)$"
   ]
  },
  {
   "cell_type": "code",
   "execution_count": 2,
   "metadata": {},
   "outputs": [
    {
     "name": "stdout",
     "output_type": "stream",
     "text": [
      "CPU times: total: 7.45 s\n",
      "Wall time: 7.47 s\n"
     ]
    }
   ],
   "source": [
    "%%time\n",
    "import random\n",
    "\n",
    "pis = []\n",
    "n_sim = 10000\n",
    "agulhas = 1000\n",
    "for _ in range(n_sim):\n",
    "    pontos_circulo = 0\n",
    "    total = 0\n",
    "    for i in range(agulhas):\n",
    "        total +=1\n",
    "        x = random.random()\n",
    "        y = random.random()\n",
    "        dist = (x**2 + y**2) ** 0.5\n",
    "        if dist <= 1:\n",
    "            pontos_circulo += 1\n",
    "    pi = 4 * (pontos_circulo / total) \n",
    "    pis.append(pi)"
   ]
  },
  {
   "cell_type": "code",
   "execution_count": 3,
   "metadata": {},
   "outputs": [
    {
     "data": {
      "text/plain": [
       "<AxesSubplot:ylabel='Density'>"
      ]
     },
     "execution_count": 3,
     "metadata": {},
     "output_type": "execute_result"
    },
    {
     "data": {
      "image/png": "[encoded data removed]",
      "text/plain": [
       "<Figure size 432x288 with 1 Axes>"
      ]
     },
     "metadata": {
      "needs_background": "light"
     },
     "output_type": "display_data"
    }
   ],
   "source": [
    "import seaborn as sns\n",
    "sns.kdeplot(pis)"
   ]
  }
 ],
 "metadata": {
  "kernelspec": {
   "display_name": "Python 3.9.12 ('base')",
   "language": "python",
   "name": "python3"
  },
  "language_info": {
   "codemirror_mode": {
    "name": "ipython",
    "version": 3
   },
   "file_extension": ".py",
   "mimetype": "text/x-python",
   "name": "python",
   "nbconvert_exporter": "python",
   "pygments_lexer": "ipython3",
   "version": "3.9.12"
  },
  "orig_nbformat": 4,
  "vscode": {
   "interpreter": {
    "hash": "84119b4a23c727451d2f5b202898a53a27583c1b582daf411d2362849740e029"
   }
  }
 },
 "nbformat": 4,
 "nbformat_minor": 2
}
