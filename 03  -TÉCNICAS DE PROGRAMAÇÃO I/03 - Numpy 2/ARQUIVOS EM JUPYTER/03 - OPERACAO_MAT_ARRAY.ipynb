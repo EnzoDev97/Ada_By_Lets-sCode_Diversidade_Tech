{
 "cells": [
  {
   "cell_type": "markdown",
   "metadata": {},
   "source": [
    "#### Operações matemáticas com arrays\n",
    "\n",
    "A primeira funcionalidade é a capacidade de realizar operações elemento a elemento do array."
   ]
  },
  {
   "cell_type": "code",
   "execution_count": 6,
   "metadata": {},
   "outputs": [
    {
     "name": "stdout",
     "output_type": "stream",
     "text": [
      "SOMA.....\n",
      "[ 6  9  3 12]\n",
      "____________________________________________________________________________________________________ \n",
      "\n",
      "SUBTRAÇÃO...\n",
      "[2 3 1 4]\n",
      "____________________________________________________________________________________________________ \n",
      "\n",
      "MULTIPLICAÇÃO...\n",
      "[ 8 18  2 32]\n",
      "____________________________________________________________________________________________________ \n",
      "\n",
      "DIVISÃO...\n",
      "[2. 2. 2. 2.]\n",
      "____________________________________________________________________________________________________ \n",
      "\n"
     ]
    }
   ],
   "source": [
    "import numpy as np\n",
    "\n",
    "arr = np.array([4, 6, 2, 8])\n",
    "arr2 = np.array([2, 3, 1, 4])\n",
    "\n",
    "\n",
    "# SOMA\n",
    "arr = np.array([4, 6, 2, 8])\n",
    "arr2 = np.array([2, 3, 1, 4])\n",
    "\n",
    "print('SOMA.....')\n",
    "print(arr + arr2)\n",
    "print('_'*100,'\\n')\n",
    "# Em python puro seria\n",
    "[ele1 + ele2 for ele1, ele2 in zip(arr, arr2)]\n",
    "\n",
    "\n",
    "\n",
    "print('SUBTRAÇÃO...')\n",
    "print(arr - arr2)\n",
    "print('_'*100,'\\n')\n",
    "\n",
    "print('MULTIPLICAÇÃO...')\n",
    "print(arr * arr2)\n",
    "print('_'*100,'\\n')\n",
    "\n",
    "print('DIVISÃO...')\n",
    "print(arr / arr2)\n",
    "\n",
    "print('_'*100,'\\n')\n",
    "# Em python puro seria\n",
    "#[ele1 - ele2 for ele1, ele2 in zip(arr, arr2)]"
   ]
  }
 ],
 "metadata": {
  "kernelspec": {
   "display_name": "Python 3.9.12 ('base')",
   "language": "python",
   "name": "python3"
  },
  "language_info": {
   "codemirror_mode": {
    "name": "ipython",
    "version": 3
   },
   "file_extension": ".py",
   "mimetype": "text/x-python",
   "name": "python",
   "nbconvert_exporter": "python",
   "pygments_lexer": "ipython3",
   "version": "3.9.12"
  },
  "orig_nbformat": 4,
  "vscode": {
   "interpreter": {
    "hash": "84119b4a23c727451d2f5b202898a53a27583c1b582daf411d2362849740e029"
   }
  }
 },
 "nbformat": 4,
 "nbformat_minor": 2
}
