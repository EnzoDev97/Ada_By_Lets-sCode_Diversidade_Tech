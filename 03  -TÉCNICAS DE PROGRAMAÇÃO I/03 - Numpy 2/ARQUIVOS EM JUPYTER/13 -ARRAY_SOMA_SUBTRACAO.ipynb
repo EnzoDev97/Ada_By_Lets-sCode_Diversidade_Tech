{
 "cells": [
  {
   "cell_type": "markdown",
   "metadata": {},
   "source": [
    "13 - Divida o array obtido na Questão 4 por 3 e, em seguida, multiplique-o pelo array obtido na Questão 3."
   ]
  },
  {
   "cell_type": "code",
   "execution_count": 9,
   "metadata": {},
   "outputs": [
    {
     "name": "stdout",
     "output_type": "stream",
     "text": [
      "ARRAY 1 - [35  6 45 22 22 38 45 23  7 49]\n",
      "ARRAY 2 - [96 65 85 75 61 51 52 60 57 50]\n",
      "-------------------------------------------------- \n",
      "\n",
      "[32.         21.66666667 28.33333333 25.         20.33333333 17.\n",
      " 17.33333333 20.         19.         16.66666667]\n",
      "____________________________________________________________________________________________________ \n",
      "\n",
      "[1120.          130.         1275.          550.          447.33333333\n",
      "  646.          780.          460.          133.          816.66666667]\n"
     ]
    }
   ],
   "source": [
    "\n",
    "import numpy as np\n",
    "from random import randint\n",
    "\n",
    "Q3_L = [randint(0, 50) for _ in range(10)]\n",
    "Q4_L = [randint(50, 100) for _ in range(10)]\n",
    "Q3 = np.array(Q3_L)\n",
    "print('ARRAY 1 - {}'.format(Q3))\n",
    "Q4 = np.array(Q4_L)\n",
    "print('ARRAY 2 - {}'.format(Q4))\n",
    "print('-'*50,'\\n')\n",
    "\n",
    "Qa = Q4 / 3\n",
    "print(Qa)\n",
    "print('_'*100,'\\n')\n",
    "\n",
    "Q5 = Qa * Q3\n",
    "print(Q5)"
   ]
  }
 ],
 "metadata": {
  "kernelspec": {
   "display_name": "Python 3.9.12 ('base')",
   "language": "python",
   "name": "python3"
  },
  "language_info": {
   "codemirror_mode": {
    "name": "ipython",
    "version": 3
   },
   "file_extension": ".py",
   "mimetype": "text/x-python",
   "name": "python",
   "nbconvert_exporter": "python",
   "pygments_lexer": "ipython3",
   "version": "3.9.12"
  },
  "orig_nbformat": 4,
  "vscode": {
   "interpreter": {
    "hash": "84119b4a23c727451d2f5b202898a53a27583c1b582daf411d2362849740e029"
   }
  }
 },
 "nbformat": 4,
 "nbformat_minor": 2
}
