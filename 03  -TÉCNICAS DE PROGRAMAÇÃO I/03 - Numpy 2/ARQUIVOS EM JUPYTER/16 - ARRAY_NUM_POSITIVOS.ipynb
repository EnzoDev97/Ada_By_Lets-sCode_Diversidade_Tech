{
 "cells": [
  {
   "cell_type": "markdown",
   "metadata": {},
   "source": [
    "16 - Lembra que você obteve o seno de um array na questão anterior?\n",
    "Agora, você deve obter um array apenas com os valores positivos do array resultante daquela operação do seno"
   ]
  },
  {
   "cell_type": "code",
   "execution_count": 4,
   "metadata": {},
   "outputs": [
    {
     "name": "stdout",
     "output_type": "stream",
     "text": [
      "SENO...\n",
      "[-0.99944513 -0.68822508  0.75026    -0.90864131 -0.85280355  0.10295252\n",
      " -0.02858712  0.07209405 -0.89347135 -0.9826502  -0.98001904 -0.94321261\n",
      "  0.15328888 -0.53661221  0.40591978  0.70741983 -0.85140736 -0.42144073\n",
      "  0.99996192 -0.63230362  0.99862603 -0.93375529 -0.74584442 -0.97446065\n",
      "  0.46580237 -0.91500734  0.62942089  0.30511642  0.2276249   0.98112627\n",
      " -0.99985547 -0.94374256  0.49283725  0.99752417 -0.90300076  0.10119403\n",
      "  0.78873999  0.97982095 -0.12414585  0.56000696]\n",
      "----------------------------------------------------------------------------------------------------\n",
      "[0.75026    0.10295252 0.07209405 0.15328888 0.40591978 0.70741983\n",
      " 0.99996192 0.99862603 0.46580237 0.62942089 0.30511642 0.2276249\n",
      " 0.98112627 0.49283725 0.99752417 0.10119403 0.78873999 0.97982095\n",
      " 0.56000696]\n"
     ]
    }
   ],
   "source": [
    "import math\n",
    "import numpy as np\n",
    "from random import randint\n",
    "\n",
    "Q5 = np.random.rand(40)\n",
    "Q6 = Q5 * 12 \n",
    "seno = np.sin(Q6)\n",
    "print('SENO...')\n",
    "print(seno)\n",
    "print('-'*100)\n",
    "\n",
    "\n",
    "maior_0 = seno > 0  \n",
    "print(seno[maior_0])"
   ]
  }
 ],
 "metadata": {
  "kernelspec": {
   "display_name": "Python 3.9.12 ('base')",
   "language": "python",
   "name": "python3"
  },
  "language_info": {
   "codemirror_mode": {
    "name": "ipython",
    "version": 3
   },
   "file_extension": ".py",
   "mimetype": "text/x-python",
   "name": "python",
   "nbconvert_exporter": "python",
   "pygments_lexer": "ipython3",
   "version": "3.9.12"
  },
  "orig_nbformat": 4,
  "vscode": {
   "interpreter": {
    "hash": "84119b4a23c727451d2f5b202898a53a27583c1b582daf411d2362849740e029"
   }
  }
 },
 "nbformat": 4,
 "nbformat_minor": 2
}
