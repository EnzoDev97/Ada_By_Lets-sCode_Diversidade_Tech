{
 "cells": [
  {
   "cell_type": "markdown",
   "metadata": {},
   "source": [
    "\n",
    "11 - Construa a matriz ilustrada pela figura abaixo. Em seguida, obtenha os slices (fatiamentos) destacados em cada cor. Em outras palavras, utilizando o conceito de slices, crie um novo array que contenha os dados destacados em vermelho, azul, roxo e verde."
   ]
  },
  {
   "cell_type": "code",
   "execution_count": 5,
   "metadata": {},
   "outputs": [
    {
     "name": "stdout",
     "output_type": "stream",
     "text": [
      "\u001b[31m [3 4]\u001b[m\n",
      "---------------------------------------------------------------------------------------------------- \n",
      "\n",
      "\u001b[36m [ 2 12 22 32 42 52]\u001b[m\n",
      "---------------------------------------------------------------------------------------------------- \n",
      "\n",
      "\u001b[35m [[20 22 24]\n",
      " [40 42 44]]\u001b[m\n",
      "---------------------------------------------------------------------------------------------------- \n",
      "\n",
      "\u001b[32m [[44 45]\n",
      " [54 55]]\u001b[m\n",
      "---------------------------------------------------------------------------------------------------- \n",
      "\n"
     ]
    }
   ],
   "source": [
    "import math\n",
    "import numpy as np\n",
    "from random import randint\n",
    "\n",
    "\n",
    "mtx = np.array([np.arange(6), np.arange(10, 16), np.arange(20, 26), np.arange(30, 36), np.arange(40, 46), np.arange(50, 56)])\n",
    "\n",
    "vermelho = mtx[0,3:5]\n",
    "print('\\033[31m {}\\033[m'.format(vermelho))\n",
    "print('-'*100,'\\n')\n",
    "\n",
    "azul = mtx[:,2]\n",
    "print('\\033[36m {}\\033[m'.format(azul))\n",
    "print('-'*100,'\\n')\n",
    "\n",
    "roxo = mtx[2::2,::2]\n",
    "print('\\033[35m {}\\033[m'.format(roxo))\n",
    "print('-'*100,'\\n')\n",
    "\n",
    "verde = mtx[4:,4:]\n",
    "print('\\033[32m {}\\033[m'.format(verde ))\n",
    "print('-'*100,'\\n')"
   ]
  },
  {
   "cell_type": "code",
   "execution_count": 6,
   "metadata": {},
   "outputs": [
    {
     "name": "stdout",
     "output_type": "stream",
     "text": [
      "MATRIX 1 \n",
      "\u001b[34m [0 1 2 3 4 5]\u001b[m\n",
      "---------------------------------------------------------------------------------------------------- \n",
      "\n",
      "MATRIX 2 \n",
      "\u001b[34m [10 11 12 13 14 15]\u001b[m\n",
      "---------------------------------------------------------------------------------------------------- \n",
      "\n",
      "MATRIX 3 \n",
      "\u001b[34m [20 21 22 23 24 25]\u001b[m\n",
      "---------------------------------------------------------------------------------------------------- \n",
      "\n",
      "MATRIX 4 \n",
      "\u001b[34m [30 31 32 33 34 35]\u001b[m\n",
      "---------------------------------------------------------------------------------------------------- \n",
      "\n",
      "MATRIX 5 \n",
      "\u001b[34m [40 41 42 43 44 45]\u001b[m\n"
     ]
    }
   ],
   "source": [
    "\n",
    "print('MATRIX 1 ')\n",
    "matrix_1 = np.arange(0, 6)\n",
    "print('\\033[34m {}\\033[m'.format(matrix_1))\n",
    "print('-'*100,'\\n')\n",
    "\n",
    "print('MATRIX 2 ')\n",
    "matrix_2 = np.arange(10, 16)\n",
    "print('\\033[34m {}\\033[m'.format(matrix_2))\n",
    "print('-'*100,'\\n')\n",
    "\n",
    "print('MATRIX 3 ')\n",
    "matrix_3 = np.arange(20, 26)\n",
    "print('\\033[34m {}\\033[m'.format(matrix_3))\n",
    "print('-'*100,'\\n')\n",
    "\n",
    "\n",
    "print('MATRIX 4 ')\n",
    "matrix_4 = np.arange(30, 36)\n",
    "print('\\033[34m {}\\033[m'.format(matrix_4))\n",
    "print('-'*100,'\\n')\n",
    "\n",
    "print('MATRIX 5 ')\n",
    "matrix_5 = np.arange(40, 46)\n",
    "print('\\033[34m {}\\033[m'.format(matrix_5))"
   ]
  }
 ],
 "metadata": {
  "kernelspec": {
   "display_name": "Python 3.9.12 ('base')",
   "language": "python",
   "name": "python3"
  },
  "language_info": {
   "codemirror_mode": {
    "name": "ipython",
    "version": 3
   },
   "file_extension": ".py",
   "mimetype": "text/x-python",
   "name": "python",
   "nbconvert_exporter": "python",
   "pygments_lexer": "ipython3",
   "version": "3.9.12"
  },
  "orig_nbformat": 4,
  "vscode": {
   "interpreter": {
    "hash": "84119b4a23c727451d2f5b202898a53a27583c1b582daf411d2362849740e029"
   }
  }
 },
 "nbformat": 4,
 "nbformat_minor": 2
}
