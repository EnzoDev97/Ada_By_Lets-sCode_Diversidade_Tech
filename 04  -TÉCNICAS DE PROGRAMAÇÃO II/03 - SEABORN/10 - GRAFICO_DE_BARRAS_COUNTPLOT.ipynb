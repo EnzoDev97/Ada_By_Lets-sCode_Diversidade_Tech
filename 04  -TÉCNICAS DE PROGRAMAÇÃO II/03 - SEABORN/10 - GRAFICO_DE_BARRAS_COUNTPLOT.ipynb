{
 "cells": [
  {
   "cell_type": "markdown",
   "id": "5f6acf4e",
   "metadata": {},
   "source": [
    "# 10 - CRIE UM PROGRAMA COM GRÁFICO DE BARRAS"
   ]
  },
  {
   "cell_type": "code",
   "execution_count": 2,
   "id": "343ce5b8",
   "metadata": {},
   "outputs": [
    {
     "data": {
      "image/png": "[encoded data removed]",
      "text/plain": [
       "<Figure size 432x288 with 1 Axes>"
      ]
     },
     "metadata": {
      "needs_background": "light"
     },
     "output_type": "display_data"
    }
   ],
   "source": [
    "import seaborn as sns\n",
    "import numpy as np\n",
    "import pandas as pd\n",
    "from sklearn.datasets import load_iris\n",
    "\n",
    "\n",
    "tipos_filmes = ['Comédia', 'Drama', 'Suspense']\n",
    "quantidade = [15, 9, 5]\n",
    "\n",
    "sns.barplot(x=tipos_filmes, y=quantidade);"
   ]
  },
  {
   "cell_type": "markdown",
   "id": "cebc9bd5",
   "metadata": {},
   "source": [
    "### countplot\n",
    "\n",
    "* Outro recurso do seaborn é o countplot, cujo objetivo é criar gráficos de barras com as contagens das categorias (quantidade de vezes que aquela categoria aparece). Exemplificamos com a lista de valores x."
   ]
  },
  {
   "cell_type": "code",
   "execution_count": 3,
   "id": "ccbf962c",
   "metadata": {},
   "outputs": [
    {
     "data": {
      "image/png": "[encoded data removed]",
      "text/plain": [
       "<Figure size 432x288 with 1 Axes>"
      ]
     },
     "metadata": {
      "needs_background": "light"
     },
     "output_type": "display_data"
    }
   ],
   "source": [
    "x = [4, 6, 6, 4, 8, 6, 8, 7, 1, 6, 2, 2, 8, 1, 2, 9, 6, 6, 2, 4, 4, 9, 9, 8, 4] # Lista com valores aleatórios\n",
    "\n",
    "sns.countplot(x=x);"
   ]
  },
  {
   "cell_type": "code",
   "execution_count": null,
   "id": "e4704e6d",
   "metadata": {},
   "outputs": [],
   "source": []
  }
 ],
 "metadata": {
  "kernelspec": {
   "display_name": "Python 3 (ipykernel)",
   "language": "python",
   "name": "python3"
  },
  "language_info": {
   "codemirror_mode": {
    "name": "ipython",
    "version": 3
   },
   "file_extension": ".py",
   "mimetype": "text/x-python",
   "name": "python",
   "nbconvert_exporter": "python",
   "pygments_lexer": "ipython3",
   "version": "3.9.12"
  }
 },
 "nbformat": 4,
 "nbformat_minor": 5
}
