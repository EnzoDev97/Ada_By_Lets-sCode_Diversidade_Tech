{
 "cells": [
  {
   "cell_type": "markdown",
   "id": "4bed2bd6",
   "metadata": {},
   "source": [
    "# 02 - Utilize hue para montar o gráfico.\n",
    "\n",
    "_A HUE  utiliza dos valores categóricos de uma coluna ou lista de valores para serem diferenciadas por suas cores na visualização._\n",
    "\n",
    "_A grande vantagem deste parâmetro em relação ao c visto no matplotlib é que não há nenhuma necessidade de tratamento, já que no pacote anterior existe a restrição de que estes dados sejam apenas cores ou números._"
   ]
  },
  {
   "cell_type": "code",
   "execution_count": 1,
   "id": "fa6124b7",
   "metadata": {},
   "outputs": [
    {
     "data": {
      "image/png": "[encoded data removed]",
      "text/plain": [
       "<Figure size 432x288 with 1 Axes>"
      ]
     },
     "metadata": {
      "needs_background": "light"
     },
     "output_type": "display_data"
    }
   ],
   "source": [
    "import seaborn as sns \n",
    "\n",
    "x = [1, 2, 3, 4, 5 ,6]\n",
    "y = [10, 5, 3, 4, 6, 8]\n",
    "z = ['a', 'b', 'c', 'c', 'a', 'a']\n",
    "sns.scatterplot(x=x, y=y, hue=z); # Indica o parâmetro hue"
   ]
  },
  {
   "cell_type": "code",
   "execution_count": null,
   "id": "b279d617",
   "metadata": {},
   "outputs": [],
   "source": []
  }
 ],
 "metadata": {
  "kernelspec": {
   "display_name": "Python 3 (ipykernel)",
   "language": "python",
   "name": "python3"
  },
  "language_info": {
   "codemirror_mode": {
    "name": "ipython",
    "version": 3
   },
   "file_extension": ".py",
   "mimetype": "text/x-python",
   "name": "python",
   "nbconvert_exporter": "python",
   "pygments_lexer": "ipython3",
   "version": "3.9.12"
  }
 },
 "nbformat": 4,
 "nbformat_minor": 5
}
