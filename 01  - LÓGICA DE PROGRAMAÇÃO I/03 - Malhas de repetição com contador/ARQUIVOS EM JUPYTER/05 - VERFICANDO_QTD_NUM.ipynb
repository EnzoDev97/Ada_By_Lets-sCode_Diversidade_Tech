{
 "cells": [
  {
   "cell_type": "code",
   "execution_count": 6,
   "metadata": {},
   "outputs": [
    {
     "name": "stdout",
     "output_type": "stream",
     "text": [
      "4\n"
     ]
    }
   ],
   "source": [
    "#05 - Receba um número de 1 a 100 (faça ifs para verificar se está dentro deste intervalo). \n",
    "# Verifique quantos números pares existem de 1 até o número digitado OU (Se der tempo) receba dois numeros que devem ser de 1 a 100 e verifique quantos números pares tem neste intervalo\n",
    "\n",
    "numero = int(input('Digite um número de 1 a 100: '))\n",
    "i = 1\n",
    "par = 0\n",
    "\n",
    "if numero >= 1 and numero <= 100:\n",
    "    while i <= numero:\n",
    "        if i % 2 == 0:\n",
    "            par += 1\n",
    "        i += 1\n",
    "    print(par)\n",
    "else:\n",
    "    print('O numero tem que estar entre 1 e 100.')"
   ]
  }
 ],
 "metadata": {
  "kernelspec": {
   "display_name": "Python 3.9.12 ('base')",
   "language": "python",
   "name": "python3"
  },
  "language_info": {
   "codemirror_mode": {
    "name": "ipython",
    "version": 3
   },
   "file_extension": ".py",
   "mimetype": "text/x-python",
   "name": "python",
   "nbconvert_exporter": "python",
   "pygments_lexer": "ipython3",
   "version": "3.9.12"
  },
  "orig_nbformat": 4,
  "vscode": {
   "interpreter": {
    "hash": "e8755eff31258cf3f68aa399e6f759d79082959dfad6f58a9830d0e0b06355a5"
   }
  }
 },
 "nbformat": 4,
 "nbformat_minor": 2
}
