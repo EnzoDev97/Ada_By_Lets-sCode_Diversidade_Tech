{
 "cells": [
  {
   "cell_type": "code",
   "execution_count": 2,
   "metadata": {},
   "outputs": [
    {
     "name": "stdout",
     "output_type": "stream",
     "text": [
      "<class 'str'>\n",
      "<class 'int'>\n",
      "----------------------------------------------------------------------------------------------------\n",
      "A sua idade é 30\n"
     ]
    }
   ],
   "source": [
    "# 02 - CONVERTENDO STRING EM NUMERO\n",
    "\n",
    "variavel = input('Digite qualquer coisa')\n",
    "print(type(variavel))\n",
    "\n",
    "if variavel.isdigit():\n",
    "    variavel = int(variavel)\n",
    "\n",
    "print(type(variavel))\n",
    "print('-'*100)\n",
    "\n",
    "# OU \n",
    "\n",
    "idade = input('Digite sua idade')\n",
    "\n",
    "while idade.isdigit() == False:\n",
    "    idade = input('Digite sua idade')\n",
    "\n",
    "print(f'A sua idade é {int(idade)}')\n"
   ]
  }
 ],
 "metadata": {
  "kernelspec": {
   "display_name": "Python 3.9.12 ('base')",
   "language": "python",
   "name": "python3"
  },
  "language_info": {
   "codemirror_mode": {
    "name": "ipython",
    "version": 3
   },
   "file_extension": ".py",
   "mimetype": "text/x-python",
   "name": "python",
   "nbconvert_exporter": "python",
   "pygments_lexer": "ipython3",
   "version": "3.9.12"
  },
  "orig_nbformat": 4,
  "vscode": {
   "interpreter": {
    "hash": "e8755eff31258cf3f68aa399e6f759d79082959dfad6f58a9830d0e0b06355a5"
   }
  }
 },
 "nbformat": 4,
 "nbformat_minor": 2
}
