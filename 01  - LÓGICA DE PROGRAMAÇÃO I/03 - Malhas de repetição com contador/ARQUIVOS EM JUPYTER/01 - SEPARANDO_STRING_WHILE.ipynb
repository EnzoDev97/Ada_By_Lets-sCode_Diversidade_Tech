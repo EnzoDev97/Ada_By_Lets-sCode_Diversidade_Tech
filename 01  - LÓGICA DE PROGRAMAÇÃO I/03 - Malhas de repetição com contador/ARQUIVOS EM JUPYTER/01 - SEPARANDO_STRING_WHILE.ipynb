{
 "cells": [
  {
   "cell_type": "code",
   "execution_count": 3,
   "metadata": {},
   "outputs": [
    {
     "name": "stdout",
     "output_type": "stream",
     "text": [
      "E\n",
      "N\n",
      "Z\n",
      "O\n",
      " \n",
      "C\n",
      "O\n",
      "N\n",
      "C\n",
      "E\n",
      "I\n",
      "Ç\n",
      "Ã\n",
      "O\n",
      " \n",
      "D\n",
      "O\n",
      "S\n",
      " \n",
      "S\n",
      "A\n",
      "N\n",
      "T\n",
      "O\n",
      "S\n",
      "====================================================================================================\n",
      "25\n",
      "Indice 0 - letra E\n",
      "Indice 1 - letra N\n",
      "Indice 2 - letra Z\n",
      "Indice 3 - letra O\n",
      "Indice 4 - letra  \n",
      "Indice 5 - letra C\n",
      "Indice 6 - letra O\n",
      "Indice 7 - letra N\n",
      "Indice 8 - letra C\n",
      "Indice 9 - letra E\n",
      "Indice 10 - letra I\n",
      "Indice 11 - letra Ç\n",
      "Indice 12 - letra Ã\n",
      "Indice 13 - letra O\n",
      "Indice 14 - letra  \n",
      "Indice 15 - letra D\n",
      "Indice 16 - letra O\n",
      "Indice 17 - letra S\n",
      "Indice 18 - letra  \n",
      "Indice 19 - letra S\n",
      "Indice 20 - letra A\n",
      "Indice 21 - letra N\n",
      "Indice 22 - letra T\n",
      "Indice 23 - letra O\n",
      "Indice 24 - letra S\n"
     ]
    }
   ],
   "source": [
    "# 01 - SEPARANDO STRING UM POR UM\n",
    "\n",
    "nome = 'ENZO CONCEIÇÃO DOS SANTOS'\n",
    "\n",
    "i = 0\n",
    "\n",
    "while i < len(nome):\n",
    "    print(nome[i])\n",
    "    i += 1\n",
    "\n",
    "print('='*100)\n",
    "\n",
    "#OU\n",
    "\n",
    "print(len(nome))\n",
    "\n",
    "for i in range(len(nome)):\n",
    "    print(f'Indice {i} - letra {nome[i]}')"
   ]
  }
 ],
 "metadata": {
  "kernelspec": {
   "display_name": "Python 3.9.12 ('base')",
   "language": "python",
   "name": "python3"
  },
  "language_info": {
   "codemirror_mode": {
    "name": "ipython",
    "version": 3
   },
   "file_extension": ".py",
   "mimetype": "text/x-python",
   "name": "python",
   "nbconvert_exporter": "python",
   "pygments_lexer": "ipython3",
   "version": "3.9.12"
  },
  "orig_nbformat": 4,
  "vscode": {
   "interpreter": {
    "hash": "e8755eff31258cf3f68aa399e6f759d79082959dfad6f58a9830d0e0b06355a5"
   }
  }
 },
 "nbformat": 4,
 "nbformat_minor": 2
}
