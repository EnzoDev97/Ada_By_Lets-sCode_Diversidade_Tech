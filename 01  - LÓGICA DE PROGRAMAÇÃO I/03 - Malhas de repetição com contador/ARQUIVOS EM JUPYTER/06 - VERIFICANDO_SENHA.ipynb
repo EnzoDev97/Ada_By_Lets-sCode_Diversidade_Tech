{
 "cells": [
  {
   "cell_type": "code",
   "execution_count": 3,
   "metadata": {},
   "outputs": [
    {
     "name": "stdout",
     "output_type": "stream",
     "text": [
      "O nome é ENZO e  a senha é !E123 \n"
     ]
    }
   ],
   "source": [
    "#06 - Faça um programa que leia um nome de usuário e a sua senha e não aceite a senha igual ao nome do usuário, \n",
    "# mostrando uma mensagem de erro e voltando a pedir as informações.\n",
    "\n",
    "#Verifique se na senha existe uma exclamação e um número\n",
    "\n",
    "nome = input('Digite seu nome')\n",
    "senha = input('Digite sua senha')\n",
    "\n",
    "verificador_exclamacao = False\n",
    "verificador_numero = False\n",
    "\n",
    "while nome == senha or not verificador_exclamacao or not verificador_numero:\n",
    "    nome = input('Digite seu nome')\n",
    "    senha = input('Digite sua senha')\n",
    "\n",
    "    verificador_exclamacao = False\n",
    "    verificador_numero = False\n",
    "\n",
    "    i = 0\n",
    "\n",
    "    'teo!123'\n",
    "\n",
    "    while i < len(senha):\n",
    "        if senha[i] == '!':\n",
    "            verificador_exclamacao = True\n",
    "\n",
    "        if senha[i].isdigit():\n",
    "            verificador_numero = True\n",
    "        i += 1\n",
    "\n",
    "print(f'O nome é {nome} e  a senha é {senha} ')"
   ]
  }
 ],
 "metadata": {
  "kernelspec": {
   "display_name": "Python 3.9.12 ('base')",
   "language": "python",
   "name": "python3"
  },
  "language_info": {
   "codemirror_mode": {
    "name": "ipython",
    "version": 3
   },
   "file_extension": ".py",
   "mimetype": "text/x-python",
   "name": "python",
   "nbconvert_exporter": "python",
   "pygments_lexer": "ipython3",
   "version": "3.9.12"
  },
  "orig_nbformat": 4,
  "vscode": {
   "interpreter": {
    "hash": "e8755eff31258cf3f68aa399e6f759d79082959dfad6f58a9830d0e0b06355a5"
   }
  }
 },
 "nbformat": 4,
 "nbformat_minor": 2
}
