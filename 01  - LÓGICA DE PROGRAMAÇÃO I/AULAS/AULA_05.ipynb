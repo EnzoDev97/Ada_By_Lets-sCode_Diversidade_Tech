{
 "cells": [
  {
   "cell_type": "markdown",
   "metadata": {},
   "source": [
    "### Aula 05\n",
    "\n",
    "- Estruturas de Repetição\n",
    "    - For\n",
    "    - Range\n",
    "- Listas\n",
    "    - Criando listas\n",
    "    - Acessando valores de uma lista\n",
    "    - Mudando valores de uma lista\n",
    "    - Adicionando elementos\n",
    "    - Slicing \n",
    "    - Métodos/Funções\n",
    "        - Max\n",
    "        - Min\n",
    "        - Pop\n",
    "        - Split (string)\n",
    "        - Sum\n",
    "        - Sort - altera definitivamente a ordem\n",
    "        - Sorted - altera tmeporariamente a ordem\n",
    "    - Lista dentro de lista\n",
    "- Exercícios\n"
   ]
  },
  {
   "cell_type": "code",
   "execution_count": 5,
   "metadata": {},
   "outputs": [
    {
     "name": "stdout",
     "output_type": "stream",
     "text": [
      "10\n"
     ]
    }
   ],
   "source": [
    "contador = 0\n",
    "\n",
    "contador = contador + 1\n",
    "contador = contador + 1\n",
    "contador = contador + 1\n",
    "contador = contador + 1\n",
    "contador = contador + 1\n",
    "contador = contador + 1\n",
    "contador = contador + 1\n",
    "contador = contador + 1\n",
    "contador = contador + 1\n",
    "contador = contador + 1\n",
    "\n",
    "print(contador)"
   ]
  },
  {
   "cell_type": "code",
   "execution_count": 14,
   "metadata": {},
   "outputs": [
    {
     "name": "stdout",
     "output_type": "stream",
     "text": [
      "-10\n",
      "-7\n",
      "-4\n",
      "-1\n",
      "2\n",
      "5\n",
      "8\n"
     ]
    }
   ],
   "source": [
    "for i in range(-10,10,3):\n",
    "    print(i)"
   ]
  },
  {
   "cell_type": "code",
   "execution_count": 12,
   "metadata": {},
   "outputs": [
    {
     "data": {
      "text/plain": [
       "range(-10, 10, 2)"
      ]
     },
     "execution_count": 12,
     "metadata": {},
     "output_type": "execute_result"
    }
   ],
   "source": [
    "# range(inicio, final, passos (steps))\n",
    "range(-10,10,2)"
   ]
  },
  {
   "cell_type": "code",
   "execution_count": 1,
   "metadata": {},
   "outputs": [
    {
     "name": "stdout",
     "output_type": "stream",
     "text": [
      "10\n",
      "45\n"
     ]
    }
   ],
   "source": [
    "contador = 0\n",
    "contador_2 = 0\n",
    "\n",
    "for i in range(0,10):\n",
    "    contador = contador + 1\n",
    "    contador_2 = contador_2 + i\n",
    "\n",
    "\n",
    "print(contador)\n",
    "print(contador_2)"
   ]
  },
  {
   "cell_type": "code",
   "execution_count": 22,
   "metadata": {},
   "outputs": [
    {
     "name": "stdout",
     "output_type": "stream",
     "text": [
      "37\n",
      "Indice 0 - letra T\n",
      "Indice 1 - letra e\n",
      "Indice 2 - letra o\n",
      "Indice 3 - letra d\n",
      "Indice 4 - letra o\n",
      "Indice 5 - letra r\n",
      "Indice 6 - letra  \n",
      "Indice 7 - letra H\n",
      "Indice 8 - letra e\n",
      "Indice 9 - letra n\n",
      "Indice 10 - letra r\n",
      "Indice 11 - letra i\n",
      "Indice 12 - letra q\n",
      "Indice 13 - letra u\n",
      "Indice 14 - letra e\n",
      "Indice 15 - letra  \n",
      "Indice 16 - letra d\n",
      "Indice 17 - letra e\n",
      "Indice 18 - letra  \n",
      "Indice 19 - letra F\n",
      "Indice 20 - letra r\n",
      "Indice 21 - letra e\n",
      "Indice 22 - letra i\n",
      "Indice 23 - letra t\n",
      "Indice 24 - letra a\n",
      "Indice 25 - letra s\n",
      "Indice 26 - letra  \n",
      "Indice 27 - letra B\n",
      "Indice 28 - letra a\n",
      "Indice 29 - letra r\n",
      "Indice 30 - letra c\n",
      "Indice 31 - letra z\n",
      "Indice 32 - letra e\n",
      "Indice 33 - letra w\n",
      "Indice 34 - letra s\n",
      "Indice 35 - letra k\n",
      "Indice 36 - letra i\n"
     ]
    }
   ],
   "source": [
    "nome = 'Teodor Henrique de Freitas Barczewski'\n",
    "\n",
    "print(len(nome))\n",
    "\n",
    "for i in range(len(nome)):\n",
    "    print(f'Indice {i} - letra {nome[i]}')\n"
   ]
  },
  {
   "cell_type": "code",
   "execution_count": 27,
   "metadata": {},
   "outputs": [
    {
     "name": "stdout",
     "output_type": "stream",
     "text": [
      "['Teo', 36, True, 10.5]\n"
     ]
    }
   ],
   "source": [
    "lista = ['Teo', 36, True, 10.5]\n",
    "print(lista)\n"
   ]
  },
  {
   "cell_type": "code",
   "execution_count": 32,
   "metadata": {},
   "outputs": [
    {
     "ename": "IndexError",
     "evalue": "list index out of range",
     "output_type": "error",
     "traceback": [
      "\u001b[1;31m---------------------------------------------------------------------------\u001b[0m",
      "\u001b[1;31mIndexError\u001b[0m                                Traceback (most recent call last)",
      "Cell \u001b[1;32mIn [32], line 1\u001b[0m\n\u001b[1;32m----> 1\u001b[0m \u001b[43mlista\u001b[49m\u001b[43m[\u001b[49m\u001b[38;5;241;43m4\u001b[39;49m\u001b[43m]\u001b[49m\n",
      "\u001b[1;31mIndexError\u001b[0m: list index out of range"
     ]
    }
   ],
   "source": [
    "lista[4]"
   ]
  },
  {
   "cell_type": "code",
   "execution_count": 39,
   "metadata": {},
   "outputs": [
    {
     "name": "stdout",
     "output_type": "stream",
     "text": [
      "10.5\n",
      "i\n"
     ]
    }
   ],
   "source": [
    "print(lista[-1])\n",
    "print(nome[-1])"
   ]
  },
  {
   "cell_type": "code",
   "execution_count": 45,
   "metadata": {},
   "outputs": [],
   "source": [
    "# inicializar lista\n",
    "nome = []"
   ]
  },
  {
   "cell_type": "code",
   "execution_count": 3,
   "metadata": {},
   "outputs": [
    {
     "name": "stdout",
     "output_type": "stream",
     "text": [
      "Digite seu nome: nome\n"
     ]
    },
    {
     "ename": "AttributeError",
     "evalue": "'str' object has no attribute 'append'",
     "output_type": "error",
     "traceback": [
      "\u001b[1;31m---------------------------------------------------------------------------\u001b[0m",
      "\u001b[1;31mAttributeError\u001b[0m                            Traceback (most recent call last)",
      "Input \u001b[1;32mIn [3]\u001b[0m, in \u001b[0;36m<cell line: 3>\u001b[1;34m()\u001b[0m\n\u001b[0;32m      1\u001b[0m nome \u001b[38;5;241m=\u001b[39m \u001b[38;5;28minput\u001b[39m(\u001b[38;5;124m'\u001b[39m\u001b[38;5;124mDigite seu nome: \u001b[39m\u001b[38;5;124m'\u001b[39m)\n\u001b[1;32m----> 3\u001b[0m \u001b[43mnome\u001b[49m\u001b[38;5;241;43m.\u001b[39;49m\u001b[43mappend\u001b[49m(nome) \u001b[38;5;66;03m#append serve para adicionar itens em uma lista\u001b[39;00m\n\u001b[0;32m      4\u001b[0m \u001b[38;5;28mprint\u001b[39m(nome)\n",
      "\u001b[1;31mAttributeError\u001b[0m: 'str' object has no attribute 'append'"
     ]
    }
   ],
   "source": [
    "\n",
    "nome = input('Digite seu nome: ')\n",
    "\n",
    "nome.append(nome) #append serve para adicionar itens em uma lista\n",
    "print(nome)"
   ]
  },
  {
   "cell_type": "code",
   "execution_count": 4,
   "metadata": {},
   "outputs": [
    {
     "ename": "NameError",
     "evalue": "name 'alunos' is not defined",
     "output_type": "error",
     "traceback": [
      "\u001b[1;31m---------------------------------------------------------------------------\u001b[0m",
      "\u001b[1;31mNameError\u001b[0m                                 Traceback (most recent call last)",
      "Input \u001b[1;32mIn [4]\u001b[0m, in \u001b[0;36m<cell line: 4>\u001b[1;34m()\u001b[0m\n\u001b[0;32m      1\u001b[0m \u001b[38;5;66;03m# slicing alunos[start:end:step]\u001b[39;00m\n\u001b[0;32m      2\u001b[0m \u001b[38;5;66;03m# start -> inclusivo (conto com ele)\u001b[39;00m\n\u001b[0;32m      3\u001b[0m \u001b[38;5;66;03m# end -> exclusivo (não conta com ele no indice)\u001b[39;00m\n\u001b[1;32m----> 4\u001b[0m \u001b[38;5;28mprint\u001b[39m(\u001b[38;5;124mf\u001b[39m\u001b[38;5;124m'\u001b[39m\u001b[38;5;124mLista inteira: \u001b[39m\u001b[38;5;132;01m{\u001b[39;00malunos\u001b[38;5;132;01m}\u001b[39;00m\u001b[38;5;124m'\u001b[39m)\n\u001b[0;32m      6\u001b[0m \u001b[38;5;28mprint\u001b[39m(alunos[\u001b[38;5;241m0\u001b[39m:\u001b[38;5;241m3\u001b[39m]) \u001b[38;5;66;03m# defino o inicio e fim do intervalo\u001b[39;00m\n\u001b[0;32m      7\u001b[0m \u001b[38;5;28mprint\u001b[39m(alunos[:\u001b[38;5;241m3\u001b[39m]) \u001b[38;5;66;03m# começa do 0 e vai até o fim definido\u001b[39;00m\n",
      "\u001b[1;31mNameError\u001b[0m: name 'alunos' is not defined"
     ]
    }
   ],
   "source": [
    "# slicing alunos[start:end:step]\n",
    "# start -> inclusivo (conto com ele)\n",
    "# end -> exclusivo (não conta com ele no indice)\n",
    "print(f'Lista inteira: {alunos}')\n",
    "\n",
    "print(alunos[0:3]) # defino o inicio e fim do intervalo\n",
    "print(alunos[:3]) # começa do 0 e vai até o fim definido\n",
    "print(alunos[2:]) # começa do numero definido e vai até o final\n",
    "print(alunos[:]) # vai do inicio ao fim, mesma coisa de não colocar nada\n",
    "print(alunos) # igual o de cima\n",
    "print(alunos[::2]) # defini o step e ele salta aquela quantidade\n",
    "print(alunos[1::5]) # inicio definido, saltando 5\n",
    "print(alunos[1:5:5]) # definindo um inicio e fim da lista, saltando 5\n",
    "print(alunos[::-1]) # inverso sem fim definido\n",
    "print(alunos[:2:-1]) # inverso, com o fim definido"
   ]
  },
  {
   "cell_type": "code",
   "execution_count": 76,
   "metadata": {},
   "outputs": [
    {
     "name": "stdout",
     "output_type": "stream",
     "text": [
      "Lista inteira: Teodor Henrique de Freitas Barczewski\n",
      "Teo\n",
      "Teo\n",
      "odor Henrique de Freitas Barczewski\n",
      "Teodor Henrique de Freitas Barczewski\n",
      "Teodor Henrique de Freitas Barczewski\n",
      "Too erqed ria acesi\n",
      "e ide zi\n",
      "e\n",
      "ikswezcraB satierF ed euqirneH rodoeT\n",
      "ikswezcraB satierF ed euqirneH rod\n"
     ]
    }
   ],
   "source": [
    "# slicing alunos[start:end:step]\n",
    "# start -> inclusivo (conto com ele)\n",
    "# end -> exclusivo (não conta com ele no indice)\n",
    "nome = 'Teodor Henrique de Freitas Barczewski'\n",
    "print(f'Lista inteira: {nome}')\n",
    "\n",
    "print(nome[0:3]) # defino o inicio e fim do intervalo\n",
    "print(nome[:3]) # começa do 0 e vai até o fim definido\n",
    "print(nome[2:]) # começa do numero definido e vai até o final\n",
    "print(nome[:]) # vai do inicio ao fim, mesma coisa de não colocar nada\n",
    "print(nome) # igual o de cima\n",
    "print(nome[::2]) # defini o step e ele salta aquela quantidade\n",
    "print(nome[1::5]) # inicio definido, saltando 5\n",
    "print(nome[1:5:5]) # definindo um inicio e fim da lista, saltando 5\n",
    "print(nome[::-1]) # inverso sem fim definido\n",
    "print(nome[:2:-1]) # inverso, com o fim definido"
   ]
  },
  {
   "cell_type": "code",
   "execution_count": 77,
   "metadata": {},
   "outputs": [
    {
     "name": "stdout",
     "output_type": "stream",
     "text": [
      "['Teo', 36, True, 10.5]\n"
     ]
    }
   ],
   "source": [
    "lista = ['Teo', 36, True, 10.5]\n",
    "print(lista)"
   ]
  },
  {
   "cell_type": "code",
   "execution_count": 80,
   "metadata": {},
   "outputs": [
    {
     "name": "stdout",
     "output_type": "stream",
     "text": [
      "['Teo', 100, True, 10.5]\n"
     ]
    }
   ],
   "source": [
    "lista[1] = 100\n",
    "print(lista)"
   ]
  },
  {
   "cell_type": "markdown",
   "metadata": {},
   "source": [
    "    - Métodos/Funções\n",
    "        - Max\n",
    "        - Min\n",
    "        - Pop\n",
    "        - Split (string)\n",
    "        - Sum\n",
    "        - Sort - altera definitivamente a ordem\n",
    "        - Sorted - altera tmeporariamente a ordem"
   ]
  },
  {
   "cell_type": "code",
   "execution_count": 84,
   "metadata": {},
   "outputs": [
    {
     "name": "stdout",
     "output_type": "stream",
     "text": [
      "7\n",
      "1\n"
     ]
    }
   ],
   "source": [
    "lista = [1,4,7,3,2,6,1,2,7,4,6]\n",
    "\n",
    "print(max(lista))\n",
    "print(min(lista))\n",
    "\n"
   ]
  },
  {
   "cell_type": "code",
   "execution_count": 86,
   "metadata": {},
   "outputs": [
    {
     "name": "stdout",
     "output_type": "stream",
     "text": [
      "[1, 4, 7, 3, 2, 6, 1, 2, 7, 4, 6]\n",
      "[1, 1, 2, 2, 3, 4, 4, 6, 6, 7, 7]\n"
     ]
    }
   ],
   "source": [
    "lista = [1,4,7,3,2,6,1,2,7,4,6]\n",
    "print(lista)\n",
    "lista.sort()\n",
    "print(lista)"
   ]
  },
  {
   "cell_type": "code",
   "execution_count": 89,
   "metadata": {},
   "outputs": [
    {
     "name": "stdout",
     "output_type": "stream",
     "text": [
      "[1, 4, 7, 3, 2, 6, 1, 2, 7, 4, 6]\n",
      "[1, 1, 2, 2, 3, 4, 4, 6, 6, 7, 7]\n",
      "[1, 4, 7, 3, 2, 6, 1, 2, 7, 4, 6]\n"
     ]
    }
   ],
   "source": [
    "lista = [1,4,7,3,2,6,1,2,7,4,6]\n",
    "print(lista)\n",
    "print(sorted(lista))\n",
    "print(lista)"
   ]
  },
  {
   "cell_type": "code",
   "execution_count": 91,
   "metadata": {},
   "outputs": [],
   "source": [
    "notas = [10,2,6,3,1,6]\n",
    "alunos = ['Julia', 'Teo', 'Elizabeth', 'Kaio', 'Ilmen', 'Guilherme']"
   ]
  },
  {
   "cell_type": "code",
   "execution_count": 92,
   "metadata": {},
   "outputs": [
    {
     "name": "stdout",
     "output_type": "stream",
     "text": [
      "A nota de Julia é 10 \n"
     ]
    }
   ],
   "source": [
    "print(f'A nota de {alunos[0]} é {notas[0]} ')"
   ]
  },
  {
   "cell_type": "code",
   "execution_count": 93,
   "metadata": {},
   "outputs": [
    {
     "name": "stdout",
     "output_type": "stream",
     "text": [
      "A nota de Julia é 10 \n",
      "A nota de Teo é 2 \n",
      "A nota de Elizabeth é 6 \n",
      "A nota de Kaio é 3 \n",
      "A nota de Ilmen é 1 \n",
      "A nota de Guilherme é 6 \n"
     ]
    }
   ],
   "source": [
    "for i in range(len(notas)):\n",
    "    print(f'A nota de {alunos[i]} é {notas[i]} ')"
   ]
  },
  {
   "cell_type": "code",
   "execution_count": 96,
   "metadata": {},
   "outputs": [
    {
     "name": "stdout",
     "output_type": "stream",
     "text": [
      "[1, 4, 7, 3, 2, 6, 1, 2, 7, 4, 6]\n",
      "[6, 4, 7, 2, 1, 6, 2, 3, 7, 4, 1]\n"
     ]
    }
   ],
   "source": [
    "lista = [1,4,7,3,2,6,1,2,7,4,6]\n",
    "print(lista)\n",
    "lista.reverse()\n",
    "print(lista)"
   ]
  },
  {
   "cell_type": "code",
   "execution_count": 97,
   "metadata": {},
   "outputs": [
    {
     "data": {
      "text/plain": [
       "2"
      ]
     },
     "execution_count": 97,
     "metadata": {},
     "output_type": "execute_result"
    }
   ],
   "source": [
    "lista.index(7)"
   ]
  },
  {
   "cell_type": "code",
   "execution_count": 101,
   "metadata": {},
   "outputs": [
    {
     "name": "stdout",
     "output_type": "stream",
     "text": [
      "[5, 6, 7, 8, 9]\n"
     ]
    }
   ],
   "source": [
    "lista = list(range(5,10)) # estou criando uma lista de um tamanho especifico\n",
    "print(lista)"
   ]
  },
  {
   "cell_type": "code",
   "execution_count": 102,
   "metadata": {},
   "outputs": [
    {
     "data": {
      "text/plain": [
       "10"
      ]
     },
     "execution_count": 102,
     "metadata": {},
     "output_type": "execute_result"
    }
   ],
   "source": [
    "int('10')"
   ]
  },
  {
   "cell_type": "code",
   "execution_count": 105,
   "metadata": {},
   "outputs": [
    {
     "name": "stdout",
     "output_type": "stream",
     "text": [
      "10\n",
      "O aluno Julia tirou a maior nota\n",
      "O aluno Ilmen tirou a maior nota\n"
     ]
    }
   ],
   "source": [
    "notas = [10,2,6,3,10,6]\n",
    "alunos = ['Julia', 'Teo', 'Elizabeth', 'Kaio', 'Ilmen', 'Guilherme']\n",
    "\n",
    "maior_nota = max(notas)\n",
    "print(maior_nota)\n",
    "\n",
    "for i in range(len(notas)):\n",
    "\n",
    "    if notas[i] == maior_nota:\n",
    "        print(f'O aluno {alunos[i]} tirou a maior nota')"
   ]
  },
  {
   "cell_type": "code",
   "execution_count": 108,
   "metadata": {},
   "outputs": [
    {
     "name": "stdout",
     "output_type": "stream",
     "text": [
      "10\n",
      "4\n",
      "O aluno Ilmen tirou a nota 10\n"
     ]
    }
   ],
   "source": [
    "notas = [8,2,6,3,10,6]\n",
    "alunos = ['Julia', 'Teo', 'Elizabeth', 'Kaio', 'Ilmen', 'Guilherme']\n",
    "\n",
    "maior_nota = max(notas)\n",
    "print(maior_nota)\n",
    "posicao = notas.index(maior_nota)\n",
    "print(posicao)\n",
    "\n",
    "print(f'O aluno {alunos[posicao]} tirou a nota {notas[posicao]}')"
   ]
  },
  {
   "cell_type": "code",
   "execution_count": 109,
   "metadata": {},
   "outputs": [
    {
     "name": "stdout",
     "output_type": "stream",
     "text": [
      "35\n"
     ]
    }
   ],
   "source": [
    "notas = [8,2,6,3,10,6]\n",
    "\n",
    "print(sum(notas))"
   ]
  },
  {
   "cell_type": "code",
   "execution_count": 110,
   "metadata": {},
   "outputs": [
    {
     "name": "stdout",
     "output_type": "stream",
     "text": [
      "['Teodor', 'Henrique', 'de', 'Freitas', 'Barczewski']\n"
     ]
    }
   ],
   "source": [
    "nome = 'Teodor Henrique de Freitas Barczewski'\n",
    "lista = nome.split(' ')\n",
    "print(lista)\n"
   ]
  },
  {
   "cell_type": "code",
   "execution_count": 122,
   "metadata": {},
   "outputs": [
    {
     "name": "stdout",
     "output_type": "stream",
     "text": [
      "['Teo', '  36    ']\n"
     ]
    }
   ],
   "source": [
    "dados = input('Digite seu nome e idade e hobby separado por virgula: ')\n",
    "\n",
    "lista_dados = (dados.split(','))\n",
    "print(lista_dados)"
   ]
  },
  {
   "cell_type": "code",
   "execution_count": 119,
   "metadata": {},
   "outputs": [
    {
     "name": "stdout",
     "output_type": "stream",
     "text": [
      "teodorhfb@gmail.com\n",
      "      teodorhfb@gmail.com\n"
     ]
    }
   ],
   "source": [
    "email = '      teodorhfb@gmail.com        '\n",
    "\n",
    "print(email.strip()) #strip - remove espaços em branco a esquerda e direita da variável\n",
    "print(email.rstrip()) #rstrip - remove espaços em a direita da variável"
   ]
  },
  {
   "cell_type": "code",
   "execution_count": 127,
   "metadata": {},
   "outputs": [
    {
     "name": "stdout",
     "output_type": "stream",
     "text": [
      "['Julia', 'Paulo', 'Luana', 'Guilherme', 'Ilmen', 'Elizabeth', 'Guilherme']\n",
      "['Paulo', 'Luana', 'Guilherme', 'Ilmen', 'Elizabeth', 'Guilherme']\n",
      "Julia\n"
     ]
    }
   ],
   "source": [
    "alunos = ['Julia', 'Paulo', 'Luana', 'Guilherme', 'Ilmen', 'Elizabeth', 'Guilherme']\n",
    "\n",
    "print(alunos)\n",
    "\n",
    "aluno_excluido = alunos.pop(0)\n",
    "\n",
    "print(alunos)\n",
    "print(aluno_excluido)"
   ]
  },
  {
   "cell_type": "code",
   "execution_count": 131,
   "metadata": {},
   "outputs": [
    {
     "name": "stdout",
     "output_type": "stream",
     "text": [
      "['Julia', 'Paulo', 'Luana', 'Guilherme', 'Ilmen', 'Elizabeth', 'Guilherme']\n",
      "['Julia', 'Luana', 'Guilherme', 'Ilmen', 'Elizabeth', 'Guilherme']\n"
     ]
    }
   ],
   "source": [
    "alunos = ['Julia', 'Paulo', 'Luana', 'Guilherme', 'Ilmen', 'Elizabeth', 'Guilherme']\n",
    "print(alunos)\n",
    "del(alunos[1])\n",
    "print(alunos)\n",
    "#print(removido)"
   ]
  },
  {
   "cell_type": "code",
   "execution_count": 138,
   "metadata": {},
   "outputs": [
    {
     "name": "stdout",
     "output_type": "stream",
     "text": [
      "Aprovados: ['Luana,7', 'Guilherme,8']\n",
      "Reprovados: ['Julia,2', 'Paulo,6', 'Guilherme,4', 'Ilmen,3', 'Elizabeth,2']\n"
     ]
    }
   ],
   "source": [
    "alunos = ['Julia', 'Paulo', 'Luana', 'Guilherme', 'Ilmen', 'Elizabeth', 'Guilherme']\n",
    "notas = [2,6,7,4,3,2,8]\n",
    "\n",
    "aprovados = []\n",
    "reprovados = []\n",
    "\n",
    "for i in range(len(alunos)):\n",
    "\n",
    "    if notas[i] > 6:\n",
    "        aprovados.append(f'{alunos[i]},{notas[i]}')\n",
    "    else:\n",
    "        reprovados.append(f'{alunos[i]},{notas[i]}')\n",
    "\n",
    "print(f'Aprovados: {aprovados}')\n",
    "print(f'Reprovados: {reprovados}')\n",
    "\n"
   ]
  },
  {
   "cell_type": "code",
   "execution_count": 141,
   "metadata": {},
   "outputs": [
    {
     "name": "stdout",
     "output_type": "stream",
     "text": [
      "['Julia', 'Paulo', 'Luana', 'Guilherme', 'Ilmen', 'Elizabeth', 'Guilherme']\n",
      "['Julia', 'Júlia', 'Paulo', 'Luana', 'Guilherme', 'Ilmen', 'Elizabeth', 'Guilherme']\n"
     ]
    }
   ],
   "source": [
    "alunos = ['Julia', 'Paulo', 'Luana', 'Guilherme', 'Ilmen', 'Elizabeth', 'Guilherme']\n",
    "\n",
    "print(alunos)\n",
    "alunos.insert(1, 'Júlia')\n",
    "print(alunos)\n"
   ]
  },
  {
   "cell_type": "code",
   "execution_count": 145,
   "metadata": {},
   "outputs": [
    {
     "name": "stdout",
     "output_type": "stream",
     "text": [
      "<class 'str'>\n",
      "<class 'int'>\n",
      "<class 'float'>\n",
      "<class 'bool'>\n",
      "<class 'list'>\n"
     ]
    }
   ],
   "source": [
    "lista = ['Teo', 35, 10.5, False, ['Guilherme','Projeto Legal']]\n",
    "\n",
    "for item in lista:\n",
    "    print(type(item))"
   ]
  },
  {
   "cell_type": "code",
   "execution_count": 147,
   "metadata": {},
   "outputs": [
    {
     "name": "stdout",
     "output_type": "stream",
     "text": [
      "[['Teo', 10], ['Julia', 8], ['Gabriel', 9, False]]\n"
     ]
    }
   ],
   "source": [
    "notas = [ ['Teo', 10], ['Julia', 8], ['Gabriel', 9 ]]\n",
    "\n",
    "print(notas)"
   ]
  },
  {
   "cell_type": "code",
   "execution_count": 169,
   "metadata": {},
   "outputs": [
    {
     "name": "stdout",
     "output_type": "stream",
     "text": [
      "Guilherme\n"
     ]
    }
   ],
   "source": [
    "lista = ['Teo', 35, 10.5, False, ['Guilherme','Projeto Legal']]\n",
    "print(lista[4][0])"
   ]
  },
  {
   "cell_type": "code",
   "execution_count": 163,
   "metadata": {},
   "outputs": [
    {
     "name": "stdout",
     "output_type": "stream",
     "text": [
      "For com índice\n",
      "Teo\n",
      "Julia\n",
      "Gabriel\n",
      "\n",
      "\n",
      "For com elemento:\n",
      "Teo\n",
      "Julia\n",
      "Gabriel\n"
     ]
    }
   ],
   "source": [
    " "
   ]
  },
  {
   "cell_type": "code",
   "execution_count": 168,
   "metadata": {},
   "outputs": [
    {
     "name": "stdout",
     "output_type": "stream",
     "text": [
      "For com índice: \n",
      "Teo\n",
      "Julia\n",
      "Gabriel\n",
      "\n",
      "\n",
      "For com elemento:\n",
      "Teo\n",
      "Julia\n",
      "Gabriel\n"
     ]
    }
   ],
   "source": [
    "notas = [ ['Teo', 10], ['Julia', 8], ['Gabriel', 9 ]]\n",
    "\n",
    "print('For com índice: ')\n",
    "for i in range(len(notas)):\n",
    "    print(notas[i][0])\n",
    "\n",
    "\n",
    "print('\\n\\nFor com elemento:')\n",
    "for elemento in notas:\n",
    "    print(elemento[0])"
   ]
  },
  {
   "cell_type": "code",
   "execution_count": 170,
   "metadata": {},
   "outputs": [
    {
     "name": "stdout",
     "output_type": "stream",
     "text": [
      "Teo\n",
      "10\n"
     ]
    }
   ],
   "source": [
    "lista = ['Teo', 10]\n",
    "print(lista[0])\n",
    "print(lista[1])"
   ]
  },
  {
   "cell_type": "code",
   "execution_count": 172,
   "metadata": {},
   "outputs": [
    {
     "name": "stdout",
     "output_type": "stream",
     "text": [
      "Teo\n"
     ]
    }
   ],
   "source": [
    "notas = [ ['Teo', 10], ['Julia', 8], ['Gabriel', 9 ]]\n",
    "\n",
    "print(notas[0][0])"
   ]
  },
  {
   "cell_type": "code",
   "execution_count": 179,
   "metadata": {},
   "outputs": [
    {
     "name": "stdout",
     "output_type": "stream",
     "text": [
      "\n",
      "\n",
      "For com elemento:\n",
      "['Teo', 10]\n",
      "['Julia', 8]\n",
      "['Gabriel', 9]\n"
     ]
    }
   ],
   "source": [
    "notas = [ ['Teo', 10], ['Julia', 8], ['Gabriel', 9 ]]\n",
    "\n",
    "print('\\n\\nFor com elemento:')\n",
    "for item in notas:\n",
    "    print(item)"
   ]
  },
  {
   "cell_type": "code",
   "execution_count": 181,
   "metadata": {},
   "outputs": [
    {
     "name": "stdout",
     "output_type": "stream",
     "text": [
      "[[['Teo', 123], 2], 1]\n"
     ]
    }
   ],
   "source": [
    "lista = [[['Teo',123],2], 1]\n",
    "print(lista)"
   ]
  },
  {
   "cell_type": "code",
   "execution_count": 184,
   "metadata": {},
   "outputs": [
    {
     "name": "stdout",
     "output_type": "stream",
     "text": [
      "[1, 0, 0]\n",
      "[0, 1, 0]\n",
      "[0, 0, 1]\n"
     ]
    }
   ],
   "source": [
    "matriz = [[1,0,0], [0,1,0], [0,0,1]]\n",
    "#print(matriz)\n",
    "\n",
    "for item in matriz:\n",
    "    print(item)"
   ]
  },
  {
   "cell_type": "markdown",
   "metadata": {},
   "source": [
    "### Exercícios"
   ]
  },
  {
   "cell_type": "markdown",
   "metadata": {},
   "source": [
    "1 - Concatene duas listas pelo seu indice. Por exemplo, dado duas listas abaixo:\n",
    "\n",
    "list1 = [\"Me\", \"n\", \"\", \"Teodor \"]\n",
    "\n",
    "list2 = [\"u\", \"ome\", \"é\", \"Henrique\"]\n",
    "\n",
    "o resultado esperado é\n",
    "\n",
    "['Meu', 'nome', é, 'Teodor Henrique']"
   ]
  },
  {
   "cell_type": "markdown",
   "metadata": {},
   "source": [
    "2 - Receba duas listas e faça um único for, onde o resultado da primeira lista deve ficar na ordem original e a segunda na ordem inversa:\n",
    "\n",
    "Dado:\n",
    "list1 = [10, 20, 30, 40]\n",
    "\n",
    "list2 = [100, 200, 300, 400]\n",
    "\n",
    "Resultado esperado:\n",
    "\n",
    "10 400\n",
    "\n",
    "20 300\n",
    "\n",
    "30 200\n",
    "\n",
    "40 100"
   ]
  },
  {
   "cell_type": "markdown",
   "metadata": {},
   "source": [
    "3 - Faça um programa que peça para o usuário digitar o nome e a nota. O nome e a nota devem estar em um único input, e os valores digitados separados por , (por ex: teo,8).\n",
    "\n",
    "O usuário deverá digitar pelo menos 3 nome/notas, e escrever PARE caso não queira digitar mais nome e notas. As duas condições tem que ser verdadeiras, ter ao menos 3 nome e só parar ao digitar PARE\n",
    "\n",
    "Após a inclusão dos nome e notas, calcule a média, e mostre o nome dos nome que ficaram acima da média.\n",
    "\n",
    "Regras:\n",
    "\n",
    "a) As notas devem estar entre 0 e 10. Caso não estejam, exiba uma mensagem e peça para que seja digitado novamente\n",
    "\n",
    "b) O nome do aluno deve ter pelo menos 3 caracteres. Caso não esteja, peça para ser digitado novamente\n"
   ]
  },
  {
   "cell_type": "markdown",
   "metadata": {},
   "source": [
    "4 - Abaixo é definido um n-poligono. O objetivo é achar a area de um poligono dado n. Um 1-poligono é um quadrado com um tamanho 1. Um n-poligono é obtido pegando n-1-poligono e adicionado 1-poligonos a lateral, lado a lado. \n",
    "\n",
    "<img src='data:image/png;base64,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'>\n",
    "\n",
    "Por exemplo:\n",
    "\n",
    "- para um n=2, a saida deve ser 5\n",
    "- para um n=3, a saida deve ser 13\n",
    "- para um n=4, a saida deve ser 25"
   ]
  },
  {
   "cell_type": "markdown",
   "metadata": {},
   "source": [
    "5- Dada a seguinte lista:\n",
    "[['Teo', 20], ['Maria', 10], ['Rosana', 15],['Luana',18]]\n",
    "\n",
    "Calcule a média e mostre apenas os nomes das pessoas abaixo da média\n"
   ]
  },
  {
   "cell_type": "markdown",
   "metadata": {},
   "source": []
  }
 ],
 "metadata": {
  "kernelspec": {
   "display_name": "Python 3 (ipykernel)",
   "language": "python",
   "name": "python3"
  },
  "language_info": {
   "codemirror_mode": {
    "name": "ipython",
    "version": 3
   },
   "file_extension": ".py",
   "mimetype": "text/x-python",
   "name": "python",
   "nbconvert_exporter": "python",
   "pygments_lexer": "ipython3",
   "version": "3.9.12"
  },
  "vscode": {
   "interpreter": {
    "hash": "28e4ac859c9a7573a0f6f8efad0c0329134bc90e4f4badebebe1f83f8d59692c"
   }
  }
 },
 "nbformat": 4,
 "nbformat_minor": 2
}
