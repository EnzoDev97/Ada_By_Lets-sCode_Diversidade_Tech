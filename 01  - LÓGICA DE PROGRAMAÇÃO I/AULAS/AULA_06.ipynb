{
 "cells": [
  {
   "cell_type": "markdown",
   "metadata": {},
   "source": [
    "### Aula 06\n",
    "\n",
    "- Exercícios\n",
    "- Listas\n",
    "    - Copiando listas\n",
    "    - Item dentro de outra lista\n",
    "    - List Comprehension\n",
    "- Tuplas\n",
    "- Funções\n",
    "    - Declarando função\n",
    "    - Parametros\n",
    "    - Parametros padrão\n",
    "    - Importando um módulo\n",
    "    - Conceitos de classe\n"
   ]
  },
  {
   "cell_type": "markdown",
   "metadata": {},
   "source": [
    "### Exercícios"
   ]
  },
  {
   "cell_type": "markdown",
   "metadata": {},
   "source": [
    "1 - Concatene duas listas pelo seu indice. Por exemplo, dado duas listas abaixo:\n",
    "\n",
    "list1 = [\"Me\", \"n\", \"\", \"Teodor \"]\n",
    "\n",
    "list2 = [\"u\", \"ome\", \"é\", \"Henrique\"]\n",
    "\n",
    "o resultado esperado é\n",
    "\n",
    "['Meu', 'nome', é, 'Teodor Henrique']"
   ]
  },
  {
   "cell_type": "code",
   "execution_count": 13,
   "metadata": {},
   "outputs": [
    {
     "name": "stdout",
     "output_type": "stream",
     "text": [
      "['Meu', 'nome', 'é', 'Ana Carolina']\n"
     ]
    }
   ],
   "source": [
    " "
   ]
  },
  {
   "cell_type": "markdown",
   "metadata": {},
   "source": [
    "2 - Receba duas listas e faça um único for, onde o resultado da primeira lista deve ficar na ordem original e a segunda na ordem inversa:\n",
    "\n",
    "Dado:\n",
    "list1 = [10, 20, 30, 40]\n",
    "\n",
    "list2 = [100, 200, 300, 400]\n",
    "\n",
    "Resultado esperado:\n",
    "\n",
    "10 400\n",
    "\n",
    "20 300\n",
    "\n",
    "30 200\n",
    "\n",
    "40 100"
   ]
  },
  {
   "cell_type": "code",
   "execution_count": 16,
   "metadata": {},
   "outputs": [
    {
     "name": "stdout",
     "output_type": "stream",
     "text": [
      "10 400\n",
      "20 300\n",
      "30 200\n",
      "40 100\n"
     ]
    }
   ],
   "source": [
    "lista1 = [10, 20, 30, 40]\n",
    "lista2 = [100, 200, 300, 400]\n",
    "#lista2.reverse()\n",
    "\n",
    "\n",
    "for i in range(len(lista2)):\n",
    "  print(f'{lista1[i]} {lista2[-i-1]}')"
   ]
  },
  {
   "cell_type": "markdown",
   "metadata": {},
   "source": [
    "3 - Faça um programa que peça para o usuário digitar o nome e a nota. O nome e a nota devem estar em um único input, e os valores digitados separados por , (por ex: teo,8).\n",
    "\n",
    "O usuário deverá digitar pelo menos 3 nome/notas, e escrever PARE caso não queira digitar mais nome e notas. As duas condições tem que ser verdadeiras, ter ao menos 3 nome e só parar ao digitar PARE\n",
    "\n",
    "Após a inclusão dos nome e notas, calcule a média, e mostre o nome dos nome que ficaram acima da média.\n",
    "\n",
    "Regras:\n",
    "\n",
    "a) As notas devem estar entre 0 e 10. Caso não estejam, exiba uma mensagem e peça para que seja digitado novamente\n",
    "\n",
    "b) O nome do aluno deve ter pelo menos 3 caracteres. Caso não esteja, peça para ser digitado novamente\n"
   ]
  },
  {
   "cell_type": "code",
   "execution_count": 26,
   "metadata": {},
   "outputs": [
    {
     "name": "stdout",
     "output_type": "stream",
     "text": [
      "[['Teo', 2], ['Paulo', 10], ['Kaio', 10], ['Julia', 10]]\n",
      "Os Alunos que obtiveram notas acima da média foram: ['Paulo', 'Kaio', 'Julia'] \n"
     ]
    }
   ],
   "source": [
    "controle = False\n",
    "\n",
    "listSala = []\n",
    "\n",
    "count = 0\n",
    "\n",
    "# Preenchimento e Verificação dos Inputs\n",
    "while controle != True:\n",
    "#while not (dado == 'pare' and count >= 3):\n",
    "    dado = input('Digite o nome e a nota (separado por vírgulas):')\n",
    "\n",
    "    #if dado == 'pare':\n",
    "    #    continue # continue significa recomeçar o WHILE\n",
    "\n",
    "    listAluno = []\n",
    "    #lista_alunos\n",
    "    \n",
    "    # Verificação de Continuidade da captura de notas\n",
    "    if dado == 'pare' and count >= 3:\n",
    "        controle == True\n",
    "        break\n",
    "\n",
    "    listAluno = dado.split(',')\n",
    "\n",
    "    # teo,8\n",
    "    listAluno[1] = float(listAluno[1])\n",
    "\n",
    "    # Verificação de dados do Aluno: Nome\n",
    "    while len(listAluno[0]) < 3:\n",
    "        listAluno[0] = input('Nome inválido, favor digitar novamente:')\n",
    "\n",
    "    while listAluno[1] < 0 or listAluno[1] > 10:\n",
    "        listAluno[1] = int(input('Nota Inválida, digite novamente:'))\n",
    "\n",
    "    # Adicionando as informações do aluno à lista da sala\n",
    "    listSala.append(listAluno)\n",
    "    # listSala.append(listAluno = dado.split(','))\n",
    "    count += 1\n",
    "\n",
    "\n",
    "print(listSala)\n",
    "\n",
    "media = 0\n",
    "\n",
    "for i in range(len(listSala)):\n",
    "    media += listSala[i][1]\n",
    "\n",
    "media /= len(listSala)\n",
    "aprovados = []\n",
    "for i in range(len(listSala)):\n",
    "    if listSala[i][1] >= media:\n",
    "        aprovados.append(listSala[i][0])\n",
    "\n",
    "print(f'Os Alunos que obtiveram notas acima da média foram: {aprovados} ')        "
   ]
  },
  {
   "cell_type": "code",
   "execution_count": 30,
   "metadata": {},
   "outputs": [
    {
     "name": "stdout",
     "output_type": "stream",
     "text": [
      "Resultado de dado.lower() == \"pare\" False\n",
      "Resultado de len(lista_sala) >= 3 False\n",
      "Resultado de dado.lower() == \"pare\" False\n",
      "Resultado de len(lista_sala) >= 3 False\n",
      "Resultado de dado.lower() == \"pare\" False\n",
      "Resultado de len(lista_sala) >= 3 False\n",
      "Resultado de dado.lower() == \"pare\" False\n",
      "Resultado de len(lista_sala) >= 3 True\n",
      "[['pare', 8.0], ['Julia', 9.0], ['Paulo', 10.0]]\n",
      "Os Alunos que obtiveram notas acima da média foram: ['Julia', 'Paulo'] \n"
     ]
    }
   ],
   "source": [
    "# controle = False -> não precisa\n",
    "\n",
    "pare = '' \n",
    "lista_sala = []\n",
    "\n",
    "#count = 0 -> não preciso do count, pois eu posso usar um len(lista_sala) para saber quantas pessoas tem\n",
    "#            na sala\n",
    "\n",
    "#while (condição for verdade):\n",
    "#    faça algo\n",
    "\n",
    "print(f'Resultado de dado.lower() == \"pare\" {dado.lower() == \"pare\"}')\n",
    "print(f'Resultado de len(lista_sala) >= 3 {len(lista_sala) >= 3}')\n",
    "# Preenchimento e Verificação dos Inputs\n",
    "while not (dado.lower() == 'pare' and len(lista_sala) >= 3):\n",
    "#while not (dado == 'pare' and count >= 3):\n",
    "    dado = input('Digite o nome e a nota (separado por vírgulas):')\n",
    "\n",
    "    #if dado == 'pare':\n",
    "    #    continue # continue significa recomeçar o WHILE\n",
    "\n",
    "    lista_aluno = []\n",
    "    #lista_alunos\n",
    "    \n",
    "    # Verificação de Continuidade da captura de notas\n",
    "    if dado.lower() == 'pare':\n",
    "        continue # recomeça o while\n",
    "    \n",
    "    if len(dado.split(',')) > 1:\n",
    "        lista_aluno = dado.split(',')\n",
    "    else:\n",
    "        continue\n",
    "\n",
    "    # teo,8\n",
    "    lista_aluno[1] = float(lista_aluno[1])\n",
    "\n",
    "    # Verificação de dados do Aluno: Nome\n",
    "    while len(lista_aluno[0]) < 3:\n",
    "        lista_aluno[0] = input('Nome inválido, favor digitar novamente:')\n",
    "\n",
    "    while lista_aluno[1] < 0 or lista_aluno[1] > 10:\n",
    "        lista_aluno[1] = int(input('Nota Inválida, digite novamente:'))\n",
    "\n",
    "    # Adicionando as informações do aluno à lista da sala\n",
    "    lista_sala.append(lista_aluno)\n",
    "    # listSala.append(listAluno = dado.split(','))\n",
    "    #count += 1\n",
    "\n",
    "    print(f'Resultado de dado.lower() == \"pare\" {dado.lower() == \"pare\"}')\n",
    "    print(f'Resultado de len(lista_sala) >= 3 {len(lista_sala) >= 3}')\n",
    "\n",
    "\n",
    "print(lista_sala)\n",
    "\n",
    "media = 0\n",
    "\n",
    "for i in range(len(lista_sala)):\n",
    "    media += lista_sala[i][1]\n",
    "\n",
    "media /= len(lista_sala)\n",
    "aprovados = []\n",
    "for i in range(len(lista_sala)):\n",
    "    if lista_sala[i][1] >= media:\n",
    "        aprovados.append(lista_sala[i][0])\n",
    "\n",
    "print(f'Os Alunos que obtiveram notas acima da média foram: {aprovados} ')        "
   ]
  },
  {
   "cell_type": "code",
   "execution_count": 37,
   "metadata": {},
   "outputs": [
    {
     "name": "stdout",
     "output_type": "stream",
     "text": [
      "Com o E (and), todos tem que ser True para ser true\n",
      "Exemplos\n",
      "Verdadeiro com falso é falso: False \n",
      "Verdadeiro com verdadeiro é verdadeiro: True\n",
      "Falso com falso é falso: False\n",
      "------------------------------\n",
      "Com o OU (ou), pelo menos um tem que ser True para ser true\n",
      "Exemplos\n",
      "Verdadeiro com falso é Verdadeiro: True \n",
      "Verdadeiro com verdadeiro é verdadeiro: True\n",
      "Falso com falso é falso: False\n"
     ]
    }
   ],
   "source": [
    "print(f'Com o E (and), todos tem que ser True para ser true')\n",
    "print('Exemplos')\n",
    "print(f'Verdadeiro com falso é falso: { True and False} ')\n",
    "print(f'Verdadeiro com verdadeiro é verdadeiro: {True and True}')\n",
    "print(f'Falso com falso é falso: {False and False}')\n",
    "\n",
    "print('------------------------------')\n",
    "\n",
    "print(f'Com o OU (ou), pelo menos um tem que ser True para ser true')\n",
    "print('Exemplos')\n",
    "print(f'Verdadeiro com falso é Verdadeiro: { True or False} ')\n",
    "print(f'Verdadeiro com verdadeiro é verdadeiro: {True or True}')\n",
    "print(f'Falso com falso é falso: {False and False}')\n"
   ]
  },
  {
   "cell_type": "markdown",
   "metadata": {},
   "source": [
    "4 - Abaixo é definido um n-poligono. O objetivo é achar a area de um poligono dado n. Um 1-poligono é um quadrado com um tamanho 1. Um n-poligono é obtido pegando n-1-poligono e adicionado 1-poligonos a lateral, lado a lado. \n",
    "\n",
    "<img src='data:image/png;base64,iVBORw0KGgoAAAANSUhEUgAAAUIAAACcCAMAAAA9MFJFAAAA51BMVEX///8/SMwAAABASc/4+PhCS9VUVFSbm5tXV1fT09PHx8fc3Nyenp6MjIwPETA2PrCGhoazs7OlpaVHR0d2dnbs7OxNTEIvN6o7OzvNzc3V1dVPT082NjaUlI8XHnw9RsYjKHAnLX4AAEAeImErMYuCgnwsNKMfJoldXVRFRDkBDmSsrKkMDigzOqQxOJ8AADMVGEUTFTweJHsSEQC5ubkrKytra2sXFxdkZGQUFBQ5QbhFTt4tLS0PF2ktM5EXGkoAAAcAAEQAACodIV4HCBgQFEsqKiI1NS0bGhEKCyAFDlcgICAVG2ZR905PAAAHz0lEQVR4nO2d+1/aSBTF44gECNFAEuVltS19ovYhL62129at22X//79nk0qbe6YwMFzAR+/5pT2fZL4hx0zCXJKJ44hEIpFIJBL9Icox7MMGT1fggg1LYFUMUAULG2dgO0OwEYJrNuARgvsILoNtWYCLCK6awXVnPvnYLm/xgbwW2EoENqiCbeIHMke4MnANbMcIDiXCSWCJkA2WCNlgiZANlgjZYImQDZYI2WCJkA2+9QidBxahGRwWHaNyY6UDvFymNEJqVZyjUnRhrtiCdZO/KbVBGWzzVsAxgJ16zQiugg0JeEKCDSWyUcN0OPp49Bbw6FWYv7Ejd7Fb+B2weRsw9jczuIm7p4M/bBHt7SI4ABtUTODpeuiXk62NTJtahHJFngssEbLBEiEbLBGywRIhGywRssESIRssEbLBEiEbLBGyweuIENvlTR/Iqtjlm/fUYvA9I0Lz4HtrM5M+RtbBOPieUezKlcaq96N6KVM9dMGqbolKFamr9mBdvwC2H4CtlTUwsXUr8NAKfHxC1H5Ft1P3hyZwi4AnVLu8sDDWRatANQjBqjxacCHa2gjsDPATkA24h+AzM/jTW6J3f30myz5/6c0JDj3T8agXuxbvb3pNSjtDYLc4PaBFqE1OsUvryADewGLXzjbYF8+gaWCsok3XbV1ODshpfuNgiZcTDQyXk51tsHqE9+yKLBGmkghvJBFOA0uEEuGywBIhGywRssESIRssEbLBEiEbvI4Ib22MTIpQG8Yxsl2xSwN/oMWuJEJqWWPkOPDHahZ8qos+WBWg3ad6NoCFwxrYEMG9iDZ11SFodWBwX6/A/r0Lm9XAo+jXf4N4QoRu+UbV/LBazlRtRWVqlU+tqx5RffxGm5b7IZA08PVHaKsOH1PZgJtm8GMEt6k7vIKFX99A0yd9APeCbMcnRJjJriNDt9h7BQvNHfnlc+hDxv42o7i8OFjryJdPwb62qlqTPbW6nOAvERjhrD3dJG23jGf9lYG1y0n7KbW/RbiaK7JEOEESoUQoEUqEK9lTiZC9pxIhe08lQvaeSoTsPZUI2Xt63yK0evoJ7qc4txoj79GmH5R2Q4jxISXjDSFGsPmGkGSMTPXa6uknr1cba/Rtl+qfixqVgoW7apvq6BQWXg+g6egawUfQFknb6wKj/X4F9grBZ1kUvQm3JeWKjRt50cc9qjcdr5HJO31OFz5XO1SX36Hp+z401cDv2tBWnVB3rIGPLMDbVmCwh5/Afj0E8JfOr20WjTMn7T+Cgs8TPAGcHpCFmxtww+PmzpGpBqyB3x1rNSkT2Fhc3n+hgWlTDXxgBLex2HXYBvtm3mLX/iM4G/8eIT07ayfnI9MvERo42dNFz/oa2F8aWLucPG0DSSKcAywRssESIRssEbLBEiEbLBGywRIhGywRssESIRt83yOkdqkRzg9eWoTmMTJdikPZrRljZBzKvp1/jDzjBqzfxsgLgy/NY2RzsUsmnLLThAMy5/1U5HtEcdgBq+rUeuqcFodOrmO60B3Cuhp495I2PVfHWKJC8KsVgS+PqD1//Ansv/sArlUyYyx22T2PDKUj2/r8vP1Nf/KaAbYqdsmdXXOA5ecnNlgiZIMlQjZYImSDJUI2WCJkgyVCNlgiZIMlQjb49iN0lrin54aaFC9CYjf/mAj1PbUdI68oQvMYWYpddjKmubrZ1dc14ZQ2u/rdnnBqmW+a0OrzsPC+PdItT8VPAUuEEuGywBIhGywRssESIRssEbLBEiEbLBGywRIhG7yOCK3uZgDHml1du5vBAjxz5Dj9NokZE05pEc6YXb04ViMKGsVMXlgFq0rENorKIwsblR5Yd0it1zeDT3aOiTTwBVjfCK6ZwdTttI/Avu8j2EdwJ7MT7qmRYped7sarBM1v/EOwvErw5gOZT1kP6WUdEuEUsEQ4BkuEbLBEyAZLhGywRMgGS4RssETIBkuEbLBEyAavI0KrSZnB2d0QYgPmzK5unEba6lWCM2ZXd8cq54dlN1P5IqK2qnyXSlXpusEImvZDsM27AX5P9d83C3AvyOyEqcG9MH+j9P15+UzpG/+oVc08laIL8yHY9I1/1Grgs1sCv6Rqni0GvpOvElxbscsErmjFrnv2KsF1XU4QjBHKFXkBsETIBkuEbLBEyAZLhGywRMgGS4RssETIBkuEbPBKIgxcbGcRYWOAH6hvAtdswCMTOMI/ug24iOCqEdyaN8IcjiljzToGmzPbBwYWiUQikUh0n1TvzF7npzqqsKzLvjuct8jOlPE3kAUVeyXyo0aggumrJl95u/QLvMpF/sLbLcaVLP9Koa4M6y5P0So201V+ei92FEX99Huma4ywo+oq+TsOer2bH3laFdPaRp0VhmFy0Cfbrabfaf3CwiSjKgWVjunSiTCTfxrBSiLMO/mu45QSpanMiDD6MeoZf6DcYPGD0Bl4cbI7cbLZH13YXdFRWG066dQUrVqtl+xe6KwkwoLTTCIcDEY/BpduZFo5GVOOkgjTpwiSD6T6pcXPYGeep9I+MDpLtuj7+jNCy1I1cnpJhJVuN+kwngqVO7uNrUqBEyXj9DhRajvGTRQrjvvrhJwL/KC78HYLXtxMB6lxOhKNW6o8u8kiKvcdlfzRA99Pu1cut55T7oNScmDAbMCruCKLRCKRSGSp/wF+joFzOGF25gAAAABJRU5ErkJggg=='>\n",
    "\n",
    "Por exemplo:\n",
    "\n",
    "- para um n=2, a saida deve ser 5\n",
    "- para um n=3, a saida deve ser 13\n",
    "- para um n=4, a saida deve ser 25\n",
    "\n"
   ]
  },
  {
   "cell_type": "code",
   "execution_count": 6,
   "metadata": {},
   "outputs": [
    {
     "name": "stdout",
     "output_type": "stream",
     "text": [
      "13\n"
     ]
    }
   ],
   "source": [
    "area = 0\n",
    "\n",
    "n = 3\n",
    "\n",
    "poligono = 1 + (n-1)*2\n",
    "\n",
    "n = 2\n",
    "\n",
    "poligono = poligono + (1 + (n-1)*2)*2\n",
    "\n",
    "n = 1\n",
    "\n",
    "poligono = poligono + (1 + (n-1)*2)*2\n",
    "\n",
    "print(poligono)"
   ]
  },
  {
   "cell_type": "code",
   "execution_count": 52,
   "metadata": {},
   "outputs": [
    {
     "name": "stdout",
     "output_type": "stream",
     "text": [
      "O poligono tem tamanho: 25\n"
     ]
    }
   ],
   "source": [
    "n = int(input('Digite o valor de N: '))\n",
    "poligono = 0\n",
    "\n",
    "i = 0\n",
    "\n",
    "while (n > 0):\n",
    "    i += 1\n",
    "\n",
    "    if i == 1:\n",
    "        poligono += 1 + (n-1)*2\n",
    "    else:\n",
    "        poligono += (1 + (n-1)*2)*2\n",
    "\n",
    "    n -= 1\n",
    "\n",
    "print(f'O poligono tem tamanho: {poligono}')"
   ]
  },
  {
   "cell_type": "code",
   "execution_count": 5,
   "metadata": {},
   "outputs": [
    {
     "name": "stdout",
     "output_type": "stream",
     "text": [
      "Escolha o número n: 4\n",
      "A área é:  25  u.a.\n"
     ]
    }
   ],
   "source": [
    "n = int(input(\"Escolha o número n: \"))\n",
    "area = n**2+(n-1)**2\n",
    "print(\"A área é: \", area,\" u.a.\")"
   ]
  },
  {
   "cell_type": "code",
   "execution_count": 1,
   "metadata": {},
   "outputs": [
    {
     "name": "stdout",
     "output_type": "stream",
     "text": [
      "Digite um número: 10\n"
     ]
    }
   ],
   "source": [
    "#variáveis\n",
    "n = int(input('Digite um número: '))\n",
    "#contador para reduzir a figura do meio para baixo\n",
    "count=0\n",
    "#eixos da figura( para o FOR )\n",
    "eixo_y = 2*n - 1\n",
    "eixo_x = 2*n - 1"
   ]
  },
  {
   "cell_type": "code",
   "execution_count": null,
   "metadata": {},
   "outputs": [],
   "source": []
  },
  {
   "cell_type": "markdown",
   "metadata": {},
   "source": [
    "5- Dada a seguinte lista:\n",
    "[['Teo', 20], ['Maria', 10], ['Rosana', 15],['Luana',18]]\n",
    "\n",
    "Calcule a média e mostre apenas os nomes das pessoas abaixo da média\n"
   ]
  },
  {
   "cell_type": "code",
   "execution_count": 53,
   "metadata": {},
   "outputs": [
    {
     "name": "stdout",
     "output_type": "stream",
     "text": [
      "Os Alunos que obtiveram notas abaixo da média foram: ['Teo', 'Luana'] \n"
     ]
    }
   ],
   "source": [
    "list1 = [['Teo', 20], ['Maria', 10], ['Rosana', 15],['Luana',18]]\n",
    "\n",
    "media = 0\n",
    "\n",
    "for i in range(len(list1)):\n",
    "    media += list1[i][1]\n",
    "\n",
    "media /= len(list1)\n",
    "\n",
    "reprovados = []\n",
    "for i in range(len(list1)):\n",
    "    if list1[i][1] >= media:\n",
    "        reprovados.append(list1[i][0])\n",
    "\n",
    "print(f'Os Alunos que obtiveram notas abaixo da média foram: {reprovados} ')"
   ]
  },
  {
   "cell_type": "code",
   "execution_count": null,
   "metadata": {},
   "outputs": [],
   "source": []
  },
  {
   "cell_type": "markdown",
   "metadata": {},
   "source": [
    "- Listas\n",
    "    - Copiando listas\n",
    "    - Item dentro de outra lista\n",
    "    - List Comprehension"
   ]
  },
  {
   "cell_type": "code",
   "execution_count": 57,
   "metadata": {},
   "outputs": [
    {
     "name": "stdout",
     "output_type": "stream",
     "text": [
      "Comidas favoritas do Teo: ['Feijoada', 'Lasanha', 'Strogonoff', 'Acarajé', 'Sushi', 'Vatapá'] \n",
      "Comidas favoritas do Paulo: ['Feijoada', 'Lasanha', 'Strogonoff', 'Acarajé', 'Sushi', 'Vatapá'] \n"
     ]
    }
   ],
   "source": [
    "teo = ['Feijoada','Lasanha','Strogonoff','Acarajé','Sushi','Vatapá']\n",
    "paulo = teo\n",
    "\n",
    "print(f'Comidas favoritas do Teo: {teo} ')\n",
    "print(f'Comidas favoritas do Paulo: {paulo} ')\n",
    "\n",
    "\n"
   ]
  },
  {
   "cell_type": "code",
   "execution_count": 58,
   "metadata": {},
   "outputs": [
    {
     "name": "stdout",
     "output_type": "stream",
     "text": [
      "Comidas favoritas do Teo: ['Feijoada', 'Lasanha', 'Strogonoff', 'Acarajé', 'Sushi', 'Vatapá', 'Pizza'] \n",
      "Comidas favoritas do Paulo: ['Feijoada', 'Lasanha', 'Strogonoff', 'Acarajé', 'Sushi', 'Vatapá', 'Pizza'] \n"
     ]
    }
   ],
   "source": [
    "paulo.append('Pizza')\n",
    "\n",
    "print(f'Comidas favoritas do Teo: {teo} ')\n",
    "print(f'Comidas favoritas do Paulo: {paulo} ')"
   ]
  },
  {
   "cell_type": "code",
   "execution_count": 81,
   "metadata": {},
   "outputs": [
    {
     "name": "stdout",
     "output_type": "stream",
     "text": [
      "Comidas favoritas do Teo: ['Feijoada', 'Lasanha', 'Strogonoff', 'Acarajé', 'Sushi', 'Vatapá'] \n",
      "Comidas favoritas do Paulo: ['Sushi', 'Vatapá'] \n",
      "Comidas favoritas do Teo: ['Feijoada', 'Lasanha', 'Strogonoff', 'Acarajé', 'Sushi', 'Vatapá'] \n",
      "Comidas favoritas do Paulo: ['Sushi', 'Vatapá', 'Pizza'] \n"
     ]
    }
   ],
   "source": [
    "teo = ['Feijoada','Lasanha','Strogonoff','Acarajé','Sushi','Vatapá']\n",
    "paulo = teo[:]\n",
    "\n",
    "print(f'Comidas favoritas do Teo: {teo} ')\n",
    "print(f'Comidas favoritas do Paulo: {paulo} ')\n",
    "\n",
    "paulo.append('Pizza')\n",
    "\n",
    "print(f'Comidas favoritas do Teo: {teo} ')\n",
    "print(f'Comidas favoritas do Paulo: {paulo} ')\n",
    "\n"
   ]
  },
  {
   "cell_type": "code",
   "execution_count": 60,
   "metadata": {},
   "outputs": [
    {
     "name": "stdout",
     "output_type": "stream",
     "text": [
      "Comidas favoritas do Teo: ['Feijoada', 'Lasanha', 'Strogonoff', 'Acarajé', 'Sushi', 'Vatapá'] \n",
      "Comidas favoritas do Paulo: ['Feijoada', 'Lasanha', 'Strogonoff', 'Acarajé', 'Sushi', 'Vatapá'] \n",
      "Comidas favoritas do Teo: ['Feijoada', 'Lasanha', 'Strogonoff', 'Acarajé', 'Sushi', 'Vatapá'] \n",
      "Comidas favoritas do Paulo: ['Feijoada', 'Lasanha', 'Strogonoff', 'Acarajé', 'Sushi', 'Vatapá', 'Pizza'] \n"
     ]
    }
   ],
   "source": [
    "teo = ['Feijoada','Lasanha','Strogonoff','Acarajé','Sushi','Vatapá']\n",
    "paulo = teo.copy()\n",
    "\n",
    "print(f'Comidas favoritas do Teo: {teo} ')\n",
    "print(f'Comidas favoritas do Paulo: {paulo} ')\n",
    "\n",
    "paulo.append('Pizza')\n",
    "\n",
    "print(f'Comidas favoritas do Teo: {teo} ')\n",
    "print(f'Comidas favoritas do Paulo: {paulo} ')\n",
    "\n"
   ]
  },
  {
   "cell_type": "code",
   "execution_count": 67,
   "metadata": {},
   "outputs": [
    {
     "name": "stdout",
     "output_type": "stream",
     "text": [
      "Minha comida favorita Lasanha está na lista\n",
      "Minha comida favorita Hamburguer não está na lista\n"
     ]
    }
   ],
   "source": [
    "comidas = ['Feijoada','Lasanha','Strogonoff','Acarajé','Sushi','Vatapá']\n",
    "\n",
    "comida_favorita = ['Lasanha', 'Hamburguer']\n",
    "\n",
    "for favorita in comida_favorita:\n",
    "    if favorita in comidas:\n",
    "        print(f'Minha comida favorita {favorita} está na lista')\n",
    "    else:\n",
    "        print(f'Minha comida favorita {favorita} não está na lista')\n",
    "\n",
    "\n",
    "\n",
    "# if comida_favorita in comidas: # com listas, podemos usar o IN para saber se algo está dentro da lista\n",
    "#     print('Minha comida favorita está na lista')\n",
    "# else:\n",
    "#     print('Minha comida favorita não está na lista')"
   ]
  },
  {
   "cell_type": "code",
   "execution_count": 80,
   "metadata": {},
   "outputs": [
    {
     "name": "stdout",
     "output_type": "stream",
     "text": [
      "FORMA 1\n",
      "[1, 4, 9, 16, 25, 36, 49, 64, 81, 100]\n",
      "FORMA 2\n",
      "[1, 4, 9, 16, 25, 36, 49, 64, 81, 100]\n",
      "FORMA 3\n",
      "[1, 4, 9, 16, 25, 36, 49, 64, 81, 100]\n",
      "Esses são os quadradros dos numeros:\n",
      "1\n",
      "4\n",
      "9\n",
      "16\n",
      "25\n",
      "36\n",
      "49\n",
      "64\n",
      "81\n",
      "100\n"
     ]
    }
   ],
   "source": [
    "# List Comprehension\n",
    "\n",
    "# FORMA 1\n",
    "print('FORMA 1')\n",
    "quadrados = []\n",
    "\n",
    "for i in range(1,11):\n",
    "    quadrado = i ** 2\n",
    "    quadrados.append(quadrado)\n",
    "\n",
    "print(quadrados)\n",
    "\n",
    "# FORMA 2\n",
    "print('FORMA 2')\n",
    "quadrados = []\n",
    "\n",
    "for i in range(1,11):\n",
    "    quadrados.append(i ** 2)\n",
    "\n",
    "print(quadrados)\n",
    "\n",
    "# FORMA 3 - List Compreension\n",
    "print('FORMA 3')\n",
    "quadrados = [i ** 2 for i in range(1,11)]\n",
    "print(quadrados)\n",
    "\n",
    "# Pega a lista e coloca o resultado formatado\n",
    "print('Esses são os quadradros dos numeros:', *quadrados, sep = '\\n')\n"
   ]
  },
  {
   "cell_type": "markdown",
   "metadata": {},
   "source": [
    "## TUPLA\n",
    "\n",
    "- Lista imutável"
   ]
  },
  {
   "cell_type": "code",
   "execution_count": 88,
   "metadata": {},
   "outputs": [
    {
     "name": "stdout",
     "output_type": "stream",
     "text": [
      "Segundo item da tupla: 2\n",
      "Segundo item da lista: 2\n",
      "Tupla: (1, 2, 3, 4, 5)\n",
      "lista: [1, 2, 3, 4, 5]\n"
     ]
    }
   ],
   "source": [
    "tupla = (1,2,3,4,5)\n",
    "lista = [1,2,3,4,5]\n",
    "\n",
    "print(f'Segundo item da tupla: {tupla[1]}')\n",
    "print(f'Segundo item da lista: {lista[1]}' )\n",
    "\n",
    "print(f'Tupla: {tupla}')\n",
    "print(f'lista: {lista}')"
   ]
  },
  {
   "cell_type": "code",
   "execution_count": 91,
   "metadata": {},
   "outputs": [
    {
     "name": "stdout",
     "output_type": "stream",
     "text": [
      "('teo', 123, False, 1.5)\n",
      "('outra pessoa', 321, True, 3)\n"
     ]
    }
   ],
   "source": [
    "tupla = ('teo', 123, False, 1.5)\n",
    "print(tupla)\n",
    "tupla = ('outra pessoa', 321, True, 3)\n",
    "print(tupla)"
   ]
  },
  {
   "cell_type": "code",
   "execution_count": 86,
   "metadata": {},
   "outputs": [
    {
     "name": "stdout",
     "output_type": "stream",
     "text": [
      "[1, 20, 3, 4, 5]\n"
     ]
    }
   ],
   "source": [
    "lista[1] = 20\n",
    "print(lista)"
   ]
  },
  {
   "cell_type": "code",
   "execution_count": 99,
   "metadata": {},
   "outputs": [
    {
     "name": "stdout",
     "output_type": "stream",
     "text": [
      "<class 'tuple'>\n",
      "(1,)\n"
     ]
    }
   ],
   "source": [
    "tupla = (1,) #criando tuplas só com um registro\n",
    "print(type(tupla))\n",
    "print(tupla)"
   ]
  },
  {
   "cell_type": "code",
   "execution_count": 87,
   "metadata": {},
   "outputs": [
    {
     "ename": "TypeError",
     "evalue": "'tuple' object does not support item assignment",
     "output_type": "error",
     "traceback": [
      "\u001b[1;31m---------------------------------------------------------------------------\u001b[0m",
      "\u001b[1;31mTypeError\u001b[0m                                 Traceback (most recent call last)",
      "Cell \u001b[1;32mIn [87], line 1\u001b[0m\n\u001b[1;32m----> 1\u001b[0m \u001b[43mtupla\u001b[49m\u001b[43m[\u001b[49m\u001b[38;5;241;43m1\u001b[39;49m\u001b[43m]\u001b[49m \u001b[38;5;241m=\u001b[39m \u001b[38;5;241m20\u001b[39m\n\u001b[0;32m      2\u001b[0m \u001b[38;5;28mprint\u001b[39m(tupla)\n",
      "\u001b[1;31mTypeError\u001b[0m: 'tuple' object does not support item assignment"
     ]
    }
   ],
   "source": [
    "tupla[1] = 20\n",
    "print(tupla)"
   ]
  },
  {
   "cell_type": "code",
   "execution_count": 103,
   "metadata": {},
   "outputs": [
    {
     "name": "stdout",
     "output_type": "stream",
     "text": [
      "('teo', 123, False, 1.5)\n",
      "['teo', 123, False, 1.5]\n",
      "('teo', 123, False, 1.5)\n",
      "['teo', 123, False, 1.5, 'Teste']\n"
     ]
    }
   ],
   "source": [
    "tupla = ('teo', 123, False, 1.5)\n",
    "lista = list(tupla)\n",
    "\n",
    "print(tupla)\n",
    "print(lista)\n",
    "\n",
    "lista.append('Teste')\n",
    "\n",
    "print(tupla)\n",
    "print(lista)"
   ]
  },
  {
   "cell_type": "code",
   "execution_count": 107,
   "metadata": {},
   "outputs": [
    {
     "name": "stdout",
     "output_type": "stream",
     "text": [
      "('teo', 123, False, 1.5)\n",
      "['teo', 123, False, 1.5]\n",
      "('teo', 123, False, 1.5)\n",
      "['teo', 123, False, 1.5, 'Teste']\n"
     ]
    }
   ],
   "source": [
    "lista = ['teo', 123, False, 1.5]\n",
    "tupla = tuple(lista)\n",
    "\n",
    "print(tupla)\n",
    "print(lista)\n",
    "\n",
    "lista.append('Teste')\n",
    "\n",
    "print(tupla)\n",
    "print(lista)"
   ]
  },
  {
   "cell_type": "code",
   "execution_count": 115,
   "metadata": {},
   "outputs": [
    {
     "name": "stdout",
     "output_type": "stream",
     "text": [
      "Felicidade\n"
     ]
    }
   ],
   "source": [
    "def oi_mundo():\n",
    "    print('Hello World')\n",
    "    print('Quase no fim')\n",
    "    print('Força')\n",
    "    print('Foco')\n",
    "    print('Fé')\n",
    "\n",
    "print('Felicidade')"
   ]
  },
  {
   "cell_type": "code",
   "execution_count": 116,
   "metadata": {},
   "outputs": [
    {
     "name": "stdout",
     "output_type": "stream",
     "text": [
      "Hello World\n",
      "Quase no fim\n",
      "Força\n",
      "Foco\n",
      "Fé\n"
     ]
    }
   ],
   "source": [
    "oi_mundo()"
   ]
  },
  {
   "cell_type": "code",
   "execution_count": 3,
   "metadata": {},
   "outputs": [],
   "source": [
    "def oi_pessoa(nome, sobrenome):\n",
    "    ''' Este método não faz de interessante, mas recebe um parâmetro '''\n",
    "    print('Hello World')\n",
    "    print(f'Você se chama {nome} {sobrenome}')\n",
    "    print('Tudo bem?')"
   ]
  },
  {
   "cell_type": "code",
   "execution_count": 4,
   "metadata": {},
   "outputs": [],
   "source": [
    "def calcula_produto (a,b):\n",
    "    produto = a*b\n",
    "    \n",
    "    return produto\n",
    "\n"
   ]
  },
  {
   "cell_type": "code",
   "execution_count": 137,
   "metadata": {},
   "outputs": [
    {
     "name": "stdout",
     "output_type": "stream",
     "text": [
      "8\n"
     ]
    }
   ],
   "source": [
    "resultado = calcula_produto(2,4)\n",
    "print(resultado)"
   ]
  },
  {
   "cell_type": "code",
   "execution_count": 139,
   "metadata": {},
   "outputs": [],
   "source": [
    "def calcula_produto_lista (lista):\n",
    "\n",
    "    produto = 1\n",
    "\n",
    "    for item in lista: \n",
    "        produto *= item\n",
    "\n",
    "    return produto"
   ]
  },
  {
   "cell_type": "code",
   "execution_count": 141,
   "metadata": {},
   "outputs": [
    {
     "data": {
      "text/plain": [
       "13440"
      ]
     },
     "execution_count": 141,
     "metadata": {},
     "output_type": "execute_result"
    }
   ],
   "source": [
    "calcula_produto_lista([2,4,5,6,7,8])"
   ]
  },
  {
   "cell_type": "code",
   "execution_count": 157,
   "metadata": {},
   "outputs": [],
   "source": [
    "def mostra_nome (nome, sobrenome='Silva'):\n",
    "\n",
    "    if sobrenome:\n",
    "        print(f'Seu nome é {nome} e seu sobrenome é {sobrenome}')\n",
    "    else:\n",
    "        print(f'Seu nome é {nome}')"
   ]
  },
  {
   "cell_type": "code",
   "execution_count": 162,
   "metadata": {},
   "outputs": [
    {
     "name": "stdout",
     "output_type": "stream",
     "text": [
      "Seu nome é Teodor e seu sobrenome é Silva\n",
      "Seu nome é Teodor e seu sobrenome é Barczewski\n",
      "Seu nome é Barczewski e seu sobrenome é Teodor\n",
      "Seu nome é Teodor\n"
     ]
    }
   ],
   "source": [
    "mostra_nome('Teodor')\n",
    "mostra_nome(nome='Teodor', sobrenome='Barczewski')\n",
    "mostra_nome(sobrenome='Teodor', nome='Barczewski')\n",
    "mostra_nome('Teodor', '')"
   ]
  },
  {
   "cell_type": "code",
   "execution_count": 165,
   "metadata": {},
   "outputs": [
    {
     "name": "stdout",
     "output_type": "stream",
     "text": [
      "Valor do primeiro digito: 9\n",
      "Valor do segundo digito: 3\n",
      "CPF incorreto\n",
      "False\n"
     ]
    }
   ],
   "source": [
    "from autenticador import autenticador_cpf\n",
    "\n",
    "print(autenticador_cpf('754.514.184-09'))"
   ]
  },
  {
   "cell_type": "markdown",
   "metadata": {},
   "source": []
  }
 ],
 "metadata": {
  "kernelspec": {
   "display_name": "Python 3 (ipykernel)",
   "language": "python",
   "name": "python3"
  },
  "language_info": {
   "codemirror_mode": {
    "name": "ipython",
    "version": 3
   },
   "file_extension": ".py",
   "mimetype": "text/x-python",
   "name": "python",
   "nbconvert_exporter": "python",
   "pygments_lexer": "ipython3",
   "version": "3.9.12"
  },
  "vscode": {
   "interpreter": {
    "hash": "28e4ac859c9a7573a0f6f8efad0c0329134bc90e4f4badebebe1f83f8d59692c"
   }
  }
 },
 "nbformat": 4,
 "nbformat_minor": 2
}
