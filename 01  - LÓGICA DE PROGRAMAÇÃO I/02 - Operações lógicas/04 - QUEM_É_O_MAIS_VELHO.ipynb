{
 "cells": [
  {
   "cell_type": "code",
   "execution_count": 1,
   "metadata": {},
   "outputs": [
    {
     "name": "stdout",
     "output_type": "stream",
     "text": [
      "Usuário 2 tem a maior idade 65\n",
      "Usuário 3 tem a menor idade 12\n"
     ]
    }
   ],
   "source": [
    "#4- Receba a idade de 3 pessoas e informe o mais velho e o mais novo entre eles. \n",
    "# Caso os 3 tenham a mesma idade, informe que todos tem a mesma idade.\n",
    "\n",
    "idade_1 = int(input(\"Digita a idade a 1° idade: \"))\n",
    "idade_2 = int(input(\"Digita a idade a 2° idade: \"))\n",
    "idade_3 = int(input(\"Digita a idade a 3° idade: \"))\n",
    "\n",
    "if idade_1 == idade_2 and idade_2 == idade_3:\n",
    "    print('Todas as idades são iguais')\n",
    "elif idade_1 >= idade_2 and idade_1 >= idade_3:\n",
    "    print(f'Usuário 1 tem a maior idade {idade_1}')\n",
    "    if (idade_2 < idade_3):\n",
    "        print(f'Usuário 2 tem a menor idade {idade_2}')\n",
    "    elif (idade_2 > idade_3):\n",
    "        print(f'Usuário 3 tem a menor idade {idade_3}')\n",
    "    else:\n",
    "        print(f'Usuário 2 e 3 tem a mesma idade')\n",
    "    \n",
    "elif idade_2 >= idade_1 and idade_2 >= idade_3:\n",
    "    print(f'Usuário 2 tem a maior idade {idade_2}')\n",
    "\n",
    "    if (idade_1 <= idade_3):\n",
    "        print(f'Usuário 1 tem a menor idade {idade_1}')\n",
    "    else:\n",
    "        print(f'Usuário 3 tem a menor idade {idade_3}')\n",
    "\n",
    "else:\n",
    "    print(f'Usuário 3 tem a maior idade {idade_3}')\n",
    "\n",
    "    if (idade_1 <= idade_2):\n",
    "        print(f'Usuário 1 tem a menor idade {idade_1}')\n",
    "    else:\n",
    "        print(f'Usuário 2 tem a menor idade {idade_2}')\n"
   ]
  }
 ],
 "metadata": {
  "kernelspec": {
   "display_name": "Python 3.9.12 ('base')",
   "language": "python",
   "name": "python3"
  },
  "language_info": {
   "name": "python",
   "version": "3.9.12"
  },
  "orig_nbformat": 4,
  "vscode": {
   "interpreter": {
    "hash": "e8755eff31258cf3f68aa399e6f759d79082959dfad6f58a9830d0e0b06355a5"
   }
  }
 },
 "nbformat": 4,
 "nbformat_minor": 2
}
