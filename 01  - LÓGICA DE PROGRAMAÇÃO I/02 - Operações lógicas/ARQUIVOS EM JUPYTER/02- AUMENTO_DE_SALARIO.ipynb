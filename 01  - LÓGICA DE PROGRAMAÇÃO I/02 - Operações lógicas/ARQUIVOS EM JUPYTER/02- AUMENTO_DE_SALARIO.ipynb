{
 "cells": [
  {
   "cell_type": "code",
   "execution_count": 1,
   "metadata": {},
   "outputs": [
    {
     "name": "stdout",
     "output_type": "stream",
     "text": [
      "Você tem 1 anos de empresa. Seu salário permanecerá em R$1300.0\n"
     ]
    }
   ],
   "source": [
    "#2 - Uma empresa decidiu dar um aumento de 5% no salário de uma pessoa se ela trabalha na mesma empresa a mais de 5 anos. \n",
    "# Faça um programa que receba o ano de contratação, o salário e mostre o novo salário. Considere o ano atual (2022) para o cálculo.\n",
    "\n",
    "\n",
    "\n",
    "\n",
    "import datetime\n",
    "\n",
    "data_now = str(datetime.datetime.today())\n",
    "\n",
    "data_inicio = input('Digite o ano de sua contratação: ')\n",
    "salario = float(input('Digite seu salário: '))\n",
    "tempo_casa = int(data_now[:4]) - int(data_inicio)\n",
    "print(f'Você tem {tempo_casa} anos de empresa. ',end='')\n",
    "if tempo_casa > 5:\n",
    "    salario = salario * 1.05\n",
    "    print(f'Seu novo salário é R${salario}')\n",
    "else:\n",
    "    print(f'Seu salário permanecerá em R${salario}')"
   ]
  }
 ],
 "metadata": {
  "kernelspec": {
   "display_name": "Python 3.9.12 ('base')",
   "language": "python",
   "name": "python3"
  },
  "language_info": {
   "name": "python",
   "version": "3.9.12"
  },
  "orig_nbformat": 4,
  "vscode": {
   "interpreter": {
    "hash": "e8755eff31258cf3f68aa399e6f759d79082959dfad6f58a9830d0e0b06355a5"
   }
  }
 },
 "nbformat": 4,
 "nbformat_minor": 2
}
