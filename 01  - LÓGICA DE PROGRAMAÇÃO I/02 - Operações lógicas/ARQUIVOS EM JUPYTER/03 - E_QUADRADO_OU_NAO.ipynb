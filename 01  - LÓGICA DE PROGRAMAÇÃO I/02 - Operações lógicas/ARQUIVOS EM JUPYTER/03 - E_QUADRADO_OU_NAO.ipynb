{
 "cells": [
  {
   "cell_type": "code",
   "execution_count": 1,
   "metadata": {},
   "outputs": [
    {
     "name": "stdout",
     "output_type": "stream",
     "text": [
      "É um quadrado\n"
     ]
    }
   ],
   "source": [
    "\n",
    "#3 - Receba a largura e altura de um retangulo e informe ao usuário se é um quadrado ou não\n",
    "\n",
    "h = float(input(\"Insira o valor da altura do retângulo\"))\n",
    "b = float(input(\"Insira o valor da largura do retângulo\"))\n",
    "\n",
    "if h != b:\n",
    "    print(\"Não é um quadrado\")\n",
    "else:\n",
    "    print(\"É um quadrado\")"
   ]
  }
 ],
 "metadata": {
  "kernelspec": {
   "display_name": "Python 3.9.12 ('base')",
   "language": "python",
   "name": "python3"
  },
  "language_info": {
   "name": "python",
   "version": "3.9.12"
  },
  "orig_nbformat": 4,
  "vscode": {
   "interpreter": {
    "hash": "e8755eff31258cf3f68aa399e6f759d79082959dfad6f58a9830d0e0b06355a5"
   }
  }
 },
 "nbformat": 4,
 "nbformat_minor": 2
}
