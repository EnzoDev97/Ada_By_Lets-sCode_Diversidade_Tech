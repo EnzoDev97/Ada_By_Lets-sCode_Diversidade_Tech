{
 "cells": [
  {
   "cell_type": "code",
   "execution_count": 1,
   "metadata": {},
   "outputs": [
    {
     "name": "stdout",
     "output_type": "stream",
     "text": [
      "O aluno compareceu a 100.0% das aulas e pode realizar a prova!\n"
     ]
    }
   ],
   "source": [
    "#6 - Um aluno não pode fazer a prova se a porcentagem de comparecimento nas aulas dele for menor que 75%.\n",
    "# Receba o número de aulas de um módulo, o número de aulas que o aluno participou.\n",
    "# Mostre o % de participação e se o estudante pode fazer a prova ou não.\n",
    "# Inclua regras de preenchimento não explícitas no exercício\n",
    "\n",
    "Aulas_totais = int(input('Insira o número total de aulas: '))\n",
    "Aulas_comparecidas = int(input('Insira o número de aulas comparecidas: '))\n",
    "Percentual = Aulas_comparecidas*100/Aulas_totais\n",
    "\n",
    "if Aulas_totais >= Aulas_comparecidas:\n",
    "    if Percentual >= 75:\n",
    "        print(f'O aluno compareceu a {Percentual}% das aulas e pode realizar a prova!')\n",
    "    else:\n",
    "        print(f'O aluno compareceu a {Percentual}% das aulas e não pode realizar a prova!')\n",
    "else:\n",
    "    print('Não é possível faltar mais aulas do que a quantidade de aulas')"
   ]
  }
 ],
 "metadata": {
  "kernelspec": {
   "display_name": "Python 3.9.12 ('base')",
   "language": "python",
   "name": "python3"
  },
  "language_info": {
   "name": "python",
   "version": "3.9.12"
  },
  "orig_nbformat": 4,
  "vscode": {
   "interpreter": {
    "hash": "e8755eff31258cf3f68aa399e6f759d79082959dfad6f58a9830d0e0b06355a5"
   }
  }
 },
 "nbformat": 4,
 "nbformat_minor": 2
}
