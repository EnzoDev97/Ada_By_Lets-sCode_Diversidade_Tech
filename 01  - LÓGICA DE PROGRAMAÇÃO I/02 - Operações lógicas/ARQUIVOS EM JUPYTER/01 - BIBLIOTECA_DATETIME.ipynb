{
 "cells": [
  {
   "cell_type": "code",
   "execution_count": 2,
   "metadata": {},
   "outputs": [
    {
     "name": "stdout",
     "output_type": "stream",
     "text": [
      "O ano é 2022, o mês é 11 e dia é 09  \n",
      "O ano 5 pertence ao século 1\n",
      "2022 pertence ao século 21\n"
     ]
    }
   ],
   "source": [
    "#01 - Receba o ano (comecando com 1). Informe qual o século que aquele ano pertence, \n",
    "\n",
    "from datetime import datetime\n",
    "\n",
    "ano_atual = str(datetime.now())[0:4]\n",
    "mes_atual = str(datetime.now())[5:7]\n",
    "dia_atual = str(datetime.now())[8:11]\n",
    "\n",
    "print(f'O ano é {ano_atual}, o mês é {mes_atual} e dia é {dia_atual} ')\n",
    "\n",
    "\n",
    "# Século \n",
    "\n",
    "ano = 5 #int(input('Digite um ano: '))\n",
    "\n",
    "if (ano % 100 == 0):\n",
    "    seculo =  ano // 100\n",
    "else:\n",
    "    \n",
    "    seculo = ano // 100 + 1\n",
    "print(f'O ano {ano} pertence ao século {seculo}')\n",
    "\n",
    "\n",
    "# OU\n",
    "\n",
    "ano = int(input(\"Digite um ano para saber o século: \"))\n",
    "\n",
    "resto1 = ano % 10\n",
    "parte_restante = ano // 10\n",
    "resto2 = parte_restante % 10\n",
    "\n",
    "if resto1 == 0 and resto2 == 0:\n",
    "    seculo = ano//100\n",
    "    print(f\"{ano} pertence ao século {(seculo)}\")\n",
    "else:\n",
    "    seculo = ano//100 + 1\n",
    "    print(f\"{ano} pertence ao século {(seculo)}\")\n"
   ]
  }
 ],
 "metadata": {
  "kernelspec": {
   "display_name": "Python 3.9.12 ('base')",
   "language": "python",
   "name": "python3"
  },
  "language_info": {
   "codemirror_mode": {
    "name": "ipython",
    "version": 3
   },
   "file_extension": ".py",
   "mimetype": "text/x-python",
   "name": "python",
   "nbconvert_exporter": "python",
   "pygments_lexer": "ipython3",
   "version": "3.9.12"
  },
  "orig_nbformat": 4,
  "vscode": {
   "interpreter": {
    "hash": "e8755eff31258cf3f68aa399e6f759d79082959dfad6f58a9830d0e0b06355a5"
   }
  }
 },
 "nbformat": 4,
 "nbformat_minor": 2
}
