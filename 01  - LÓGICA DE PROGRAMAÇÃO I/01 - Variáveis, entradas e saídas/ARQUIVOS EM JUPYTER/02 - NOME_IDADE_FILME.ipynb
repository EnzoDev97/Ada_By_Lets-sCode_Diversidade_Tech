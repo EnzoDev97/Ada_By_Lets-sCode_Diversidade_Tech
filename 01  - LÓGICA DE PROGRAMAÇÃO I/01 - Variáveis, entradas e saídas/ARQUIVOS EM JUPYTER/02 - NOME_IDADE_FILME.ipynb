{
 "cells": [
  {
   "cell_type": "code",
   "execution_count": 1,
   "metadata": {},
   "outputs": [
    {
     "name": "stdout",
     "output_type": "stream",
     "text": [
      "____________________________________________________________________________________________________\n",
      "\n",
      "\n",
      "MEU NOME É \u001b[42mENZO\u001b[0m EU TENHO \u001b[42m24\u001b[0m ANOS E MEU FILME FAVORITO É \u001b[42mENCANTO\u001b[0m\n"
     ]
    }
   ],
   "source": [
    "#2- Escreva um programa que receba seu nome, sua idade e filme predileto, e escreva uma unica sentença que seja\n",
    "#\"Meu nome é 'nome', tenho 'anos' anos e meu filme predileto é ''\n",
    "\n",
    "nome = input('INFORME SEU NOME: ')\n",
    "idade = int(input('DIGITE SUA IDADE: '))\n",
    "filme = input('QUAL É O SEU FILME FAVORITO? ')\n",
    "print('_'*100)\n",
    "print('\\n')\n",
    "\n",
    "print('MEU NOME É \\033[42m{}\\033[0m EU TENHO \\033[42m{}\\033[0m ANOS E MEU FILME FAVORITO É \\033[42m{}\\033[0m'.format(nome,idade,filme))"
   ]
  }
 ],
 "metadata": {
  "kernelspec": {
   "display_name": "Python 3.9.12 ('base')",
   "language": "python",
   "name": "python3"
  },
  "language_info": {
   "name": "python",
   "version": "3.9.12"
  },
  "orig_nbformat": 4,
  "vscode": {
   "interpreter": {
    "hash": "e8755eff31258cf3f68aa399e6f759d79082959dfad6f58a9830d0e0b06355a5"
   }
  }
 },
 "nbformat": 4,
 "nbformat_minor": 2
}
