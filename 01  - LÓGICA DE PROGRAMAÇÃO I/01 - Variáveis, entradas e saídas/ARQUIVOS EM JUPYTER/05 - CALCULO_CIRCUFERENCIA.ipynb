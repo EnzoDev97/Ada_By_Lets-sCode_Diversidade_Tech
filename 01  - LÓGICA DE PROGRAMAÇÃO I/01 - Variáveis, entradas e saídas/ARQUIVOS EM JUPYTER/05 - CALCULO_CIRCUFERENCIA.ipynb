{
 "cells": [
  {
   "cell_type": "code",
   "execution_count": 1,
   "metadata": {},
   "outputs": [
    {
     "name": "stdout",
     "output_type": "stream",
     "text": [
      "A circunferencia mede: 50.26 m\n"
     ]
    }
   ],
   "source": [
    "#5 - Receba o raio de uma circulo e calcule a circunferencia (não use bibliotecas externas). Circunferencia é 2 * pi * raio\n",
    "\n",
    "raio = float(input(\"Insira o valor do raio em metros: \"))\n",
    "\n",
    "circunferencia = 2*3.1415*raio\n",
    "\n",
    "print(f\"A circunferencia mede: {circunferencia:.2f} m\")"
   ]
  }
 ],
 "metadata": {
  "kernelspec": {
   "display_name": "Python 3.9.12 ('base')",
   "language": "python",
   "name": "python3"
  },
  "language_info": {
   "name": "python",
   "version": "3.9.12"
  },
  "orig_nbformat": 4,
  "vscode": {
   "interpreter": {
    "hash": "e8755eff31258cf3f68aa399e6f759d79082959dfad6f58a9830d0e0b06355a5"
   }
  }
 },
 "nbformat": 4,
 "nbformat_minor": 2
}
