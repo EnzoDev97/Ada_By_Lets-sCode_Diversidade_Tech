{
 "cells": [
  {
   "cell_type": "code",
   "execution_count": 6,
   "metadata": {},
   "outputs": [
    {
     "name": "stdout",
     "output_type": "stream",
     "text": [
      "____________________________________________________________________________________________________\n",
      "\n",
      "\n",
      "==================== OPÇÃO LATA ====================\n",
      "A ÁREA DE 320.00 M2 IRÁ PRECISAR DE 3 LATA(S) DE TINTA,\n",
      "TEREMOS UM DESPERDICIO DE 1.00 LITROS E \n",
      "TEREMOS UM GASTO DE R$240.00 REAIS\n",
      "=====================================================\n",
      "\n",
      "\n",
      "==================== OPÇÃO GALÃO ====================\n",
      "A ÁREA DE 320.00 M2 IRÁ PRECISAR DE 15 LATA(S) DE TINTA,\n",
      "TEREMOS UM DESPERDICIO DE 1.00 LITROS E \n",
      "TEREMOS UM GASTO DE R$375.00 REAIS\n",
      "=====================================================\n",
      "\n",
      "\n",
      "============================ LATA & GALÃO ============================\n",
      "A ÁREA DE 320.00 M2 IRÁ PRECISAR DE 3 LATA(S) E 1 GALÃO(ÕES) DE TINTA  \n",
      "TEREMOS UM DESPERDICIO DE 4.60 LITROS E \n",
      "TEREMOS UM GASTO DE R$265.00 REAIS\n",
      "======================================================================\n",
      "\n",
      "\n"
     ]
    }
   ],
   "source": [
    "#Questão extra:\n",
    "\n",
    "#Faça um programa para uma loja de tintas. O programa deverá pedir o tamanho em metros quadrados da área a ser pintada.\n",
    "#Considere que a cobertura da tinta é de 1 litro para cada 6 metros quadrados e que a tinta é vendida em latas de 18 litros,\n",
    "#que custam 80.00 reais ou em galões de 3.6 litros, que custam 25.00 reais.\n",
    "\n",
    "#Informe ao usuário as quantidades de tinta a serem compradas e os respectivos preços em 3 situações:\n",
    "\n",
    "#Comprar apenas latas de 18 litros; \n",
    "#Comprar apenas galões de 3.6 litros; \n",
    "#Misturar latas e galões de forma que o desperdício de tinta seja menor. \n",
    "#Podem considerar latas pela metade (valores decimais para quantidade de latas)\n",
    "\n",
    "\n",
    "area = float(input('INFORME QUANTOS M2 TEM A ÁREA: '))\n",
    "print('_'*100)\n",
    "print('\\n')\n",
    "lata = 18\n",
    "galao = 3.6\n",
    "qtd_litros = round(area/6)\n",
    "\n",
    "\n",
    "#LATAS\n",
    "qtd_lata = round(qtd_litros/lata)\n",
    "desperdicio_lata = qtd_lata* lata - qtd_litros\n",
    "valor_lata = qtd_lata*80\n",
    "\n",
    "print('='*20,'OPÇÃO LATA','='*20)\n",
    "print('A ÁREA DE {:.2f} M2 IRÁ PRECISAR DE {} LATA(S) DE TINTA,\\nTEREMOS UM DESPERDICIO DE {:.2f} LITROS E \\nTEREMOS UM GASTO DE R${:.2f} REAIS'.format(area,qtd_lata,desperdicio_lata,valor_lata))\n",
    "print('='*53)\n",
    "print('\\n')\n",
    "\n",
    "#GALÕES\n",
    "qtd_galao =round(qtd_litros/galao)\n",
    "desperdicio_galao = qtd_galao* galao - qtd_litros\n",
    "valor_galao = qtd_galao*25\n",
    "\n",
    "print('='*20,'OPÇÃO GALÃO','='*20)\n",
    "print('A ÁREA DE {:.2f} M2 IRÁ PRECISAR DE {} LATA(S) DE TINTA,\\nTEREMOS UM DESPERDICIO DE {:.2f} LITROS E \\nTEREMOS UM GASTO DE R${:.2f} REAIS'.format(area,qtd_galao,desperdicio_galao,valor_galao))\n",
    "print('='*53)\n",
    "print('\\n')\n",
    "\n",
    "#GALÕES E LATAS\n",
    "qtd_latas = round(qtd_litros/lata)\n",
    "restante = qtd_latas%lata\n",
    "qtd_galoes = round(restante/galao)\n",
    "desperdicio = qtd_latas*lata + qtd_galoes*galao - qtd_litros\n",
    "valor_total = qtd_latas*80 + qtd_galoes* 25\n",
    "\n",
    "print('='*28,'LATA & GALÃO','='*28)\n",
    "print('A ÁREA DE {:.2f} M2 IRÁ PRECISAR DE {} LATA(S) E {} GALÃO(ÕES) DE TINTA  \\nTEREMOS UM DESPERDICIO DE {:.2f} LITROS E \\nTEREMOS UM GASTO DE R${:.2f} REAIS'.format(area,qtd_latas,qtd_galoes,desperdicio,valor_total))\n",
    "print('='*70)\n",
    "print('\\n')\n"
   ]
  }
 ],
 "metadata": {
  "kernelspec": {
   "display_name": "Python 3.9.12 ('base')",
   "language": "python",
   "name": "python3"
  },
  "language_info": {
   "codemirror_mode": {
    "name": "ipython",
    "version": 3
   },
   "file_extension": ".py",
   "mimetype": "text/x-python",
   "name": "python",
   "nbconvert_exporter": "python",
   "pygments_lexer": "ipython3",
   "version": "3.9.12"
  },
  "orig_nbformat": 4,
  "vscode": {
   "interpreter": {
    "hash": "e8755eff31258cf3f68aa399e6f759d79082959dfad6f58a9830d0e0b06355a5"
   }
  }
 },
 "nbformat": 4,
 "nbformat_minor": 2
}
