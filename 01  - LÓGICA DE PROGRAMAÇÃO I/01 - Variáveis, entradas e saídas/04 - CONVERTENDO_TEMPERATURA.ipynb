{
 "cells": [
  {
   "cell_type": "code",
   "execution_count": 1,
   "metadata": {},
   "outputs": [
    {
     "name": "stdout",
     "output_type": "stream",
     "text": [
      "____________________________________________________________________________________________________\n",
      "\n",
      "\n",
      "A temperatura em Fahrenheit é 212.0\n"
     ]
    }
   ],
   "source": [
    "#4- Crie um programa que receba a temperatura em CELSIUS e converta para FAHRENHEIT (pesquise no google a fórmula)\n",
    "\n",
    "celsius = float(input('Digite a temperatura em Celsius: '))\n",
    "\n",
    "f = (celsius*1.8)+32\n",
    "print('_'*100)\n",
    "print('\\n')\n",
    "\n",
    "print(f'A temperatura em Fahrenheit é {f}')"
   ]
  }
 ],
 "metadata": {
  "kernelspec": {
   "display_name": "Python 3.9.12 ('base')",
   "language": "python",
   "name": "python3"
  },
  "language_info": {
   "name": "python",
   "version": "3.9.12"
  },
  "orig_nbformat": 4,
  "vscode": {
   "interpreter": {
    "hash": "e8755eff31258cf3f68aa399e6f759d79082959dfad6f58a9830d0e0b06355a5"
   }
  }
 },
 "nbformat": 4,
 "nbformat_minor": 2
}
