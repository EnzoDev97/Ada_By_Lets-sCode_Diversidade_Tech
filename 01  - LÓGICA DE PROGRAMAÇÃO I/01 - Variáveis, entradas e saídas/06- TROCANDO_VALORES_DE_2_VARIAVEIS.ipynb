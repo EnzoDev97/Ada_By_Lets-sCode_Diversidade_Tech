{
 "cells": [
  {
   "cell_type": "code",
   "execution_count": 2,
   "metadata": {},
   "outputs": [
    {
     "name": "stdout",
     "output_type": "stream",
     "text": [
      "Variavel A: 100\n",
      "Variavel B: 50\n",
      "Variavel A: 50\n",
      "Variavel B: 100\n"
     ]
    }
   ],
   "source": [
    "#6 - Escreva um algoritmo que armazene um valor X em uma variável A e um valor Y em uma variável B. \n",
    "#Troque os valores das duas variáveis sem criar uma terceira e usando apenas operações matemáticas.\n",
    "\n",
    "\n",
    "A = 100\n",
    "B = 50\n",
    "\n",
    "print('Variavel A: {}\\nVariavel B: {}'.format(A,B))\n",
    "\n",
    "A = A+B\n",
    "B = A-B\n",
    "A = (B-A)*-1 \n",
    "print('Variavel A: {}\\nVariavel B: {}'.format(A,B))"
   ]
  }
 ],
 "metadata": {
  "kernelspec": {
   "display_name": "Python 3.9.12 ('base')",
   "language": "python",
   "name": "python3"
  },
  "language_info": {
   "codemirror_mode": {
    "name": "ipython",
    "version": 3
   },
   "file_extension": ".py",
   "mimetype": "text/x-python",
   "name": "python",
   "nbconvert_exporter": "python",
   "pygments_lexer": "ipython3",
   "version": "3.9.12"
  },
  "orig_nbformat": 4,
  "vscode": {
   "interpreter": {
    "hash": "e8755eff31258cf3f68aa399e6f759d79082959dfad6f58a9830d0e0b06355a5"
   }
  }
 },
 "nbformat": 4,
 "nbformat_minor": 2
}
