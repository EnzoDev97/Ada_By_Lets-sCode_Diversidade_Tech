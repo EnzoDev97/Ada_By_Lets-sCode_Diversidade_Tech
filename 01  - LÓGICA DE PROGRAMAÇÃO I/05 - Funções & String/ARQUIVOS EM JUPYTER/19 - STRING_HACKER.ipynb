{
 "cells": [
  {
   "cell_type": "code",
   "execution_count": 1,
   "metadata": {},
   "outputs": [
    {
     "name": "stdout",
     "output_type": "stream",
     "text": [
      "4p3n4s 73s74ndo\n"
     ]
    }
   ],
   "source": [
    "# 05 - Faça uma função que receba uma string e retorne uma nova string substituindo:\n",
    "\n",
    "#'a' por '4'\n",
    "\n",
    "#'e' por '3'\n",
    "\n",
    "#'I' por '1'\n",
    "\n",
    "#'t' por '7'\n",
    "\n",
    "def H4CK3R(palavra):\n",
    "    nova_string = \"\"\n",
    "    for letra in palavra:\n",
    "        if letra.lower() == 'a':\n",
    "            nova_string += '4'\n",
    "        elif letra.lower() == 'e':\n",
    "            nova_string += '3'\n",
    "        elif letra.lower() == 'i':\n",
    "            nova_string += '1'\n",
    "        elif letra.lower() == 't':\n",
    "            nova_string += '7'\n",
    "        else:\n",
    "            nova_string += letra\n",
    "\n",
    "    return (nova_string)\n",
    "\n",
    "print(H4CK3R(\"Apenas testando\"))"
   ]
  }
 ],
 "metadata": {
  "kernelspec": {
   "display_name": "Python 3.9.12 ('base')",
   "language": "python",
   "name": "python3"
  },
  "language_info": {
   "codemirror_mode": {
    "name": "ipython",
    "version": 3
   },
   "file_extension": ".py",
   "mimetype": "text/x-python",
   "name": "python",
   "nbconvert_exporter": "python",
   "pygments_lexer": "ipython3",
   "version": "3.9.12"
  },
  "orig_nbformat": 4,
  "vscode": {
   "interpreter": {
    "hash": "84119b4a23c727451d2f5b202898a53a27583c1b582daf411d2362849740e029"
   }
  }
 },
 "nbformat": 4,
 "nbformat_minor": 2
}
