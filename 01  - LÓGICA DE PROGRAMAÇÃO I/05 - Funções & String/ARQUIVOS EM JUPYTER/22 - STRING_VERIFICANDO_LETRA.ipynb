{
 "cells": [
  {
   "cell_type": "code",
   "execution_count": 1,
   "metadata": {},
   "outputs": [
    {
     "data": {
      "text/plain": [
       "True"
      ]
     },
     "execution_count": 1,
     "metadata": {},
     "output_type": "execute_result"
    }
   ],
   "source": [
    "# 08 - Faça uma função que receba um texto e uma palavra, então verifique se a palavra está no texto, retornando True ou False.\n",
    "\n",
    "def pertence(texto, palavra):\n",
    "    if palavra in texto:\n",
    "        return True\n",
    "    return False\n",
    "\n",
    "pertence('ENZO','E')\n",
    "\n",
    "# OU\n",
    "\n",
    "\n",
    "def word(t, p): # resumido\n",
    "    return p in t\n",
    "\n",
    "word('LARI', 'L')"
   ]
  }
 ],
 "metadata": {
  "kernelspec": {
   "display_name": "Python 3.9.12 ('base')",
   "language": "python",
   "name": "python3"
  },
  "language_info": {
   "codemirror_mode": {
    "name": "ipython",
    "version": 3
   },
   "file_extension": ".py",
   "mimetype": "text/x-python",
   "name": "python",
   "nbconvert_exporter": "python",
   "pygments_lexer": "ipython3",
   "version": "3.9.12"
  },
  "orig_nbformat": 4,
  "vscode": {
   "interpreter": {
    "hash": "84119b4a23c727451d2f5b202898a53a27583c1b582daf411d2362849740e029"
   }
  }
 },
 "nbformat": 4,
 "nbformat_minor": 2
}
