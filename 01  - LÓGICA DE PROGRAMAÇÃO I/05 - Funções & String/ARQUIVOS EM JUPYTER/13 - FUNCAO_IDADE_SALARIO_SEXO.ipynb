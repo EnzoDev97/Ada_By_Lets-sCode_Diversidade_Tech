{
 "cells": [
  {
   "cell_type": "code",
   "execution_count": null,
   "metadata": {},
   "outputs": [],
   "source": [
    "# 04 - Faça uma função que recebe duas entradas: um input dado pelo usuário e um string que informa o tipo de dado (\"idade\", \"salário\" ou \"sexo\"), e verifica se os dados digitados foram válidos, usando os seguintes critérios:\n",
    "\n",
    "#a. Idade: entre 0 e 150;\n",
    "\n",
    "#b. Salário: maior que 0;\n",
    "\n",
    "#c. Sexo: M, F ou Outro.\n",
    "\n",
    "def verificacao(entrada, tipo):\n",
    "    if tipo == \"idade\" and entrada >= 0 and entrada <= 150:\n",
    "        return True\n",
    "    if tipo == \"salário\" and entrada > 0:\n",
    "        return True\n",
    "    if tipo == \"sexo\" and (entrada == 'M' or entrada == 'F' or entrada == 'Outro'):\n",
    "        return True\n",
    "    return False # Só chega se for inválido"
   ]
  }
 ],
 "metadata": {
  "kernelspec": {
   "display_name": "Python 3.9.12 ('base')",
   "language": "python",
   "name": "python3"
  },
  "language_info": {
   "name": "python",
   "version": "3.9.12"
  },
  "orig_nbformat": 4,
  "vscode": {
   "interpreter": {
    "hash": "84119b4a23c727451d2f5b202898a53a27583c1b582daf411d2362849740e029"
   }
  }
 },
 "nbformat": 4,
 "nbformat_minor": 2
}
