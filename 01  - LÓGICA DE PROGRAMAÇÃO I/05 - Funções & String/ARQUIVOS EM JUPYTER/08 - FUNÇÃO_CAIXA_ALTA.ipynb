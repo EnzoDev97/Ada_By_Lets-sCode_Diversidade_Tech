{
 "cells": [
  {
   "cell_type": "code",
   "execution_count": 1,
   "metadata": {},
   "outputs": [
    {
     "name": "stdout",
     "output_type": "stream",
     "text": [
      "['S', 'C', 'O', 'O', 'B', 'Y', ' ', 'D', 'O', 'O']\n"
     ]
    }
   ],
   "source": [
    "# 09 - Faça uma função que recebe uma lista de palavras e retorna uma lista contendo as mesmas palavras da lista anterior,\n",
    "#porém escritas em caixa alta.\n",
    "def caixa_alta(lista):\n",
    "    caixa_alta = []\n",
    "    for i in range(len(lista)):\n",
    "        caixa_alta.append(lista[i].upper())\n",
    "\n",
    "    return caixa_alta\n",
    "\n",
    "listaQualquer = list(input('Digite um conjunto de palavras: '))\n",
    "\n",
    "print(f'{caixa_alta(listaQualquer)}')"
   ]
  }
 ],
 "metadata": {
  "kernelspec": {
   "display_name": "Python 3.9.12 ('base')",
   "language": "python",
   "name": "python3"
  },
  "language_info": {
   "codemirror_mode": {
    "name": "ipython",
    "version": 3
   },
   "file_extension": ".py",
   "mimetype": "text/x-python",
   "name": "python",
   "nbconvert_exporter": "python",
   "pygments_lexer": "ipython3",
   "version": "3.9.12"
  },
  "orig_nbformat": 4,
  "vscode": {
   "interpreter": {
    "hash": "84119b4a23c727451d2f5b202898a53a27583c1b582daf411d2362849740e029"
   }
  }
 },
 "nbformat": 4,
 "nbformat_minor": 2
}
