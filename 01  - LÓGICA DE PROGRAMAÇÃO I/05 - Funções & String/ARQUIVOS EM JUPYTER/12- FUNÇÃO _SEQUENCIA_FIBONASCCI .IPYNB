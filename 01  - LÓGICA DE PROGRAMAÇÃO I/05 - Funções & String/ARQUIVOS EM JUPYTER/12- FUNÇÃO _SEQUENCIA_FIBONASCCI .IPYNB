{
 "cells": [
  {
   "cell_type": "code",
   "execution_count": 2,
   "metadata": {},
   "outputs": [
    {
     "data": {
      "text/plain": [
       "55"
      ]
     },
     "execution_count": 2,
     "metadata": {},
     "output_type": "execute_result"
    }
   ],
   "source": [
    "# Desafio 3 - A sequência Fibonacci é a sequência cujos dois primeiros termos são 1 e os demais são obtidos através da soma de seus dois antecessores, isso é:\n",
    "\n",
    "#a. Fibonacci(1) = 1 e Fibonacci(2) = 2;\n",
    "\n",
    "#b. dado qualquer número n >= 3, Fibonacci(n) = Fibonacci(n-1) + Fibonacci(n-2)\n",
    "\n",
    "#Assim, os 10 primeiros termos da sequência Fibonacci são:\n",
    "\n",
    "#1, 1, 2, 3, 5, 8, 13, 21, 34, 55…\n",
    "#Faça uma função que receba um número n e calcule o termo de número n da sequência Fibonacci.\n",
    "\n",
    "\n",
    "# Podemos usar listas\n",
    "def fibonacci(N):\n",
    "    numeros = [1, 1]\n",
    "    for i in range(2,N):\n",
    "        numeros.append(numeros[i-2] + numeros[i-1])\n",
    "    return numeros[-1] # Último número da lista\n",
    "\n",
    "'''\n",
    "Ou podemos só guardar os 2 ultimos valores(mais eficiente).\n",
    "Apesar de parecer mais confuso, essa estrutura é bem comum, calculamos o valor da iteração, e então atualizamos os valores antigos\n",
    "'''\n",
    "\n",
    "def fibonacci2(N):\n",
    "    n2 = 1 # 2 números atrás\n",
    "    n1 = 1 # 1 número atrás\n",
    "    n = 1 # Inicializa em 1 para caso N seja menor que 2\n",
    "    for i in range(2, N):\n",
    "        n = n2 + n1 # Calculamos o número i\n",
    "        n2 = n1 # Atualiza o número 2 posições atrás\n",
    "        n1 = n # Atualiza o número 1 posição atrás para próxima iteração\n",
    "    return n\n",
    "\n",
    "\n",
    "fibonacci2(10)"
   ]
  }
 ],
 "metadata": {
  "kernelspec": {
   "display_name": "Python 3.9.12 ('base')",
   "language": "python",
   "name": "python3"
  },
  "language_info": {
   "codemirror_mode": {
    "name": "ipython",
    "version": 3
   },
   "file_extension": ".py",
   "mimetype": "text/x-python",
   "name": "python",
   "nbconvert_exporter": "python",
   "pygments_lexer": "ipython3",
   "version": "3.9.12"
  },
  "orig_nbformat": 4,
  "vscode": {
   "interpreter": {
    "hash": "84119b4a23c727451d2f5b202898a53a27583c1b582daf411d2362849740e029"
   }
  }
 },
 "nbformat": 4,
 "nbformat_minor": 2
}
