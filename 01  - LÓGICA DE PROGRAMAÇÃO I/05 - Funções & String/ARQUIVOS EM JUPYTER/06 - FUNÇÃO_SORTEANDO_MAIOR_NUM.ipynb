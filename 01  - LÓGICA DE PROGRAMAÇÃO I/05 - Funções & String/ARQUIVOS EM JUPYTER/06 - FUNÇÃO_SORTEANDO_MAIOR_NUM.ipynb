{
 "cells": [
  {
   "cell_type": "code",
   "execution_count": 1,
   "metadata": {},
   "outputs": [
    {
     "name": "stdout",
     "output_type": "stream",
     "text": [
      "SORTEANDO 10 NÚMEROS...\n",
      "\n",
      "[60, 14, 78, 93, 25, 7, 70, 24, 63, 48]\n",
      "__________________________________________________ \n",
      "\n",
      "O MAIOR NÚMERO SORTEADO foi 93\n"
     ]
    }
   ],
   "source": [
    "# 07 - Faça uma função que sorteia 10 números aleatórios entre 0 e 100 e retorna o maior entre eles.\n",
    "\n",
    "from random import randint\n",
    "\n",
    "def sorteia(lista):\n",
    "    print('SORTEANDO 10 NÚMEROS...\\n')\n",
    "    for cont in range(0,10):   # ESCOLHENDO A QUANTIDADE DE NÚMEROS QUE DEVE SER SORTEADO\n",
    "        lista.append(randint(1,100))  # INFORMANDO  QUAIS NUMEROS  PODEM SER SORTEADO\n",
    "    print(numeros)\n",
    "    print('_'*50,'\\n')\n",
    "\n",
    "numeros = list()\n",
    "\n",
    "sorteia(numeros)\n",
    "\n",
    "maior =max(numeros)\n",
    "print('O MAIOR NÚMERO SORTEADO foi {}'.format(maior))"
   ]
  }
 ],
 "metadata": {
  "kernelspec": {
   "display_name": "Python 3.9.12 ('base')",
   "language": "python",
   "name": "python3"
  },
  "language_info": {
   "codemirror_mode": {
    "name": "ipython",
    "version": 3
   },
   "file_extension": ".py",
   "mimetype": "text/x-python",
   "name": "python",
   "nbconvert_exporter": "python",
   "pygments_lexer": "ipython3",
   "version": "3.9.12"
  },
  "orig_nbformat": 4,
  "vscode": {
   "interpreter": {
    "hash": "84119b4a23c727451d2f5b202898a53a27583c1b582daf411d2362849740e029"
   }
  }
 },
 "nbformat": 4,
 "nbformat_minor": 2
}
