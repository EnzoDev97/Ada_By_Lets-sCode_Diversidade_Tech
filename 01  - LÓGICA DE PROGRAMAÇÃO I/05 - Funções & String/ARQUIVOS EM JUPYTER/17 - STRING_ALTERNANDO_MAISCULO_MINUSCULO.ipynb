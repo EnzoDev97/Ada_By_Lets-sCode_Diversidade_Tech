{
 "cells": [
  {
   "cell_type": "code",
   "execution_count": 1,
   "metadata": {},
   "outputs": [
    {
     "name": "stdout",
     "output_type": "stream",
     "text": [
      "____________________________________________________________________________________________________ \n",
      "\n",
      "GiRl iN ThE HoUsE\n"
     ]
    }
   ],
   "source": [
    "# 03 - Altere o exercício anterior para que a string copiada alterne entre letras maiúsculas e minúsculas.\n",
    "\n",
    "#Exemplo: se o usuário digitar \"latex\" o programa deve imprimir \"LaTeX\".\n",
    "\n",
    "palavra = input(\"Digite uma palavra: \")\n",
    "print('_'*100,'\\n')\n",
    "nova_palavra = \"\"\n",
    "for i in range(len(palavra)):\n",
    "    letra = palavra[i]\n",
    "    if i%2 == 0:\n",
    "        nova_palavra += letra.upper()\n",
    "    else:\n",
    "        nova_palavra += letra.lower()\n",
    "print(nova_palavra)"
   ]
  }
 ],
 "metadata": {
  "kernelspec": {
   "display_name": "Python 3.9.12 ('base')",
   "language": "python",
   "name": "python3"
  },
  "language_info": {
   "codemirror_mode": {
    "name": "ipython",
    "version": 3
   },
   "file_extension": ".py",
   "mimetype": "text/x-python",
   "name": "python",
   "nbconvert_exporter": "python",
   "pygments_lexer": "ipython3",
   "version": "3.9.12"
  },
  "orig_nbformat": 4,
  "vscode": {
   "interpreter": {
    "hash": "84119b4a23c727451d2f5b202898a53a27583c1b582daf411d2362849740e029"
   }
  }
 },
 "nbformat": 4,
 "nbformat_minor": 2
}
