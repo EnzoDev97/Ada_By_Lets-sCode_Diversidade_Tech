{
 "cells": [
  {
   "cell_type": "code",
   "execution_count": 1,
   "metadata": {},
   "outputs": [
    {
     "name": "stdout",
     "output_type": "stream",
     "text": [
      "\n",
      "\n",
      "SORTEANDO 7 NÚMEROS...\n",
      "\n",
      "[99, 49, 49, 94, 70, 69, 61]\n",
      "__________________________________________________ \n",
      "\n",
      "A MEDIA É  70.14\n"
     ]
    }
   ],
   "source": [
    "# 08 - Faça uma função que recebe um número n de entrada, sorteia n números aleatórios entre 0 e 100 e retorna a média deles.\n",
    "\n",
    "from random import randint\n",
    "\n",
    "def sorteia(lista):\n",
    "    qtd_num=(int(input('DIGITE A QUANTIDADE DE NUMEROS QUE VOCÊ QUER QUE SEJA SORTEADO: ')))\n",
    "    print('\\n')\n",
    "    print('SORTEANDO {} NÚMEROS...\\n'.format(qtd_num))\n",
    "    for cont in range(qtd_num):   # ESCOLHENDO A QUANTIDADE DE NÚMEROS QUE DEVE SER SORTEADO\n",
    "        lista.append(randint(1,100))  # INFORMANDO  QUAIS NUMEROS  PODEM SER SORTEADO\n",
    "    print(numeros)\n",
    "    print('_'*50,'\\n')\n",
    "\n",
    "numeros = list()\n",
    "sorteia(numeros)\n",
    "\n",
    "soma = sum(numeros)\n",
    "\n",
    "media=soma/len(numeros)\n",
    "print('A MEDIA É  {:.2f}'.format(media))"
   ]
  }
 ],
 "metadata": {
  "kernelspec": {
   "display_name": "Python 3.9.12 ('base')",
   "language": "python",
   "name": "python3"
  },
  "language_info": {
   "codemirror_mode": {
    "name": "ipython",
    "version": 3
   },
   "file_extension": ".py",
   "mimetype": "text/x-python",
   "name": "python",
   "nbconvert_exporter": "python",
   "pygments_lexer": "ipython3",
   "version": "3.9.12"
  },
  "orig_nbformat": 4,
  "vscode": {
   "interpreter": {
    "hash": "84119b4a23c727451d2f5b202898a53a27583c1b582daf411d2362849740e029"
   }
  }
 },
 "nbformat": 4,
 "nbformat_minor": 2
}
