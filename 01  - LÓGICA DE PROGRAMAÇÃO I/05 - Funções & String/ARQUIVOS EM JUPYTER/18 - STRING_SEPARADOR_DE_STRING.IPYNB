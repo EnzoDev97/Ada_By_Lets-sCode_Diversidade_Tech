{
 "cells": [
  {
   "cell_type": "code",
   "execution_count": 1,
   "metadata": {},
   "outputs": [
    {
     "name": "stdout",
     "output_type": "stream",
     "text": [
      "P R O T A G O N I S T A \n"
     ]
    }
   ],
   "source": [
    "# 04 - Faça um programa que pede para o usuário digitar uma palavra e cria uma nova string igual, \n",
    "#porém com espaço entre cada letra, depois imprima a nova string:\n",
    "\n",
    "#Exemplo: se o usuário digitar \"python\" o programa deve imprimir \"p y t h o n \"\n",
    "\n",
    "palavra = input(\"Digite uma palavra: \")\n",
    "nova_palavra = \"\"\n",
    "for letra in palavra:\n",
    "    nova_palavra += letra + \" \"\n",
    "print(nova_palavra)\n"
   ]
  }
 ],
 "metadata": {
  "kernelspec": {
   "display_name": "Python 3.9.12 ('base')",
   "language": "python",
   "name": "python3"
  },
  "language_info": {
   "codemirror_mode": {
    "name": "ipython",
    "version": 3
   },
   "file_extension": ".py",
   "mimetype": "text/x-python",
   "name": "python",
   "nbconvert_exporter": "python",
   "pygments_lexer": "ipython3",
   "version": "3.9.12"
  },
  "orig_nbformat": 4,
  "vscode": {
   "interpreter": {
    "hash": "84119b4a23c727451d2f5b202898a53a27583c1b582daf411d2362849740e029"
   }
  }
 },
 "nbformat": 4,
 "nbformat_minor": 2
}
