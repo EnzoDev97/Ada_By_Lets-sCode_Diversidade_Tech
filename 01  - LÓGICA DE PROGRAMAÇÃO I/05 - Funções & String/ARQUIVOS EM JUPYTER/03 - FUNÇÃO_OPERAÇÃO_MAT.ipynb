{
 "cells": [
  {
   "cell_type": "code",
   "execution_count": 1,
   "metadata": {},
   "outputs": [
    {
     "name": "stdout",
     "output_type": "stream",
     "text": [
      "----------------------------------------\n",
      "\n",
      "\n",
      "******************** SOMA ********************\n",
      "12 + 545 = 557\n",
      "______________________________\n",
      "\n",
      "\n",
      "----------------------------------------\n",
      "\n",
      "\n",
      "******************** SUBTRAÇÃO ********************\n",
      "24 - 4664 = -4640\n",
      "______________________________\n",
      "\n",
      "\n",
      "----------------------------------------\n",
      "\n",
      "\n",
      "******************** MULTIPLICAÇÃO ********************\n",
      "5 x 2 = 10\n",
      "______________________________\n",
      "\n",
      "\n",
      "----------------------------------------\n",
      "\n",
      "\n",
      "******************** DIVISÃO ********************\n",
      "100 / 5 = 20.0\n",
      "______________________________\n",
      "\n",
      "\n"
     ]
    }
   ],
   "source": [
    "# 03 - Faça uma função para cada operação matemática básica (soma, subtração, multiplicação e divisão). \n",
    "#As funções devem receber dois números e retornar o resultado da operação.\n",
    "# 03 - Faça uma função para cada operação matemática básica (soma, subtração, multiplicação e divisão). \n",
    "#As funções devem receber dois números e retornar o resultado da operação.\n",
    "\n",
    "def soma():\n",
    "    A = int(input('DIGITE O PRIMEIRO NÚMERO: '))\n",
    "    B = int(input('DIGITE O SEGUNDO NÚMERO:' ))\n",
    "    C= A+ B\n",
    "    print('-'*40)\n",
    "    print('\\n')\n",
    "    print('*'*20,'SOMA','*'*20)\n",
    "    print('{} + {} = {}'.format(A,B,C))\n",
    "    print('_'*30)\n",
    "    print('\\n')\n",
    "\n",
    "def subtracao(): \n",
    "    A = int(input('DIGITE O PRIMEIRO NÚMERO: ')) \n",
    "    B = int(input('DIGITE O SEGUNDO NÚMERO: ' ))\n",
    "    C= A - B\n",
    "    print('-'*40)\n",
    "    print('\\n')\n",
    "    print('*'*20,'SUBTRAÇÃO','*'*20)\n",
    "    print('{} - {} = {}'.format(A,B,C))\n",
    "    print('_'*30)\n",
    "    print('\\n')\n",
    "\n",
    "def multiplicacao(): \n",
    "    A = int(input('DIGITE O PRIMEIRO NÚMERO: ')) \n",
    "    B = int(input('DIGITE O SEGUNDO NÚMERO: ' ))\n",
    "    C= A * B\n",
    "    print('-'*40)\n",
    "    print('\\n')\n",
    "    \n",
    "    print('*'*20,'MULTIPLICAÇÃO','*'*20)\n",
    "    print('{} x {} = {}'.format(A,B,C))\n",
    "    print('_'*30)\n",
    "    print('\\n')   \n",
    "    \n",
    "def divisao(): \n",
    "    A = int(input('DIGITE O PRIMEIRO NÚMERO: '))\n",
    "    B = int(input('DIGITE O SEGUNDO NÚMERO: ' )) \n",
    "    C= A / B\n",
    "    print('-'*40)\n",
    "    print('\\n')\n",
    "    print('*'*20,'DIVISÃO','*'*20)\n",
    "    print('{} / {} = {}'.format(A,B,C))\n",
    "    print('_'*30)\n",
    "    print('\\n')   \n",
    "    \n",
    "soma()\n",
    "subtracao()\n",
    "multiplicacao()\n",
    "divisao()\n"
   ]
  }
 ],
 "metadata": {
  "kernelspec": {
   "display_name": "Python 3.9.12 ('base')",
   "language": "python",
   "name": "python3"
  },
  "language_info": {
   "codemirror_mode": {
    "name": "ipython",
    "version": 3
   },
   "file_extension": ".py",
   "mimetype": "text/x-python",
   "name": "python",
   "nbconvert_exporter": "python",
   "pygments_lexer": "ipython3",
   "version": "3.9.12"
  },
  "orig_nbformat": 4,
  "vscode": {
   "interpreter": {
    "hash": "84119b4a23c727451d2f5b202898a53a27583c1b582daf411d2362849740e029"
   }
  }
 },
 "nbformat": 4,
 "nbformat_minor": 2
}
