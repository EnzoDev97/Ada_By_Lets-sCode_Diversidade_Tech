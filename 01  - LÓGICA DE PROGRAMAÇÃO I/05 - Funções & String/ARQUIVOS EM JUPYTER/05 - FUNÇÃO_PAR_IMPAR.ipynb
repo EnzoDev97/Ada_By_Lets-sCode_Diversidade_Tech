{
 "cells": [
  {
   "cell_type": "code",
   "execution_count": 1,
   "metadata": {},
   "outputs": [
    {
     "name": "stdout",
     "output_type": "stream",
     "text": [
      "O NÚMERO 2 É PAR\n"
     ]
    }
   ],
   "source": [
    "# 06 - Faça uma função que recebe um número e retorna True se ele é par ou False, se ele é ímpar.\n",
    "\n",
    "def par_impa(num):\n",
    "    par = num%2\n",
    "    if par == 0:\n",
    "        print('O NÚMERO {} É PAR'.format(num))\n",
    "    else:\n",
    "        print('O NÚMERO {} É IMPAR'.format(num))\n",
    "\n",
    "par_impa(2)"
   ]
  }
 ],
 "metadata": {
  "kernelspec": {
   "display_name": "Python 3.9.12 ('base')",
   "language": "python",
   "name": "python3"
  },
  "language_info": {
   "codemirror_mode": {
    "name": "ipython",
    "version": 3
   },
   "file_extension": ".py",
   "mimetype": "text/x-python",
   "name": "python",
   "nbconvert_exporter": "python",
   "pygments_lexer": "ipython3",
   "version": "3.9.12"
  },
  "orig_nbformat": 4,
  "vscode": {
   "interpreter": {
    "hash": "84119b4a23c727451d2f5b202898a53a27583c1b582daf411d2362849740e029"
   }
  }
 },
 "nbformat": 4,
 "nbformat_minor": 2
}
