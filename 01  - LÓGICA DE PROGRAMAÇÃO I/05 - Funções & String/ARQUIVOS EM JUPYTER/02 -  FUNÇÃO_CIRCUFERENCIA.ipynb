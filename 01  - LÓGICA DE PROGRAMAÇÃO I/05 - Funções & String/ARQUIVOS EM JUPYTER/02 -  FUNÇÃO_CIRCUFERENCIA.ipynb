{
 "cells": [
  {
   "cell_type": "code",
   "execution_count": 1,
   "metadata": {},
   "outputs": [
    {
     "name": "stdout",
     "output_type": "stream",
     "text": [
      "____________________________________________________________________________________________________\n",
      "\n",
      "\n",
      "O DOBRO DO NÚMERO 8 É 64\n"
     ]
    }
   ],
   "source": [
    "# 01 - Faça uma função que recebe um número e imprime seu dobro.\n",
    "def dobro_num(): \n",
    "    num = int(input('DIGITE UM NÚMERO')) \n",
    "    print('_'*100) \n",
    "    print('\\n') \n",
    "    dobro = num*num \n",
    "    print('O DOBRO DO NÚMERO {} É {}'.format(num,dobro))\n",
    "dobro_num()"
   ]
  }
 ],
 "metadata": {
  "kernelspec": {
   "display_name": "Python 3.9.12 ('base')",
   "language": "python",
   "name": "python3"
  },
  "language_info": {
   "codemirror_mode": {
    "name": "ipython",
    "version": 3
   },
   "file_extension": ".py",
   "mimetype": "text/x-python",
   "name": "python",
   "nbconvert_exporter": "python",
   "pygments_lexer": "ipython3",
   "version": "3.9.12"
  },
  "orig_nbformat": 4,
  "vscode": {
   "interpreter": {
    "hash": "84119b4a23c727451d2f5b202898a53a27583c1b582daf411d2362849740e029"
   }
  }
 },
 "nbformat": 4,
 "nbformat_minor": 2
}
