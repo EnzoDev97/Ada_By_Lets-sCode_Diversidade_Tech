{
 "cells": [
  {
   "cell_type": "code",
   "execution_count": 10,
   "metadata": {},
   "outputs": [
    {
     "name": "stdout",
     "output_type": "stream",
     "text": [
      "O ALUNO : ENZO  FOI APROVADO COM A MEDIA: 8.00\n"
     ]
    }
   ],
   "source": [
    "#01 - Escreva um programa que peça a nota de 3 provas de um aluno e verifique se ele passou ou não de ano.\n",
    "#Obs.: O aluno irá passar de ano se sua média for maior que 6.\n",
    "\n",
    "\n",
    "def aprovacao():\n",
    "    aluno = input('INFORME SEU NOME: ')\n",
    "    nota_1 = float(input('NOTA 1: '))\n",
    "    nota_2 = float(input('NOTA 2: '))\n",
    "    nota_3 = float(input('NOTA 3: '))\n",
    "    media = (nota_1 + nota_2  + nota_3)/3\n",
    "    if media >6:\n",
    "        print ('O ALUNO : {}  FOI APROVADO COM A MEDIA: {:.2f}'.format(aluno,media))\n",
    "    else:\n",
    "        print ('O ALUNO : {}  FOI REPROVADO COM A MEDIA: {:.2f}'.format(aluno,media))\n",
    "    \n",
    "\n",
    "aprovacao()\n",
    "   \n",
    "        \n",
    "    \n"
   ]
  }
 ],
 "metadata": {
  "kernelspec": {
   "display_name": "Python 3.9.12 ('base')",
   "language": "python",
   "name": "python3"
  },
  "language_info": {
   "codemirror_mode": {
    "name": "ipython",
    "version": 3
   },
   "file_extension": ".py",
   "mimetype": "text/x-python",
   "name": "python",
   "nbconvert_exporter": "python",
   "pygments_lexer": "ipython3",
   "version": "3.9.12"
  },
  "orig_nbformat": 4,
  "vscode": {
   "interpreter": {
    "hash": "84119b4a23c727451d2f5b202898a53a27583c1b582daf411d2362849740e029"
   }
  }
 },
 "nbformat": 4,
 "nbformat_minor": 2
}
