{
 "cells": [
  {
   "cell_type": "code",
   "execution_count": 2,
   "metadata": {},
   "outputs": [
    {
     "data": {
      "text/plain": [
       "[25, 75, 100]"
      ]
     },
     "execution_count": 2,
     "metadata": {},
     "output_type": "execute_result"
    }
   ],
   "source": [
    "# 11 - Faça uma função que recebe um número x e uma lista numérica e retorna uma lista cujos elementos \n",
    "#são os itens da lista de entrada multiplicado por x.\n",
    "\n",
    "#Exemplo:\n",
    "\n",
    "#Se a função receber o número 5 e a lista [3,5,1], então a função deve retornar [5x3, 5x5, 5x1] = [15, 25, 5].\n",
    "\n",
    "lista = [5,15,20]\n",
    "\n",
    "def multiplicaListaPorEscalar(num, lista):\n",
    "    saida = []\n",
    "    for i in range(len(lista)):\n",
    "        saida.append(lista[i] * num)\n",
    "    return saida\n",
    "multiplicaListaPorEscalar(5, lista)\n",
    "\n",
    "# ou \n"
   ]
  },
  {
   "cell_type": "code",
   "execution_count": 3,
   "metadata": {},
   "outputs": [
    {
     "data": {
      "text/plain": [
       "[100, 250, 450]"
      ]
     },
     "execution_count": 3,
     "metadata": {},
     "output_type": "execute_result"
    }
   ],
   "source": [
    "lista1 = [5,10,15]\n",
    "lista2 = [20,25,30]\n",
    "lista3 = []\n",
    "def multiListas(lista1, lista2):\n",
    "    lista3 = []\n",
    "    for i in range(len(lista1)):\n",
    "        lista3.append(lista1[i] * lista2[i])\n",
    "    return lista3\n",
    "\n",
    "multiListas(lista1, lista2)"
   ]
  }
 ],
 "metadata": {
  "kernelspec": {
   "display_name": "Python 3.9.12 ('base')",
   "language": "python",
   "name": "python3"
  },
  "language_info": {
   "codemirror_mode": {
    "name": "ipython",
    "version": 3
   },
   "file_extension": ".py",
   "mimetype": "text/x-python",
   "name": "python",
   "nbconvert_exporter": "python",
   "pygments_lexer": "ipython3",
   "version": "3.9.12"
  },
  "orig_nbformat": 4,
  "vscode": {
   "interpreter": {
    "hash": "84119b4a23c727451d2f5b202898a53a27583c1b582daf411d2362849740e029"
   }
  }
 },
 "nbformat": 4,
 "nbformat_minor": 2
}
