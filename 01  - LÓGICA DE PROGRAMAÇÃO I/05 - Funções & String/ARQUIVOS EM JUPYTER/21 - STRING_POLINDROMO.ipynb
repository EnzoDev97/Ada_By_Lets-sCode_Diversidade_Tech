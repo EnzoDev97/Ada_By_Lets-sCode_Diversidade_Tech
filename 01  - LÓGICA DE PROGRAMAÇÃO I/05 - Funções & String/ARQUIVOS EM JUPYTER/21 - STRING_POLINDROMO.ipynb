{
 "cells": [
  {
   "cell_type": "code",
   "execution_count": 1,
   "metadata": {},
   "outputs": [
    {
     "name": "stdout",
     "output_type": "stream",
     "text": [
      "abba é um palíndromo.\n"
     ]
    }
   ],
   "source": [
    "# 07 - Agora faça uma função que recebe uma palavra e diz se ela é um palíndromo, ou seja, se ela é igual a ela mesma ao contrário.\n",
    "\n",
    "#Dica: Use a função do exercício 6.\n",
    "def inverte(palavra):\n",
    "    return palavra[::-1]\n",
    "\n",
    "# função ex. 07\n",
    "\n",
    "def palindromo(palavra):\n",
    "    palavra = palavra.lower() # Remove letras maiúsculas\n",
    "    if palavra == inverte(palavra):\n",
    "        print(palavra, \"é um palíndromo.\")\n",
    "    else:\n",
    "        print(palavra, \"não é um palíndromo.\")\n",
    "        \n",
    "palindromo('ABBA')       "
   ]
  }
 ],
 "metadata": {
  "kernelspec": {
   "display_name": "Python 3.9.12 ('base')",
   "language": "python",
   "name": "python3"
  },
  "language_info": {
   "codemirror_mode": {
    "name": "ipython",
    "version": 3
   },
   "file_extension": ".py",
   "mimetype": "text/x-python",
   "name": "python",
   "nbconvert_exporter": "python",
   "pygments_lexer": "ipython3",
   "version": "3.9.12"
  },
  "orig_nbformat": 4,
  "vscode": {
   "interpreter": {
    "hash": "84119b4a23c727451d2f5b202898a53a27583c1b582daf411d2362849740e029"
   }
  }
 },
 "nbformat": 4,
 "nbformat_minor": 2
}
