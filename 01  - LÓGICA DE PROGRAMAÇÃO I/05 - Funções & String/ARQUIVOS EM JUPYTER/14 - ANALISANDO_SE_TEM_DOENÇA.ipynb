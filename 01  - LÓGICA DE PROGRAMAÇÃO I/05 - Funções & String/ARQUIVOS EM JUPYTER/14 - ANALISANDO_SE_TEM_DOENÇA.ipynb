{
 "cells": [
  {
   "cell_type": "code",
   "execution_count": null,
   "metadata": {},
   "outputs": [],
   "source": [
    "#03 - Um hospital quer fazer o diagnóstico de gripe ou dengue a partir de um questionário de sintomas, tendo as perguntas abaixo, faça um programa que faça o diagnóstico deste hospital:\n",
    "\n",
    "#a. Sente dor no corpo?\n",
    "\n",
    "#b. Você tem febre?\n",
    "\n",
    "#c. Você tem tosse?\n",
    "\n",
    "#d. Está com congestão nasal?\n",
    "\n",
    "#e. Tem manchas pelo corpo?\n",
    "\n",
    "#A    B    C    D    E    Resultado\n",
    "#Sim    Sim    Não    Não    Sim    Dengue\n",
    "#Sim    Sim    Sim    Sim    Não    Gripe\n",
    "#Não    Sim    Sim    Sim    Não    Gripe\n",
    "#Sim    Não    Não    Não    Não    Sem doenças\n",
    "#Não    Não    Não    Não    Não    Sem doenças\n",
    "\n",
    "questao_1 = input(' Sente dor no corpo ?(S/N) ---> ') \n",
    "questao_2 = input(' Você tem febre ?(S/N) ---> ') \n",
    "questao_3 = input(' Você tem tosse ?(S/N) ---> ') \n",
    "questao_4 = input(' Está com congestão nasal ?(S/N)---> ') \n",
    "questao_5 = input(' Está com congestão nasal ?(S/N) ---> ') \n",
    "print('_'*100) \n",
    "print('\\n')\n",
    "\n",
    "if questao_1 =='S' and questao_2 == 'S' and questao_3 == 'N' and questao_4 == 'N' and questao_5 =='S': \n",
    "    print('DENGUE') \n",
    "elif questao_1 =='S' and questao_2 == 'S' and questao_3 == 'S' and questao_4 == 'S' and questao_5 =='N': \n",
    "    print('GRIPE') \n",
    "elif questao_1 =='N' and questao_2 == 'S' and questao_3 == 'S' and questao_4 == 'S' and questao_5 =='N': \n",
    "    print('GRIPE') \n",
    "elif questao_1 =='S' and questao_2 == 'N' and questao_3 == 'N' and questao_4 == 'N' and questao_5 =='N': \n",
    "    print('SEM DOENÇAS') \n",
    "elif questao_1 =='N' and questao_2 == 'N' and questao_3 == 'N' and questao_4 == 'N' and questao_5 =='N': \n",
    "    print('SEM DOENÇAS') \n",
    "else: \n",
    "    print('PRECISAMOS DE MAIS INFORMAÇÕES')"
   ]
  }
 ],
 "metadata": {
  "kernelspec": {
   "display_name": "Python 3.9.12 ('base')",
   "language": "python",
   "name": "python3"
  },
  "language_info": {
   "name": "python",
   "version": "3.9.12"
  },
  "orig_nbformat": 4,
  "vscode": {
   "interpreter": {
    "hash": "84119b4a23c727451d2f5b202898a53a27583c1b582daf411d2362849740e029"
   }
  }
 },
 "nbformat": 4,
 "nbformat_minor": 2
}
