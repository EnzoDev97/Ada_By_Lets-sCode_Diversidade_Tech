{
 "cells": [
  {
   "cell_type": "code",
   "execution_count": 36,
   "id": "e169f92f",
   "metadata": {},
   "outputs": [
    {
     "name": "stdout",
     "output_type": "stream",
     "text": [
      "Digite, separado por vírgula, o valor de A, B e a operação. op: SOMA, MULTIPLICAÇÃO, DIVISÃO, SUBTRAÇÃO100,5,divisão\n",
      "____________________________________________________________________________________________________ \n",
      "\n",
      "\u001b[1;36m O resultado da divisão é : 100 / 5 = 20.0\u001b[0m\n"
     ]
    }
   ],
   "source": [
    "#2 - Faça uma função que receba dois números e uma operação matemática. A operação matemática pode ser SOMA, MULTIPLICAÇÃO, DIVISÃO e DIFERENÇA. Mostre o resultado da operação matemática na tela\n",
    "\n",
    "#a) Para a divisão, verifique se um dos números digitados foi 0. Caso seja, o resultado deve ser 0\n",
    "\n",
    "#b) Faça uma segunda função, que peça para o usuário na mesma linha (mesmo comando) os dois números e a operação que ele deseja fazer, e chame a primeira função criada.\n",
    "\n",
    "#c) faça uma terceira função que deverá verificar se o texto digitado pelo usuário é um número. Exemplo: 5,6,multiplicação. Ele tem que verificar se o 5 é numero e se o 6 é numero\n",
    "\n",
    "#Resumindo:\n",
    "\n",
    "#São 3 funções\n",
    "#Função 1 - Pedir os números para o usuário e a operação que ele quer fazer, na mesma linha\n",
    "#Função 2 - Vai receber como parametro o valor digitado pelo usuário, e verificar se o valor pode ser convertido para número\n",
    "#Função 3 - Calcular a operação para o usuário e exibir o resultado\n",
    "\n",
    "\n",
    "\n",
    "# FUNÇÃO ONDE SELECIONA A OPERAÇÃO MAT E REALIZA O CALCULO\n",
    "\n",
    "def calculadora (a,b,operacao):\n",
    "\n",
    "    if operacao.upper() == 'SOMA':\n",
    "        soma = a + b\n",
    "        print('\\033[1;32m O resultado da soma é : {} + {} = {}\\033[0m'.format(a,b,soma))\n",
    "    elif operacao.upper() == 'MULTIPLICAÇÃO':\n",
    "        multi = a * b\n",
    "        print('\\033[1;34m O resultado da multiplicação é : {} * {} = {}\\033[0m'.format(a,b,multi))\n",
    "    elif operacao.upper() == 'DIVISÃO':\n",
    "        if a == 0 or b == 0:\n",
    "            divi = 0\n",
    "            print('\\033[1;35m O resultado da divisão é : {} / {} = {}\\033[0m'.format(a,b,divi))\n",
    "        else:\n",
    "            divi = a / b\n",
    "            print('\\033[1;36m O resultado da divisão é : {} / {} = {}\\033[0m'.format(a,b,divi))\n",
    "    elif operacao.upper() == 'SUBTRAÇÃO':\n",
    "        sub = a - b\n",
    "        print('\\033[1;36m O resultado da subtração é : {} - {} = {}\\033[0m'.format(a,b,sub))\n",
    "    else:\n",
    "        print('\\033[1;31m Operação inválida. Verifique se o termo foi digitado como solicitado e tente novamente.\\033[0m')\n",
    "\n",
    "def verifica_numero(num):\n",
    "    if num.isdigit():  \n",
    "        return True # O termo {num} digitado é de fato um número.\n",
    "    else:\n",
    "        print('O termo {} digitado não é um caracter válido.'.format(num))\n",
    "        return False\n",
    "\n",
    "def operar_calculadora():\n",
    "    operar = input('Digite, separado por vírgula, o valor de A, B e a operação. op: SOMA, MULTIPLICAÇÃO, DIVISÃO, SUBTRAÇÃO')\n",
    "    print('_'*100,'\\n')\n",
    "\n",
    "    operar = operar.split(',') # REMOVENDO AS VIRGULAS \n",
    "\n",
    "    a = operar[0]\n",
    "    b = operar[1]\n",
    "\n",
    "    if verifica_numero(a) and verifica_numero(b): # APLICANDO A  FUNÇÃO PARA VERIFICAR SE SÃO NUMEROS/OU CONVERTER PARA NUM\n",
    "        a = int(operar[0])\n",
    "        b = int(operar[1])\n",
    "        op = operar[2]\n",
    "        calculadora(a, b, op) # CHAMANDO A PRIMEIRA FUNÇÃO\n",
    "    else:\n",
    "        print('Já que um dos itens digitados é inválido, a operação foi cancelada.')\n",
    "\n",
    "operar_calculadora()\n",
    "\n",
    "\n"
   ]
  },
  {
   "cell_type": "code",
   "execution_count": null,
   "id": "6cfa106c",
   "metadata": {},
   "outputs": [],
   "source": []
  },
  {
   "cell_type": "code",
   "execution_count": null,
   "id": "51e2f6b8",
   "metadata": {},
   "outputs": [],
   "source": []
  },
  {
   "cell_type": "code",
   "execution_count": null,
   "id": "12674574",
   "metadata": {},
   "outputs": [],
   "source": []
  },
  {
   "cell_type": "code",
   "execution_count": null,
   "id": "476a901d",
   "metadata": {},
   "outputs": [],
   "source": []
  }
 ],
 "metadata": {
  "kernelspec": {
   "display_name": "Python 3 (ipykernel)",
   "language": "python",
   "name": "python3"
  },
  "language_info": {
   "codemirror_mode": {
    "name": "ipython",
    "version": 3
   },
   "file_extension": ".py",
   "mimetype": "text/x-python",
   "name": "python",
   "nbconvert_exporter": "python",
   "pygments_lexer": "ipython3",
   "version": "3.9.12"
  }
 },
 "nbformat": 4,
 "nbformat_minor": 5
}
