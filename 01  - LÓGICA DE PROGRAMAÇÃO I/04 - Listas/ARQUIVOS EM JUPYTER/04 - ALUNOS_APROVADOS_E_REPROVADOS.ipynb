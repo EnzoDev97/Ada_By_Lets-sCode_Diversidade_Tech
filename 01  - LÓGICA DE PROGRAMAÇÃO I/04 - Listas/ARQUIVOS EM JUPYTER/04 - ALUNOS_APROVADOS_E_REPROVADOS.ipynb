{
 "cells": [
  {
   "cell_type": "code",
   "execution_count": 1,
   "metadata": {},
   "outputs": [
    {
     "name": "stdout",
     "output_type": "stream",
     "text": [
      "Aprovados: ['Luana,7', 'Guilherme,8']\n",
      "Reprovados: ['Julia,2', 'Paulo,6', 'Guilherme,4', 'Ilmen,3', 'Elizabeth,2']\n"
     ]
    }
   ],
   "source": [
    "# 04 - LISTA SEPARANDO ALUNOS APROVADOS E REPROVADOS \n",
    "\n",
    "alunos = ['Julia', 'Paulo', 'Luana', 'Guilherme', 'Ilmen', 'Elizabeth', 'Guilherme']\n",
    "notas = [2,6,7,4,3,2,8]\n",
    "\n",
    "aprovados = []\n",
    "reprovados = []\n",
    "\n",
    "for i in range(len(alunos)):\n",
    "\n",
    "    if notas[i] > 6:\n",
    "        aprovados.append(f'{alunos[i]},{notas[i]}')\n",
    "    else:\n",
    "        reprovados.append(f'{alunos[i]},{notas[i]}')\n",
    "\n",
    "print(f'Aprovados: {aprovados}')\n",
    "print(f'Reprovados: {reprovados}')"
   ]
  }
 ],
 "metadata": {
  "kernelspec": {
   "display_name": "Python 3.11.0 64-bit",
   "language": "python",
   "name": "python3"
  },
  "language_info": {
   "name": "python",
   "version": "3.11.0"
  },
  "orig_nbformat": 4,
  "vscode": {
   "interpreter": {
    "hash": "0c1b6e21a6de639a0952879aad9e3449f105bca4f590071b104259695346768e"
   }
  }
 },
 "nbformat": 4,
 "nbformat_minor": 2
}
