{
 "cells": [
  {
   "cell_type": "code",
   "execution_count": 1,
   "metadata": {},
   "outputs": [
    {
     "name": "stdout",
     "output_type": "stream",
     "text": [
      "['Julia', 'Paulo', 'Luana', 'Guilherme', 'Ilmen', 'Elizabeth', 'Guilherme']\n",
      "['Paulo', 'Luana', 'Guilherme', 'Ilmen', 'Elizabeth', 'Guilherme']\n",
      "Julia\n"
     ]
    }
   ],
   "source": [
    "# 3 - EXCLUINDO DADOS DE UMA LISTA \n",
    "\n",
    "\n",
    "alunos = ['Julia', 'Paulo', 'Luana', 'Guilherme', 'Ilmen', 'Elizabeth', 'Guilherme']\n",
    "\n",
    "print(alunos)\n",
    "\n",
    "aluno_excluido = alunos.pop(0)\n",
    "\n",
    "print(alunos)\n",
    "print(aluno_excluido)"
   ]
  }
 ],
 "metadata": {
  "kernelspec": {
   "display_name": "Python 3.9.12 ('base')",
   "language": "python",
   "name": "python3"
  },
  "language_info": {
   "name": "python",
   "version": "3.9.12"
  },
  "orig_nbformat": 4,
  "vscode": {
   "interpreter": {
    "hash": "e8755eff31258cf3f68aa399e6f759d79082959dfad6f58a9830d0e0b06355a5"
   }
  }
 },
 "nbformat": 4,
 "nbformat_minor": 2
}
