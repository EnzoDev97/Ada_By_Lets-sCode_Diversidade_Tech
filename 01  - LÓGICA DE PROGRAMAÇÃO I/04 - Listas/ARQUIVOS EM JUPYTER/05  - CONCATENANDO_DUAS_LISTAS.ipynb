{
 "cells": [
  {
   "cell_type": "code",
   "execution_count": 1,
   "metadata": {},
   "outputs": [
    {
     "name": "stdout",
     "output_type": "stream",
     "text": [
      "['Meu', 'nome', 'é', 'Ana Carolina']\n"
     ]
    }
   ],
   "source": [
    "# 05 -  - Concatene duas listas pelo seu indice. Por exemplo, dado duas listas abaixo:\n",
    "\n",
    "#list1 = [\"Me\", \"n\", \"\", \"Teodor \"]\n",
    "#list2 = [\"u\", \"ome\", \"é\", \"Henrique\"]\n",
    "\n",
    "#o resultado esperado é\n",
    "#['Meu', 'nome', é, 'Teodor Henrique']\n",
    "\n",
    "list1 = [\"Me\", \"n\", \"\", \"Ana \"]\n",
    "\n",
    "list2 = [\"u\", \"ome\", \"é\", \"Carolina\"]\n",
    "\n",
    "concatenada = []\n",
    "\n",
    "for i in range(len(list1)):\n",
    "    concatenada.append(f'{list1[i]}{list2[i]}')\n",
    "    \n",
    "print(concatenada)\n"
   ]
  }
 ],
 "metadata": {
  "kernelspec": {
   "display_name": "Python 3.9.12 ('base')",
   "language": "python",
   "name": "python3"
  },
  "language_info": {
   "name": "python",
   "version": "3.9.12"
  },
  "orig_nbformat": 4,
  "vscode": {
   "interpreter": {
    "hash": "e8755eff31258cf3f68aa399e6f759d79082959dfad6f58a9830d0e0b06355a5"
   }
  }
 },
 "nbformat": 4,
 "nbformat_minor": 2
}
