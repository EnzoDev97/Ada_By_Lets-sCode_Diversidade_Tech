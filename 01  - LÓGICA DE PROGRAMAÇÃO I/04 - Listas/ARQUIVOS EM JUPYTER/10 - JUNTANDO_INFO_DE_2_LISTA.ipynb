{
 "cells": [
  {
   "cell_type": "code",
   "execution_count": 1,
   "metadata": {},
   "outputs": [
    {
     "name": "stdout",
     "output_type": "stream",
     "text": [
      "A nota de Julia é 10 \n",
      "\n",
      "\n",
      "A nota de Julia é 10 \n",
      "A nota de Teo é 2 \n",
      "A nota de Elizabeth é 6 \n",
      "A nota de Kaio é 3 \n",
      "A nota de Ilmen é 1 \n",
      "A nota de Guilherme é 6 \n"
     ]
    }
   ],
   "source": [
    "#jutando informação de 2 listas\n",
    "notas = [10,2,6,3,1,6]\n",
    "alunos = ['Julia', 'Teo', 'Elizabeth', 'Kaio', 'Ilmen', 'Guilherme']\n",
    "print(f'A nota de {alunos[0]} é {notas[0]} ')\n",
    "print('\\n')\n",
    "\n",
    "for i in range(len(notas)):\n",
    "    print(f'A nota de {alunos[i]} é {notas[i]} ')"
   ]
  }
 ],
 "metadata": {
  "kernelspec": {
   "display_name": "Python 3.9.12 ('base')",
   "language": "python",
   "name": "python3"
  },
  "language_info": {
   "name": "python",
   "version": "3.9.12"
  },
  "orig_nbformat": 4,
  "vscode": {
   "interpreter": {
    "hash": "e8755eff31258cf3f68aa399e6f759d79082959dfad6f58a9830d0e0b06355a5"
   }
  }
 },
 "nbformat": 4,
 "nbformat_minor": 2
}
