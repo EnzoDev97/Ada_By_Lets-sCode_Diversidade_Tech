{
 "cells": [
  {
   "cell_type": "code",
   "execution_count": 1,
   "metadata": {},
   "outputs": [
    {
     "name": "stdout",
     "output_type": "stream",
     "text": [
      "10 400\n",
      "20 300\n",
      "30 200\n",
      "40 100\n"
     ]
    }
   ],
   "source": [
    "# 06 - Receba duas listas e faça um único for, onde o resultado da primeira lista deve ficar na ordem original e a segunda na ordem inversa:\n",
    "\n",
    "#Dado: list1 = [10, 20, 30, 40]\n",
    "\n",
    "#list2 = [100, 200, 300, 400]\n",
    "\n",
    "lista1 = [10, 20, 30, 40]\n",
    "lista2 = [100, 200, 300, 400]\n",
    "#lista2.reverse()\n",
    "\n",
    "\n",
    "for i in range(len(lista2)):\n",
    "  print(f'{lista1[i]} {lista2[-i-1]}')"
   ]
  }
 ],
 "metadata": {
  "kernelspec": {
   "display_name": "Python 3.9.12 ('base')",
   "language": "python",
   "name": "python3"
  },
  "language_info": {
   "name": "python",
   "version": "3.9.12"
  },
  "orig_nbformat": 4,
  "vscode": {
   "interpreter": {
    "hash": "e8755eff31258cf3f68aa399e6f759d79082959dfad6f58a9830d0e0b06355a5"
   }
  }
 },
 "nbformat": 4,
 "nbformat_minor": 2
}
