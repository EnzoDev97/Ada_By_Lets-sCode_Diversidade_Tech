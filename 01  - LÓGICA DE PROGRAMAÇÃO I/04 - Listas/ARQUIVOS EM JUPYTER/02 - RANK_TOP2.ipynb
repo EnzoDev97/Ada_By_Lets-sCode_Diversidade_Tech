{
 "cells": [
  {
   "cell_type": "code",
   "execution_count": 1,
   "metadata": {},
   "outputs": [
    {
     "name": "stdout",
     "output_type": "stream",
     "text": [
      "10\n",
      "O aluno Julia tirou a maior nota\n",
      "O aluno Ilmen tirou a maior nota\n"
     ]
    }
   ],
   "source": [
    "# 02 - IMPRIMA A MAIOR NOTA E A SEGUNDA MAIOR NOTA DA LISTA\n",
    "\n",
    "notas = [10,2,6,3,10,6]\n",
    "alunos = ['Julia', 'Teo', 'Elizabeth', 'Kaio', 'Ilmen', 'Guilherme']\n",
    "\n",
    "maior_nota = max(notas)\n",
    "print(maior_nota)\n",
    "\n",
    "for i in range(len(notas)):\n",
    "\n",
    "    if notas[i] == maior_nota:\n",
    "        print(f'O aluno {alunos[i]} tirou a maior nota')"
   ]
  }
 ],
 "metadata": {
  "kernelspec": {
   "display_name": "Python 3.9.12 ('base')",
   "language": "python",
   "name": "python3"
  },
  "language_info": {
   "name": "python",
   "version": "3.9.12"
  },
  "orig_nbformat": 4,
  "vscode": {
   "interpreter": {
    "hash": "e8755eff31258cf3f68aa399e6f759d79082959dfad6f58a9830d0e0b06355a5"
   }
  }
 },
 "nbformat": 4,
 "nbformat_minor": 2
}
