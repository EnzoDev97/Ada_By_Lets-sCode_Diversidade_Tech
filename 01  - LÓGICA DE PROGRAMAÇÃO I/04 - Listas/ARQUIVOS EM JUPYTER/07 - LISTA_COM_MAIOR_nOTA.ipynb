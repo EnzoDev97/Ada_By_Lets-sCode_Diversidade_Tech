{
 "cells": [
  {
   "cell_type": "code",
   "execution_count": 4,
   "metadata": {},
   "outputs": [
    {
     "name": "stdout",
     "output_type": "stream",
     "text": [
      "____________________________________________________________________________________________________ \n",
      "\n",
      "LISTA ----> [['ENZO', 9.0], ['LARI', 5.0], ['NESSA', 8.0], ['JU', 9.0], ['JOAO', 3.0], ['LUCAS', 1.0]]\n",
      "____________________________________________________________________________________________________ \n",
      "\n",
      "OS ALUNOS QUE OBTIVERAM NOTAS ACIMA DE MÉDIA FORAM: ['ENZO', 'NESSA', 'JU']\n"
     ]
    }
   ],
   "source": [
    "# 07 -  Faça um programa que peça para o usuário digitar o nome e a nota. O nome e a nota devem estar em um único input, e os valores digitados separados por , (por ex: teo,8).\n",
    "#O usuário deverá digitar pelo menos 3 nome/notas, e escrever PARE caso não queira digitar mais nome e notas. As duas condições tem que ser verdadeiras, ter ao menos 3 nome e só parar ao digitar PARE\n",
    "#Após a inclusão dos nome e notas, calcule a média, e mostre o nome dos nome que ficaram acima da média.\n",
    "\n",
    "#Regras:\n",
    "#a) As notas devem estar entre 0 e 10. Caso não estejam, exiba uma mensagem e peça para que seja digitado novamente\n",
    "\n",
    "#b) O nome do aluno deve ter pelo menos 3 caracteres. Caso não esteja, peça para ser digitado novamente\n",
    "\n",
    "controle = False\n",
    "lista_sala = []\n",
    "count = 0\n",
    "\n",
    "# PREENCHENDO AS INFORMAÇÕES ATÉ O LIMTE\n",
    "\n",
    "while controle != True:\n",
    "    dado = input('DIGITE O NOME E A NOTA (separando os dados por virgulas): ')\n",
    "    \n",
    "    lista_alunos = []\n",
    "    if dado =='pare' and count >=3: \n",
    "        controle = True\n",
    "        break # A LISTA SE ENCERRA\n",
    "        \n",
    "    lista_alunos = dado.split(',')\n",
    "    \n",
    "    lista_alunos[1]=float(lista_alunos[1]) # CONVERTEU A NOTA STRING PARA FLOAT\n",
    "    \n",
    "    # ADD OS DADOS NA LISTA SALA\n",
    "    lista_sala.append(lista_alunos)\n",
    "    count +=1\n",
    "print('_'*100,'\\n')\n",
    "print('LISTA ----> {}'.format(lista_sala))\n",
    "print('_'*100,'\\n')   \n",
    "media = 6\n",
    "\n",
    "for i in range(len(lista_alunos)):\n",
    "    media+= lista_sala[i][1]\n",
    "\n",
    "media/= len(lista_sala)\n",
    "aprovados = []\n",
    "\n",
    "for i in range(len(lista_sala)):\n",
    "    if lista_sala[i][1] >= 6:\n",
    "        aprovados.append(lista_sala[i][0])\n",
    "print('OS ALUNOS QUE OBTIVERAM NOTAS ACIMA DE MÉDIA FORAM: {}'.format(aprovados))      "
   ]
  }
 ],
 "metadata": {
  "kernelspec": {
   "display_name": "Python 3.9.12 ('base')",
   "language": "python",
   "name": "python3"
  },
  "language_info": {
   "codemirror_mode": {
    "name": "ipython",
    "version": 3
   },
   "file_extension": ".py",
   "mimetype": "text/x-python",
   "name": "python",
   "nbconvert_exporter": "python",
   "pygments_lexer": "ipython3",
   "version": "3.9.12"
  },
  "orig_nbformat": 4,
  "vscode": {
   "interpreter": {
    "hash": "e8755eff31258cf3f68aa399e6f759d79082959dfad6f58a9830d0e0b06355a5"
   }
  }
 },
 "nbformat": 4,
 "nbformat_minor": 2
}
