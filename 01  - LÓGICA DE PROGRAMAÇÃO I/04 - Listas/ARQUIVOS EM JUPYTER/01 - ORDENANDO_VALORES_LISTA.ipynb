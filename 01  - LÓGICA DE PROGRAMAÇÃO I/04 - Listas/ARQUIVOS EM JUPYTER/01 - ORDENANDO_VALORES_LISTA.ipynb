{
 "cells": [
  {
   "cell_type": "code",
   "execution_count": 10,
   "metadata": {},
   "outputs": [
    {
     "name": "stdout",
     "output_type": "stream",
     "text": [
      "[1, 4, 7, 3, 2, 6, 1, 2, 7, 4, 6]\n",
      "========================================\n",
      "[1, 1, 2, 2, 3, 4, 4, 6, 6, 7, 7]\n",
      "========================================\n",
      "[6, 4, 7, 2, 1, 6, 2, 3, 7, 4, 1]\n",
      "========================================\n",
      "[5, 6, 7, 8, 9]\n"
     ]
    }
   ],
   "source": [
    "# 01 - ODENANDO VALORES DE UMA LISTA \n",
    "\n",
    "lista = [1,4,7,3,2,6,1,2,7,4,6]\n",
    "print(lista)\n",
    "print('='*40)\n",
    "print(sorted(lista))\n",
    "print('='*40)\n",
    "# REVERTENDO\n",
    "lista.reverse()\n",
    "print(lista)\n",
    "print('='*40)\n",
    "\n",
    "\n",
    "# CRIANDO UMA LISTA DE TAMANHO ESPEIFICO \n",
    "lista = list(range(5,10)) \n",
    "print(lista)\n"
   ]
  }
 ],
 "metadata": {
  "kernelspec": {
   "display_name": "Python 3.9.12 ('base')",
   "language": "python",
   "name": "python3"
  },
  "language_info": {
   "codemirror_mode": {
    "name": "ipython",
    "version": 3
   },
   "file_extension": ".py",
   "mimetype": "text/x-python",
   "name": "python",
   "nbconvert_exporter": "python",
   "pygments_lexer": "ipython3",
   "version": "3.9.12"
  },
  "orig_nbformat": 4,
  "vscode": {
   "interpreter": {
    "hash": "e8755eff31258cf3f68aa399e6f759d79082959dfad6f58a9830d0e0b06355a5"
   }
  }
 },
 "nbformat": 4,
 "nbformat_minor": 2
}
