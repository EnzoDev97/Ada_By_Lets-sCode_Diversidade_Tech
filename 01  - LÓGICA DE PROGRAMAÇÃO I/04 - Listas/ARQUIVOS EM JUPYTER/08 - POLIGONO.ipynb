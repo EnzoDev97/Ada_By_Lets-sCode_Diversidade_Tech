{
 "cells": [
  {
   "cell_type": "code",
   "execution_count": null,
   "metadata": {},
   "outputs": [],
   "source": [
    "# 08 - Abaixo é definido um n-poligono. O objetivo é achar a area de um poligono dado n. Um 1-poligono é um quadrado com um tamanho 1. Um n-poligono é obtido pegando n-1-poligono e adicionado 1-poligonos a lateral, lado a lado.\n",
    "\n",
    "#Por exemplo:\n",
    "\n",
    "#para um n=2, a saida deve ser 5\n",
    "#para um n=3, a saida deve ser 13\n",
    "#para um n=4, a saida deve ser 25\n",
    "\n",
    "n = int(input('Digite o valor de N: '))\n",
    "poligono = 0\n",
    "\n",
    "i = 0\n",
    "\n",
    "while (n > 0):\n",
    "    i += 1\n",
    "\n",
    "    if i == 1:\n",
    "        poligono += 1 + (n-1)*2\n",
    "    else:\n",
    "        poligono += (1 + (n-1)*2)*2\n",
    "\n",
    "    n -= 1\n",
    "\n",
    "print(f'O poligono tem tamanho: {poligono}')"
   ]
  }
 ],
 "metadata": {
  "kernelspec": {
   "display_name": "Python 3.11.0 64-bit",
   "language": "python",
   "name": "python3"
  },
  "language_info": {
   "name": "python",
   "version": "3.11.0"
  },
  "orig_nbformat": 4,
  "vscode": {
   "interpreter": {
    "hash": "0c1b6e21a6de639a0952879aad9e3449f105bca4f590071b104259695346768e"
   }
  }
 },
 "nbformat": 4,
 "nbformat_minor": 2
}
